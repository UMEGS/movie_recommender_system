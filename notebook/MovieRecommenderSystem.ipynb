{
 "cells": [
  {
   "cell_type": "code",
   "execution_count": 13,
   "outputs": [],
   "source": [
    "import numpy as np\n",
    "import pandas as pd\n",
    "import matplotlib.pyplot as plt\n",
    "import seaborn as sns\n",
    "import requests\n",
    "import pickle\n",
    "import json\n",
    "from sklearn.feature_extraction.text import CountVectorizer\n",
    "from nltk.stem.porter import PorterStemmer\n",
    "from sklearn.metrics.pairwise import cosine_similarity"
   ],
   "metadata": {
    "collapsed": false
   }
  },
  {
   "cell_type": "code",
   "execution_count": 38,
   "outputs": [],
   "source": [
    "movies = pd.read_csv('dataset/tmdb_5000_movies.csv')\n",
    "credits = pd.read_csv('dataset/tmdb_5000_credits.csv')"
   ],
   "metadata": {
    "collapsed": false
   }
  },
  {
   "cell_type": "code",
   "execution_count": 39,
   "outputs": [
    {
     "data": {
      "text/plain": "      budget                                             genres  \\\n0  237000000  [{\"id\": 28, \"name\": \"Action\"}, {\"id\": 12, \"nam...   \n1  300000000  [{\"id\": 12, \"name\": \"Adventure\"}, {\"id\": 14, \"...   \n2  245000000  [{\"id\": 28, \"name\": \"Action\"}, {\"id\": 12, \"nam...   \n3  250000000  [{\"id\": 28, \"name\": \"Action\"}, {\"id\": 80, \"nam...   \n4  260000000  [{\"id\": 28, \"name\": \"Action\"}, {\"id\": 12, \"nam...   \n\n                                       homepage      id  \\\n0                   http://www.avatarmovie.com/   19995   \n1  http://disney.go.com/disneypictures/pirates/     285   \n2   http://www.sonypictures.com/movies/spectre/  206647   \n3            http://www.thedarkknightrises.com/   49026   \n4          http://movies.disney.com/john-carter   49529   \n\n                                            keywords original_language  \\\n0  [{\"id\": 1463, \"name\": \"culture clash\"}, {\"id\":...                en   \n1  [{\"id\": 270, \"name\": \"ocean\"}, {\"id\": 726, \"na...                en   \n2  [{\"id\": 470, \"name\": \"spy\"}, {\"id\": 818, \"name...                en   \n3  [{\"id\": 849, \"name\": \"dc comics\"}, {\"id\": 853,...                en   \n4  [{\"id\": 818, \"name\": \"based on novel\"}, {\"id\":...                en   \n\n                             original_title  \\\n0                                    Avatar   \n1  Pirates of the Caribbean: At World's End   \n2                                   Spectre   \n3                     The Dark Knight Rises   \n4                               John Carter   \n\n                                            overview  popularity  \\\n0  In the 22nd century, a paraplegic Marine is di...  150.437577   \n1  Captain Barbossa, long believed to be dead, ha...  139.082615   \n2  A cryptic message from Bond’s past sends him o...  107.376788   \n3  Following the death of District Attorney Harve...  112.312950   \n4  John Carter is a war-weary, former military ca...   43.926995   \n\n                                production_companies  \\\n0  [{\"name\": \"Ingenious Film Partners\", \"id\": 289...   \n1  [{\"name\": \"Walt Disney Pictures\", \"id\": 2}, {\"...   \n2  [{\"name\": \"Columbia Pictures\", \"id\": 5}, {\"nam...   \n3  [{\"name\": \"Legendary Pictures\", \"id\": 923}, {\"...   \n4        [{\"name\": \"Walt Disney Pictures\", \"id\": 2}]   \n\n                                production_countries release_date     revenue  \\\n0  [{\"iso_3166_1\": \"US\", \"name\": \"United States o...   2009-12-10  2787965087   \n1  [{\"iso_3166_1\": \"US\", \"name\": \"United States o...   2007-05-19   961000000   \n2  [{\"iso_3166_1\": \"GB\", \"name\": \"United Kingdom\"...   2015-10-26   880674609   \n3  [{\"iso_3166_1\": \"US\", \"name\": \"United States o...   2012-07-16  1084939099   \n4  [{\"iso_3166_1\": \"US\", \"name\": \"United States o...   2012-03-07   284139100   \n\n   runtime                                   spoken_languages    status  \\\n0    162.0  [{\"iso_639_1\": \"en\", \"name\": \"English\"}, {\"iso...  Released   \n1    169.0           [{\"iso_639_1\": \"en\", \"name\": \"English\"}]  Released   \n2    148.0  [{\"iso_639_1\": \"fr\", \"name\": \"Fran\\u00e7ais\"},...  Released   \n3    165.0           [{\"iso_639_1\": \"en\", \"name\": \"English\"}]  Released   \n4    132.0           [{\"iso_639_1\": \"en\", \"name\": \"English\"}]  Released   \n\n                                          tagline  \\\n0                     Enter the World of Pandora.   \n1  At the end of the world, the adventure begins.   \n2                           A Plan No One Escapes   \n3                                 The Legend Ends   \n4            Lost in our world, found in another.   \n\n                                      title  vote_average  vote_count  \n0                                    Avatar           7.2       11800  \n1  Pirates of the Caribbean: At World's End           6.9        4500  \n2                                   Spectre           6.3        4466  \n3                     The Dark Knight Rises           7.6        9106  \n4                               John Carter           6.1        2124  ",
      "text/html": "<div>\n<style scoped>\n    .dataframe tbody tr th:only-of-type {\n        vertical-align: middle;\n    }\n\n    .dataframe tbody tr th {\n        vertical-align: top;\n    }\n\n    .dataframe thead th {\n        text-align: right;\n    }\n</style>\n<table border=\"1\" class=\"dataframe\">\n  <thead>\n    <tr style=\"text-align: right;\">\n      <th></th>\n      <th>budget</th>\n      <th>genres</th>\n      <th>homepage</th>\n      <th>id</th>\n      <th>keywords</th>\n      <th>original_language</th>\n      <th>original_title</th>\n      <th>overview</th>\n      <th>popularity</th>\n      <th>production_companies</th>\n      <th>production_countries</th>\n      <th>release_date</th>\n      <th>revenue</th>\n      <th>runtime</th>\n      <th>spoken_languages</th>\n      <th>status</th>\n      <th>tagline</th>\n      <th>title</th>\n      <th>vote_average</th>\n      <th>vote_count</th>\n    </tr>\n  </thead>\n  <tbody>\n    <tr>\n      <th>0</th>\n      <td>237000000</td>\n      <td>[{\"id\": 28, \"name\": \"Action\"}, {\"id\": 12, \"nam...</td>\n      <td>http://www.avatarmovie.com/</td>\n      <td>19995</td>\n      <td>[{\"id\": 1463, \"name\": \"culture clash\"}, {\"id\":...</td>\n      <td>en</td>\n      <td>Avatar</td>\n      <td>In the 22nd century, a paraplegic Marine is di...</td>\n      <td>150.437577</td>\n      <td>[{\"name\": \"Ingenious Film Partners\", \"id\": 289...</td>\n      <td>[{\"iso_3166_1\": \"US\", \"name\": \"United States o...</td>\n      <td>2009-12-10</td>\n      <td>2787965087</td>\n      <td>162.0</td>\n      <td>[{\"iso_639_1\": \"en\", \"name\": \"English\"}, {\"iso...</td>\n      <td>Released</td>\n      <td>Enter the World of Pandora.</td>\n      <td>Avatar</td>\n      <td>7.2</td>\n      <td>11800</td>\n    </tr>\n    <tr>\n      <th>1</th>\n      <td>300000000</td>\n      <td>[{\"id\": 12, \"name\": \"Adventure\"}, {\"id\": 14, \"...</td>\n      <td>http://disney.go.com/disneypictures/pirates/</td>\n      <td>285</td>\n      <td>[{\"id\": 270, \"name\": \"ocean\"}, {\"id\": 726, \"na...</td>\n      <td>en</td>\n      <td>Pirates of the Caribbean: At World's End</td>\n      <td>Captain Barbossa, long believed to be dead, ha...</td>\n      <td>139.082615</td>\n      <td>[{\"name\": \"Walt Disney Pictures\", \"id\": 2}, {\"...</td>\n      <td>[{\"iso_3166_1\": \"US\", \"name\": \"United States o...</td>\n      <td>2007-05-19</td>\n      <td>961000000</td>\n      <td>169.0</td>\n      <td>[{\"iso_639_1\": \"en\", \"name\": \"English\"}]</td>\n      <td>Released</td>\n      <td>At the end of the world, the adventure begins.</td>\n      <td>Pirates of the Caribbean: At World's End</td>\n      <td>6.9</td>\n      <td>4500</td>\n    </tr>\n    <tr>\n      <th>2</th>\n      <td>245000000</td>\n      <td>[{\"id\": 28, \"name\": \"Action\"}, {\"id\": 12, \"nam...</td>\n      <td>http://www.sonypictures.com/movies/spectre/</td>\n      <td>206647</td>\n      <td>[{\"id\": 470, \"name\": \"spy\"}, {\"id\": 818, \"name...</td>\n      <td>en</td>\n      <td>Spectre</td>\n      <td>A cryptic message from Bond’s past sends him o...</td>\n      <td>107.376788</td>\n      <td>[{\"name\": \"Columbia Pictures\", \"id\": 5}, {\"nam...</td>\n      <td>[{\"iso_3166_1\": \"GB\", \"name\": \"United Kingdom\"...</td>\n      <td>2015-10-26</td>\n      <td>880674609</td>\n      <td>148.0</td>\n      <td>[{\"iso_639_1\": \"fr\", \"name\": \"Fran\\u00e7ais\"},...</td>\n      <td>Released</td>\n      <td>A Plan No One Escapes</td>\n      <td>Spectre</td>\n      <td>6.3</td>\n      <td>4466</td>\n    </tr>\n    <tr>\n      <th>3</th>\n      <td>250000000</td>\n      <td>[{\"id\": 28, \"name\": \"Action\"}, {\"id\": 80, \"nam...</td>\n      <td>http://www.thedarkknightrises.com/</td>\n      <td>49026</td>\n      <td>[{\"id\": 849, \"name\": \"dc comics\"}, {\"id\": 853,...</td>\n      <td>en</td>\n      <td>The Dark Knight Rises</td>\n      <td>Following the death of District Attorney Harve...</td>\n      <td>112.312950</td>\n      <td>[{\"name\": \"Legendary Pictures\", \"id\": 923}, {\"...</td>\n      <td>[{\"iso_3166_1\": \"US\", \"name\": \"United States o...</td>\n      <td>2012-07-16</td>\n      <td>1084939099</td>\n      <td>165.0</td>\n      <td>[{\"iso_639_1\": \"en\", \"name\": \"English\"}]</td>\n      <td>Released</td>\n      <td>The Legend Ends</td>\n      <td>The Dark Knight Rises</td>\n      <td>7.6</td>\n      <td>9106</td>\n    </tr>\n    <tr>\n      <th>4</th>\n      <td>260000000</td>\n      <td>[{\"id\": 28, \"name\": \"Action\"}, {\"id\": 12, \"nam...</td>\n      <td>http://movies.disney.com/john-carter</td>\n      <td>49529</td>\n      <td>[{\"id\": 818, \"name\": \"based on novel\"}, {\"id\":...</td>\n      <td>en</td>\n      <td>John Carter</td>\n      <td>John Carter is a war-weary, former military ca...</td>\n      <td>43.926995</td>\n      <td>[{\"name\": \"Walt Disney Pictures\", \"id\": 2}]</td>\n      <td>[{\"iso_3166_1\": \"US\", \"name\": \"United States o...</td>\n      <td>2012-03-07</td>\n      <td>284139100</td>\n      <td>132.0</td>\n      <td>[{\"iso_639_1\": \"en\", \"name\": \"English\"}]</td>\n      <td>Released</td>\n      <td>Lost in our world, found in another.</td>\n      <td>John Carter</td>\n      <td>6.1</td>\n      <td>2124</td>\n    </tr>\n  </tbody>\n</table>\n</div>"
     },
     "execution_count": 39,
     "metadata": {},
     "output_type": "execute_result"
    }
   ],
   "source": [
    "movies.head()"
   ],
   "metadata": {
    "collapsed": false
   }
  },
  {
   "cell_type": "code",
   "execution_count": 40,
   "outputs": [
    {
     "data": {
      "text/plain": "   movie_id                                     title  \\\n0     19995                                    Avatar   \n1       285  Pirates of the Caribbean: At World's End   \n2    206647                                   Spectre   \n3     49026                     The Dark Knight Rises   \n4     49529                               John Carter   \n\n                                                cast  \\\n0  [{\"cast_id\": 242, \"character\": \"Jake Sully\", \"...   \n1  [{\"cast_id\": 4, \"character\": \"Captain Jack Spa...   \n2  [{\"cast_id\": 1, \"character\": \"James Bond\", \"cr...   \n3  [{\"cast_id\": 2, \"character\": \"Bruce Wayne / Ba...   \n4  [{\"cast_id\": 5, \"character\": \"John Carter\", \"c...   \n\n                                                crew  \n0  [{\"credit_id\": \"52fe48009251416c750aca23\", \"de...  \n1  [{\"credit_id\": \"52fe4232c3a36847f800b579\", \"de...  \n2  [{\"credit_id\": \"54805967c3a36829b5002c41\", \"de...  \n3  [{\"credit_id\": \"52fe4781c3a36847f81398c3\", \"de...  \n4  [{\"credit_id\": \"52fe479ac3a36847f813eaa3\", \"de...  ",
      "text/html": "<div>\n<style scoped>\n    .dataframe tbody tr th:only-of-type {\n        vertical-align: middle;\n    }\n\n    .dataframe tbody tr th {\n        vertical-align: top;\n    }\n\n    .dataframe thead th {\n        text-align: right;\n    }\n</style>\n<table border=\"1\" class=\"dataframe\">\n  <thead>\n    <tr style=\"text-align: right;\">\n      <th></th>\n      <th>movie_id</th>\n      <th>title</th>\n      <th>cast</th>\n      <th>crew</th>\n    </tr>\n  </thead>\n  <tbody>\n    <tr>\n      <th>0</th>\n      <td>19995</td>\n      <td>Avatar</td>\n      <td>[{\"cast_id\": 242, \"character\": \"Jake Sully\", \"...</td>\n      <td>[{\"credit_id\": \"52fe48009251416c750aca23\", \"de...</td>\n    </tr>\n    <tr>\n      <th>1</th>\n      <td>285</td>\n      <td>Pirates of the Caribbean: At World's End</td>\n      <td>[{\"cast_id\": 4, \"character\": \"Captain Jack Spa...</td>\n      <td>[{\"credit_id\": \"52fe4232c3a36847f800b579\", \"de...</td>\n    </tr>\n    <tr>\n      <th>2</th>\n      <td>206647</td>\n      <td>Spectre</td>\n      <td>[{\"cast_id\": 1, \"character\": \"James Bond\", \"cr...</td>\n      <td>[{\"credit_id\": \"54805967c3a36829b5002c41\", \"de...</td>\n    </tr>\n    <tr>\n      <th>3</th>\n      <td>49026</td>\n      <td>The Dark Knight Rises</td>\n      <td>[{\"cast_id\": 2, \"character\": \"Bruce Wayne / Ba...</td>\n      <td>[{\"credit_id\": \"52fe4781c3a36847f81398c3\", \"de...</td>\n    </tr>\n    <tr>\n      <th>4</th>\n      <td>49529</td>\n      <td>John Carter</td>\n      <td>[{\"cast_id\": 5, \"character\": \"John Carter\", \"c...</td>\n      <td>[{\"credit_id\": \"52fe479ac3a36847f813eaa3\", \"de...</td>\n    </tr>\n  </tbody>\n</table>\n</div>"
     },
     "execution_count": 40,
     "metadata": {},
     "output_type": "execute_result"
    }
   ],
   "source": [
    "credits.head()"
   ],
   "metadata": {
    "collapsed": false
   }
  },
  {
   "cell_type": "code",
   "execution_count": 41,
   "outputs": [
    {
     "data": {
      "text/plain": "(4803, 20)"
     },
     "execution_count": 41,
     "metadata": {},
     "output_type": "execute_result"
    }
   ],
   "source": [
    "movies.shape"
   ],
   "metadata": {
    "collapsed": false
   }
  },
  {
   "cell_type": "code",
   "execution_count": 42,
   "outputs": [
    {
     "data": {
      "text/plain": "(4803, 4)"
     },
     "execution_count": 42,
     "metadata": {},
     "output_type": "execute_result"
    }
   ],
   "source": [
    "credits.shape"
   ],
   "metadata": {
    "collapsed": false
   }
  },
  {
   "cell_type": "code",
   "execution_count": 43,
   "outputs": [],
   "source": [
    "movie_marged = movies.merge(credits, on='title')"
   ],
   "metadata": {
    "collapsed": false
   }
  },
  {
   "cell_type": "code",
   "execution_count": 44,
   "outputs": [
    {
     "data": {
      "text/plain": "      budget                                             genres  \\\n0  237000000  [{\"id\": 28, \"name\": \"Action\"}, {\"id\": 12, \"nam...   \n1  300000000  [{\"id\": 12, \"name\": \"Adventure\"}, {\"id\": 14, \"...   \n2  245000000  [{\"id\": 28, \"name\": \"Action\"}, {\"id\": 12, \"nam...   \n3  250000000  [{\"id\": 28, \"name\": \"Action\"}, {\"id\": 80, \"nam...   \n4  260000000  [{\"id\": 28, \"name\": \"Action\"}, {\"id\": 12, \"nam...   \n\n                                       homepage      id  \\\n0                   http://www.avatarmovie.com/   19995   \n1  http://disney.go.com/disneypictures/pirates/     285   \n2   http://www.sonypictures.com/movies/spectre/  206647   \n3            http://www.thedarkknightrises.com/   49026   \n4          http://movies.disney.com/john-carter   49529   \n\n                                            keywords original_language  \\\n0  [{\"id\": 1463, \"name\": \"culture clash\"}, {\"id\":...                en   \n1  [{\"id\": 270, \"name\": \"ocean\"}, {\"id\": 726, \"na...                en   \n2  [{\"id\": 470, \"name\": \"spy\"}, {\"id\": 818, \"name...                en   \n3  [{\"id\": 849, \"name\": \"dc comics\"}, {\"id\": 853,...                en   \n4  [{\"id\": 818, \"name\": \"based on novel\"}, {\"id\":...                en   \n\n                             original_title  \\\n0                                    Avatar   \n1  Pirates of the Caribbean: At World's End   \n2                                   Spectre   \n3                     The Dark Knight Rises   \n4                               John Carter   \n\n                                            overview  popularity  \\\n0  In the 22nd century, a paraplegic Marine is di...  150.437577   \n1  Captain Barbossa, long believed to be dead, ha...  139.082615   \n2  A cryptic message from Bond’s past sends him o...  107.376788   \n3  Following the death of District Attorney Harve...  112.312950   \n4  John Carter is a war-weary, former military ca...   43.926995   \n\n                                production_companies  ... runtime  \\\n0  [{\"name\": \"Ingenious Film Partners\", \"id\": 289...  ...   162.0   \n1  [{\"name\": \"Walt Disney Pictures\", \"id\": 2}, {\"...  ...   169.0   \n2  [{\"name\": \"Columbia Pictures\", \"id\": 5}, {\"nam...  ...   148.0   \n3  [{\"name\": \"Legendary Pictures\", \"id\": 923}, {\"...  ...   165.0   \n4        [{\"name\": \"Walt Disney Pictures\", \"id\": 2}]  ...   132.0   \n\n                                    spoken_languages    status  \\\n0  [{\"iso_639_1\": \"en\", \"name\": \"English\"}, {\"iso...  Released   \n1           [{\"iso_639_1\": \"en\", \"name\": \"English\"}]  Released   \n2  [{\"iso_639_1\": \"fr\", \"name\": \"Fran\\u00e7ais\"},...  Released   \n3           [{\"iso_639_1\": \"en\", \"name\": \"English\"}]  Released   \n4           [{\"iso_639_1\": \"en\", \"name\": \"English\"}]  Released   \n\n                                          tagline  \\\n0                     Enter the World of Pandora.   \n1  At the end of the world, the adventure begins.   \n2                           A Plan No One Escapes   \n3                                 The Legend Ends   \n4            Lost in our world, found in another.   \n\n                                      title vote_average vote_count movie_id  \\\n0                                    Avatar          7.2      11800    19995   \n1  Pirates of the Caribbean: At World's End          6.9       4500      285   \n2                                   Spectre          6.3       4466   206647   \n3                     The Dark Knight Rises          7.6       9106    49026   \n4                               John Carter          6.1       2124    49529   \n\n                                                cast  \\\n0  [{\"cast_id\": 242, \"character\": \"Jake Sully\", \"...   \n1  [{\"cast_id\": 4, \"character\": \"Captain Jack Spa...   \n2  [{\"cast_id\": 1, \"character\": \"James Bond\", \"cr...   \n3  [{\"cast_id\": 2, \"character\": \"Bruce Wayne / Ba...   \n4  [{\"cast_id\": 5, \"character\": \"John Carter\", \"c...   \n\n                                                crew  \n0  [{\"credit_id\": \"52fe48009251416c750aca23\", \"de...  \n1  [{\"credit_id\": \"52fe4232c3a36847f800b579\", \"de...  \n2  [{\"credit_id\": \"54805967c3a36829b5002c41\", \"de...  \n3  [{\"credit_id\": \"52fe4781c3a36847f81398c3\", \"de...  \n4  [{\"credit_id\": \"52fe479ac3a36847f813eaa3\", \"de...  \n\n[5 rows x 23 columns]",
      "text/html": "<div>\n<style scoped>\n    .dataframe tbody tr th:only-of-type {\n        vertical-align: middle;\n    }\n\n    .dataframe tbody tr th {\n        vertical-align: top;\n    }\n\n    .dataframe thead th {\n        text-align: right;\n    }\n</style>\n<table border=\"1\" class=\"dataframe\">\n  <thead>\n    <tr style=\"text-align: right;\">\n      <th></th>\n      <th>budget</th>\n      <th>genres</th>\n      <th>homepage</th>\n      <th>id</th>\n      <th>keywords</th>\n      <th>original_language</th>\n      <th>original_title</th>\n      <th>overview</th>\n      <th>popularity</th>\n      <th>production_companies</th>\n      <th>...</th>\n      <th>runtime</th>\n      <th>spoken_languages</th>\n      <th>status</th>\n      <th>tagline</th>\n      <th>title</th>\n      <th>vote_average</th>\n      <th>vote_count</th>\n      <th>movie_id</th>\n      <th>cast</th>\n      <th>crew</th>\n    </tr>\n  </thead>\n  <tbody>\n    <tr>\n      <th>0</th>\n      <td>237000000</td>\n      <td>[{\"id\": 28, \"name\": \"Action\"}, {\"id\": 12, \"nam...</td>\n      <td>http://www.avatarmovie.com/</td>\n      <td>19995</td>\n      <td>[{\"id\": 1463, \"name\": \"culture clash\"}, {\"id\":...</td>\n      <td>en</td>\n      <td>Avatar</td>\n      <td>In the 22nd century, a paraplegic Marine is di...</td>\n      <td>150.437577</td>\n      <td>[{\"name\": \"Ingenious Film Partners\", \"id\": 289...</td>\n      <td>...</td>\n      <td>162.0</td>\n      <td>[{\"iso_639_1\": \"en\", \"name\": \"English\"}, {\"iso...</td>\n      <td>Released</td>\n      <td>Enter the World of Pandora.</td>\n      <td>Avatar</td>\n      <td>7.2</td>\n      <td>11800</td>\n      <td>19995</td>\n      <td>[{\"cast_id\": 242, \"character\": \"Jake Sully\", \"...</td>\n      <td>[{\"credit_id\": \"52fe48009251416c750aca23\", \"de...</td>\n    </tr>\n    <tr>\n      <th>1</th>\n      <td>300000000</td>\n      <td>[{\"id\": 12, \"name\": \"Adventure\"}, {\"id\": 14, \"...</td>\n      <td>http://disney.go.com/disneypictures/pirates/</td>\n      <td>285</td>\n      <td>[{\"id\": 270, \"name\": \"ocean\"}, {\"id\": 726, \"na...</td>\n      <td>en</td>\n      <td>Pirates of the Caribbean: At World's End</td>\n      <td>Captain Barbossa, long believed to be dead, ha...</td>\n      <td>139.082615</td>\n      <td>[{\"name\": \"Walt Disney Pictures\", \"id\": 2}, {\"...</td>\n      <td>...</td>\n      <td>169.0</td>\n      <td>[{\"iso_639_1\": \"en\", \"name\": \"English\"}]</td>\n      <td>Released</td>\n      <td>At the end of the world, the adventure begins.</td>\n      <td>Pirates of the Caribbean: At World's End</td>\n      <td>6.9</td>\n      <td>4500</td>\n      <td>285</td>\n      <td>[{\"cast_id\": 4, \"character\": \"Captain Jack Spa...</td>\n      <td>[{\"credit_id\": \"52fe4232c3a36847f800b579\", \"de...</td>\n    </tr>\n    <tr>\n      <th>2</th>\n      <td>245000000</td>\n      <td>[{\"id\": 28, \"name\": \"Action\"}, {\"id\": 12, \"nam...</td>\n      <td>http://www.sonypictures.com/movies/spectre/</td>\n      <td>206647</td>\n      <td>[{\"id\": 470, \"name\": \"spy\"}, {\"id\": 818, \"name...</td>\n      <td>en</td>\n      <td>Spectre</td>\n      <td>A cryptic message from Bond’s past sends him o...</td>\n      <td>107.376788</td>\n      <td>[{\"name\": \"Columbia Pictures\", \"id\": 5}, {\"nam...</td>\n      <td>...</td>\n      <td>148.0</td>\n      <td>[{\"iso_639_1\": \"fr\", \"name\": \"Fran\\u00e7ais\"},...</td>\n      <td>Released</td>\n      <td>A Plan No One Escapes</td>\n      <td>Spectre</td>\n      <td>6.3</td>\n      <td>4466</td>\n      <td>206647</td>\n      <td>[{\"cast_id\": 1, \"character\": \"James Bond\", \"cr...</td>\n      <td>[{\"credit_id\": \"54805967c3a36829b5002c41\", \"de...</td>\n    </tr>\n    <tr>\n      <th>3</th>\n      <td>250000000</td>\n      <td>[{\"id\": 28, \"name\": \"Action\"}, {\"id\": 80, \"nam...</td>\n      <td>http://www.thedarkknightrises.com/</td>\n      <td>49026</td>\n      <td>[{\"id\": 849, \"name\": \"dc comics\"}, {\"id\": 853,...</td>\n      <td>en</td>\n      <td>The Dark Knight Rises</td>\n      <td>Following the death of District Attorney Harve...</td>\n      <td>112.312950</td>\n      <td>[{\"name\": \"Legendary Pictures\", \"id\": 923}, {\"...</td>\n      <td>...</td>\n      <td>165.0</td>\n      <td>[{\"iso_639_1\": \"en\", \"name\": \"English\"}]</td>\n      <td>Released</td>\n      <td>The Legend Ends</td>\n      <td>The Dark Knight Rises</td>\n      <td>7.6</td>\n      <td>9106</td>\n      <td>49026</td>\n      <td>[{\"cast_id\": 2, \"character\": \"Bruce Wayne / Ba...</td>\n      <td>[{\"credit_id\": \"52fe4781c3a36847f81398c3\", \"de...</td>\n    </tr>\n    <tr>\n      <th>4</th>\n      <td>260000000</td>\n      <td>[{\"id\": 28, \"name\": \"Action\"}, {\"id\": 12, \"nam...</td>\n      <td>http://movies.disney.com/john-carter</td>\n      <td>49529</td>\n      <td>[{\"id\": 818, \"name\": \"based on novel\"}, {\"id\":...</td>\n      <td>en</td>\n      <td>John Carter</td>\n      <td>John Carter is a war-weary, former military ca...</td>\n      <td>43.926995</td>\n      <td>[{\"name\": \"Walt Disney Pictures\", \"id\": 2}]</td>\n      <td>...</td>\n      <td>132.0</td>\n      <td>[{\"iso_639_1\": \"en\", \"name\": \"English\"}]</td>\n      <td>Released</td>\n      <td>Lost in our world, found in another.</td>\n      <td>John Carter</td>\n      <td>6.1</td>\n      <td>2124</td>\n      <td>49529</td>\n      <td>[{\"cast_id\": 5, \"character\": \"John Carter\", \"c...</td>\n      <td>[{\"credit_id\": \"52fe479ac3a36847f813eaa3\", \"de...</td>\n    </tr>\n  </tbody>\n</table>\n<p>5 rows × 23 columns</p>\n</div>"
     },
     "execution_count": 44,
     "metadata": {},
     "output_type": "execute_result"
    }
   ],
   "source": [
    "movie_marged.head()"
   ],
   "metadata": {
    "collapsed": false
   }
  },
  {
   "cell_type": "code",
   "execution_count": 45,
   "outputs": [],
   "source": [
    "required_columns = ['movie_id', 'title', 'genres', 'keywords', 'overview', 'cast', 'crew']"
   ],
   "metadata": {
    "collapsed": false
   }
  },
  {
   "cell_type": "code",
   "execution_count": 46,
   "outputs": [],
   "source": [
    "movie_marged_required_col = movie_marged[required_columns]"
   ],
   "metadata": {
    "collapsed": false
   }
  },
  {
   "cell_type": "code",
   "execution_count": 47,
   "outputs": [
    {
     "data": {
      "text/plain": "   movie_id                                     title  \\\n0     19995                                    Avatar   \n1       285  Pirates of the Caribbean: At World's End   \n2    206647                                   Spectre   \n3     49026                     The Dark Knight Rises   \n4     49529                               John Carter   \n\n                                              genres  \\\n0  [{\"id\": 28, \"name\": \"Action\"}, {\"id\": 12, \"nam...   \n1  [{\"id\": 12, \"name\": \"Adventure\"}, {\"id\": 14, \"...   \n2  [{\"id\": 28, \"name\": \"Action\"}, {\"id\": 12, \"nam...   \n3  [{\"id\": 28, \"name\": \"Action\"}, {\"id\": 80, \"nam...   \n4  [{\"id\": 28, \"name\": \"Action\"}, {\"id\": 12, \"nam...   \n\n                                            keywords  \\\n0  [{\"id\": 1463, \"name\": \"culture clash\"}, {\"id\":...   \n1  [{\"id\": 270, \"name\": \"ocean\"}, {\"id\": 726, \"na...   \n2  [{\"id\": 470, \"name\": \"spy\"}, {\"id\": 818, \"name...   \n3  [{\"id\": 849, \"name\": \"dc comics\"}, {\"id\": 853,...   \n4  [{\"id\": 818, \"name\": \"based on novel\"}, {\"id\":...   \n\n                                            overview  \\\n0  In the 22nd century, a paraplegic Marine is di...   \n1  Captain Barbossa, long believed to be dead, ha...   \n2  A cryptic message from Bond’s past sends him o...   \n3  Following the death of District Attorney Harve...   \n4  John Carter is a war-weary, former military ca...   \n\n                                                cast  \\\n0  [{\"cast_id\": 242, \"character\": \"Jake Sully\", \"...   \n1  [{\"cast_id\": 4, \"character\": \"Captain Jack Spa...   \n2  [{\"cast_id\": 1, \"character\": \"James Bond\", \"cr...   \n3  [{\"cast_id\": 2, \"character\": \"Bruce Wayne / Ba...   \n4  [{\"cast_id\": 5, \"character\": \"John Carter\", \"c...   \n\n                                                crew  \n0  [{\"credit_id\": \"52fe48009251416c750aca23\", \"de...  \n1  [{\"credit_id\": \"52fe4232c3a36847f800b579\", \"de...  \n2  [{\"credit_id\": \"54805967c3a36829b5002c41\", \"de...  \n3  [{\"credit_id\": \"52fe4781c3a36847f81398c3\", \"de...  \n4  [{\"credit_id\": \"52fe479ac3a36847f813eaa3\", \"de...  ",
      "text/html": "<div>\n<style scoped>\n    .dataframe tbody tr th:only-of-type {\n        vertical-align: middle;\n    }\n\n    .dataframe tbody tr th {\n        vertical-align: top;\n    }\n\n    .dataframe thead th {\n        text-align: right;\n    }\n</style>\n<table border=\"1\" class=\"dataframe\">\n  <thead>\n    <tr style=\"text-align: right;\">\n      <th></th>\n      <th>movie_id</th>\n      <th>title</th>\n      <th>genres</th>\n      <th>keywords</th>\n      <th>overview</th>\n      <th>cast</th>\n      <th>crew</th>\n    </tr>\n  </thead>\n  <tbody>\n    <tr>\n      <th>0</th>\n      <td>19995</td>\n      <td>Avatar</td>\n      <td>[{\"id\": 28, \"name\": \"Action\"}, {\"id\": 12, \"nam...</td>\n      <td>[{\"id\": 1463, \"name\": \"culture clash\"}, {\"id\":...</td>\n      <td>In the 22nd century, a paraplegic Marine is di...</td>\n      <td>[{\"cast_id\": 242, \"character\": \"Jake Sully\", \"...</td>\n      <td>[{\"credit_id\": \"52fe48009251416c750aca23\", \"de...</td>\n    </tr>\n    <tr>\n      <th>1</th>\n      <td>285</td>\n      <td>Pirates of the Caribbean: At World's End</td>\n      <td>[{\"id\": 12, \"name\": \"Adventure\"}, {\"id\": 14, \"...</td>\n      <td>[{\"id\": 270, \"name\": \"ocean\"}, {\"id\": 726, \"na...</td>\n      <td>Captain Barbossa, long believed to be dead, ha...</td>\n      <td>[{\"cast_id\": 4, \"character\": \"Captain Jack Spa...</td>\n      <td>[{\"credit_id\": \"52fe4232c3a36847f800b579\", \"de...</td>\n    </tr>\n    <tr>\n      <th>2</th>\n      <td>206647</td>\n      <td>Spectre</td>\n      <td>[{\"id\": 28, \"name\": \"Action\"}, {\"id\": 12, \"nam...</td>\n      <td>[{\"id\": 470, \"name\": \"spy\"}, {\"id\": 818, \"name...</td>\n      <td>A cryptic message from Bond’s past sends him o...</td>\n      <td>[{\"cast_id\": 1, \"character\": \"James Bond\", \"cr...</td>\n      <td>[{\"credit_id\": \"54805967c3a36829b5002c41\", \"de...</td>\n    </tr>\n    <tr>\n      <th>3</th>\n      <td>49026</td>\n      <td>The Dark Knight Rises</td>\n      <td>[{\"id\": 28, \"name\": \"Action\"}, {\"id\": 80, \"nam...</td>\n      <td>[{\"id\": 849, \"name\": \"dc comics\"}, {\"id\": 853,...</td>\n      <td>Following the death of District Attorney Harve...</td>\n      <td>[{\"cast_id\": 2, \"character\": \"Bruce Wayne / Ba...</td>\n      <td>[{\"credit_id\": \"52fe4781c3a36847f81398c3\", \"de...</td>\n    </tr>\n    <tr>\n      <th>4</th>\n      <td>49529</td>\n      <td>John Carter</td>\n      <td>[{\"id\": 28, \"name\": \"Action\"}, {\"id\": 12, \"nam...</td>\n      <td>[{\"id\": 818, \"name\": \"based on novel\"}, {\"id\":...</td>\n      <td>John Carter is a war-weary, former military ca...</td>\n      <td>[{\"cast_id\": 5, \"character\": \"John Carter\", \"c...</td>\n      <td>[{\"credit_id\": \"52fe479ac3a36847f813eaa3\", \"de...</td>\n    </tr>\n  </tbody>\n</table>\n</div>"
     },
     "execution_count": 47,
     "metadata": {},
     "output_type": "execute_result"
    }
   ],
   "source": [
    "movie_marged_required_col.head()"
   ],
   "metadata": {
    "collapsed": false
   }
  },
  {
   "cell_type": "code",
   "execution_count": 48,
   "outputs": [
    {
     "data": {
      "text/plain": "movie_id    0\ntitle       0\ngenres      0\nkeywords    0\noverview    3\ncast        0\ncrew        0\ndtype: int64"
     },
     "execution_count": 48,
     "metadata": {},
     "output_type": "execute_result"
    }
   ],
   "source": [
    "movie_marged_required_col.isnull().sum()"
   ],
   "metadata": {
    "collapsed": false
   }
  },
  {
   "cell_type": "code",
   "execution_count": 49,
   "outputs": [
    {
     "name": "stderr",
     "output_type": "stream",
     "text": [
      "C:\\Users\\UMEGS\\AppData\\Local\\Temp\\ipykernel_75028\\281407993.py:1: SettingWithCopyWarning: \n",
      "A value is trying to be set on a copy of a slice from a DataFrame\n",
      "\n",
      "See the caveats in the documentation: https://pandas.pydata.org/pandas-docs/stable/user_guide/indexing.html#returning-a-view-versus-a-copy\n",
      "  movie_marged_required_col.dropna(inplace=True)\n"
     ]
    }
   ],
   "source": [
    "movie_marged_required_col.dropna(inplace=True)"
   ],
   "metadata": {
    "collapsed": false
   }
  },
  {
   "cell_type": "code",
   "execution_count": 50,
   "outputs": [
    {
     "data": {
      "text/plain": "movie_id    0\ntitle       0\ngenres      0\nkeywords    0\noverview    0\ncast        0\ncrew        0\ndtype: int64"
     },
     "execution_count": 50,
     "metadata": {},
     "output_type": "execute_result"
    }
   ],
   "source": [
    "movie_marged_required_col.isnull().sum()"
   ],
   "metadata": {
    "collapsed": false
   }
  },
  {
   "cell_type": "code",
   "execution_count": 51,
   "outputs": [
    {
     "data": {
      "text/plain": "0"
     },
     "execution_count": 51,
     "metadata": {},
     "output_type": "execute_result"
    }
   ],
   "source": [
    "movie_marged_required_col.duplicated().sum()"
   ],
   "metadata": {
    "collapsed": false
   }
  },
  {
   "cell_type": "code",
   "execution_count": 52,
   "outputs": [
    {
     "data": {
      "text/plain": "[{'id': 28, 'name': 'Action'},\n {'id': 12, 'name': 'Adventure'},\n {'id': 14, 'name': 'Fantasy'},\n {'id': 878, 'name': 'Science Fiction'}]"
     },
     "execution_count": 52,
     "metadata": {},
     "output_type": "execute_result"
    }
   ],
   "source": [
    "json.loads(movie_marged_required_col.genres[0])"
   ],
   "metadata": {
    "collapsed": false
   }
  },
  {
   "cell_type": "code",
   "execution_count": 53,
   "outputs": [],
   "source": [
    "def convert_to_list(x):\n",
    "    return [ i['name'] for i in json.loads(x)]"
   ],
   "metadata": {
    "collapsed": false
   }
  },
  {
   "cell_type": "code",
   "execution_count": 54,
   "outputs": [
    {
     "data": {
      "text/plain": "['Action', 'Adventure', 'Fantasy', 'Science Fiction']"
     },
     "execution_count": 54,
     "metadata": {},
     "output_type": "execute_result"
    }
   ],
   "source": [
    "convert_to_list(movie_marged_required_col.genres[0])"
   ],
   "metadata": {
    "collapsed": false
   }
  },
  {
   "cell_type": "code",
   "execution_count": 55,
   "outputs": [
    {
     "name": "stderr",
     "output_type": "stream",
     "text": [
      "C:\\Users\\UMEGS\\AppData\\Local\\Temp\\ipykernel_75028\\2016146605.py:1: SettingWithCopyWarning: \n",
      "A value is trying to be set on a copy of a slice from a DataFrame.\n",
      "Try using .loc[row_indexer,col_indexer] = value instead\n",
      "\n",
      "See the caveats in the documentation: https://pandas.pydata.org/pandas-docs/stable/user_guide/indexing.html#returning-a-view-versus-a-copy\n",
      "  movie_marged_required_col['genres'] = movie_marged_required_col['genres'].apply(convert_to_list)\n"
     ]
    }
   ],
   "source": [
    "movie_marged_required_col['genres'] = movie_marged_required_col['genres'].apply(convert_to_list)"
   ],
   "metadata": {
    "collapsed": false
   }
  },
  {
   "cell_type": "code",
   "execution_count": 56,
   "outputs": [
    {
     "data": {
      "text/plain": "   movie_id                                     title  \\\n0     19995                                    Avatar   \n1       285  Pirates of the Caribbean: At World's End   \n2    206647                                   Spectre   \n3     49026                     The Dark Knight Rises   \n4     49529                               John Carter   \n\n                                          genres  \\\n0  [Action, Adventure, Fantasy, Science Fiction]   \n1                   [Adventure, Fantasy, Action]   \n2                     [Action, Adventure, Crime]   \n3               [Action, Crime, Drama, Thriller]   \n4           [Action, Adventure, Science Fiction]   \n\n                                            keywords  \\\n0  [{\"id\": 1463, \"name\": \"culture clash\"}, {\"id\":...   \n1  [{\"id\": 270, \"name\": \"ocean\"}, {\"id\": 726, \"na...   \n2  [{\"id\": 470, \"name\": \"spy\"}, {\"id\": 818, \"name...   \n3  [{\"id\": 849, \"name\": \"dc comics\"}, {\"id\": 853,...   \n4  [{\"id\": 818, \"name\": \"based on novel\"}, {\"id\":...   \n\n                                            overview  \\\n0  In the 22nd century, a paraplegic Marine is di...   \n1  Captain Barbossa, long believed to be dead, ha...   \n2  A cryptic message from Bond’s past sends him o...   \n3  Following the death of District Attorney Harve...   \n4  John Carter is a war-weary, former military ca...   \n\n                                                cast  \\\n0  [{\"cast_id\": 242, \"character\": \"Jake Sully\", \"...   \n1  [{\"cast_id\": 4, \"character\": \"Captain Jack Spa...   \n2  [{\"cast_id\": 1, \"character\": \"James Bond\", \"cr...   \n3  [{\"cast_id\": 2, \"character\": \"Bruce Wayne / Ba...   \n4  [{\"cast_id\": 5, \"character\": \"John Carter\", \"c...   \n\n                                                crew  \n0  [{\"credit_id\": \"52fe48009251416c750aca23\", \"de...  \n1  [{\"credit_id\": \"52fe4232c3a36847f800b579\", \"de...  \n2  [{\"credit_id\": \"54805967c3a36829b5002c41\", \"de...  \n3  [{\"credit_id\": \"52fe4781c3a36847f81398c3\", \"de...  \n4  [{\"credit_id\": \"52fe479ac3a36847f813eaa3\", \"de...  ",
      "text/html": "<div>\n<style scoped>\n    .dataframe tbody tr th:only-of-type {\n        vertical-align: middle;\n    }\n\n    .dataframe tbody tr th {\n        vertical-align: top;\n    }\n\n    .dataframe thead th {\n        text-align: right;\n    }\n</style>\n<table border=\"1\" class=\"dataframe\">\n  <thead>\n    <tr style=\"text-align: right;\">\n      <th></th>\n      <th>movie_id</th>\n      <th>title</th>\n      <th>genres</th>\n      <th>keywords</th>\n      <th>overview</th>\n      <th>cast</th>\n      <th>crew</th>\n    </tr>\n  </thead>\n  <tbody>\n    <tr>\n      <th>0</th>\n      <td>19995</td>\n      <td>Avatar</td>\n      <td>[Action, Adventure, Fantasy, Science Fiction]</td>\n      <td>[{\"id\": 1463, \"name\": \"culture clash\"}, {\"id\":...</td>\n      <td>In the 22nd century, a paraplegic Marine is di...</td>\n      <td>[{\"cast_id\": 242, \"character\": \"Jake Sully\", \"...</td>\n      <td>[{\"credit_id\": \"52fe48009251416c750aca23\", \"de...</td>\n    </tr>\n    <tr>\n      <th>1</th>\n      <td>285</td>\n      <td>Pirates of the Caribbean: At World's End</td>\n      <td>[Adventure, Fantasy, Action]</td>\n      <td>[{\"id\": 270, \"name\": \"ocean\"}, {\"id\": 726, \"na...</td>\n      <td>Captain Barbossa, long believed to be dead, ha...</td>\n      <td>[{\"cast_id\": 4, \"character\": \"Captain Jack Spa...</td>\n      <td>[{\"credit_id\": \"52fe4232c3a36847f800b579\", \"de...</td>\n    </tr>\n    <tr>\n      <th>2</th>\n      <td>206647</td>\n      <td>Spectre</td>\n      <td>[Action, Adventure, Crime]</td>\n      <td>[{\"id\": 470, \"name\": \"spy\"}, {\"id\": 818, \"name...</td>\n      <td>A cryptic message from Bond’s past sends him o...</td>\n      <td>[{\"cast_id\": 1, \"character\": \"James Bond\", \"cr...</td>\n      <td>[{\"credit_id\": \"54805967c3a36829b5002c41\", \"de...</td>\n    </tr>\n    <tr>\n      <th>3</th>\n      <td>49026</td>\n      <td>The Dark Knight Rises</td>\n      <td>[Action, Crime, Drama, Thriller]</td>\n      <td>[{\"id\": 849, \"name\": \"dc comics\"}, {\"id\": 853,...</td>\n      <td>Following the death of District Attorney Harve...</td>\n      <td>[{\"cast_id\": 2, \"character\": \"Bruce Wayne / Ba...</td>\n      <td>[{\"credit_id\": \"52fe4781c3a36847f81398c3\", \"de...</td>\n    </tr>\n    <tr>\n      <th>4</th>\n      <td>49529</td>\n      <td>John Carter</td>\n      <td>[Action, Adventure, Science Fiction]</td>\n      <td>[{\"id\": 818, \"name\": \"based on novel\"}, {\"id\":...</td>\n      <td>John Carter is a war-weary, former military ca...</td>\n      <td>[{\"cast_id\": 5, \"character\": \"John Carter\", \"c...</td>\n      <td>[{\"credit_id\": \"52fe479ac3a36847f813eaa3\", \"de...</td>\n    </tr>\n  </tbody>\n</table>\n</div>"
     },
     "execution_count": 56,
     "metadata": {},
     "output_type": "execute_result"
    }
   ],
   "source": [
    "movie_marged_required_col.head()"
   ],
   "metadata": {
    "collapsed": false
   }
  },
  {
   "cell_type": "code",
   "execution_count": 57,
   "outputs": [
    {
     "data": {
      "text/plain": "'[{\"id\": 1463, \"name\": \"culture clash\"}, {\"id\": 2964, \"name\": \"future\"}, {\"id\": 3386, \"name\": \"space war\"}, {\"id\": 3388, \"name\": \"space colony\"}, {\"id\": 3679, \"name\": \"society\"}, {\"id\": 3801, \"name\": \"space travel\"}, {\"id\": 9685, \"name\": \"futuristic\"}, {\"id\": 9840, \"name\": \"romance\"}, {\"id\": 9882, \"name\": \"space\"}, {\"id\": 9951, \"name\": \"alien\"}, {\"id\": 10148, \"name\": \"tribe\"}, {\"id\": 10158, \"name\": \"alien planet\"}, {\"id\": 10987, \"name\": \"cgi\"}, {\"id\": 11399, \"name\": \"marine\"}, {\"id\": 13065, \"name\": \"soldier\"}, {\"id\": 14643, \"name\": \"battle\"}, {\"id\": 14720, \"name\": \"love affair\"}, {\"id\": 165431, \"name\": \"anti war\"}, {\"id\": 193554, \"name\": \"power relations\"}, {\"id\": 206690, \"name\": \"mind and soul\"}, {\"id\": 209714, \"name\": \"3d\"}]'"
     },
     "execution_count": 57,
     "metadata": {},
     "output_type": "execute_result"
    }
   ],
   "source": [
    "movie_marged_required_col.keywords[0]"
   ],
   "metadata": {
    "collapsed": false
   }
  },
  {
   "cell_type": "code",
   "execution_count": 58,
   "outputs": [
    {
     "data": {
      "text/plain": "[{'id': 1463, 'name': 'culture clash'},\n {'id': 2964, 'name': 'future'},\n {'id': 3386, 'name': 'space war'},\n {'id': 3388, 'name': 'space colony'},\n {'id': 3679, 'name': 'society'},\n {'id': 3801, 'name': 'space travel'},\n {'id': 9685, 'name': 'futuristic'},\n {'id': 9840, 'name': 'romance'},\n {'id': 9882, 'name': 'space'},\n {'id': 9951, 'name': 'alien'},\n {'id': 10148, 'name': 'tribe'},\n {'id': 10158, 'name': 'alien planet'},\n {'id': 10987, 'name': 'cgi'},\n {'id': 11399, 'name': 'marine'},\n {'id': 13065, 'name': 'soldier'},\n {'id': 14643, 'name': 'battle'},\n {'id': 14720, 'name': 'love affair'},\n {'id': 165431, 'name': 'anti war'},\n {'id': 193554, 'name': 'power relations'},\n {'id': 206690, 'name': 'mind and soul'},\n {'id': 209714, 'name': '3d'}]"
     },
     "execution_count": 58,
     "metadata": {},
     "output_type": "execute_result"
    }
   ],
   "source": [
    "json.loads(movie_marged_required_col.keywords[0])"
   ],
   "metadata": {
    "collapsed": false
   }
  },
  {
   "cell_type": "code",
   "execution_count": 59,
   "outputs": [
    {
     "name": "stderr",
     "output_type": "stream",
     "text": [
      "C:\\Users\\UMEGS\\AppData\\Local\\Temp\\ipykernel_75028\\1789660873.py:1: SettingWithCopyWarning: \n",
      "A value is trying to be set on a copy of a slice from a DataFrame.\n",
      "Try using .loc[row_indexer,col_indexer] = value instead\n",
      "\n",
      "See the caveats in the documentation: https://pandas.pydata.org/pandas-docs/stable/user_guide/indexing.html#returning-a-view-versus-a-copy\n",
      "  movie_marged_required_col['keywords'] = movie_marged_required_col['keywords'].apply(convert_to_list)\n"
     ]
    }
   ],
   "source": [
    "movie_marged_required_col['keywords'] = movie_marged_required_col['keywords'].apply(convert_to_list)"
   ],
   "metadata": {
    "collapsed": false
   }
  },
  {
   "cell_type": "code",
   "execution_count": 60,
   "outputs": [
    {
     "data": {
      "text/plain": "   movie_id                                     title  \\\n0     19995                                    Avatar   \n1       285  Pirates of the Caribbean: At World's End   \n2    206647                                   Spectre   \n3     49026                     The Dark Knight Rises   \n4     49529                               John Carter   \n\n                                          genres  \\\n0  [Action, Adventure, Fantasy, Science Fiction]   \n1                   [Adventure, Fantasy, Action]   \n2                     [Action, Adventure, Crime]   \n3               [Action, Crime, Drama, Thriller]   \n4           [Action, Adventure, Science Fiction]   \n\n                                            keywords  \\\n0  [culture clash, future, space war, space colon...   \n1  [ocean, drug abuse, exotic island, east india ...   \n2  [spy, based on novel, secret agent, sequel, mi...   \n3  [dc comics, crime fighter, terrorist, secret i...   \n4  [based on novel, mars, medallion, space travel...   \n\n                                            overview  \\\n0  In the 22nd century, a paraplegic Marine is di...   \n1  Captain Barbossa, long believed to be dead, ha...   \n2  A cryptic message from Bond’s past sends him o...   \n3  Following the death of District Attorney Harve...   \n4  John Carter is a war-weary, former military ca...   \n\n                                                cast  \\\n0  [{\"cast_id\": 242, \"character\": \"Jake Sully\", \"...   \n1  [{\"cast_id\": 4, \"character\": \"Captain Jack Spa...   \n2  [{\"cast_id\": 1, \"character\": \"James Bond\", \"cr...   \n3  [{\"cast_id\": 2, \"character\": \"Bruce Wayne / Ba...   \n4  [{\"cast_id\": 5, \"character\": \"John Carter\", \"c...   \n\n                                                crew  \n0  [{\"credit_id\": \"52fe48009251416c750aca23\", \"de...  \n1  [{\"credit_id\": \"52fe4232c3a36847f800b579\", \"de...  \n2  [{\"credit_id\": \"54805967c3a36829b5002c41\", \"de...  \n3  [{\"credit_id\": \"52fe4781c3a36847f81398c3\", \"de...  \n4  [{\"credit_id\": \"52fe479ac3a36847f813eaa3\", \"de...  ",
      "text/html": "<div>\n<style scoped>\n    .dataframe tbody tr th:only-of-type {\n        vertical-align: middle;\n    }\n\n    .dataframe tbody tr th {\n        vertical-align: top;\n    }\n\n    .dataframe thead th {\n        text-align: right;\n    }\n</style>\n<table border=\"1\" class=\"dataframe\">\n  <thead>\n    <tr style=\"text-align: right;\">\n      <th></th>\n      <th>movie_id</th>\n      <th>title</th>\n      <th>genres</th>\n      <th>keywords</th>\n      <th>overview</th>\n      <th>cast</th>\n      <th>crew</th>\n    </tr>\n  </thead>\n  <tbody>\n    <tr>\n      <th>0</th>\n      <td>19995</td>\n      <td>Avatar</td>\n      <td>[Action, Adventure, Fantasy, Science Fiction]</td>\n      <td>[culture clash, future, space war, space colon...</td>\n      <td>In the 22nd century, a paraplegic Marine is di...</td>\n      <td>[{\"cast_id\": 242, \"character\": \"Jake Sully\", \"...</td>\n      <td>[{\"credit_id\": \"52fe48009251416c750aca23\", \"de...</td>\n    </tr>\n    <tr>\n      <th>1</th>\n      <td>285</td>\n      <td>Pirates of the Caribbean: At World's End</td>\n      <td>[Adventure, Fantasy, Action]</td>\n      <td>[ocean, drug abuse, exotic island, east india ...</td>\n      <td>Captain Barbossa, long believed to be dead, ha...</td>\n      <td>[{\"cast_id\": 4, \"character\": \"Captain Jack Spa...</td>\n      <td>[{\"credit_id\": \"52fe4232c3a36847f800b579\", \"de...</td>\n    </tr>\n    <tr>\n      <th>2</th>\n      <td>206647</td>\n      <td>Spectre</td>\n      <td>[Action, Adventure, Crime]</td>\n      <td>[spy, based on novel, secret agent, sequel, mi...</td>\n      <td>A cryptic message from Bond’s past sends him o...</td>\n      <td>[{\"cast_id\": 1, \"character\": \"James Bond\", \"cr...</td>\n      <td>[{\"credit_id\": \"54805967c3a36829b5002c41\", \"de...</td>\n    </tr>\n    <tr>\n      <th>3</th>\n      <td>49026</td>\n      <td>The Dark Knight Rises</td>\n      <td>[Action, Crime, Drama, Thriller]</td>\n      <td>[dc comics, crime fighter, terrorist, secret i...</td>\n      <td>Following the death of District Attorney Harve...</td>\n      <td>[{\"cast_id\": 2, \"character\": \"Bruce Wayne / Ba...</td>\n      <td>[{\"credit_id\": \"52fe4781c3a36847f81398c3\", \"de...</td>\n    </tr>\n    <tr>\n      <th>4</th>\n      <td>49529</td>\n      <td>John Carter</td>\n      <td>[Action, Adventure, Science Fiction]</td>\n      <td>[based on novel, mars, medallion, space travel...</td>\n      <td>John Carter is a war-weary, former military ca...</td>\n      <td>[{\"cast_id\": 5, \"character\": \"John Carter\", \"c...</td>\n      <td>[{\"credit_id\": \"52fe479ac3a36847f813eaa3\", \"de...</td>\n    </tr>\n  </tbody>\n</table>\n</div>"
     },
     "execution_count": 60,
     "metadata": {},
     "output_type": "execute_result"
    }
   ],
   "source": [
    "movie_marged_required_col.head()"
   ],
   "metadata": {
    "collapsed": false
   }
  },
  {
   "cell_type": "code",
   "execution_count": 61,
   "outputs": [
    {
     "data": {
      "text/plain": "'[{\"cast_id\": 242, \"character\": \"Jake Sully\", \"credit_id\": \"5602a8a7c3a3685532001c9a\", \"gender\": 2, \"id\": 65731, \"name\": \"Sam Worthington\", \"order\": 0}, {\"cast_id\": 3, \"character\": \"Neytiri\", \"credit_id\": \"52fe48009251416c750ac9cb\", \"gender\": 1, \"id\": 8691, \"name\": \"Zoe Saldana\", \"order\": 1}, {\"cast_id\": 25, \"character\": \"Dr. Grace Augustine\", \"credit_id\": \"52fe48009251416c750aca39\", \"gender\": 1, \"id\": 10205, \"name\": \"Sigourney Weaver\", \"order\": 2}, {\"cast_id\": 4, \"character\": \"Col. Quaritch\", \"credit_id\": \"52fe48009251416c750ac9cf\", \"gender\": 2, \"id\": 32747, \"name\": \"Stephen Lang\", \"order\": 3}, {\"cast_id\": 5, \"character\": \"Trudy Chacon\", \"credit_id\": \"52fe48009251416c750ac9d3\", \"gender\": 1, \"id\": 17647, \"name\": \"Michelle Rodriguez\", \"order\": 4}, {\"cast_id\": 8, \"character\": \"Selfridge\", \"credit_id\": \"52fe48009251416c750ac9e1\", \"gender\": 2, \"id\": 1771, \"name\": \"Giovanni Ribisi\", \"order\": 5}, {\"cast_id\": 7, \"character\": \"Norm Spellman\", \"credit_id\": \"52fe48009251416c750ac9dd\", \"gender\": 2, \"id\": 59231, \"name\": \"Joel David Moore\", \"order\": 6}, {\"cast_id\": 9, \"character\": \"Moat\", \"credit_id\": \"52fe48009251416c750ac9e5\", \"gender\": 1, \"id\": 30485, \"name\": \"CCH Pounder\", \"order\": 7}, {\"cast_id\": 11, \"character\": \"Eytukan\", \"credit_id\": \"52fe48009251416c750ac9ed\", \"gender\": 2, \"id\": 15853, \"name\": \"Wes Studi\", \"order\": 8}, {\"cast_id\": 10, \"character\": \"Tsu\\'Tey\", \"credit_id\": \"52fe48009251416c750ac9e9\", \"gender\": 2, \"id\": 10964, \"name\": \"Laz Alonso\", \"order\": 9}, {\"cast_id\": 12, \"character\": \"Dr. Max Patel\", \"credit_id\": \"52fe48009251416c750ac9f1\", \"gender\": 2, \"id\": 95697, \"name\": \"Dileep Rao\", \"order\": 10}, {\"cast_id\": 13, \"character\": \"Lyle Wainfleet\", \"credit_id\": \"52fe48009251416c750ac9f5\", \"gender\": 2, \"id\": 98215, \"name\": \"Matt Gerald\", \"order\": 11}, {\"cast_id\": 32, \"character\": \"Private Fike\", \"credit_id\": \"52fe48009251416c750aca5b\", \"gender\": 2, \"id\": 154153, \"name\": \"Sean Anthony Moran\", \"order\": 12}, {\"cast_id\": 33, \"character\": \"Cryo Vault Med Tech\", \"credit_id\": \"52fe48009251416c750aca5f\", \"gender\": 2, \"id\": 397312, \"name\": \"Jason Whyte\", \"order\": 13}, {\"cast_id\": 34, \"character\": \"Venture Star Crew Chief\", \"credit_id\": \"52fe48009251416c750aca63\", \"gender\": 2, \"id\": 42317, \"name\": \"Scott Lawrence\", \"order\": 14}, {\"cast_id\": 35, \"character\": \"Lock Up Trooper\", \"credit_id\": \"52fe48009251416c750aca67\", \"gender\": 2, \"id\": 986734, \"name\": \"Kelly Kilgour\", \"order\": 15}, {\"cast_id\": 36, \"character\": \"Shuttle Pilot\", \"credit_id\": \"52fe48009251416c750aca6b\", \"gender\": 0, \"id\": 1207227, \"name\": \"James Patrick Pitt\", \"order\": 16}, {\"cast_id\": 37, \"character\": \"Shuttle Co-Pilot\", \"credit_id\": \"52fe48009251416c750aca6f\", \"gender\": 0, \"id\": 1180936, \"name\": \"Sean Patrick Murphy\", \"order\": 17}, {\"cast_id\": 38, \"character\": \"Shuttle Crew Chief\", \"credit_id\": \"52fe48009251416c750aca73\", \"gender\": 2, \"id\": 1019578, \"name\": \"Peter Dillon\", \"order\": 18}, {\"cast_id\": 39, \"character\": \"Tractor Operator / Troupe\", \"credit_id\": \"52fe48009251416c750aca77\", \"gender\": 0, \"id\": 91443, \"name\": \"Kevin Dorman\", \"order\": 19}, {\"cast_id\": 40, \"character\": \"Dragon Gunship Pilot\", \"credit_id\": \"52fe48009251416c750aca7b\", \"gender\": 2, \"id\": 173391, \"name\": \"Kelson Henderson\", \"order\": 20}, {\"cast_id\": 41, \"character\": \"Dragon Gunship Gunner\", \"credit_id\": \"52fe48009251416c750aca7f\", \"gender\": 0, \"id\": 1207236, \"name\": \"David Van Horn\", \"order\": 21}, {\"cast_id\": 42, \"character\": \"Dragon Gunship Navigator\", \"credit_id\": \"52fe48009251416c750aca83\", \"gender\": 0, \"id\": 215913, \"name\": \"Jacob Tomuri\", \"order\": 22}, {\"cast_id\": 43, \"character\": \"Suit #1\", \"credit_id\": \"52fe48009251416c750aca87\", \"gender\": 0, \"id\": 143206, \"name\": \"Michael Blain-Rozgay\", \"order\": 23}, {\"cast_id\": 44, \"character\": \"Suit #2\", \"credit_id\": \"52fe48009251416c750aca8b\", \"gender\": 2, \"id\": 169676, \"name\": \"Jon Curry\", \"order\": 24}, {\"cast_id\": 46, \"character\": \"Ambient Room Tech\", \"credit_id\": \"52fe48009251416c750aca8f\", \"gender\": 0, \"id\": 1048610, \"name\": \"Luke Hawker\", \"order\": 25}, {\"cast_id\": 47, \"character\": \"Ambient Room Tech / Troupe\", \"credit_id\": \"52fe48009251416c750aca93\", \"gender\": 0, \"id\": 42288, \"name\": \"Woody Schultz\", \"order\": 26}, {\"cast_id\": 48, \"character\": \"Horse Clan Leader\", \"credit_id\": \"52fe48009251416c750aca97\", \"gender\": 2, \"id\": 68278, \"name\": \"Peter Mensah\", \"order\": 27}, {\"cast_id\": 49, \"character\": \"Link Room Tech\", \"credit_id\": \"52fe48009251416c750aca9b\", \"gender\": 0, \"id\": 1207247, \"name\": \"Sonia Yee\", \"order\": 28}, {\"cast_id\": 50, \"character\": \"Basketball Avatar / Troupe\", \"credit_id\": \"52fe48009251416c750aca9f\", \"gender\": 1, \"id\": 1207248, \"name\": \"Jahnel Curfman\", \"order\": 29}, {\"cast_id\": 51, \"character\": \"Basketball Avatar\", \"credit_id\": \"52fe48009251416c750acaa3\", \"gender\": 0, \"id\": 89714, \"name\": \"Ilram Choi\", \"order\": 30}, {\"cast_id\": 52, \"character\": \"Na\\'vi Child\", \"credit_id\": \"52fe48009251416c750acaa7\", \"gender\": 0, \"id\": 1207249, \"name\": \"Kyla Warren\", \"order\": 31}, {\"cast_id\": 53, \"character\": \"Troupe\", \"credit_id\": \"52fe48009251416c750acaab\", \"gender\": 0, \"id\": 1207250, \"name\": \"Lisa Roumain\", \"order\": 32}, {\"cast_id\": 54, \"character\": \"Troupe\", \"credit_id\": \"52fe48009251416c750acaaf\", \"gender\": 1, \"id\": 83105, \"name\": \"Debra Wilson\", \"order\": 33}, {\"cast_id\": 57, \"character\": \"Troupe\", \"credit_id\": \"52fe48009251416c750acabb\", \"gender\": 0, \"id\": 1207253, \"name\": \"Chris Mala\", \"order\": 34}, {\"cast_id\": 55, \"character\": \"Troupe\", \"credit_id\": \"52fe48009251416c750acab3\", \"gender\": 0, \"id\": 1207251, \"name\": \"Taylor Kibby\", \"order\": 35}, {\"cast_id\": 56, \"character\": \"Troupe\", \"credit_id\": \"52fe48009251416c750acab7\", \"gender\": 0, \"id\": 1207252, \"name\": \"Jodie Landau\", \"order\": 36}, {\"cast_id\": 58, \"character\": \"Troupe\", \"credit_id\": \"52fe48009251416c750acabf\", \"gender\": 0, \"id\": 1207254, \"name\": \"Julie Lamm\", \"order\": 37}, {\"cast_id\": 59, \"character\": \"Troupe\", \"credit_id\": \"52fe48009251416c750acac3\", \"gender\": 0, \"id\": 1207257, \"name\": \"Cullen B. Madden\", \"order\": 38}, {\"cast_id\": 60, \"character\": \"Troupe\", \"credit_id\": \"52fe48009251416c750acac7\", \"gender\": 0, \"id\": 1207259, \"name\": \"Joseph Brady Madden\", \"order\": 39}, {\"cast_id\": 61, \"character\": \"Troupe\", \"credit_id\": \"52fe48009251416c750acacb\", \"gender\": 0, \"id\": 1207262, \"name\": \"Frankie Torres\", \"order\": 40}, {\"cast_id\": 62, \"character\": \"Troupe\", \"credit_id\": \"52fe48009251416c750acacf\", \"gender\": 1, \"id\": 1158600, \"name\": \"Austin Wilson\", \"order\": 41}, {\"cast_id\": 63, \"character\": \"Troupe\", \"credit_id\": \"52fe48019251416c750acad3\", \"gender\": 1, \"id\": 983705, \"name\": \"Sara Wilson\", \"order\": 42}, {\"cast_id\": 64, \"character\": \"Troupe\", \"credit_id\": \"52fe48019251416c750acad7\", \"gender\": 0, \"id\": 1207263, \"name\": \"Tamica Washington-Miller\", \"order\": 43}, {\"cast_id\": 65, \"character\": \"Op Center Staff\", \"credit_id\": \"52fe48019251416c750acadb\", \"gender\": 1, \"id\": 1145098, \"name\": \"Lucy Briant\", \"order\": 44}, {\"cast_id\": 66, \"character\": \"Op Center Staff\", \"credit_id\": \"52fe48019251416c750acadf\", \"gender\": 2, \"id\": 33305, \"name\": \"Nathan Meister\", \"order\": 45}, {\"cast_id\": 67, \"character\": \"Op Center Staff\", \"credit_id\": \"52fe48019251416c750acae3\", \"gender\": 0, \"id\": 1207264, \"name\": \"Gerry Blair\", \"order\": 46}, {\"cast_id\": 68, \"character\": \"Op Center Staff\", \"credit_id\": \"52fe48019251416c750acae7\", \"gender\": 2, \"id\": 33311, \"name\": \"Matthew Chamberlain\", \"order\": 47}, {\"cast_id\": 69, \"character\": \"Op Center Staff\", \"credit_id\": \"52fe48019251416c750acaeb\", \"gender\": 0, \"id\": 1207265, \"name\": \"Paul Yates\", \"order\": 48}, {\"cast_id\": 70, \"character\": \"Op Center Duty Officer\", \"credit_id\": \"52fe48019251416c750acaef\", \"gender\": 0, \"id\": 1207266, \"name\": \"Wray Wilson\", \"order\": 49}, {\"cast_id\": 71, \"character\": \"Op Center Staff\", \"credit_id\": \"52fe48019251416c750acaf3\", \"gender\": 2, \"id\": 54492, \"name\": \"James Gaylyn\", \"order\": 50}, {\"cast_id\": 72, \"character\": \"Dancer\", \"credit_id\": \"52fe48019251416c750acaf7\", \"gender\": 0, \"id\": 1207267, \"name\": \"Melvin Leno Clark III\", \"order\": 51}, {\"cast_id\": 73, \"character\": \"Dancer\", \"credit_id\": \"52fe48019251416c750acafb\", \"gender\": 0, \"id\": 1207268, \"name\": \"Carvon Futrell\", \"order\": 52}, {\"cast_id\": 74, \"character\": \"Dancer\", \"credit_id\": \"52fe48019251416c750acaff\", \"gender\": 0, \"id\": 1207269, \"name\": \"Brandon Jelkes\", \"order\": 53}, {\"cast_id\": 75, \"character\": \"Dancer\", \"credit_id\": \"52fe48019251416c750acb03\", \"gender\": 0, \"id\": 1207270, \"name\": \"Micah Moch\", \"order\": 54}, {\"cast_id\": 76, \"character\": \"Dancer\", \"credit_id\": \"52fe48019251416c750acb07\", \"gender\": 0, \"id\": 1207271, \"name\": \"Hanniyah Muhammad\", \"order\": 55}, {\"cast_id\": 77, \"character\": \"Dancer\", \"credit_id\": \"52fe48019251416c750acb0b\", \"gender\": 0, \"id\": 1207272, \"name\": \"Christopher Nolen\", \"order\": 56}, {\"cast_id\": 78, \"character\": \"Dancer\", \"credit_id\": \"52fe48019251416c750acb0f\", \"gender\": 0, \"id\": 1207273, \"name\": \"Christa Oliver\", \"order\": 57}, {\"cast_id\": 79, \"character\": \"Dancer\", \"credit_id\": \"52fe48019251416c750acb13\", \"gender\": 0, \"id\": 1207274, \"name\": \"April Marie Thomas\", \"order\": 58}, {\"cast_id\": 80, \"character\": \"Dancer\", \"credit_id\": \"52fe48019251416c750acb17\", \"gender\": 0, \"id\": 1207275, \"name\": \"Bravita A. Threatt\", \"order\": 59}, {\"cast_id\": 81, \"character\": \"Mining Chief (uncredited)\", \"credit_id\": \"52fe48019251416c750acb1b\", \"gender\": 0, \"id\": 1207276, \"name\": \"Colin Bleasdale\", \"order\": 60}, {\"cast_id\": 82, \"character\": \"Veteran Miner (uncredited)\", \"credit_id\": \"52fe48019251416c750acb1f\", \"gender\": 0, \"id\": 107969, \"name\": \"Mike Bodnar\", \"order\": 61}, {\"cast_id\": 83, \"character\": \"Richard (uncredited)\", \"credit_id\": \"52fe48019251416c750acb23\", \"gender\": 0, \"id\": 1207278, \"name\": \"Matt Clayton\", \"order\": 62}, {\"cast_id\": 84, \"character\": \"Nav\\'i (uncredited)\", \"credit_id\": \"52fe48019251416c750acb27\", \"gender\": 1, \"id\": 147898, \"name\": \"Nicole Dionne\", \"order\": 63}, {\"cast_id\": 85, \"character\": \"Trooper (uncredited)\", \"credit_id\": \"52fe48019251416c750acb2b\", \"gender\": 0, \"id\": 1207280, \"name\": \"Jamie Harrison\", \"order\": 64}, {\"cast_id\": 86, \"character\": \"Trooper (uncredited)\", \"credit_id\": \"52fe48019251416c750acb2f\", \"gender\": 0, \"id\": 1207281, \"name\": \"Allan Henry\", \"order\": 65}, {\"cast_id\": 87, \"character\": \"Ground Technician (uncredited)\", \"credit_id\": \"52fe48019251416c750acb33\", \"gender\": 2, \"id\": 1207282, \"name\": \"Anthony Ingruber\", \"order\": 66}, {\"cast_id\": 88, \"character\": \"Flight Crew Mechanic (uncredited)\", \"credit_id\": \"52fe48019251416c750acb37\", \"gender\": 0, \"id\": 1207283, \"name\": \"Ashley Jeffery\", \"order\": 67}, {\"cast_id\": 14, \"character\": \"Samson Pilot\", \"credit_id\": \"52fe48009251416c750ac9f9\", \"gender\": 0, \"id\": 98216, \"name\": \"Dean Knowsley\", \"order\": 68}, {\"cast_id\": 89, \"character\": \"Trooper (uncredited)\", \"credit_id\": \"52fe48019251416c750acb3b\", \"gender\": 0, \"id\": 1201399, \"name\": \"Joseph Mika-Hunt\", \"order\": 69}, {\"cast_id\": 90, \"character\": \"Banshee (uncredited)\", \"credit_id\": \"52fe48019251416c750acb3f\", \"gender\": 0, \"id\": 236696, \"name\": \"Terry Notary\", \"order\": 70}, {\"cast_id\": 91, \"character\": \"Soldier (uncredited)\", \"credit_id\": \"52fe48019251416c750acb43\", \"gender\": 0, \"id\": 1207287, \"name\": \"Kai Pantano\", \"order\": 71}, {\"cast_id\": 92, \"character\": \"Blast Technician (uncredited)\", \"credit_id\": \"52fe48019251416c750acb47\", \"gender\": 0, \"id\": 1207288, \"name\": \"Logan Pithyou\", \"order\": 72}, {\"cast_id\": 93, \"character\": \"Vindum Raah (uncredited)\", \"credit_id\": \"52fe48019251416c750acb4b\", \"gender\": 0, \"id\": 1207289, \"name\": \"Stuart Pollock\", \"order\": 73}, {\"cast_id\": 94, \"character\": \"Hero (uncredited)\", \"credit_id\": \"52fe48019251416c750acb4f\", \"gender\": 0, \"id\": 584868, \"name\": \"Raja\", \"order\": 74}, {\"cast_id\": 95, \"character\": \"Ops Centreworker (uncredited)\", \"credit_id\": \"52fe48019251416c750acb53\", \"gender\": 0, \"id\": 1207290, \"name\": \"Gareth Ruck\", \"order\": 75}, {\"cast_id\": 96, \"character\": \"Engineer (uncredited)\", \"credit_id\": \"52fe48019251416c750acb57\", \"gender\": 0, \"id\": 1062463, \"name\": \"Rhian Sheehan\", \"order\": 76}, {\"cast_id\": 97, \"character\": \"Col. Quaritch\\'s Mech Suit (uncredited)\", \"credit_id\": \"52fe48019251416c750acb5b\", \"gender\": 0, \"id\": 60656, \"name\": \"T. J. Storm\", \"order\": 77}, {\"cast_id\": 98, \"character\": \"Female Marine (uncredited)\", \"credit_id\": \"52fe48019251416c750acb5f\", \"gender\": 0, \"id\": 1207291, \"name\": \"Jodie Taylor\", \"order\": 78}, {\"cast_id\": 99, \"character\": \"Ikran Clan Leader (uncredited)\", \"credit_id\": \"52fe48019251416c750acb63\", \"gender\": 1, \"id\": 1186027, \"name\": \"Alicia Vela-Bailey\", \"order\": 79}, {\"cast_id\": 100, \"character\": \"Geologist (uncredited)\", \"credit_id\": \"52fe48019251416c750acb67\", \"gender\": 0, \"id\": 1207292, \"name\": \"Richard Whiteside\", \"order\": 80}, {\"cast_id\": 101, \"character\": \"Na\\'vi (uncredited)\", \"credit_id\": \"52fe48019251416c750acb6b\", \"gender\": 0, \"id\": 103259, \"name\": \"Nikie Zambo\", \"order\": 81}, {\"cast_id\": 102, \"character\": \"Ambient Room Tech / Troupe\", \"credit_id\": \"52fe48019251416c750acb6f\", \"gender\": 1, \"id\": 42286, \"name\": \"Julene Renee\", \"order\": 82}]'"
     },
     "execution_count": 61,
     "metadata": {},
     "output_type": "execute_result"
    }
   ],
   "source": [
    "movie_marged_required_col.cast[0]"
   ],
   "metadata": {
    "collapsed": false
   }
  },
  {
   "cell_type": "code",
   "execution_count": 62,
   "outputs": [
    {
     "data": {
      "text/plain": "[{'cast_id': 242,\n  'character': 'Jake Sully',\n  'credit_id': '5602a8a7c3a3685532001c9a',\n  'gender': 2,\n  'id': 65731,\n  'name': 'Sam Worthington',\n  'order': 0},\n {'cast_id': 3,\n  'character': 'Neytiri',\n  'credit_id': '52fe48009251416c750ac9cb',\n  'gender': 1,\n  'id': 8691,\n  'name': 'Zoe Saldana',\n  'order': 1},\n {'cast_id': 25,\n  'character': 'Dr. Grace Augustine',\n  'credit_id': '52fe48009251416c750aca39',\n  'gender': 1,\n  'id': 10205,\n  'name': 'Sigourney Weaver',\n  'order': 2},\n {'cast_id': 4,\n  'character': 'Col. Quaritch',\n  'credit_id': '52fe48009251416c750ac9cf',\n  'gender': 2,\n  'id': 32747,\n  'name': 'Stephen Lang',\n  'order': 3},\n {'cast_id': 5,\n  'character': 'Trudy Chacon',\n  'credit_id': '52fe48009251416c750ac9d3',\n  'gender': 1,\n  'id': 17647,\n  'name': 'Michelle Rodriguez',\n  'order': 4},\n {'cast_id': 8,\n  'character': 'Selfridge',\n  'credit_id': '52fe48009251416c750ac9e1',\n  'gender': 2,\n  'id': 1771,\n  'name': 'Giovanni Ribisi',\n  'order': 5},\n {'cast_id': 7,\n  'character': 'Norm Spellman',\n  'credit_id': '52fe48009251416c750ac9dd',\n  'gender': 2,\n  'id': 59231,\n  'name': 'Joel David Moore',\n  'order': 6},\n {'cast_id': 9,\n  'character': 'Moat',\n  'credit_id': '52fe48009251416c750ac9e5',\n  'gender': 1,\n  'id': 30485,\n  'name': 'CCH Pounder',\n  'order': 7},\n {'cast_id': 11,\n  'character': 'Eytukan',\n  'credit_id': '52fe48009251416c750ac9ed',\n  'gender': 2,\n  'id': 15853,\n  'name': 'Wes Studi',\n  'order': 8},\n {'cast_id': 10,\n  'character': \"Tsu'Tey\",\n  'credit_id': '52fe48009251416c750ac9e9',\n  'gender': 2,\n  'id': 10964,\n  'name': 'Laz Alonso',\n  'order': 9},\n {'cast_id': 12,\n  'character': 'Dr. Max Patel',\n  'credit_id': '52fe48009251416c750ac9f1',\n  'gender': 2,\n  'id': 95697,\n  'name': 'Dileep Rao',\n  'order': 10},\n {'cast_id': 13,\n  'character': 'Lyle Wainfleet',\n  'credit_id': '52fe48009251416c750ac9f5',\n  'gender': 2,\n  'id': 98215,\n  'name': 'Matt Gerald',\n  'order': 11},\n {'cast_id': 32,\n  'character': 'Private Fike',\n  'credit_id': '52fe48009251416c750aca5b',\n  'gender': 2,\n  'id': 154153,\n  'name': 'Sean Anthony Moran',\n  'order': 12},\n {'cast_id': 33,\n  'character': 'Cryo Vault Med Tech',\n  'credit_id': '52fe48009251416c750aca5f',\n  'gender': 2,\n  'id': 397312,\n  'name': 'Jason Whyte',\n  'order': 13},\n {'cast_id': 34,\n  'character': 'Venture Star Crew Chief',\n  'credit_id': '52fe48009251416c750aca63',\n  'gender': 2,\n  'id': 42317,\n  'name': 'Scott Lawrence',\n  'order': 14},\n {'cast_id': 35,\n  'character': 'Lock Up Trooper',\n  'credit_id': '52fe48009251416c750aca67',\n  'gender': 2,\n  'id': 986734,\n  'name': 'Kelly Kilgour',\n  'order': 15},\n {'cast_id': 36,\n  'character': 'Shuttle Pilot',\n  'credit_id': '52fe48009251416c750aca6b',\n  'gender': 0,\n  'id': 1207227,\n  'name': 'James Patrick Pitt',\n  'order': 16},\n {'cast_id': 37,\n  'character': 'Shuttle Co-Pilot',\n  'credit_id': '52fe48009251416c750aca6f',\n  'gender': 0,\n  'id': 1180936,\n  'name': 'Sean Patrick Murphy',\n  'order': 17},\n {'cast_id': 38,\n  'character': 'Shuttle Crew Chief',\n  'credit_id': '52fe48009251416c750aca73',\n  'gender': 2,\n  'id': 1019578,\n  'name': 'Peter Dillon',\n  'order': 18},\n {'cast_id': 39,\n  'character': 'Tractor Operator / Troupe',\n  'credit_id': '52fe48009251416c750aca77',\n  'gender': 0,\n  'id': 91443,\n  'name': 'Kevin Dorman',\n  'order': 19},\n {'cast_id': 40,\n  'character': 'Dragon Gunship Pilot',\n  'credit_id': '52fe48009251416c750aca7b',\n  'gender': 2,\n  'id': 173391,\n  'name': 'Kelson Henderson',\n  'order': 20},\n {'cast_id': 41,\n  'character': 'Dragon Gunship Gunner',\n  'credit_id': '52fe48009251416c750aca7f',\n  'gender': 0,\n  'id': 1207236,\n  'name': 'David Van Horn',\n  'order': 21},\n {'cast_id': 42,\n  'character': 'Dragon Gunship Navigator',\n  'credit_id': '52fe48009251416c750aca83',\n  'gender': 0,\n  'id': 215913,\n  'name': 'Jacob Tomuri',\n  'order': 22},\n {'cast_id': 43,\n  'character': 'Suit #1',\n  'credit_id': '52fe48009251416c750aca87',\n  'gender': 0,\n  'id': 143206,\n  'name': 'Michael Blain-Rozgay',\n  'order': 23},\n {'cast_id': 44,\n  'character': 'Suit #2',\n  'credit_id': '52fe48009251416c750aca8b',\n  'gender': 2,\n  'id': 169676,\n  'name': 'Jon Curry',\n  'order': 24},\n {'cast_id': 46,\n  'character': 'Ambient Room Tech',\n  'credit_id': '52fe48009251416c750aca8f',\n  'gender': 0,\n  'id': 1048610,\n  'name': 'Luke Hawker',\n  'order': 25},\n {'cast_id': 47,\n  'character': 'Ambient Room Tech / Troupe',\n  'credit_id': '52fe48009251416c750aca93',\n  'gender': 0,\n  'id': 42288,\n  'name': 'Woody Schultz',\n  'order': 26},\n {'cast_id': 48,\n  'character': 'Horse Clan Leader',\n  'credit_id': '52fe48009251416c750aca97',\n  'gender': 2,\n  'id': 68278,\n  'name': 'Peter Mensah',\n  'order': 27},\n {'cast_id': 49,\n  'character': 'Link Room Tech',\n  'credit_id': '52fe48009251416c750aca9b',\n  'gender': 0,\n  'id': 1207247,\n  'name': 'Sonia Yee',\n  'order': 28},\n {'cast_id': 50,\n  'character': 'Basketball Avatar / Troupe',\n  'credit_id': '52fe48009251416c750aca9f',\n  'gender': 1,\n  'id': 1207248,\n  'name': 'Jahnel Curfman',\n  'order': 29},\n {'cast_id': 51,\n  'character': 'Basketball Avatar',\n  'credit_id': '52fe48009251416c750acaa3',\n  'gender': 0,\n  'id': 89714,\n  'name': 'Ilram Choi',\n  'order': 30},\n {'cast_id': 52,\n  'character': \"Na'vi Child\",\n  'credit_id': '52fe48009251416c750acaa7',\n  'gender': 0,\n  'id': 1207249,\n  'name': 'Kyla Warren',\n  'order': 31},\n {'cast_id': 53,\n  'character': 'Troupe',\n  'credit_id': '52fe48009251416c750acaab',\n  'gender': 0,\n  'id': 1207250,\n  'name': 'Lisa Roumain',\n  'order': 32},\n {'cast_id': 54,\n  'character': 'Troupe',\n  'credit_id': '52fe48009251416c750acaaf',\n  'gender': 1,\n  'id': 83105,\n  'name': 'Debra Wilson',\n  'order': 33},\n {'cast_id': 57,\n  'character': 'Troupe',\n  'credit_id': '52fe48009251416c750acabb',\n  'gender': 0,\n  'id': 1207253,\n  'name': 'Chris Mala',\n  'order': 34},\n {'cast_id': 55,\n  'character': 'Troupe',\n  'credit_id': '52fe48009251416c750acab3',\n  'gender': 0,\n  'id': 1207251,\n  'name': 'Taylor Kibby',\n  'order': 35},\n {'cast_id': 56,\n  'character': 'Troupe',\n  'credit_id': '52fe48009251416c750acab7',\n  'gender': 0,\n  'id': 1207252,\n  'name': 'Jodie Landau',\n  'order': 36},\n {'cast_id': 58,\n  'character': 'Troupe',\n  'credit_id': '52fe48009251416c750acabf',\n  'gender': 0,\n  'id': 1207254,\n  'name': 'Julie Lamm',\n  'order': 37},\n {'cast_id': 59,\n  'character': 'Troupe',\n  'credit_id': '52fe48009251416c750acac3',\n  'gender': 0,\n  'id': 1207257,\n  'name': 'Cullen B. Madden',\n  'order': 38},\n {'cast_id': 60,\n  'character': 'Troupe',\n  'credit_id': '52fe48009251416c750acac7',\n  'gender': 0,\n  'id': 1207259,\n  'name': 'Joseph Brady Madden',\n  'order': 39},\n {'cast_id': 61,\n  'character': 'Troupe',\n  'credit_id': '52fe48009251416c750acacb',\n  'gender': 0,\n  'id': 1207262,\n  'name': 'Frankie Torres',\n  'order': 40},\n {'cast_id': 62,\n  'character': 'Troupe',\n  'credit_id': '52fe48009251416c750acacf',\n  'gender': 1,\n  'id': 1158600,\n  'name': 'Austin Wilson',\n  'order': 41},\n {'cast_id': 63,\n  'character': 'Troupe',\n  'credit_id': '52fe48019251416c750acad3',\n  'gender': 1,\n  'id': 983705,\n  'name': 'Sara Wilson',\n  'order': 42},\n {'cast_id': 64,\n  'character': 'Troupe',\n  'credit_id': '52fe48019251416c750acad7',\n  'gender': 0,\n  'id': 1207263,\n  'name': 'Tamica Washington-Miller',\n  'order': 43},\n {'cast_id': 65,\n  'character': 'Op Center Staff',\n  'credit_id': '52fe48019251416c750acadb',\n  'gender': 1,\n  'id': 1145098,\n  'name': 'Lucy Briant',\n  'order': 44},\n {'cast_id': 66,\n  'character': 'Op Center Staff',\n  'credit_id': '52fe48019251416c750acadf',\n  'gender': 2,\n  'id': 33305,\n  'name': 'Nathan Meister',\n  'order': 45},\n {'cast_id': 67,\n  'character': 'Op Center Staff',\n  'credit_id': '52fe48019251416c750acae3',\n  'gender': 0,\n  'id': 1207264,\n  'name': 'Gerry Blair',\n  'order': 46},\n {'cast_id': 68,\n  'character': 'Op Center Staff',\n  'credit_id': '52fe48019251416c750acae7',\n  'gender': 2,\n  'id': 33311,\n  'name': 'Matthew Chamberlain',\n  'order': 47},\n {'cast_id': 69,\n  'character': 'Op Center Staff',\n  'credit_id': '52fe48019251416c750acaeb',\n  'gender': 0,\n  'id': 1207265,\n  'name': 'Paul Yates',\n  'order': 48},\n {'cast_id': 70,\n  'character': 'Op Center Duty Officer',\n  'credit_id': '52fe48019251416c750acaef',\n  'gender': 0,\n  'id': 1207266,\n  'name': 'Wray Wilson',\n  'order': 49},\n {'cast_id': 71,\n  'character': 'Op Center Staff',\n  'credit_id': '52fe48019251416c750acaf3',\n  'gender': 2,\n  'id': 54492,\n  'name': 'James Gaylyn',\n  'order': 50},\n {'cast_id': 72,\n  'character': 'Dancer',\n  'credit_id': '52fe48019251416c750acaf7',\n  'gender': 0,\n  'id': 1207267,\n  'name': 'Melvin Leno Clark III',\n  'order': 51},\n {'cast_id': 73,\n  'character': 'Dancer',\n  'credit_id': '52fe48019251416c750acafb',\n  'gender': 0,\n  'id': 1207268,\n  'name': 'Carvon Futrell',\n  'order': 52},\n {'cast_id': 74,\n  'character': 'Dancer',\n  'credit_id': '52fe48019251416c750acaff',\n  'gender': 0,\n  'id': 1207269,\n  'name': 'Brandon Jelkes',\n  'order': 53},\n {'cast_id': 75,\n  'character': 'Dancer',\n  'credit_id': '52fe48019251416c750acb03',\n  'gender': 0,\n  'id': 1207270,\n  'name': 'Micah Moch',\n  'order': 54},\n {'cast_id': 76,\n  'character': 'Dancer',\n  'credit_id': '52fe48019251416c750acb07',\n  'gender': 0,\n  'id': 1207271,\n  'name': 'Hanniyah Muhammad',\n  'order': 55},\n {'cast_id': 77,\n  'character': 'Dancer',\n  'credit_id': '52fe48019251416c750acb0b',\n  'gender': 0,\n  'id': 1207272,\n  'name': 'Christopher Nolen',\n  'order': 56},\n {'cast_id': 78,\n  'character': 'Dancer',\n  'credit_id': '52fe48019251416c750acb0f',\n  'gender': 0,\n  'id': 1207273,\n  'name': 'Christa Oliver',\n  'order': 57},\n {'cast_id': 79,\n  'character': 'Dancer',\n  'credit_id': '52fe48019251416c750acb13',\n  'gender': 0,\n  'id': 1207274,\n  'name': 'April Marie Thomas',\n  'order': 58},\n {'cast_id': 80,\n  'character': 'Dancer',\n  'credit_id': '52fe48019251416c750acb17',\n  'gender': 0,\n  'id': 1207275,\n  'name': 'Bravita A. Threatt',\n  'order': 59},\n {'cast_id': 81,\n  'character': 'Mining Chief (uncredited)',\n  'credit_id': '52fe48019251416c750acb1b',\n  'gender': 0,\n  'id': 1207276,\n  'name': 'Colin Bleasdale',\n  'order': 60},\n {'cast_id': 82,\n  'character': 'Veteran Miner (uncredited)',\n  'credit_id': '52fe48019251416c750acb1f',\n  'gender': 0,\n  'id': 107969,\n  'name': 'Mike Bodnar',\n  'order': 61},\n {'cast_id': 83,\n  'character': 'Richard (uncredited)',\n  'credit_id': '52fe48019251416c750acb23',\n  'gender': 0,\n  'id': 1207278,\n  'name': 'Matt Clayton',\n  'order': 62},\n {'cast_id': 84,\n  'character': \"Nav'i (uncredited)\",\n  'credit_id': '52fe48019251416c750acb27',\n  'gender': 1,\n  'id': 147898,\n  'name': 'Nicole Dionne',\n  'order': 63},\n {'cast_id': 85,\n  'character': 'Trooper (uncredited)',\n  'credit_id': '52fe48019251416c750acb2b',\n  'gender': 0,\n  'id': 1207280,\n  'name': 'Jamie Harrison',\n  'order': 64},\n {'cast_id': 86,\n  'character': 'Trooper (uncredited)',\n  'credit_id': '52fe48019251416c750acb2f',\n  'gender': 0,\n  'id': 1207281,\n  'name': 'Allan Henry',\n  'order': 65},\n {'cast_id': 87,\n  'character': 'Ground Technician (uncredited)',\n  'credit_id': '52fe48019251416c750acb33',\n  'gender': 2,\n  'id': 1207282,\n  'name': 'Anthony Ingruber',\n  'order': 66},\n {'cast_id': 88,\n  'character': 'Flight Crew Mechanic (uncredited)',\n  'credit_id': '52fe48019251416c750acb37',\n  'gender': 0,\n  'id': 1207283,\n  'name': 'Ashley Jeffery',\n  'order': 67},\n {'cast_id': 14,\n  'character': 'Samson Pilot',\n  'credit_id': '52fe48009251416c750ac9f9',\n  'gender': 0,\n  'id': 98216,\n  'name': 'Dean Knowsley',\n  'order': 68},\n {'cast_id': 89,\n  'character': 'Trooper (uncredited)',\n  'credit_id': '52fe48019251416c750acb3b',\n  'gender': 0,\n  'id': 1201399,\n  'name': 'Joseph Mika-Hunt',\n  'order': 69},\n {'cast_id': 90,\n  'character': 'Banshee (uncredited)',\n  'credit_id': '52fe48019251416c750acb3f',\n  'gender': 0,\n  'id': 236696,\n  'name': 'Terry Notary',\n  'order': 70},\n {'cast_id': 91,\n  'character': 'Soldier (uncredited)',\n  'credit_id': '52fe48019251416c750acb43',\n  'gender': 0,\n  'id': 1207287,\n  'name': 'Kai Pantano',\n  'order': 71},\n {'cast_id': 92,\n  'character': 'Blast Technician (uncredited)',\n  'credit_id': '52fe48019251416c750acb47',\n  'gender': 0,\n  'id': 1207288,\n  'name': 'Logan Pithyou',\n  'order': 72},\n {'cast_id': 93,\n  'character': 'Vindum Raah (uncredited)',\n  'credit_id': '52fe48019251416c750acb4b',\n  'gender': 0,\n  'id': 1207289,\n  'name': 'Stuart Pollock',\n  'order': 73},\n {'cast_id': 94,\n  'character': 'Hero (uncredited)',\n  'credit_id': '52fe48019251416c750acb4f',\n  'gender': 0,\n  'id': 584868,\n  'name': 'Raja',\n  'order': 74},\n {'cast_id': 95,\n  'character': 'Ops Centreworker (uncredited)',\n  'credit_id': '52fe48019251416c750acb53',\n  'gender': 0,\n  'id': 1207290,\n  'name': 'Gareth Ruck',\n  'order': 75},\n {'cast_id': 96,\n  'character': 'Engineer (uncredited)',\n  'credit_id': '52fe48019251416c750acb57',\n  'gender': 0,\n  'id': 1062463,\n  'name': 'Rhian Sheehan',\n  'order': 76},\n {'cast_id': 97,\n  'character': \"Col. Quaritch's Mech Suit (uncredited)\",\n  'credit_id': '52fe48019251416c750acb5b',\n  'gender': 0,\n  'id': 60656,\n  'name': 'T. J. Storm',\n  'order': 77},\n {'cast_id': 98,\n  'character': 'Female Marine (uncredited)',\n  'credit_id': '52fe48019251416c750acb5f',\n  'gender': 0,\n  'id': 1207291,\n  'name': 'Jodie Taylor',\n  'order': 78},\n {'cast_id': 99,\n  'character': 'Ikran Clan Leader (uncredited)',\n  'credit_id': '52fe48019251416c750acb63',\n  'gender': 1,\n  'id': 1186027,\n  'name': 'Alicia Vela-Bailey',\n  'order': 79},\n {'cast_id': 100,\n  'character': 'Geologist (uncredited)',\n  'credit_id': '52fe48019251416c750acb67',\n  'gender': 0,\n  'id': 1207292,\n  'name': 'Richard Whiteside',\n  'order': 80},\n {'cast_id': 101,\n  'character': \"Na'vi (uncredited)\",\n  'credit_id': '52fe48019251416c750acb6b',\n  'gender': 0,\n  'id': 103259,\n  'name': 'Nikie Zambo',\n  'order': 81},\n {'cast_id': 102,\n  'character': 'Ambient Room Tech / Troupe',\n  'credit_id': '52fe48019251416c750acb6f',\n  'gender': 1,\n  'id': 42286,\n  'name': 'Julene Renee',\n  'order': 82}]"
     },
     "execution_count": 62,
     "metadata": {},
     "output_type": "execute_result"
    }
   ],
   "source": [
    "json.loads(movie_marged_required_col.cast[0])"
   ],
   "metadata": {
    "collapsed": false
   }
  },
  {
   "cell_type": "code",
   "execution_count": 63,
   "outputs": [],
   "source": [
    "def get_top_3_cast(x):\n",
    "    return [ i['name'] for i in json.loads(x)][:3]"
   ],
   "metadata": {
    "collapsed": false
   }
  },
  {
   "cell_type": "code",
   "execution_count": 64,
   "outputs": [
    {
     "name": "stderr",
     "output_type": "stream",
     "text": [
      "C:\\Users\\UMEGS\\AppData\\Local\\Temp\\ipykernel_75028\\2177728168.py:1: SettingWithCopyWarning: \n",
      "A value is trying to be set on a copy of a slice from a DataFrame.\n",
      "Try using .loc[row_indexer,col_indexer] = value instead\n",
      "\n",
      "See the caveats in the documentation: https://pandas.pydata.org/pandas-docs/stable/user_guide/indexing.html#returning-a-view-versus-a-copy\n",
      "  movie_marged_required_col['cast'] = movie_marged_required_col['cast'].apply(get_top_3_cast)\n"
     ]
    }
   ],
   "source": [
    "movie_marged_required_col['cast'] = movie_marged_required_col['cast'].apply(get_top_3_cast)"
   ],
   "metadata": {
    "collapsed": false
   }
  },
  {
   "cell_type": "code",
   "execution_count": 65,
   "outputs": [
    {
     "data": {
      "text/plain": "   movie_id                                     title  \\\n0     19995                                    Avatar   \n1       285  Pirates of the Caribbean: At World's End   \n2    206647                                   Spectre   \n3     49026                     The Dark Knight Rises   \n4     49529                               John Carter   \n\n                                          genres  \\\n0  [Action, Adventure, Fantasy, Science Fiction]   \n1                   [Adventure, Fantasy, Action]   \n2                     [Action, Adventure, Crime]   \n3               [Action, Crime, Drama, Thriller]   \n4           [Action, Adventure, Science Fiction]   \n\n                                            keywords  \\\n0  [culture clash, future, space war, space colon...   \n1  [ocean, drug abuse, exotic island, east india ...   \n2  [spy, based on novel, secret agent, sequel, mi...   \n3  [dc comics, crime fighter, terrorist, secret i...   \n4  [based on novel, mars, medallion, space travel...   \n\n                                            overview  \\\n0  In the 22nd century, a paraplegic Marine is di...   \n1  Captain Barbossa, long believed to be dead, ha...   \n2  A cryptic message from Bond’s past sends him o...   \n3  Following the death of District Attorney Harve...   \n4  John Carter is a war-weary, former military ca...   \n\n                                               cast  \\\n0  [Sam Worthington, Zoe Saldana, Sigourney Weaver]   \n1     [Johnny Depp, Orlando Bloom, Keira Knightley]   \n2      [Daniel Craig, Christoph Waltz, Léa Seydoux]   \n3      [Christian Bale, Michael Caine, Gary Oldman]   \n4    [Taylor Kitsch, Lynn Collins, Samantha Morton]   \n\n                                                crew  \n0  [{\"credit_id\": \"52fe48009251416c750aca23\", \"de...  \n1  [{\"credit_id\": \"52fe4232c3a36847f800b579\", \"de...  \n2  [{\"credit_id\": \"54805967c3a36829b5002c41\", \"de...  \n3  [{\"credit_id\": \"52fe4781c3a36847f81398c3\", \"de...  \n4  [{\"credit_id\": \"52fe479ac3a36847f813eaa3\", \"de...  ",
      "text/html": "<div>\n<style scoped>\n    .dataframe tbody tr th:only-of-type {\n        vertical-align: middle;\n    }\n\n    .dataframe tbody tr th {\n        vertical-align: top;\n    }\n\n    .dataframe thead th {\n        text-align: right;\n    }\n</style>\n<table border=\"1\" class=\"dataframe\">\n  <thead>\n    <tr style=\"text-align: right;\">\n      <th></th>\n      <th>movie_id</th>\n      <th>title</th>\n      <th>genres</th>\n      <th>keywords</th>\n      <th>overview</th>\n      <th>cast</th>\n      <th>crew</th>\n    </tr>\n  </thead>\n  <tbody>\n    <tr>\n      <th>0</th>\n      <td>19995</td>\n      <td>Avatar</td>\n      <td>[Action, Adventure, Fantasy, Science Fiction]</td>\n      <td>[culture clash, future, space war, space colon...</td>\n      <td>In the 22nd century, a paraplegic Marine is di...</td>\n      <td>[Sam Worthington, Zoe Saldana, Sigourney Weaver]</td>\n      <td>[{\"credit_id\": \"52fe48009251416c750aca23\", \"de...</td>\n    </tr>\n    <tr>\n      <th>1</th>\n      <td>285</td>\n      <td>Pirates of the Caribbean: At World's End</td>\n      <td>[Adventure, Fantasy, Action]</td>\n      <td>[ocean, drug abuse, exotic island, east india ...</td>\n      <td>Captain Barbossa, long believed to be dead, ha...</td>\n      <td>[Johnny Depp, Orlando Bloom, Keira Knightley]</td>\n      <td>[{\"credit_id\": \"52fe4232c3a36847f800b579\", \"de...</td>\n    </tr>\n    <tr>\n      <th>2</th>\n      <td>206647</td>\n      <td>Spectre</td>\n      <td>[Action, Adventure, Crime]</td>\n      <td>[spy, based on novel, secret agent, sequel, mi...</td>\n      <td>A cryptic message from Bond’s past sends him o...</td>\n      <td>[Daniel Craig, Christoph Waltz, Léa Seydoux]</td>\n      <td>[{\"credit_id\": \"54805967c3a36829b5002c41\", \"de...</td>\n    </tr>\n    <tr>\n      <th>3</th>\n      <td>49026</td>\n      <td>The Dark Knight Rises</td>\n      <td>[Action, Crime, Drama, Thriller]</td>\n      <td>[dc comics, crime fighter, terrorist, secret i...</td>\n      <td>Following the death of District Attorney Harve...</td>\n      <td>[Christian Bale, Michael Caine, Gary Oldman]</td>\n      <td>[{\"credit_id\": \"52fe4781c3a36847f81398c3\", \"de...</td>\n    </tr>\n    <tr>\n      <th>4</th>\n      <td>49529</td>\n      <td>John Carter</td>\n      <td>[Action, Adventure, Science Fiction]</td>\n      <td>[based on novel, mars, medallion, space travel...</td>\n      <td>John Carter is a war-weary, former military ca...</td>\n      <td>[Taylor Kitsch, Lynn Collins, Samantha Morton]</td>\n      <td>[{\"credit_id\": \"52fe479ac3a36847f813eaa3\", \"de...</td>\n    </tr>\n  </tbody>\n</table>\n</div>"
     },
     "execution_count": 65,
     "metadata": {},
     "output_type": "execute_result"
    }
   ],
   "source": [
    "movie_marged_required_col.head()"
   ],
   "metadata": {
    "collapsed": false
   }
  },
  {
   "cell_type": "code",
   "execution_count": 66,
   "outputs": [
    {
     "data": {
      "text/plain": "'[{\"credit_id\": \"52fe48009251416c750aca23\", \"department\": \"Editing\", \"gender\": 0, \"id\": 1721, \"job\": \"Editor\", \"name\": \"Stephen E. Rivkin\"}, {\"credit_id\": \"539c47ecc3a36810e3001f87\", \"department\": \"Art\", \"gender\": 2, \"id\": 496, \"job\": \"Production Design\", \"name\": \"Rick Carter\"}, {\"credit_id\": \"54491c89c3a3680fb4001cf7\", \"department\": \"Sound\", \"gender\": 0, \"id\": 900, \"job\": \"Sound Designer\", \"name\": \"Christopher Boyes\"}, {\"credit_id\": \"54491cb70e0a267480001bd0\", \"department\": \"Sound\", \"gender\": 0, \"id\": 900, \"job\": \"Supervising Sound Editor\", \"name\": \"Christopher Boyes\"}, {\"credit_id\": \"539c4a4cc3a36810c9002101\", \"department\": \"Production\", \"gender\": 1, \"id\": 1262, \"job\": \"Casting\", \"name\": \"Mali Finn\"}, {\"credit_id\": \"5544ee3b925141499f0008fc\", \"department\": \"Sound\", \"gender\": 2, \"id\": 1729, \"job\": \"Original Music Composer\", \"name\": \"James Horner\"}, {\"credit_id\": \"52fe48009251416c750ac9c3\", \"department\": \"Directing\", \"gender\": 2, \"id\": 2710, \"job\": \"Director\", \"name\": \"James Cameron\"}, {\"credit_id\": \"52fe48009251416c750ac9d9\", \"department\": \"Writing\", \"gender\": 2, \"id\": 2710, \"job\": \"Writer\", \"name\": \"James Cameron\"}, {\"credit_id\": \"52fe48009251416c750aca17\", \"department\": \"Editing\", \"gender\": 2, \"id\": 2710, \"job\": \"Editor\", \"name\": \"James Cameron\"}, {\"credit_id\": \"52fe48009251416c750aca29\", \"department\": \"Production\", \"gender\": 2, \"id\": 2710, \"job\": \"Producer\", \"name\": \"James Cameron\"}, {\"credit_id\": \"52fe48009251416c750aca3f\", \"department\": \"Writing\", \"gender\": 2, \"id\": 2710, \"job\": \"Screenplay\", \"name\": \"James Cameron\"}, {\"credit_id\": \"539c4987c3a36810ba0021a4\", \"department\": \"Art\", \"gender\": 2, \"id\": 7236, \"job\": \"Art Direction\", \"name\": \"Andrew Menzies\"}, {\"credit_id\": \"549598c3c3a3686ae9004383\", \"department\": \"Visual Effects\", \"gender\": 0, \"id\": 6690, \"job\": \"Visual Effects Producer\", \"name\": \"Jill Brooks\"}, {\"credit_id\": \"52fe48009251416c750aca4b\", \"department\": \"Production\", \"gender\": 1, \"id\": 6347, \"job\": \"Casting\", \"name\": \"Margery Simkin\"}, {\"credit_id\": \"570b6f419251417da70032fe\", \"department\": \"Art\", \"gender\": 2, \"id\": 6878, \"job\": \"Supervising Art Director\", \"name\": \"Kevin Ishioka\"}, {\"credit_id\": \"5495a0fac3a3686ae9004468\", \"department\": \"Sound\", \"gender\": 0, \"id\": 6883, \"job\": \"Music Editor\", \"name\": \"Dick Bernstein\"}, {\"credit_id\": \"54959706c3a3686af3003e81\", \"department\": \"Sound\", \"gender\": 0, \"id\": 8159, \"job\": \"Sound Effects Editor\", \"name\": \"Shannon Mills\"}, {\"credit_id\": \"54491d58c3a3680fb1001ccb\", \"department\": \"Sound\", \"gender\": 0, \"id\": 8160, \"job\": \"Foley\", \"name\": \"Dennie Thorpe\"}, {\"credit_id\": \"54491d6cc3a3680fa5001b2c\", \"department\": \"Sound\", \"gender\": 0, \"id\": 8163, \"job\": \"Foley\", \"name\": \"Jana Vance\"}, {\"credit_id\": \"52fe48009251416c750aca57\", \"department\": \"Costume & Make-Up\", \"gender\": 1, \"id\": 8527, \"job\": \"Costume Design\", \"name\": \"Deborah Lynn Scott\"}, {\"credit_id\": \"52fe48009251416c750aca2f\", \"department\": \"Production\", \"gender\": 2, \"id\": 8529, \"job\": \"Producer\", \"name\": \"Jon Landau\"}, {\"credit_id\": \"539c4937c3a36810ba002194\", \"department\": \"Art\", \"gender\": 0, \"id\": 9618, \"job\": \"Art Direction\", \"name\": \"Sean Haworth\"}, {\"credit_id\": \"539c49b6c3a36810c10020e6\", \"department\": \"Art\", \"gender\": 1, \"id\": 12653, \"job\": \"Set Decoration\", \"name\": \"Kim Sinclair\"}, {\"credit_id\": \"570b6f2f9251413a0e00020d\", \"department\": \"Art\", \"gender\": 1, \"id\": 12653, \"job\": \"Supervising Art Director\", \"name\": \"Kim Sinclair\"}, {\"credit_id\": \"54491a6c0e0a26748c001b19\", \"department\": \"Art\", \"gender\": 2, \"id\": 14350, \"job\": \"Set Designer\", \"name\": \"Richard F. Mays\"}, {\"credit_id\": \"56928cf4c3a3684cff0025c4\", \"department\": \"Production\", \"gender\": 1, \"id\": 20294, \"job\": \"Executive Producer\", \"name\": \"Laeta Kalogridis\"}, {\"credit_id\": \"52fe48009251416c750aca51\", \"department\": \"Costume & Make-Up\", \"gender\": 0, \"id\": 17675, \"job\": \"Costume Design\", \"name\": \"Mayes C. Rubeo\"}, {\"credit_id\": \"52fe48009251416c750aca11\", \"department\": \"Camera\", \"gender\": 2, \"id\": 18265, \"job\": \"Director of Photography\", \"name\": \"Mauro Fiore\"}, {\"credit_id\": \"5449194d0e0a26748f001b39\", \"department\": \"Art\", \"gender\": 0, \"id\": 42281, \"job\": \"Set Designer\", \"name\": \"Scott Herbertson\"}, {\"credit_id\": \"52fe48009251416c750aca05\", \"department\": \"Crew\", \"gender\": 0, \"id\": 42288, \"job\": \"Stunts\", \"name\": \"Woody Schultz\"}, {\"credit_id\": \"5592aefb92514152de0010f5\", \"department\": \"Costume & Make-Up\", \"gender\": 0, \"id\": 29067, \"job\": \"Makeup Artist\", \"name\": \"Linda DeVetta\"}, {\"credit_id\": \"5592afa492514152de00112c\", \"department\": \"Costume & Make-Up\", \"gender\": 0, \"id\": 29067, \"job\": \"Hairstylist\", \"name\": \"Linda DeVetta\"}, {\"credit_id\": \"54959ed592514130fc002e5d\", \"department\": \"Camera\", \"gender\": 2, \"id\": 33302, \"job\": \"Camera Operator\", \"name\": \"Richard Bluck\"}, {\"credit_id\": \"539c4891c3a36810ba002147\", \"department\": \"Art\", \"gender\": 2, \"id\": 33303, \"job\": \"Art Direction\", \"name\": \"Simon Bright\"}, {\"credit_id\": \"54959c069251417a81001f3a\", \"department\": \"Visual Effects\", \"gender\": 0, \"id\": 113145, \"job\": \"Visual Effects Supervisor\", \"name\": \"Richard Martin\"}, {\"credit_id\": \"54959a0dc3a3680ff5002c8d\", \"department\": \"Crew\", \"gender\": 2, \"id\": 58188, \"job\": \"Visual Effects Editor\", \"name\": \"Steve R. Moore\"}, {\"credit_id\": \"52fe48009251416c750aca1d\", \"department\": \"Editing\", \"gender\": 2, \"id\": 58871, \"job\": \"Editor\", \"name\": \"John Refoua\"}, {\"credit_id\": \"54491a4dc3a3680fc30018ca\", \"department\": \"Art\", \"gender\": 0, \"id\": 92359, \"job\": \"Set Designer\", \"name\": \"Karl J. Martin\"}, {\"credit_id\": \"52fe48009251416c750aca35\", \"department\": \"Camera\", \"gender\": 1, \"id\": 72201, \"job\": \"Director of Photography\", \"name\": \"Chiling Lin\"}, {\"credit_id\": \"52fe48009251416c750ac9ff\", \"department\": \"Crew\", \"gender\": 0, \"id\": 89714, \"job\": \"Stunts\", \"name\": \"Ilram Choi\"}, {\"credit_id\": \"54959c529251416e2b004394\", \"department\": \"Visual Effects\", \"gender\": 2, \"id\": 93214, \"job\": \"Visual Effects Supervisor\", \"name\": \"Steven Quale\"}, {\"credit_id\": \"54491edf0e0a267489001c37\", \"department\": \"Crew\", \"gender\": 1, \"id\": 122607, \"job\": \"Dialect Coach\", \"name\": \"Carla Meyer\"}, {\"credit_id\": \"539c485bc3a368653d001a3a\", \"department\": \"Art\", \"gender\": 2, \"id\": 132585, \"job\": \"Art Direction\", \"name\": \"Nick Bassett\"}, {\"credit_id\": \"539c4903c3a368653d001a74\", \"department\": \"Art\", \"gender\": 0, \"id\": 132596, \"job\": \"Art Direction\", \"name\": \"Jill Cormack\"}, {\"credit_id\": \"539c4967c3a368653d001a94\", \"department\": \"Art\", \"gender\": 0, \"id\": 132604, \"job\": \"Art Direction\", \"name\": \"Andy McLaren\"}, {\"credit_id\": \"52fe48009251416c750aca45\", \"department\": \"Crew\", \"gender\": 0, \"id\": 236696, \"job\": \"Motion Capture Artist\", \"name\": \"Terry Notary\"}, {\"credit_id\": \"54959e02c3a3680fc60027d2\", \"department\": \"Crew\", \"gender\": 2, \"id\": 956198, \"job\": \"Stunt Coordinator\", \"name\": \"Garrett Warren\"}, {\"credit_id\": \"54959ca3c3a3686ae300438c\", \"department\": \"Visual Effects\", \"gender\": 2, \"id\": 957874, \"job\": \"Visual Effects Supervisor\", \"name\": \"Jonathan Rothbart\"}, {\"credit_id\": \"570b6f519251412c74001b2f\", \"department\": \"Art\", \"gender\": 0, \"id\": 957889, \"job\": \"Supervising Art Director\", \"name\": \"Stefan Dechant\"}, {\"credit_id\": \"570b6f62c3a3680b77007460\", \"department\": \"Art\", \"gender\": 2, \"id\": 959555, \"job\": \"Supervising Art Director\", \"name\": \"Todd Cherniawsky\"}, {\"credit_id\": \"539c4a3ac3a36810da0021cc\", \"department\": \"Production\", \"gender\": 0, \"id\": 1016177, \"job\": \"Casting\", \"name\": \"Miranda Rivers\"}, {\"credit_id\": \"539c482cc3a36810c1002062\", \"department\": \"Art\", \"gender\": 0, \"id\": 1032536, \"job\": \"Production Design\", \"name\": \"Robert Stromberg\"}, {\"credit_id\": \"539c4b65c3a36810c9002125\", \"department\": \"Costume & Make-Up\", \"gender\": 2, \"id\": 1071680, \"job\": \"Costume Design\", \"name\": \"John Harding\"}, {\"credit_id\": \"54959e6692514130fc002e4e\", \"department\": \"Camera\", \"gender\": 0, \"id\": 1177364, \"job\": \"Steadicam Operator\", \"name\": \"Roberto De Angelis\"}, {\"credit_id\": \"539c49f1c3a368653d001aac\", \"department\": \"Costume & Make-Up\", \"gender\": 2, \"id\": 1202850, \"job\": \"Makeup Department Head\", \"name\": \"Mike Smithson\"}, {\"credit_id\": \"5495999ec3a3686ae100460c\", \"department\": \"Visual Effects\", \"gender\": 0, \"id\": 1204668, \"job\": \"Visual Effects Producer\", \"name\": \"Alain Lalanne\"}, {\"credit_id\": \"54959cdfc3a3681153002729\", \"department\": \"Visual Effects\", \"gender\": 0, \"id\": 1206410, \"job\": \"Visual Effects Supervisor\", \"name\": \"Lucas Salton\"}, {\"credit_id\": \"549596239251417a81001eae\", \"department\": \"Crew\", \"gender\": 0, \"id\": 1234266, \"job\": \"Post Production Supervisor\", \"name\": \"Janace Tashjian\"}, {\"credit_id\": \"54959c859251416e1e003efe\", \"department\": \"Visual Effects\", \"gender\": 0, \"id\": 1271932, \"job\": \"Visual Effects Supervisor\", \"name\": \"Stephen Rosenbaum\"}, {\"credit_id\": \"5592af28c3a368775a00105f\", \"department\": \"Costume & Make-Up\", \"gender\": 0, \"id\": 1310064, \"job\": \"Makeup Artist\", \"name\": \"Frankie Karena\"}, {\"credit_id\": \"539c4adfc3a36810e300203b\", \"department\": \"Costume & Make-Up\", \"gender\": 1, \"id\": 1319844, \"job\": \"Costume Supervisor\", \"name\": \"Lisa Lovaas\"}, {\"credit_id\": \"54959b579251416e2b004371\", \"department\": \"Visual Effects\", \"gender\": 0, \"id\": 1327028, \"job\": \"Visual Effects Supervisor\", \"name\": \"Jonathan Fawkner\"}, {\"credit_id\": \"539c48a7c3a36810b5001fa7\", \"department\": \"Art\", \"gender\": 0, \"id\": 1330561, \"job\": \"Art Direction\", \"name\": \"Robert Bavin\"}, {\"credit_id\": \"539c4a71c3a36810da0021e0\", \"department\": \"Costume & Make-Up\", \"gender\": 0, \"id\": 1330567, \"job\": \"Costume Supervisor\", \"name\": \"Anthony Almaraz\"}, {\"credit_id\": \"539c4a8ac3a36810ba0021e4\", \"department\": \"Costume & Make-Up\", \"gender\": 0, \"id\": 1330570, \"job\": \"Costume Supervisor\", \"name\": \"Carolyn M. Fenton\"}, {\"credit_id\": \"539c4ab6c3a36810da0021f0\", \"department\": \"Costume & Make-Up\", \"gender\": 0, \"id\": 1330574, \"job\": \"Costume Supervisor\", \"name\": \"Beth Koenigsberg\"}, {\"credit_id\": \"54491ab70e0a267480001ba2\", \"department\": \"Art\", \"gender\": 0, \"id\": 1336191, \"job\": \"Set Designer\", \"name\": \"Sam Page\"}, {\"credit_id\": \"544919d9c3a3680fc30018bd\", \"department\": \"Art\", \"gender\": 0, \"id\": 1339441, \"job\": \"Set Designer\", \"name\": \"Tex Kadonaga\"}, {\"credit_id\": \"54491cf50e0a267483001b0c\", \"department\": \"Editing\", \"gender\": 0, \"id\": 1352422, \"job\": \"Dialogue Editor\", \"name\": \"Kim Foscato\"}, {\"credit_id\": \"544919f40e0a26748c001b09\", \"department\": \"Art\", \"gender\": 0, \"id\": 1352962, \"job\": \"Set Designer\", \"name\": \"Tammy S. Lee\"}, {\"credit_id\": \"5495a115c3a3680ff5002d71\", \"department\": \"Crew\", \"gender\": 0, \"id\": 1357070, \"job\": \"Transportation Coordinator\", \"name\": \"Denny Caira\"}, {\"credit_id\": \"5495a12f92514130fc002e94\", \"department\": \"Crew\", \"gender\": 0, \"id\": 1357071, \"job\": \"Transportation Coordinator\", \"name\": \"James Waitkus\"}, {\"credit_id\": \"5495976fc3a36811530026b0\", \"department\": \"Sound\", \"gender\": 0, \"id\": 1360103, \"job\": \"Supervising Sound Editor\", \"name\": \"Addison Teague\"}, {\"credit_id\": \"54491837c3a3680fb1001c5a\", \"department\": \"Art\", \"gender\": 2, \"id\": 1376887, \"job\": \"Set Designer\", \"name\": \"C. Scott Baker\"}, {\"credit_id\": \"54491878c3a3680fb4001c9d\", \"department\": \"Art\", \"gender\": 0, \"id\": 1376888, \"job\": \"Set Designer\", \"name\": \"Luke Caska\"}, {\"credit_id\": \"544918dac3a3680fa5001ae0\", \"department\": \"Art\", \"gender\": 0, \"id\": 1376889, \"job\": \"Set Designer\", \"name\": \"David Chow\"}, {\"credit_id\": \"544919110e0a267486001b68\", \"department\": \"Art\", \"gender\": 0, \"id\": 1376890, \"job\": \"Set Designer\", \"name\": \"Jonathan Dyer\"}, {\"credit_id\": \"54491967c3a3680faa001b5e\", \"department\": \"Art\", \"gender\": 0, \"id\": 1376891, \"job\": \"Set Designer\", \"name\": \"Joseph Hiura\"}, {\"credit_id\": \"54491997c3a3680fb1001c8a\", \"department\": \"Art\", \"gender\": 0, \"id\": 1376892, \"job\": \"Art Department Coordinator\", \"name\": \"Rebecca Jellie\"}, {\"credit_id\": \"544919ba0e0a26748f001b42\", \"department\": \"Art\", \"gender\": 0, \"id\": 1376893, \"job\": \"Set Designer\", \"name\": \"Robert Andrew Johnson\"}, {\"credit_id\": \"54491b1dc3a3680faa001b8c\", \"department\": \"Art\", \"gender\": 0, \"id\": 1376895, \"job\": \"Assistant Art Director\", \"name\": \"Mike Stassi\"}, {\"credit_id\": \"54491b79c3a3680fbb001826\", \"department\": \"Art\", \"gender\": 0, \"id\": 1376897, \"job\": \"Construction Coordinator\", \"name\": \"John Villarino\"}, {\"credit_id\": \"54491baec3a3680fb4001ce6\", \"department\": \"Art\", \"gender\": 2, \"id\": 1376898, \"job\": \"Assistant Art Director\", \"name\": \"Jeffrey Wisniewski\"}, {\"credit_id\": \"54491d2fc3a3680fb4001d07\", \"department\": \"Editing\", \"gender\": 0, \"id\": 1376899, \"job\": \"Dialogue Editor\", \"name\": \"Cheryl Nardi\"}, {\"credit_id\": \"54491d86c3a3680fa5001b2f\", \"department\": \"Editing\", \"gender\": 0, \"id\": 1376901, \"job\": \"Dialogue Editor\", \"name\": \"Marshall Winn\"}, {\"credit_id\": \"54491d9dc3a3680faa001bb0\", \"department\": \"Sound\", \"gender\": 0, \"id\": 1376902, \"job\": \"Supervising Sound Editor\", \"name\": \"Gwendolyn Yates Whittle\"}, {\"credit_id\": \"54491dc10e0a267486001bce\", \"department\": \"Sound\", \"gender\": 0, \"id\": 1376903, \"job\": \"Sound Re-Recording Mixer\", \"name\": \"William Stein\"}, {\"credit_id\": \"54491f500e0a26747c001c07\", \"department\": \"Crew\", \"gender\": 0, \"id\": 1376909, \"job\": \"Choreographer\", \"name\": \"Lula Washington\"}, {\"credit_id\": \"549599239251412c4e002a2e\", \"department\": \"Visual Effects\", \"gender\": 0, \"id\": 1391692, \"job\": \"Visual Effects Producer\", \"name\": \"Chris Del Conte\"}, {\"credit_id\": \"54959d54c3a36831b8001d9a\", \"department\": \"Visual Effects\", \"gender\": 2, \"id\": 1391695, \"job\": \"Visual Effects Supervisor\", \"name\": \"R. Christopher White\"}, {\"credit_id\": \"54959bdf9251412c4e002a66\", \"department\": \"Visual Effects\", \"gender\": 0, \"id\": 1394070, \"job\": \"Visual Effects Supervisor\", \"name\": \"Dan Lemmon\"}, {\"credit_id\": \"5495971d92514132ed002922\", \"department\": \"Sound\", \"gender\": 0, \"id\": 1394129, \"job\": \"Sound Effects Editor\", \"name\": \"Tim Nielsen\"}, {\"credit_id\": \"5592b25792514152cc0011aa\", \"department\": \"Crew\", \"gender\": 0, \"id\": 1394286, \"job\": \"CG Supervisor\", \"name\": \"Michael Mulholland\"}, {\"credit_id\": \"54959a329251416e2b004355\", \"department\": \"Crew\", \"gender\": 0, \"id\": 1394750, \"job\": \"Visual Effects Editor\", \"name\": \"Thomas Nittmann\"}, {\"credit_id\": \"54959d6dc3a3686ae9004401\", \"department\": \"Visual Effects\", \"gender\": 0, \"id\": 1394755, \"job\": \"Visual Effects Supervisor\", \"name\": \"Edson Williams\"}, {\"credit_id\": \"5495a08fc3a3686ae300441c\", \"department\": \"Editing\", \"gender\": 0, \"id\": 1394953, \"job\": \"Digital Intermediate\", \"name\": \"Christine Carr\"}, {\"credit_id\": \"55402d659251413d6d000249\", \"department\": \"Visual Effects\", \"gender\": 0, \"id\": 1395269, \"job\": \"Visual Effects Supervisor\", \"name\": \"John Bruno\"}, {\"credit_id\": \"54959e7b9251416e1e003f3e\", \"department\": \"Camera\", \"gender\": 0, \"id\": 1398970, \"job\": \"Steadicam Operator\", \"name\": \"David Emmerichs\"}, {\"credit_id\": \"54959734c3a3686ae10045e0\", \"department\": \"Sound\", \"gender\": 0, \"id\": 1400906, \"job\": \"Sound Effects Editor\", \"name\": \"Christopher Scarabosio\"}, {\"credit_id\": \"549595dd92514130fc002d79\", \"department\": \"Production\", \"gender\": 0, \"id\": 1401784, \"job\": \"Production Supervisor\", \"name\": \"Jennifer Teves\"}, {\"credit_id\": \"549596009251413af70028cc\", \"department\": \"Production\", \"gender\": 0, \"id\": 1401785, \"job\": \"Production Manager\", \"name\": \"Brigitte Yorke\"}, {\"credit_id\": \"549596e892514130fc002d99\", \"department\": \"Sound\", \"gender\": 0, \"id\": 1401786, \"job\": \"Sound Effects Editor\", \"name\": \"Ken Fischer\"}, {\"credit_id\": \"549598229251412c4e002a1c\", \"department\": \"Crew\", \"gender\": 0, \"id\": 1401787, \"job\": \"Special Effects Coordinator\", \"name\": \"Iain Hutton\"}, {\"credit_id\": \"549598349251416e2b00432b\", \"department\": \"Crew\", \"gender\": 0, \"id\": 1401788, \"job\": \"Special Effects Coordinator\", \"name\": \"Steve Ingram\"}, {\"credit_id\": \"54959905c3a3686ae3004324\", \"department\": \"Visual Effects\", \"gender\": 0, \"id\": 1401789, \"job\": \"Visual Effects Producer\", \"name\": \"Joyce Cox\"}, {\"credit_id\": \"5495994b92514132ed002951\", \"department\": \"Visual Effects\", \"gender\": 0, \"id\": 1401790, \"job\": \"Visual Effects Producer\", \"name\": \"Jenny Foster\"}, {\"credit_id\": \"549599cbc3a3686ae1004613\", \"department\": \"Crew\", \"gender\": 0, \"id\": 1401791, \"job\": \"Visual Effects Editor\", \"name\": \"Christopher Marino\"}, {\"credit_id\": \"549599f2c3a3686ae100461e\", \"department\": \"Crew\", \"gender\": 0, \"id\": 1401792, \"job\": \"Visual Effects Editor\", \"name\": \"Jim Milton\"}, {\"credit_id\": \"54959a51c3a3686af3003eb5\", \"department\": \"Visual Effects\", \"gender\": 0, \"id\": 1401793, \"job\": \"Visual Effects Producer\", \"name\": \"Cyndi Ochs\"}, {\"credit_id\": \"54959a7cc3a36811530026f4\", \"department\": \"Crew\", \"gender\": 0, \"id\": 1401794, \"job\": \"Visual Effects Editor\", \"name\": \"Lucas Putnam\"}, {\"credit_id\": \"54959b91c3a3680ff5002cb4\", \"department\": \"Visual Effects\", \"gender\": 0, \"id\": 1401795, \"job\": \"Visual Effects Supervisor\", \"name\": \"Anthony \\'Max\\' Ivins\"}, {\"credit_id\": \"54959bb69251412c4e002a5f\", \"department\": \"Visual Effects\", \"gender\": 0, \"id\": 1401796, \"job\": \"Visual Effects Supervisor\", \"name\": \"John Knoll\"}, {\"credit_id\": \"54959cbbc3a3686ae3004391\", \"department\": \"Visual Effects\", \"gender\": 2, \"id\": 1401799, \"job\": \"Visual Effects Supervisor\", \"name\": \"Eric Saindon\"}, {\"credit_id\": \"54959d06c3a3686ae90043f6\", \"department\": \"Visual Effects\", \"gender\": 0, \"id\": 1401800, \"job\": \"Visual Effects Supervisor\", \"name\": \"Wayne Stables\"}, {\"credit_id\": \"54959d259251416e1e003f11\", \"department\": \"Visual Effects\", \"gender\": 0, \"id\": 1401801, \"job\": \"Visual Effects Supervisor\", \"name\": \"David Stinnett\"}, {\"credit_id\": \"54959db49251413af7002975\", \"department\": \"Visual Effects\", \"gender\": 0, \"id\": 1401803, \"job\": \"Visual Effects Supervisor\", \"name\": \"Guy Williams\"}, {\"credit_id\": \"54959de4c3a3681153002750\", \"department\": \"Crew\", \"gender\": 0, \"id\": 1401804, \"job\": \"Stunt Coordinator\", \"name\": \"Stuart Thorp\"}, {\"credit_id\": \"54959ef2c3a3680fc60027f2\", \"department\": \"Lighting\", \"gender\": 0, \"id\": 1401805, \"job\": \"Best Boy Electric\", \"name\": \"Giles Coburn\"}, {\"credit_id\": \"54959f07c3a3680fc60027f9\", \"department\": \"Camera\", \"gender\": 2, \"id\": 1401806, \"job\": \"Still Photographer\", \"name\": \"Mark Fellman\"}, {\"credit_id\": \"54959f47c3a3681153002774\", \"department\": \"Lighting\", \"gender\": 0, \"id\": 1401807, \"job\": \"Lighting Technician\", \"name\": \"Scott Sprague\"}, {\"credit_id\": \"54959f8cc3a36831b8001df2\", \"department\": \"Visual Effects\", \"gender\": 0, \"id\": 1401808, \"job\": \"Animation Director\", \"name\": \"Jeremy Hollobon\"}, {\"credit_id\": \"54959fa0c3a36831b8001dfb\", \"department\": \"Visual Effects\", \"gender\": 0, \"id\": 1401809, \"job\": \"Animation Director\", \"name\": \"Orlando Meunier\"}, {\"credit_id\": \"54959fb6c3a3686af3003f54\", \"department\": \"Visual Effects\", \"gender\": 0, \"id\": 1401810, \"job\": \"Animation Director\", \"name\": \"Taisuke Tanimura\"}, {\"credit_id\": \"54959fd2c3a36831b8001e02\", \"department\": \"Costume & Make-Up\", \"gender\": 0, \"id\": 1401812, \"job\": \"Set Costumer\", \"name\": \"Lilia Mishel Acevedo\"}, {\"credit_id\": \"54959ff9c3a3686ae300440c\", \"department\": \"Costume & Make-Up\", \"gender\": 0, \"id\": 1401814, \"job\": \"Set Costumer\", \"name\": \"Alejandro M. Hernandez\"}, {\"credit_id\": \"5495a0ddc3a3686ae10046fe\", \"department\": \"Editing\", \"gender\": 0, \"id\": 1401815, \"job\": \"Digital Intermediate\", \"name\": \"Marvin Hall\"}, {\"credit_id\": \"5495a1f7c3a3686ae3004443\", \"department\": \"Production\", \"gender\": 0, \"id\": 1401816, \"job\": \"Publicist\", \"name\": \"Judy Alley\"}, {\"credit_id\": \"5592b29fc3a36869d100002f\", \"department\": \"Crew\", \"gender\": 0, \"id\": 1418381, \"job\": \"CG Supervisor\", \"name\": \"Mike Perry\"}, {\"credit_id\": \"5592b23a9251415df8001081\", \"department\": \"Crew\", \"gender\": 0, \"id\": 1426854, \"job\": \"CG Supervisor\", \"name\": \"Andrew Morley\"}, {\"credit_id\": \"55491e1192514104c40002d8\", \"department\": \"Art\", \"gender\": 0, \"id\": 1438901, \"job\": \"Conceptual Design\", \"name\": \"Seth Engstrom\"}, {\"credit_id\": \"5525d5809251417276002b06\", \"department\": \"Crew\", \"gender\": 0, \"id\": 1447362, \"job\": \"Visual Effects Art Director\", \"name\": \"Eric Oliver\"}, {\"credit_id\": \"554427ca925141586500312a\", \"department\": \"Visual Effects\", \"gender\": 0, \"id\": 1447503, \"job\": \"Modeling\", \"name\": \"Matsune Suzuki\"}, {\"credit_id\": \"551906889251415aab001c88\", \"department\": \"Art\", \"gender\": 0, \"id\": 1447524, \"job\": \"Art Department Manager\", \"name\": \"Paul Tobin\"}, {\"credit_id\": \"5592af8492514152cc0010de\", \"department\": \"Costume & Make-Up\", \"gender\": 0, \"id\": 1452643, \"job\": \"Hairstylist\", \"name\": \"Roxane Griffin\"}, {\"credit_id\": \"553d3c109251415852001318\", \"department\": \"Lighting\", \"gender\": 0, \"id\": 1453938, \"job\": \"Lighting Artist\", \"name\": \"Arun Ram-Mohan\"}, {\"credit_id\": \"5592af4692514152d5001355\", \"department\": \"Costume & Make-Up\", \"gender\": 0, \"id\": 1457305, \"job\": \"Makeup Artist\", \"name\": \"Georgia Lockhart-Adams\"}, {\"credit_id\": \"5592b2eac3a36877470012a5\", \"department\": \"Crew\", \"gender\": 0, \"id\": 1466035, \"job\": \"CG Supervisor\", \"name\": \"Thrain Shadbolt\"}, {\"credit_id\": \"5592b032c3a36877450015f1\", \"department\": \"Crew\", \"gender\": 0, \"id\": 1483220, \"job\": \"CG Supervisor\", \"name\": \"Brad Alexander\"}, {\"credit_id\": \"5592b05592514152d80012f6\", \"department\": \"Crew\", \"gender\": 0, \"id\": 1483221, \"job\": \"CG Supervisor\", \"name\": \"Shadi Almassizadeh\"}, {\"credit_id\": \"5592b090c3a36877570010b5\", \"department\": \"Crew\", \"gender\": 0, \"id\": 1483222, \"job\": \"CG Supervisor\", \"name\": \"Simon Clutterbuck\"}, {\"credit_id\": \"5592b0dbc3a368774b00112c\", \"department\": \"Crew\", \"gender\": 0, \"id\": 1483223, \"job\": \"CG Supervisor\", \"name\": \"Graeme Demmocks\"}, {\"credit_id\": \"5592b0fe92514152db0010c1\", \"department\": \"Crew\", \"gender\": 0, \"id\": 1483224, \"job\": \"CG Supervisor\", \"name\": \"Adrian Fernandes\"}, {\"credit_id\": \"5592b11f9251415df8001059\", \"department\": \"Crew\", \"gender\": 0, \"id\": 1483225, \"job\": \"CG Supervisor\", \"name\": \"Mitch Gates\"}, {\"credit_id\": \"5592b15dc3a3687745001645\", \"department\": \"Crew\", \"gender\": 0, \"id\": 1483226, \"job\": \"CG Supervisor\", \"name\": \"Jerry Kung\"}, {\"credit_id\": \"5592b18e925141645a0004ae\", \"department\": \"Crew\", \"gender\": 0, \"id\": 1483227, \"job\": \"CG Supervisor\", \"name\": \"Andy Lomas\"}, {\"credit_id\": \"5592b1bfc3a368775d0010e7\", \"department\": \"Crew\", \"gender\": 0, \"id\": 1483228, \"job\": \"CG Supervisor\", \"name\": \"Sebastian Marino\"}, {\"credit_id\": \"5592b2049251415df8001078\", \"department\": \"Crew\", \"gender\": 0, \"id\": 1483229, \"job\": \"CG Supervisor\", \"name\": \"Matthias Menz\"}, {\"credit_id\": \"5592b27b92514152d800136a\", \"department\": \"Crew\", \"gender\": 0, \"id\": 1483230, \"job\": \"CG Supervisor\", \"name\": \"Sergei Nevshupov\"}, {\"credit_id\": \"5592b2c3c3a36869e800003c\", \"department\": \"Crew\", \"gender\": 0, \"id\": 1483231, \"job\": \"CG Supervisor\", \"name\": \"Philippe Rebours\"}, {\"credit_id\": \"5592b317c3a36877470012af\", \"department\": \"Crew\", \"gender\": 0, \"id\": 1483232, \"job\": \"CG Supervisor\", \"name\": \"Michael Takarangi\"}, {\"credit_id\": \"5592b345c3a36877470012bb\", \"department\": \"Crew\", \"gender\": 0, \"id\": 1483233, \"job\": \"CG Supervisor\", \"name\": \"David Weitzberg\"}, {\"credit_id\": \"5592b37cc3a368775100113b\", \"department\": \"Crew\", \"gender\": 0, \"id\": 1483234, \"job\": \"CG Supervisor\", \"name\": \"Ben White\"}, {\"credit_id\": \"573c8e2f9251413f5d000094\", \"department\": \"Crew\", \"gender\": 1, \"id\": 1621932, \"job\": \"Stunts\", \"name\": \"Min Windle\"}]'"
     },
     "execution_count": 66,
     "metadata": {},
     "output_type": "execute_result"
    }
   ],
   "source": [
    "movie_marged_required_col.crew[0]"
   ],
   "metadata": {
    "collapsed": false
   }
  },
  {
   "cell_type": "code",
   "execution_count": 67,
   "outputs": [
    {
     "data": {
      "text/plain": "[{'credit_id': '52fe48009251416c750aca23',\n  'department': 'Editing',\n  'gender': 0,\n  'id': 1721,\n  'job': 'Editor',\n  'name': 'Stephen E. Rivkin'},\n {'credit_id': '539c47ecc3a36810e3001f87',\n  'department': 'Art',\n  'gender': 2,\n  'id': 496,\n  'job': 'Production Design',\n  'name': 'Rick Carter'},\n {'credit_id': '54491c89c3a3680fb4001cf7',\n  'department': 'Sound',\n  'gender': 0,\n  'id': 900,\n  'job': 'Sound Designer',\n  'name': 'Christopher Boyes'},\n {'credit_id': '54491cb70e0a267480001bd0',\n  'department': 'Sound',\n  'gender': 0,\n  'id': 900,\n  'job': 'Supervising Sound Editor',\n  'name': 'Christopher Boyes'},\n {'credit_id': '539c4a4cc3a36810c9002101',\n  'department': 'Production',\n  'gender': 1,\n  'id': 1262,\n  'job': 'Casting',\n  'name': 'Mali Finn'},\n {'credit_id': '5544ee3b925141499f0008fc',\n  'department': 'Sound',\n  'gender': 2,\n  'id': 1729,\n  'job': 'Original Music Composer',\n  'name': 'James Horner'},\n {'credit_id': '52fe48009251416c750ac9c3',\n  'department': 'Directing',\n  'gender': 2,\n  'id': 2710,\n  'job': 'Director',\n  'name': 'James Cameron'},\n {'credit_id': '52fe48009251416c750ac9d9',\n  'department': 'Writing',\n  'gender': 2,\n  'id': 2710,\n  'job': 'Writer',\n  'name': 'James Cameron'},\n {'credit_id': '52fe48009251416c750aca17',\n  'department': 'Editing',\n  'gender': 2,\n  'id': 2710,\n  'job': 'Editor',\n  'name': 'James Cameron'},\n {'credit_id': '52fe48009251416c750aca29',\n  'department': 'Production',\n  'gender': 2,\n  'id': 2710,\n  'job': 'Producer',\n  'name': 'James Cameron'},\n {'credit_id': '52fe48009251416c750aca3f',\n  'department': 'Writing',\n  'gender': 2,\n  'id': 2710,\n  'job': 'Screenplay',\n  'name': 'James Cameron'},\n {'credit_id': '539c4987c3a36810ba0021a4',\n  'department': 'Art',\n  'gender': 2,\n  'id': 7236,\n  'job': 'Art Direction',\n  'name': 'Andrew Menzies'},\n {'credit_id': '549598c3c3a3686ae9004383',\n  'department': 'Visual Effects',\n  'gender': 0,\n  'id': 6690,\n  'job': 'Visual Effects Producer',\n  'name': 'Jill Brooks'},\n {'credit_id': '52fe48009251416c750aca4b',\n  'department': 'Production',\n  'gender': 1,\n  'id': 6347,\n  'job': 'Casting',\n  'name': 'Margery Simkin'},\n {'credit_id': '570b6f419251417da70032fe',\n  'department': 'Art',\n  'gender': 2,\n  'id': 6878,\n  'job': 'Supervising Art Director',\n  'name': 'Kevin Ishioka'},\n {'credit_id': '5495a0fac3a3686ae9004468',\n  'department': 'Sound',\n  'gender': 0,\n  'id': 6883,\n  'job': 'Music Editor',\n  'name': 'Dick Bernstein'},\n {'credit_id': '54959706c3a3686af3003e81',\n  'department': 'Sound',\n  'gender': 0,\n  'id': 8159,\n  'job': 'Sound Effects Editor',\n  'name': 'Shannon Mills'},\n {'credit_id': '54491d58c3a3680fb1001ccb',\n  'department': 'Sound',\n  'gender': 0,\n  'id': 8160,\n  'job': 'Foley',\n  'name': 'Dennie Thorpe'},\n {'credit_id': '54491d6cc3a3680fa5001b2c',\n  'department': 'Sound',\n  'gender': 0,\n  'id': 8163,\n  'job': 'Foley',\n  'name': 'Jana Vance'},\n {'credit_id': '52fe48009251416c750aca57',\n  'department': 'Costume & Make-Up',\n  'gender': 1,\n  'id': 8527,\n  'job': 'Costume Design',\n  'name': 'Deborah Lynn Scott'},\n {'credit_id': '52fe48009251416c750aca2f',\n  'department': 'Production',\n  'gender': 2,\n  'id': 8529,\n  'job': 'Producer',\n  'name': 'Jon Landau'},\n {'credit_id': '539c4937c3a36810ba002194',\n  'department': 'Art',\n  'gender': 0,\n  'id': 9618,\n  'job': 'Art Direction',\n  'name': 'Sean Haworth'},\n {'credit_id': '539c49b6c3a36810c10020e6',\n  'department': 'Art',\n  'gender': 1,\n  'id': 12653,\n  'job': 'Set Decoration',\n  'name': 'Kim Sinclair'},\n {'credit_id': '570b6f2f9251413a0e00020d',\n  'department': 'Art',\n  'gender': 1,\n  'id': 12653,\n  'job': 'Supervising Art Director',\n  'name': 'Kim Sinclair'},\n {'credit_id': '54491a6c0e0a26748c001b19',\n  'department': 'Art',\n  'gender': 2,\n  'id': 14350,\n  'job': 'Set Designer',\n  'name': 'Richard F. Mays'},\n {'credit_id': '56928cf4c3a3684cff0025c4',\n  'department': 'Production',\n  'gender': 1,\n  'id': 20294,\n  'job': 'Executive Producer',\n  'name': 'Laeta Kalogridis'},\n {'credit_id': '52fe48009251416c750aca51',\n  'department': 'Costume & Make-Up',\n  'gender': 0,\n  'id': 17675,\n  'job': 'Costume Design',\n  'name': 'Mayes C. Rubeo'},\n {'credit_id': '52fe48009251416c750aca11',\n  'department': 'Camera',\n  'gender': 2,\n  'id': 18265,\n  'job': 'Director of Photography',\n  'name': 'Mauro Fiore'},\n {'credit_id': '5449194d0e0a26748f001b39',\n  'department': 'Art',\n  'gender': 0,\n  'id': 42281,\n  'job': 'Set Designer',\n  'name': 'Scott Herbertson'},\n {'credit_id': '52fe48009251416c750aca05',\n  'department': 'Crew',\n  'gender': 0,\n  'id': 42288,\n  'job': 'Stunts',\n  'name': 'Woody Schultz'},\n {'credit_id': '5592aefb92514152de0010f5',\n  'department': 'Costume & Make-Up',\n  'gender': 0,\n  'id': 29067,\n  'job': 'Makeup Artist',\n  'name': 'Linda DeVetta'},\n {'credit_id': '5592afa492514152de00112c',\n  'department': 'Costume & Make-Up',\n  'gender': 0,\n  'id': 29067,\n  'job': 'Hairstylist',\n  'name': 'Linda DeVetta'},\n {'credit_id': '54959ed592514130fc002e5d',\n  'department': 'Camera',\n  'gender': 2,\n  'id': 33302,\n  'job': 'Camera Operator',\n  'name': 'Richard Bluck'},\n {'credit_id': '539c4891c3a36810ba002147',\n  'department': 'Art',\n  'gender': 2,\n  'id': 33303,\n  'job': 'Art Direction',\n  'name': 'Simon Bright'},\n {'credit_id': '54959c069251417a81001f3a',\n  'department': 'Visual Effects',\n  'gender': 0,\n  'id': 113145,\n  'job': 'Visual Effects Supervisor',\n  'name': 'Richard Martin'},\n {'credit_id': '54959a0dc3a3680ff5002c8d',\n  'department': 'Crew',\n  'gender': 2,\n  'id': 58188,\n  'job': 'Visual Effects Editor',\n  'name': 'Steve R. Moore'},\n {'credit_id': '52fe48009251416c750aca1d',\n  'department': 'Editing',\n  'gender': 2,\n  'id': 58871,\n  'job': 'Editor',\n  'name': 'John Refoua'},\n {'credit_id': '54491a4dc3a3680fc30018ca',\n  'department': 'Art',\n  'gender': 0,\n  'id': 92359,\n  'job': 'Set Designer',\n  'name': 'Karl J. Martin'},\n {'credit_id': '52fe48009251416c750aca35',\n  'department': 'Camera',\n  'gender': 1,\n  'id': 72201,\n  'job': 'Director of Photography',\n  'name': 'Chiling Lin'},\n {'credit_id': '52fe48009251416c750ac9ff',\n  'department': 'Crew',\n  'gender': 0,\n  'id': 89714,\n  'job': 'Stunts',\n  'name': 'Ilram Choi'},\n {'credit_id': '54959c529251416e2b004394',\n  'department': 'Visual Effects',\n  'gender': 2,\n  'id': 93214,\n  'job': 'Visual Effects Supervisor',\n  'name': 'Steven Quale'},\n {'credit_id': '54491edf0e0a267489001c37',\n  'department': 'Crew',\n  'gender': 1,\n  'id': 122607,\n  'job': 'Dialect Coach',\n  'name': 'Carla Meyer'},\n {'credit_id': '539c485bc3a368653d001a3a',\n  'department': 'Art',\n  'gender': 2,\n  'id': 132585,\n  'job': 'Art Direction',\n  'name': 'Nick Bassett'},\n {'credit_id': '539c4903c3a368653d001a74',\n  'department': 'Art',\n  'gender': 0,\n  'id': 132596,\n  'job': 'Art Direction',\n  'name': 'Jill Cormack'},\n {'credit_id': '539c4967c3a368653d001a94',\n  'department': 'Art',\n  'gender': 0,\n  'id': 132604,\n  'job': 'Art Direction',\n  'name': 'Andy McLaren'},\n {'credit_id': '52fe48009251416c750aca45',\n  'department': 'Crew',\n  'gender': 0,\n  'id': 236696,\n  'job': 'Motion Capture Artist',\n  'name': 'Terry Notary'},\n {'credit_id': '54959e02c3a3680fc60027d2',\n  'department': 'Crew',\n  'gender': 2,\n  'id': 956198,\n  'job': 'Stunt Coordinator',\n  'name': 'Garrett Warren'},\n {'credit_id': '54959ca3c3a3686ae300438c',\n  'department': 'Visual Effects',\n  'gender': 2,\n  'id': 957874,\n  'job': 'Visual Effects Supervisor',\n  'name': 'Jonathan Rothbart'},\n {'credit_id': '570b6f519251412c74001b2f',\n  'department': 'Art',\n  'gender': 0,\n  'id': 957889,\n  'job': 'Supervising Art Director',\n  'name': 'Stefan Dechant'},\n {'credit_id': '570b6f62c3a3680b77007460',\n  'department': 'Art',\n  'gender': 2,\n  'id': 959555,\n  'job': 'Supervising Art Director',\n  'name': 'Todd Cherniawsky'},\n {'credit_id': '539c4a3ac3a36810da0021cc',\n  'department': 'Production',\n  'gender': 0,\n  'id': 1016177,\n  'job': 'Casting',\n  'name': 'Miranda Rivers'},\n {'credit_id': '539c482cc3a36810c1002062',\n  'department': 'Art',\n  'gender': 0,\n  'id': 1032536,\n  'job': 'Production Design',\n  'name': 'Robert Stromberg'},\n {'credit_id': '539c4b65c3a36810c9002125',\n  'department': 'Costume & Make-Up',\n  'gender': 2,\n  'id': 1071680,\n  'job': 'Costume Design',\n  'name': 'John Harding'},\n {'credit_id': '54959e6692514130fc002e4e',\n  'department': 'Camera',\n  'gender': 0,\n  'id': 1177364,\n  'job': 'Steadicam Operator',\n  'name': 'Roberto De Angelis'},\n {'credit_id': '539c49f1c3a368653d001aac',\n  'department': 'Costume & Make-Up',\n  'gender': 2,\n  'id': 1202850,\n  'job': 'Makeup Department Head',\n  'name': 'Mike Smithson'},\n {'credit_id': '5495999ec3a3686ae100460c',\n  'department': 'Visual Effects',\n  'gender': 0,\n  'id': 1204668,\n  'job': 'Visual Effects Producer',\n  'name': 'Alain Lalanne'},\n {'credit_id': '54959cdfc3a3681153002729',\n  'department': 'Visual Effects',\n  'gender': 0,\n  'id': 1206410,\n  'job': 'Visual Effects Supervisor',\n  'name': 'Lucas Salton'},\n {'credit_id': '549596239251417a81001eae',\n  'department': 'Crew',\n  'gender': 0,\n  'id': 1234266,\n  'job': 'Post Production Supervisor',\n  'name': 'Janace Tashjian'},\n {'credit_id': '54959c859251416e1e003efe',\n  'department': 'Visual Effects',\n  'gender': 0,\n  'id': 1271932,\n  'job': 'Visual Effects Supervisor',\n  'name': 'Stephen Rosenbaum'},\n {'credit_id': '5592af28c3a368775a00105f',\n  'department': 'Costume & Make-Up',\n  'gender': 0,\n  'id': 1310064,\n  'job': 'Makeup Artist',\n  'name': 'Frankie Karena'},\n {'credit_id': '539c4adfc3a36810e300203b',\n  'department': 'Costume & Make-Up',\n  'gender': 1,\n  'id': 1319844,\n  'job': 'Costume Supervisor',\n  'name': 'Lisa Lovaas'},\n {'credit_id': '54959b579251416e2b004371',\n  'department': 'Visual Effects',\n  'gender': 0,\n  'id': 1327028,\n  'job': 'Visual Effects Supervisor',\n  'name': 'Jonathan Fawkner'},\n {'credit_id': '539c48a7c3a36810b5001fa7',\n  'department': 'Art',\n  'gender': 0,\n  'id': 1330561,\n  'job': 'Art Direction',\n  'name': 'Robert Bavin'},\n {'credit_id': '539c4a71c3a36810da0021e0',\n  'department': 'Costume & Make-Up',\n  'gender': 0,\n  'id': 1330567,\n  'job': 'Costume Supervisor',\n  'name': 'Anthony Almaraz'},\n {'credit_id': '539c4a8ac3a36810ba0021e4',\n  'department': 'Costume & Make-Up',\n  'gender': 0,\n  'id': 1330570,\n  'job': 'Costume Supervisor',\n  'name': 'Carolyn M. Fenton'},\n {'credit_id': '539c4ab6c3a36810da0021f0',\n  'department': 'Costume & Make-Up',\n  'gender': 0,\n  'id': 1330574,\n  'job': 'Costume Supervisor',\n  'name': 'Beth Koenigsberg'},\n {'credit_id': '54491ab70e0a267480001ba2',\n  'department': 'Art',\n  'gender': 0,\n  'id': 1336191,\n  'job': 'Set Designer',\n  'name': 'Sam Page'},\n {'credit_id': '544919d9c3a3680fc30018bd',\n  'department': 'Art',\n  'gender': 0,\n  'id': 1339441,\n  'job': 'Set Designer',\n  'name': 'Tex Kadonaga'},\n {'credit_id': '54491cf50e0a267483001b0c',\n  'department': 'Editing',\n  'gender': 0,\n  'id': 1352422,\n  'job': 'Dialogue Editor',\n  'name': 'Kim Foscato'},\n {'credit_id': '544919f40e0a26748c001b09',\n  'department': 'Art',\n  'gender': 0,\n  'id': 1352962,\n  'job': 'Set Designer',\n  'name': 'Tammy S. Lee'},\n {'credit_id': '5495a115c3a3680ff5002d71',\n  'department': 'Crew',\n  'gender': 0,\n  'id': 1357070,\n  'job': 'Transportation Coordinator',\n  'name': 'Denny Caira'},\n {'credit_id': '5495a12f92514130fc002e94',\n  'department': 'Crew',\n  'gender': 0,\n  'id': 1357071,\n  'job': 'Transportation Coordinator',\n  'name': 'James Waitkus'},\n {'credit_id': '5495976fc3a36811530026b0',\n  'department': 'Sound',\n  'gender': 0,\n  'id': 1360103,\n  'job': 'Supervising Sound Editor',\n  'name': 'Addison Teague'},\n {'credit_id': '54491837c3a3680fb1001c5a',\n  'department': 'Art',\n  'gender': 2,\n  'id': 1376887,\n  'job': 'Set Designer',\n  'name': 'C. Scott Baker'},\n {'credit_id': '54491878c3a3680fb4001c9d',\n  'department': 'Art',\n  'gender': 0,\n  'id': 1376888,\n  'job': 'Set Designer',\n  'name': 'Luke Caska'},\n {'credit_id': '544918dac3a3680fa5001ae0',\n  'department': 'Art',\n  'gender': 0,\n  'id': 1376889,\n  'job': 'Set Designer',\n  'name': 'David Chow'},\n {'credit_id': '544919110e0a267486001b68',\n  'department': 'Art',\n  'gender': 0,\n  'id': 1376890,\n  'job': 'Set Designer',\n  'name': 'Jonathan Dyer'},\n {'credit_id': '54491967c3a3680faa001b5e',\n  'department': 'Art',\n  'gender': 0,\n  'id': 1376891,\n  'job': 'Set Designer',\n  'name': 'Joseph Hiura'},\n {'credit_id': '54491997c3a3680fb1001c8a',\n  'department': 'Art',\n  'gender': 0,\n  'id': 1376892,\n  'job': 'Art Department Coordinator',\n  'name': 'Rebecca Jellie'},\n {'credit_id': '544919ba0e0a26748f001b42',\n  'department': 'Art',\n  'gender': 0,\n  'id': 1376893,\n  'job': 'Set Designer',\n  'name': 'Robert Andrew Johnson'},\n {'credit_id': '54491b1dc3a3680faa001b8c',\n  'department': 'Art',\n  'gender': 0,\n  'id': 1376895,\n  'job': 'Assistant Art Director',\n  'name': 'Mike Stassi'},\n {'credit_id': '54491b79c3a3680fbb001826',\n  'department': 'Art',\n  'gender': 0,\n  'id': 1376897,\n  'job': 'Construction Coordinator',\n  'name': 'John Villarino'},\n {'credit_id': '54491baec3a3680fb4001ce6',\n  'department': 'Art',\n  'gender': 2,\n  'id': 1376898,\n  'job': 'Assistant Art Director',\n  'name': 'Jeffrey Wisniewski'},\n {'credit_id': '54491d2fc3a3680fb4001d07',\n  'department': 'Editing',\n  'gender': 0,\n  'id': 1376899,\n  'job': 'Dialogue Editor',\n  'name': 'Cheryl Nardi'},\n {'credit_id': '54491d86c3a3680fa5001b2f',\n  'department': 'Editing',\n  'gender': 0,\n  'id': 1376901,\n  'job': 'Dialogue Editor',\n  'name': 'Marshall Winn'},\n {'credit_id': '54491d9dc3a3680faa001bb0',\n  'department': 'Sound',\n  'gender': 0,\n  'id': 1376902,\n  'job': 'Supervising Sound Editor',\n  'name': 'Gwendolyn Yates Whittle'},\n {'credit_id': '54491dc10e0a267486001bce',\n  'department': 'Sound',\n  'gender': 0,\n  'id': 1376903,\n  'job': 'Sound Re-Recording Mixer',\n  'name': 'William Stein'},\n {'credit_id': '54491f500e0a26747c001c07',\n  'department': 'Crew',\n  'gender': 0,\n  'id': 1376909,\n  'job': 'Choreographer',\n  'name': 'Lula Washington'},\n {'credit_id': '549599239251412c4e002a2e',\n  'department': 'Visual Effects',\n  'gender': 0,\n  'id': 1391692,\n  'job': 'Visual Effects Producer',\n  'name': 'Chris Del Conte'},\n {'credit_id': '54959d54c3a36831b8001d9a',\n  'department': 'Visual Effects',\n  'gender': 2,\n  'id': 1391695,\n  'job': 'Visual Effects Supervisor',\n  'name': 'R. Christopher White'},\n {'credit_id': '54959bdf9251412c4e002a66',\n  'department': 'Visual Effects',\n  'gender': 0,\n  'id': 1394070,\n  'job': 'Visual Effects Supervisor',\n  'name': 'Dan Lemmon'},\n {'credit_id': '5495971d92514132ed002922',\n  'department': 'Sound',\n  'gender': 0,\n  'id': 1394129,\n  'job': 'Sound Effects Editor',\n  'name': 'Tim Nielsen'},\n {'credit_id': '5592b25792514152cc0011aa',\n  'department': 'Crew',\n  'gender': 0,\n  'id': 1394286,\n  'job': 'CG Supervisor',\n  'name': 'Michael Mulholland'},\n {'credit_id': '54959a329251416e2b004355',\n  'department': 'Crew',\n  'gender': 0,\n  'id': 1394750,\n  'job': 'Visual Effects Editor',\n  'name': 'Thomas Nittmann'},\n {'credit_id': '54959d6dc3a3686ae9004401',\n  'department': 'Visual Effects',\n  'gender': 0,\n  'id': 1394755,\n  'job': 'Visual Effects Supervisor',\n  'name': 'Edson Williams'},\n {'credit_id': '5495a08fc3a3686ae300441c',\n  'department': 'Editing',\n  'gender': 0,\n  'id': 1394953,\n  'job': 'Digital Intermediate',\n  'name': 'Christine Carr'},\n {'credit_id': '55402d659251413d6d000249',\n  'department': 'Visual Effects',\n  'gender': 0,\n  'id': 1395269,\n  'job': 'Visual Effects Supervisor',\n  'name': 'John Bruno'},\n {'credit_id': '54959e7b9251416e1e003f3e',\n  'department': 'Camera',\n  'gender': 0,\n  'id': 1398970,\n  'job': 'Steadicam Operator',\n  'name': 'David Emmerichs'},\n {'credit_id': '54959734c3a3686ae10045e0',\n  'department': 'Sound',\n  'gender': 0,\n  'id': 1400906,\n  'job': 'Sound Effects Editor',\n  'name': 'Christopher Scarabosio'},\n {'credit_id': '549595dd92514130fc002d79',\n  'department': 'Production',\n  'gender': 0,\n  'id': 1401784,\n  'job': 'Production Supervisor',\n  'name': 'Jennifer Teves'},\n {'credit_id': '549596009251413af70028cc',\n  'department': 'Production',\n  'gender': 0,\n  'id': 1401785,\n  'job': 'Production Manager',\n  'name': 'Brigitte Yorke'},\n {'credit_id': '549596e892514130fc002d99',\n  'department': 'Sound',\n  'gender': 0,\n  'id': 1401786,\n  'job': 'Sound Effects Editor',\n  'name': 'Ken Fischer'},\n {'credit_id': '549598229251412c4e002a1c',\n  'department': 'Crew',\n  'gender': 0,\n  'id': 1401787,\n  'job': 'Special Effects Coordinator',\n  'name': 'Iain Hutton'},\n {'credit_id': '549598349251416e2b00432b',\n  'department': 'Crew',\n  'gender': 0,\n  'id': 1401788,\n  'job': 'Special Effects Coordinator',\n  'name': 'Steve Ingram'},\n {'credit_id': '54959905c3a3686ae3004324',\n  'department': 'Visual Effects',\n  'gender': 0,\n  'id': 1401789,\n  'job': 'Visual Effects Producer',\n  'name': 'Joyce Cox'},\n {'credit_id': '5495994b92514132ed002951',\n  'department': 'Visual Effects',\n  'gender': 0,\n  'id': 1401790,\n  'job': 'Visual Effects Producer',\n  'name': 'Jenny Foster'},\n {'credit_id': '549599cbc3a3686ae1004613',\n  'department': 'Crew',\n  'gender': 0,\n  'id': 1401791,\n  'job': 'Visual Effects Editor',\n  'name': 'Christopher Marino'},\n {'credit_id': '549599f2c3a3686ae100461e',\n  'department': 'Crew',\n  'gender': 0,\n  'id': 1401792,\n  'job': 'Visual Effects Editor',\n  'name': 'Jim Milton'},\n {'credit_id': '54959a51c3a3686af3003eb5',\n  'department': 'Visual Effects',\n  'gender': 0,\n  'id': 1401793,\n  'job': 'Visual Effects Producer',\n  'name': 'Cyndi Ochs'},\n {'credit_id': '54959a7cc3a36811530026f4',\n  'department': 'Crew',\n  'gender': 0,\n  'id': 1401794,\n  'job': 'Visual Effects Editor',\n  'name': 'Lucas Putnam'},\n {'credit_id': '54959b91c3a3680ff5002cb4',\n  'department': 'Visual Effects',\n  'gender': 0,\n  'id': 1401795,\n  'job': 'Visual Effects Supervisor',\n  'name': \"Anthony 'Max' Ivins\"},\n {'credit_id': '54959bb69251412c4e002a5f',\n  'department': 'Visual Effects',\n  'gender': 0,\n  'id': 1401796,\n  'job': 'Visual Effects Supervisor',\n  'name': 'John Knoll'},\n {'credit_id': '54959cbbc3a3686ae3004391',\n  'department': 'Visual Effects',\n  'gender': 2,\n  'id': 1401799,\n  'job': 'Visual Effects Supervisor',\n  'name': 'Eric Saindon'},\n {'credit_id': '54959d06c3a3686ae90043f6',\n  'department': 'Visual Effects',\n  'gender': 0,\n  'id': 1401800,\n  'job': 'Visual Effects Supervisor',\n  'name': 'Wayne Stables'},\n {'credit_id': '54959d259251416e1e003f11',\n  'department': 'Visual Effects',\n  'gender': 0,\n  'id': 1401801,\n  'job': 'Visual Effects Supervisor',\n  'name': 'David Stinnett'},\n {'credit_id': '54959db49251413af7002975',\n  'department': 'Visual Effects',\n  'gender': 0,\n  'id': 1401803,\n  'job': 'Visual Effects Supervisor',\n  'name': 'Guy Williams'},\n {'credit_id': '54959de4c3a3681153002750',\n  'department': 'Crew',\n  'gender': 0,\n  'id': 1401804,\n  'job': 'Stunt Coordinator',\n  'name': 'Stuart Thorp'},\n {'credit_id': '54959ef2c3a3680fc60027f2',\n  'department': 'Lighting',\n  'gender': 0,\n  'id': 1401805,\n  'job': 'Best Boy Electric',\n  'name': 'Giles Coburn'},\n {'credit_id': '54959f07c3a3680fc60027f9',\n  'department': 'Camera',\n  'gender': 2,\n  'id': 1401806,\n  'job': 'Still Photographer',\n  'name': 'Mark Fellman'},\n {'credit_id': '54959f47c3a3681153002774',\n  'department': 'Lighting',\n  'gender': 0,\n  'id': 1401807,\n  'job': 'Lighting Technician',\n  'name': 'Scott Sprague'},\n {'credit_id': '54959f8cc3a36831b8001df2',\n  'department': 'Visual Effects',\n  'gender': 0,\n  'id': 1401808,\n  'job': 'Animation Director',\n  'name': 'Jeremy Hollobon'},\n {'credit_id': '54959fa0c3a36831b8001dfb',\n  'department': 'Visual Effects',\n  'gender': 0,\n  'id': 1401809,\n  'job': 'Animation Director',\n  'name': 'Orlando Meunier'},\n {'credit_id': '54959fb6c3a3686af3003f54',\n  'department': 'Visual Effects',\n  'gender': 0,\n  'id': 1401810,\n  'job': 'Animation Director',\n  'name': 'Taisuke Tanimura'},\n {'credit_id': '54959fd2c3a36831b8001e02',\n  'department': 'Costume & Make-Up',\n  'gender': 0,\n  'id': 1401812,\n  'job': 'Set Costumer',\n  'name': 'Lilia Mishel Acevedo'},\n {'credit_id': '54959ff9c3a3686ae300440c',\n  'department': 'Costume & Make-Up',\n  'gender': 0,\n  'id': 1401814,\n  'job': 'Set Costumer',\n  'name': 'Alejandro M. Hernandez'},\n {'credit_id': '5495a0ddc3a3686ae10046fe',\n  'department': 'Editing',\n  'gender': 0,\n  'id': 1401815,\n  'job': 'Digital Intermediate',\n  'name': 'Marvin Hall'},\n {'credit_id': '5495a1f7c3a3686ae3004443',\n  'department': 'Production',\n  'gender': 0,\n  'id': 1401816,\n  'job': 'Publicist',\n  'name': 'Judy Alley'},\n {'credit_id': '5592b29fc3a36869d100002f',\n  'department': 'Crew',\n  'gender': 0,\n  'id': 1418381,\n  'job': 'CG Supervisor',\n  'name': 'Mike Perry'},\n {'credit_id': '5592b23a9251415df8001081',\n  'department': 'Crew',\n  'gender': 0,\n  'id': 1426854,\n  'job': 'CG Supervisor',\n  'name': 'Andrew Morley'},\n {'credit_id': '55491e1192514104c40002d8',\n  'department': 'Art',\n  'gender': 0,\n  'id': 1438901,\n  'job': 'Conceptual Design',\n  'name': 'Seth Engstrom'},\n {'credit_id': '5525d5809251417276002b06',\n  'department': 'Crew',\n  'gender': 0,\n  'id': 1447362,\n  'job': 'Visual Effects Art Director',\n  'name': 'Eric Oliver'},\n {'credit_id': '554427ca925141586500312a',\n  'department': 'Visual Effects',\n  'gender': 0,\n  'id': 1447503,\n  'job': 'Modeling',\n  'name': 'Matsune Suzuki'},\n {'credit_id': '551906889251415aab001c88',\n  'department': 'Art',\n  'gender': 0,\n  'id': 1447524,\n  'job': 'Art Department Manager',\n  'name': 'Paul Tobin'},\n {'credit_id': '5592af8492514152cc0010de',\n  'department': 'Costume & Make-Up',\n  'gender': 0,\n  'id': 1452643,\n  'job': 'Hairstylist',\n  'name': 'Roxane Griffin'},\n {'credit_id': '553d3c109251415852001318',\n  'department': 'Lighting',\n  'gender': 0,\n  'id': 1453938,\n  'job': 'Lighting Artist',\n  'name': 'Arun Ram-Mohan'},\n {'credit_id': '5592af4692514152d5001355',\n  'department': 'Costume & Make-Up',\n  'gender': 0,\n  'id': 1457305,\n  'job': 'Makeup Artist',\n  'name': 'Georgia Lockhart-Adams'},\n {'credit_id': '5592b2eac3a36877470012a5',\n  'department': 'Crew',\n  'gender': 0,\n  'id': 1466035,\n  'job': 'CG Supervisor',\n  'name': 'Thrain Shadbolt'},\n {'credit_id': '5592b032c3a36877450015f1',\n  'department': 'Crew',\n  'gender': 0,\n  'id': 1483220,\n  'job': 'CG Supervisor',\n  'name': 'Brad Alexander'},\n {'credit_id': '5592b05592514152d80012f6',\n  'department': 'Crew',\n  'gender': 0,\n  'id': 1483221,\n  'job': 'CG Supervisor',\n  'name': 'Shadi Almassizadeh'},\n {'credit_id': '5592b090c3a36877570010b5',\n  'department': 'Crew',\n  'gender': 0,\n  'id': 1483222,\n  'job': 'CG Supervisor',\n  'name': 'Simon Clutterbuck'},\n {'credit_id': '5592b0dbc3a368774b00112c',\n  'department': 'Crew',\n  'gender': 0,\n  'id': 1483223,\n  'job': 'CG Supervisor',\n  'name': 'Graeme Demmocks'},\n {'credit_id': '5592b0fe92514152db0010c1',\n  'department': 'Crew',\n  'gender': 0,\n  'id': 1483224,\n  'job': 'CG Supervisor',\n  'name': 'Adrian Fernandes'},\n {'credit_id': '5592b11f9251415df8001059',\n  'department': 'Crew',\n  'gender': 0,\n  'id': 1483225,\n  'job': 'CG Supervisor',\n  'name': 'Mitch Gates'},\n {'credit_id': '5592b15dc3a3687745001645',\n  'department': 'Crew',\n  'gender': 0,\n  'id': 1483226,\n  'job': 'CG Supervisor',\n  'name': 'Jerry Kung'},\n {'credit_id': '5592b18e925141645a0004ae',\n  'department': 'Crew',\n  'gender': 0,\n  'id': 1483227,\n  'job': 'CG Supervisor',\n  'name': 'Andy Lomas'},\n {'credit_id': '5592b1bfc3a368775d0010e7',\n  'department': 'Crew',\n  'gender': 0,\n  'id': 1483228,\n  'job': 'CG Supervisor',\n  'name': 'Sebastian Marino'},\n {'credit_id': '5592b2049251415df8001078',\n  'department': 'Crew',\n  'gender': 0,\n  'id': 1483229,\n  'job': 'CG Supervisor',\n  'name': 'Matthias Menz'},\n {'credit_id': '5592b27b92514152d800136a',\n  'department': 'Crew',\n  'gender': 0,\n  'id': 1483230,\n  'job': 'CG Supervisor',\n  'name': 'Sergei Nevshupov'},\n {'credit_id': '5592b2c3c3a36869e800003c',\n  'department': 'Crew',\n  'gender': 0,\n  'id': 1483231,\n  'job': 'CG Supervisor',\n  'name': 'Philippe Rebours'},\n {'credit_id': '5592b317c3a36877470012af',\n  'department': 'Crew',\n  'gender': 0,\n  'id': 1483232,\n  'job': 'CG Supervisor',\n  'name': 'Michael Takarangi'},\n {'credit_id': '5592b345c3a36877470012bb',\n  'department': 'Crew',\n  'gender': 0,\n  'id': 1483233,\n  'job': 'CG Supervisor',\n  'name': 'David Weitzberg'},\n {'credit_id': '5592b37cc3a368775100113b',\n  'department': 'Crew',\n  'gender': 0,\n  'id': 1483234,\n  'job': 'CG Supervisor',\n  'name': 'Ben White'},\n {'credit_id': '573c8e2f9251413f5d000094',\n  'department': 'Crew',\n  'gender': 1,\n  'id': 1621932,\n  'job': 'Stunts',\n  'name': 'Min Windle'}]"
     },
     "execution_count": 67,
     "metadata": {},
     "output_type": "execute_result"
    }
   ],
   "source": [
    "json.loads(movie_marged_required_col.crew[0])"
   ],
   "metadata": {
    "collapsed": false
   }
  },
  {
   "cell_type": "code",
   "execution_count": 68,
   "outputs": [],
   "source": [
    "def get_director(x):\n",
    "     return [i['name'] for i in json.loads(x) if i['job'] == 'Director']"
   ],
   "metadata": {
    "collapsed": false
   }
  },
  {
   "cell_type": "code",
   "execution_count": 74,
   "outputs": [
    {
     "name": "stderr",
     "output_type": "stream",
     "text": [
      "C:\\Users\\UMEGS\\AppData\\Local\\Temp\\ipykernel_75028\\611877810.py:1: SettingWithCopyWarning: \n",
      "A value is trying to be set on a copy of a slice from a DataFrame.\n",
      "Try using .loc[row_indexer,col_indexer] = value instead\n",
      "\n",
      "See the caveats in the documentation: https://pandas.pydata.org/pandas-docs/stable/user_guide/indexing.html#returning-a-view-versus-a-copy\n",
      "  movie_marged_required_col['crew'] = movie_marged_required_col['crew'].apply(get_director)\n"
     ]
    }
   ],
   "source": [
    "movie_marged_required_col['crew'] = movie_marged_required_col['crew'].apply(get_director)"
   ],
   "metadata": {
    "collapsed": false
   }
  },
  {
   "cell_type": "code",
   "execution_count": 75,
   "outputs": [
    {
     "data": {
      "text/plain": "   movie_id                                     title  \\\n0     19995                                    Avatar   \n1       285  Pirates of the Caribbean: At World's End   \n2    206647                                   Spectre   \n3     49026                     The Dark Knight Rises   \n4     49529                               John Carter   \n\n                                          genres  \\\n0  [Action, Adventure, Fantasy, Science Fiction]   \n1                   [Adventure, Fantasy, Action]   \n2                     [Action, Adventure, Crime]   \n3               [Action, Crime, Drama, Thriller]   \n4           [Action, Adventure, Science Fiction]   \n\n                                            keywords  \\\n0  [culture clash, future, space war, space colon...   \n1  [ocean, drug abuse, exotic island, east india ...   \n2  [spy, based on novel, secret agent, sequel, mi...   \n3  [dc comics, crime fighter, terrorist, secret i...   \n4  [based on novel, mars, medallion, space travel...   \n\n                                            overview  \\\n0  In the 22nd century, a paraplegic Marine is di...   \n1  Captain Barbossa, long believed to be dead, ha...   \n2  A cryptic message from Bond’s past sends him o...   \n3  Following the death of District Attorney Harve...   \n4  John Carter is a war-weary, former military ca...   \n\n                                               cast                 crew  \n0  [Sam Worthington, Zoe Saldana, Sigourney Weaver]      [James Cameron]  \n1     [Johnny Depp, Orlando Bloom, Keira Knightley]     [Gore Verbinski]  \n2      [Daniel Craig, Christoph Waltz, Léa Seydoux]         [Sam Mendes]  \n3      [Christian Bale, Michael Caine, Gary Oldman]  [Christopher Nolan]  \n4    [Taylor Kitsch, Lynn Collins, Samantha Morton]     [Andrew Stanton]  ",
      "text/html": "<div>\n<style scoped>\n    .dataframe tbody tr th:only-of-type {\n        vertical-align: middle;\n    }\n\n    .dataframe tbody tr th {\n        vertical-align: top;\n    }\n\n    .dataframe thead th {\n        text-align: right;\n    }\n</style>\n<table border=\"1\" class=\"dataframe\">\n  <thead>\n    <tr style=\"text-align: right;\">\n      <th></th>\n      <th>movie_id</th>\n      <th>title</th>\n      <th>genres</th>\n      <th>keywords</th>\n      <th>overview</th>\n      <th>cast</th>\n      <th>crew</th>\n    </tr>\n  </thead>\n  <tbody>\n    <tr>\n      <th>0</th>\n      <td>19995</td>\n      <td>Avatar</td>\n      <td>[Action, Adventure, Fantasy, Science Fiction]</td>\n      <td>[culture clash, future, space war, space colon...</td>\n      <td>In the 22nd century, a paraplegic Marine is di...</td>\n      <td>[Sam Worthington, Zoe Saldana, Sigourney Weaver]</td>\n      <td>[James Cameron]</td>\n    </tr>\n    <tr>\n      <th>1</th>\n      <td>285</td>\n      <td>Pirates of the Caribbean: At World's End</td>\n      <td>[Adventure, Fantasy, Action]</td>\n      <td>[ocean, drug abuse, exotic island, east india ...</td>\n      <td>Captain Barbossa, long believed to be dead, ha...</td>\n      <td>[Johnny Depp, Orlando Bloom, Keira Knightley]</td>\n      <td>[Gore Verbinski]</td>\n    </tr>\n    <tr>\n      <th>2</th>\n      <td>206647</td>\n      <td>Spectre</td>\n      <td>[Action, Adventure, Crime]</td>\n      <td>[spy, based on novel, secret agent, sequel, mi...</td>\n      <td>A cryptic message from Bond’s past sends him o...</td>\n      <td>[Daniel Craig, Christoph Waltz, Léa Seydoux]</td>\n      <td>[Sam Mendes]</td>\n    </tr>\n    <tr>\n      <th>3</th>\n      <td>49026</td>\n      <td>The Dark Knight Rises</td>\n      <td>[Action, Crime, Drama, Thriller]</td>\n      <td>[dc comics, crime fighter, terrorist, secret i...</td>\n      <td>Following the death of District Attorney Harve...</td>\n      <td>[Christian Bale, Michael Caine, Gary Oldman]</td>\n      <td>[Christopher Nolan]</td>\n    </tr>\n    <tr>\n      <th>4</th>\n      <td>49529</td>\n      <td>John Carter</td>\n      <td>[Action, Adventure, Science Fiction]</td>\n      <td>[based on novel, mars, medallion, space travel...</td>\n      <td>John Carter is a war-weary, former military ca...</td>\n      <td>[Taylor Kitsch, Lynn Collins, Samantha Morton]</td>\n      <td>[Andrew Stanton]</td>\n    </tr>\n  </tbody>\n</table>\n</div>"
     },
     "execution_count": 75,
     "metadata": {},
     "output_type": "execute_result"
    }
   ],
   "source": [
    "movie_marged_required_col.head()"
   ],
   "metadata": {
    "collapsed": false
   }
  },
  {
   "cell_type": "code",
   "execution_count": 76,
   "outputs": [
    {
     "data": {
      "text/plain": "0       In the 22nd century, a paraplegic Marine is di...\n1       Captain Barbossa, long believed to be dead, ha...\n2       A cryptic message from Bond’s past sends him o...\n3       Following the death of District Attorney Harve...\n4       John Carter is a war-weary, former military ca...\n                              ...                        \n4804    El Mariachi just wants to play his guitar and ...\n4805    A newlywed couple's honeymoon is upended by th...\n4806    \"Signed, Sealed, Delivered\" introduces a dedic...\n4807    When ambitious New York attorney Sam is sent t...\n4808    Ever since the second grade when he first saw ...\nName: overview, Length: 4806, dtype: object"
     },
     "execution_count": 76,
     "metadata": {},
     "output_type": "execute_result"
    }
   ],
   "source": [
    "movie_marged_required_col.overview"
   ],
   "metadata": {
    "collapsed": false
   }
  },
  {
   "cell_type": "code",
   "execution_count": 77,
   "outputs": [
    {
     "name": "stderr",
     "output_type": "stream",
     "text": [
      "C:\\Users\\UMEGS\\AppData\\Local\\Temp\\ipykernel_75028\\2640118529.py:1: SettingWithCopyWarning: \n",
      "A value is trying to be set on a copy of a slice from a DataFrame.\n",
      "Try using .loc[row_indexer,col_indexer] = value instead\n",
      "\n",
      "See the caveats in the documentation: https://pandas.pydata.org/pandas-docs/stable/user_guide/indexing.html#returning-a-view-versus-a-copy\n",
      "  movie_marged_required_col['overview'] = movie_marged_required_col['overview'].apply(lambda x: x.split())\n"
     ]
    }
   ],
   "source": [
    "movie_marged_required_col['overview'] = movie_marged_required_col['overview'].apply(lambda x: x.split())"
   ],
   "metadata": {
    "collapsed": false
   }
  },
  {
   "cell_type": "code",
   "execution_count": 78,
   "outputs": [
    {
     "data": {
      "text/plain": "   movie_id                                     title  \\\n0     19995                                    Avatar   \n1       285  Pirates of the Caribbean: At World's End   \n2    206647                                   Spectre   \n3     49026                     The Dark Knight Rises   \n4     49529                               John Carter   \n\n                                          genres  \\\n0  [Action, Adventure, Fantasy, Science Fiction]   \n1                   [Adventure, Fantasy, Action]   \n2                     [Action, Adventure, Crime]   \n3               [Action, Crime, Drama, Thriller]   \n4           [Action, Adventure, Science Fiction]   \n\n                                            keywords  \\\n0  [culture clash, future, space war, space colon...   \n1  [ocean, drug abuse, exotic island, east india ...   \n2  [spy, based on novel, secret agent, sequel, mi...   \n3  [dc comics, crime fighter, terrorist, secret i...   \n4  [based on novel, mars, medallion, space travel...   \n\n                                            overview  \\\n0  [In, the, 22nd, century,, a, paraplegic, Marin...   \n1  [Captain, Barbossa,, long, believed, to, be, d...   \n2  [A, cryptic, message, from, Bond’s, past, send...   \n3  [Following, the, death, of, District, Attorney...   \n4  [John, Carter, is, a, war-weary,, former, mili...   \n\n                                               cast                 crew  \n0  [Sam Worthington, Zoe Saldana, Sigourney Weaver]      [James Cameron]  \n1     [Johnny Depp, Orlando Bloom, Keira Knightley]     [Gore Verbinski]  \n2      [Daniel Craig, Christoph Waltz, Léa Seydoux]         [Sam Mendes]  \n3      [Christian Bale, Michael Caine, Gary Oldman]  [Christopher Nolan]  \n4    [Taylor Kitsch, Lynn Collins, Samantha Morton]     [Andrew Stanton]  ",
      "text/html": "<div>\n<style scoped>\n    .dataframe tbody tr th:only-of-type {\n        vertical-align: middle;\n    }\n\n    .dataframe tbody tr th {\n        vertical-align: top;\n    }\n\n    .dataframe thead th {\n        text-align: right;\n    }\n</style>\n<table border=\"1\" class=\"dataframe\">\n  <thead>\n    <tr style=\"text-align: right;\">\n      <th></th>\n      <th>movie_id</th>\n      <th>title</th>\n      <th>genres</th>\n      <th>keywords</th>\n      <th>overview</th>\n      <th>cast</th>\n      <th>crew</th>\n    </tr>\n  </thead>\n  <tbody>\n    <tr>\n      <th>0</th>\n      <td>19995</td>\n      <td>Avatar</td>\n      <td>[Action, Adventure, Fantasy, Science Fiction]</td>\n      <td>[culture clash, future, space war, space colon...</td>\n      <td>[In, the, 22nd, century,, a, paraplegic, Marin...</td>\n      <td>[Sam Worthington, Zoe Saldana, Sigourney Weaver]</td>\n      <td>[James Cameron]</td>\n    </tr>\n    <tr>\n      <th>1</th>\n      <td>285</td>\n      <td>Pirates of the Caribbean: At World's End</td>\n      <td>[Adventure, Fantasy, Action]</td>\n      <td>[ocean, drug abuse, exotic island, east india ...</td>\n      <td>[Captain, Barbossa,, long, believed, to, be, d...</td>\n      <td>[Johnny Depp, Orlando Bloom, Keira Knightley]</td>\n      <td>[Gore Verbinski]</td>\n    </tr>\n    <tr>\n      <th>2</th>\n      <td>206647</td>\n      <td>Spectre</td>\n      <td>[Action, Adventure, Crime]</td>\n      <td>[spy, based on novel, secret agent, sequel, mi...</td>\n      <td>[A, cryptic, message, from, Bond’s, past, send...</td>\n      <td>[Daniel Craig, Christoph Waltz, Léa Seydoux]</td>\n      <td>[Sam Mendes]</td>\n    </tr>\n    <tr>\n      <th>3</th>\n      <td>49026</td>\n      <td>The Dark Knight Rises</td>\n      <td>[Action, Crime, Drama, Thriller]</td>\n      <td>[dc comics, crime fighter, terrorist, secret i...</td>\n      <td>[Following, the, death, of, District, Attorney...</td>\n      <td>[Christian Bale, Michael Caine, Gary Oldman]</td>\n      <td>[Christopher Nolan]</td>\n    </tr>\n    <tr>\n      <th>4</th>\n      <td>49529</td>\n      <td>John Carter</td>\n      <td>[Action, Adventure, Science Fiction]</td>\n      <td>[based on novel, mars, medallion, space travel...</td>\n      <td>[John, Carter, is, a, war-weary,, former, mili...</td>\n      <td>[Taylor Kitsch, Lynn Collins, Samantha Morton]</td>\n      <td>[Andrew Stanton]</td>\n    </tr>\n  </tbody>\n</table>\n</div>"
     },
     "execution_count": 78,
     "metadata": {},
     "output_type": "execute_result"
    }
   ],
   "source": [
    "movie_marged_required_col.head()"
   ],
   "metadata": {
    "collapsed": false
   }
  },
  {
   "cell_type": "code",
   "execution_count": 79,
   "outputs": [
    {
     "name": "stderr",
     "output_type": "stream",
     "text": [
      "C:\\Users\\UMEGS\\AppData\\Local\\Temp\\ipykernel_75028\\1584790371.py:1: SettingWithCopyWarning: \n",
      "A value is trying to be set on a copy of a slice from a DataFrame.\n",
      "Try using .loc[row_indexer,col_indexer] = value instead\n",
      "\n",
      "See the caveats in the documentation: https://pandas.pydata.org/pandas-docs/stable/user_guide/indexing.html#returning-a-view-versus-a-copy\n",
      "  movie_marged_required_col['genres'] = movie_marged_required_col['genres'].apply(lambda x: [i.replace(\" \", \"\") for i in x])\n",
      "C:\\Users\\UMEGS\\AppData\\Local\\Temp\\ipykernel_75028\\1584790371.py:2: SettingWithCopyWarning: \n",
      "A value is trying to be set on a copy of a slice from a DataFrame.\n",
      "Try using .loc[row_indexer,col_indexer] = value instead\n",
      "\n",
      "See the caveats in the documentation: https://pandas.pydata.org/pandas-docs/stable/user_guide/indexing.html#returning-a-view-versus-a-copy\n",
      "  movie_marged_required_col['keywords'] = movie_marged_required_col['keywords'].apply(lambda x: [i.replace(\" \", \"\") for i in x])\n",
      "C:\\Users\\UMEGS\\AppData\\Local\\Temp\\ipykernel_75028\\1584790371.py:3: SettingWithCopyWarning: \n",
      "A value is trying to be set on a copy of a slice from a DataFrame.\n",
      "Try using .loc[row_indexer,col_indexer] = value instead\n",
      "\n",
      "See the caveats in the documentation: https://pandas.pydata.org/pandas-docs/stable/user_guide/indexing.html#returning-a-view-versus-a-copy\n",
      "  movie_marged_required_col['overview'] = movie_marged_required_col['overview'].apply(lambda x: [i.replace(\" \", \"\") for i in x])\n",
      "C:\\Users\\UMEGS\\AppData\\Local\\Temp\\ipykernel_75028\\1584790371.py:4: SettingWithCopyWarning: \n",
      "A value is trying to be set on a copy of a slice from a DataFrame.\n",
      "Try using .loc[row_indexer,col_indexer] = value instead\n",
      "\n",
      "See the caveats in the documentation: https://pandas.pydata.org/pandas-docs/stable/user_guide/indexing.html#returning-a-view-versus-a-copy\n",
      "  movie_marged_required_col['cast'] = movie_marged_required_col['cast'].apply(lambda x: [i.replace(\" \", \"\") for i in x])\n",
      "C:\\Users\\UMEGS\\AppData\\Local\\Temp\\ipykernel_75028\\1584790371.py:5: SettingWithCopyWarning: \n",
      "A value is trying to be set on a copy of a slice from a DataFrame.\n",
      "Try using .loc[row_indexer,col_indexer] = value instead\n",
      "\n",
      "See the caveats in the documentation: https://pandas.pydata.org/pandas-docs/stable/user_guide/indexing.html#returning-a-view-versus-a-copy\n",
      "  movie_marged_required_col['crew'] = movie_marged_required_col['crew'].apply(lambda x: [i.replace(\" \", \"\") for i in x])\n"
     ]
    }
   ],
   "source": [
    "movie_marged_required_col['genres'] = movie_marged_required_col['genres'].apply(lambda x: [i.replace(\" \", \"\") for i in x])\n",
    "movie_marged_required_col['keywords'] = movie_marged_required_col['keywords'].apply(lambda x: [i.replace(\" \", \"\") for i in x])\n",
    "movie_marged_required_col['overview'] = movie_marged_required_col['overview'].apply(lambda x: [i.replace(\" \", \"\") for i in x])\n",
    "movie_marged_required_col['cast'] = movie_marged_required_col['cast'].apply(lambda x: [i.replace(\" \", \"\") for i in x])\n",
    "movie_marged_required_col['crew'] = movie_marged_required_col['crew'].apply(lambda x: [i.replace(\" \", \"\") for i in x])"
   ],
   "metadata": {
    "collapsed": false
   }
  },
  {
   "cell_type": "code",
   "execution_count": 80,
   "outputs": [
    {
     "data": {
      "text/plain": "   movie_id                                     title  \\\n0     19995                                    Avatar   \n1       285  Pirates of the Caribbean: At World's End   \n2    206647                                   Spectre   \n3     49026                     The Dark Knight Rises   \n4     49529                               John Carter   \n\n                                         genres  \\\n0  [Action, Adventure, Fantasy, ScienceFiction]   \n1                  [Adventure, Fantasy, Action]   \n2                    [Action, Adventure, Crime]   \n3              [Action, Crime, Drama, Thriller]   \n4           [Action, Adventure, ScienceFiction]   \n\n                                            keywords  \\\n0  [cultureclash, future, spacewar, spacecolony, ...   \n1  [ocean, drugabuse, exoticisland, eastindiatrad...   \n2  [spy, basedonnovel, secretagent, sequel, mi6, ...   \n3  [dccomics, crimefighter, terrorist, secretiden...   \n4  [basedonnovel, mars, medallion, spacetravel, p...   \n\n                                            overview  \\\n0  [In, the, 22nd, century,, a, paraplegic, Marin...   \n1  [Captain, Barbossa,, long, believed, to, be, d...   \n2  [A, cryptic, message, from, Bond’s, past, send...   \n3  [Following, the, death, of, District, Attorney...   \n4  [John, Carter, is, a, war-weary,, former, mili...   \n\n                                            cast                crew  \n0  [SamWorthington, ZoeSaldana, SigourneyWeaver]      [JamesCameron]  \n1     [JohnnyDepp, OrlandoBloom, KeiraKnightley]     [GoreVerbinski]  \n2      [DanielCraig, ChristophWaltz, LéaSeydoux]         [SamMendes]  \n3      [ChristianBale, MichaelCaine, GaryOldman]  [ChristopherNolan]  \n4    [TaylorKitsch, LynnCollins, SamanthaMorton]     [AndrewStanton]  ",
      "text/html": "<div>\n<style scoped>\n    .dataframe tbody tr th:only-of-type {\n        vertical-align: middle;\n    }\n\n    .dataframe tbody tr th {\n        vertical-align: top;\n    }\n\n    .dataframe thead th {\n        text-align: right;\n    }\n</style>\n<table border=\"1\" class=\"dataframe\">\n  <thead>\n    <tr style=\"text-align: right;\">\n      <th></th>\n      <th>movie_id</th>\n      <th>title</th>\n      <th>genres</th>\n      <th>keywords</th>\n      <th>overview</th>\n      <th>cast</th>\n      <th>crew</th>\n    </tr>\n  </thead>\n  <tbody>\n    <tr>\n      <th>0</th>\n      <td>19995</td>\n      <td>Avatar</td>\n      <td>[Action, Adventure, Fantasy, ScienceFiction]</td>\n      <td>[cultureclash, future, spacewar, spacecolony, ...</td>\n      <td>[In, the, 22nd, century,, a, paraplegic, Marin...</td>\n      <td>[SamWorthington, ZoeSaldana, SigourneyWeaver]</td>\n      <td>[JamesCameron]</td>\n    </tr>\n    <tr>\n      <th>1</th>\n      <td>285</td>\n      <td>Pirates of the Caribbean: At World's End</td>\n      <td>[Adventure, Fantasy, Action]</td>\n      <td>[ocean, drugabuse, exoticisland, eastindiatrad...</td>\n      <td>[Captain, Barbossa,, long, believed, to, be, d...</td>\n      <td>[JohnnyDepp, OrlandoBloom, KeiraKnightley]</td>\n      <td>[GoreVerbinski]</td>\n    </tr>\n    <tr>\n      <th>2</th>\n      <td>206647</td>\n      <td>Spectre</td>\n      <td>[Action, Adventure, Crime]</td>\n      <td>[spy, basedonnovel, secretagent, sequel, mi6, ...</td>\n      <td>[A, cryptic, message, from, Bond’s, past, send...</td>\n      <td>[DanielCraig, ChristophWaltz, LéaSeydoux]</td>\n      <td>[SamMendes]</td>\n    </tr>\n    <tr>\n      <th>3</th>\n      <td>49026</td>\n      <td>The Dark Knight Rises</td>\n      <td>[Action, Crime, Drama, Thriller]</td>\n      <td>[dccomics, crimefighter, terrorist, secretiden...</td>\n      <td>[Following, the, death, of, District, Attorney...</td>\n      <td>[ChristianBale, MichaelCaine, GaryOldman]</td>\n      <td>[ChristopherNolan]</td>\n    </tr>\n    <tr>\n      <th>4</th>\n      <td>49529</td>\n      <td>John Carter</td>\n      <td>[Action, Adventure, ScienceFiction]</td>\n      <td>[basedonnovel, mars, medallion, spacetravel, p...</td>\n      <td>[John, Carter, is, a, war-weary,, former, mili...</td>\n      <td>[TaylorKitsch, LynnCollins, SamanthaMorton]</td>\n      <td>[AndrewStanton]</td>\n    </tr>\n  </tbody>\n</table>\n</div>"
     },
     "execution_count": 80,
     "metadata": {},
     "output_type": "execute_result"
    }
   ],
   "source": [
    "movie_marged_required_col.head()"
   ],
   "metadata": {
    "collapsed": false
   }
  },
  {
   "cell_type": "code",
   "execution_count": 82,
   "outputs": [],
   "source": [
    "movie = movie_marged_required_col.copy()"
   ],
   "metadata": {
    "collapsed": false
   }
  },
  {
   "cell_type": "code",
   "execution_count": 83,
   "outputs": [],
   "source": [
    "movie['tag'] = movie['genres'] + movie['keywords'] + movie['overview'] +  movie['cast'] + movie['crew']"
   ],
   "metadata": {
    "collapsed": false
   }
  },
  {
   "cell_type": "code",
   "execution_count": 84,
   "outputs": [
    {
     "data": {
      "text/plain": "   movie_id                                     title  \\\n0     19995                                    Avatar   \n1       285  Pirates of the Caribbean: At World's End   \n2    206647                                   Spectre   \n3     49026                     The Dark Knight Rises   \n4     49529                               John Carter   \n\n                                         genres  \\\n0  [Action, Adventure, Fantasy, ScienceFiction]   \n1                  [Adventure, Fantasy, Action]   \n2                    [Action, Adventure, Crime]   \n3              [Action, Crime, Drama, Thriller]   \n4           [Action, Adventure, ScienceFiction]   \n\n                                            keywords  \\\n0  [cultureclash, future, spacewar, spacecolony, ...   \n1  [ocean, drugabuse, exoticisland, eastindiatrad...   \n2  [spy, basedonnovel, secretagent, sequel, mi6, ...   \n3  [dccomics, crimefighter, terrorist, secretiden...   \n4  [basedonnovel, mars, medallion, spacetravel, p...   \n\n                                            overview  \\\n0  [In, the, 22nd, century,, a, paraplegic, Marin...   \n1  [Captain, Barbossa,, long, believed, to, be, d...   \n2  [A, cryptic, message, from, Bond’s, past, send...   \n3  [Following, the, death, of, District, Attorney...   \n4  [John, Carter, is, a, war-weary,, former, mili...   \n\n                                            cast                crew  \\\n0  [SamWorthington, ZoeSaldana, SigourneyWeaver]      [JamesCameron]   \n1     [JohnnyDepp, OrlandoBloom, KeiraKnightley]     [GoreVerbinski]   \n2      [DanielCraig, ChristophWaltz, LéaSeydoux]         [SamMendes]   \n3      [ChristianBale, MichaelCaine, GaryOldman]  [ChristopherNolan]   \n4    [TaylorKitsch, LynnCollins, SamanthaMorton]     [AndrewStanton]   \n\n                                                 tag  \n0  [Action, Adventure, Fantasy, ScienceFiction, c...  \n1  [Adventure, Fantasy, Action, ocean, drugabuse,...  \n2  [Action, Adventure, Crime, spy, basedonnovel, ...  \n3  [Action, Crime, Drama, Thriller, dccomics, cri...  \n4  [Action, Adventure, ScienceFiction, basedonnov...  ",
      "text/html": "<div>\n<style scoped>\n    .dataframe tbody tr th:only-of-type {\n        vertical-align: middle;\n    }\n\n    .dataframe tbody tr th {\n        vertical-align: top;\n    }\n\n    .dataframe thead th {\n        text-align: right;\n    }\n</style>\n<table border=\"1\" class=\"dataframe\">\n  <thead>\n    <tr style=\"text-align: right;\">\n      <th></th>\n      <th>movie_id</th>\n      <th>title</th>\n      <th>genres</th>\n      <th>keywords</th>\n      <th>overview</th>\n      <th>cast</th>\n      <th>crew</th>\n      <th>tag</th>\n    </tr>\n  </thead>\n  <tbody>\n    <tr>\n      <th>0</th>\n      <td>19995</td>\n      <td>Avatar</td>\n      <td>[Action, Adventure, Fantasy, ScienceFiction]</td>\n      <td>[cultureclash, future, spacewar, spacecolony, ...</td>\n      <td>[In, the, 22nd, century,, a, paraplegic, Marin...</td>\n      <td>[SamWorthington, ZoeSaldana, SigourneyWeaver]</td>\n      <td>[JamesCameron]</td>\n      <td>[Action, Adventure, Fantasy, ScienceFiction, c...</td>\n    </tr>\n    <tr>\n      <th>1</th>\n      <td>285</td>\n      <td>Pirates of the Caribbean: At World's End</td>\n      <td>[Adventure, Fantasy, Action]</td>\n      <td>[ocean, drugabuse, exoticisland, eastindiatrad...</td>\n      <td>[Captain, Barbossa,, long, believed, to, be, d...</td>\n      <td>[JohnnyDepp, OrlandoBloom, KeiraKnightley]</td>\n      <td>[GoreVerbinski]</td>\n      <td>[Adventure, Fantasy, Action, ocean, drugabuse,...</td>\n    </tr>\n    <tr>\n      <th>2</th>\n      <td>206647</td>\n      <td>Spectre</td>\n      <td>[Action, Adventure, Crime]</td>\n      <td>[spy, basedonnovel, secretagent, sequel, mi6, ...</td>\n      <td>[A, cryptic, message, from, Bond’s, past, send...</td>\n      <td>[DanielCraig, ChristophWaltz, LéaSeydoux]</td>\n      <td>[SamMendes]</td>\n      <td>[Action, Adventure, Crime, spy, basedonnovel, ...</td>\n    </tr>\n    <tr>\n      <th>3</th>\n      <td>49026</td>\n      <td>The Dark Knight Rises</td>\n      <td>[Action, Crime, Drama, Thriller]</td>\n      <td>[dccomics, crimefighter, terrorist, secretiden...</td>\n      <td>[Following, the, death, of, District, Attorney...</td>\n      <td>[ChristianBale, MichaelCaine, GaryOldman]</td>\n      <td>[ChristopherNolan]</td>\n      <td>[Action, Crime, Drama, Thriller, dccomics, cri...</td>\n    </tr>\n    <tr>\n      <th>4</th>\n      <td>49529</td>\n      <td>John Carter</td>\n      <td>[Action, Adventure, ScienceFiction]</td>\n      <td>[basedonnovel, mars, medallion, spacetravel, p...</td>\n      <td>[John, Carter, is, a, war-weary,, former, mili...</td>\n      <td>[TaylorKitsch, LynnCollins, SamanthaMorton]</td>\n      <td>[AndrewStanton]</td>\n      <td>[Action, Adventure, ScienceFiction, basedonnov...</td>\n    </tr>\n  </tbody>\n</table>\n</div>"
     },
     "execution_count": 84,
     "metadata": {},
     "output_type": "execute_result"
    }
   ],
   "source": [
    "movie.head()"
   ],
   "metadata": {
    "collapsed": false
   }
  },
  {
   "cell_type": "code",
   "execution_count": 86,
   "outputs": [],
   "source": [
    "movie = movie[['movie_id', 'title', 'tag']]"
   ],
   "metadata": {
    "collapsed": false
   }
  },
  {
   "cell_type": "code",
   "execution_count": 87,
   "outputs": [
    {
     "data": {
      "text/plain": "   movie_id                                     title  \\\n0     19995                                    Avatar   \n1       285  Pirates of the Caribbean: At World's End   \n2    206647                                   Spectre   \n3     49026                     The Dark Knight Rises   \n4     49529                               John Carter   \n\n                                                 tag  \n0  [Action, Adventure, Fantasy, ScienceFiction, c...  \n1  [Adventure, Fantasy, Action, ocean, drugabuse,...  \n2  [Action, Adventure, Crime, spy, basedonnovel, ...  \n3  [Action, Crime, Drama, Thriller, dccomics, cri...  \n4  [Action, Adventure, ScienceFiction, basedonnov...  ",
      "text/html": "<div>\n<style scoped>\n    .dataframe tbody tr th:only-of-type {\n        vertical-align: middle;\n    }\n\n    .dataframe tbody tr th {\n        vertical-align: top;\n    }\n\n    .dataframe thead th {\n        text-align: right;\n    }\n</style>\n<table border=\"1\" class=\"dataframe\">\n  <thead>\n    <tr style=\"text-align: right;\">\n      <th></th>\n      <th>movie_id</th>\n      <th>title</th>\n      <th>tag</th>\n    </tr>\n  </thead>\n  <tbody>\n    <tr>\n      <th>0</th>\n      <td>19995</td>\n      <td>Avatar</td>\n      <td>[Action, Adventure, Fantasy, ScienceFiction, c...</td>\n    </tr>\n    <tr>\n      <th>1</th>\n      <td>285</td>\n      <td>Pirates of the Caribbean: At World's End</td>\n      <td>[Adventure, Fantasy, Action, ocean, drugabuse,...</td>\n    </tr>\n    <tr>\n      <th>2</th>\n      <td>206647</td>\n      <td>Spectre</td>\n      <td>[Action, Adventure, Crime, spy, basedonnovel, ...</td>\n    </tr>\n    <tr>\n      <th>3</th>\n      <td>49026</td>\n      <td>The Dark Knight Rises</td>\n      <td>[Action, Crime, Drama, Thriller, dccomics, cri...</td>\n    </tr>\n    <tr>\n      <th>4</th>\n      <td>49529</td>\n      <td>John Carter</td>\n      <td>[Action, Adventure, ScienceFiction, basedonnov...</td>\n    </tr>\n  </tbody>\n</table>\n</div>"
     },
     "execution_count": 87,
     "metadata": {},
     "output_type": "execute_result"
    }
   ],
   "source": [
    "movie.head()"
   ],
   "metadata": {
    "collapsed": false
   }
  },
  {
   "cell_type": "code",
   "execution_count": 88,
   "outputs": [
    {
     "name": "stderr",
     "output_type": "stream",
     "text": [
      "C:\\Users\\UMEGS\\AppData\\Local\\Temp\\ipykernel_75028\\507478619.py:1: SettingWithCopyWarning: \n",
      "A value is trying to be set on a copy of a slice from a DataFrame.\n",
      "Try using .loc[row_indexer,col_indexer] = value instead\n",
      "\n",
      "See the caveats in the documentation: https://pandas.pydata.org/pandas-docs/stable/user_guide/indexing.html#returning-a-view-versus-a-copy\n",
      "  movie['tag'] = movie['tag'].apply(lambda x: \" \".join(x))\n"
     ]
    }
   ],
   "source": [
    "movie['tag'] = movie['tag'].apply(lambda x: \" \".join(x))"
   ],
   "metadata": {
    "collapsed": false
   }
  },
  {
   "cell_type": "code",
   "execution_count": 89,
   "outputs": [
    {
     "data": {
      "text/plain": "   movie_id                                     title  \\\n0     19995                                    Avatar   \n1       285  Pirates of the Caribbean: At World's End   \n2    206647                                   Spectre   \n3     49026                     The Dark Knight Rises   \n4     49529                               John Carter   \n\n                                                 tag  \n0  Action Adventure Fantasy ScienceFiction cultur...  \n1  Adventure Fantasy Action ocean drugabuse exoti...  \n2  Action Adventure Crime spy basedonnovel secret...  \n3  Action Crime Drama Thriller dccomics crimefigh...  \n4  Action Adventure ScienceFiction basedonnovel m...  ",
      "text/html": "<div>\n<style scoped>\n    .dataframe tbody tr th:only-of-type {\n        vertical-align: middle;\n    }\n\n    .dataframe tbody tr th {\n        vertical-align: top;\n    }\n\n    .dataframe thead th {\n        text-align: right;\n    }\n</style>\n<table border=\"1\" class=\"dataframe\">\n  <thead>\n    <tr style=\"text-align: right;\">\n      <th></th>\n      <th>movie_id</th>\n      <th>title</th>\n      <th>tag</th>\n    </tr>\n  </thead>\n  <tbody>\n    <tr>\n      <th>0</th>\n      <td>19995</td>\n      <td>Avatar</td>\n      <td>Action Adventure Fantasy ScienceFiction cultur...</td>\n    </tr>\n    <tr>\n      <th>1</th>\n      <td>285</td>\n      <td>Pirates of the Caribbean: At World's End</td>\n      <td>Adventure Fantasy Action ocean drugabuse exoti...</td>\n    </tr>\n    <tr>\n      <th>2</th>\n      <td>206647</td>\n      <td>Spectre</td>\n      <td>Action Adventure Crime spy basedonnovel secret...</td>\n    </tr>\n    <tr>\n      <th>3</th>\n      <td>49026</td>\n      <td>The Dark Knight Rises</td>\n      <td>Action Crime Drama Thriller dccomics crimefigh...</td>\n    </tr>\n    <tr>\n      <th>4</th>\n      <td>49529</td>\n      <td>John Carter</td>\n      <td>Action Adventure ScienceFiction basedonnovel m...</td>\n    </tr>\n  </tbody>\n</table>\n</div>"
     },
     "execution_count": 89,
     "metadata": {},
     "output_type": "execute_result"
    }
   ],
   "source": [
    "movie.head()"
   ],
   "metadata": {
    "collapsed": false
   }
  },
  {
   "cell_type": "code",
   "execution_count": 90,
   "outputs": [
    {
     "name": "stderr",
     "output_type": "stream",
     "text": [
      "C:\\Users\\UMEGS\\AppData\\Local\\Temp\\ipykernel_75028\\1208244811.py:1: SettingWithCopyWarning: \n",
      "A value is trying to be set on a copy of a slice from a DataFrame.\n",
      "Try using .loc[row_indexer,col_indexer] = value instead\n",
      "\n",
      "See the caveats in the documentation: https://pandas.pydata.org/pandas-docs/stable/user_guide/indexing.html#returning-a-view-versus-a-copy\n",
      "  movie['tag'] = movie['tag'].apply(lambda x: x.lower())\n"
     ]
    }
   ],
   "source": [
    "movie['tag'] = movie['tag'].apply(lambda x: x.lower())"
   ],
   "metadata": {
    "collapsed": false
   }
  },
  {
   "cell_type": "code",
   "execution_count": 91,
   "outputs": [
    {
     "data": {
      "text/plain": "   movie_id                                     title  \\\n0     19995                                    Avatar   \n1       285  Pirates of the Caribbean: At World's End   \n2    206647                                   Spectre   \n3     49026                     The Dark Knight Rises   \n4     49529                               John Carter   \n\n                                                 tag  \n0  action adventure fantasy sciencefiction cultur...  \n1  adventure fantasy action ocean drugabuse exoti...  \n2  action adventure crime spy basedonnovel secret...  \n3  action crime drama thriller dccomics crimefigh...  \n4  action adventure sciencefiction basedonnovel m...  ",
      "text/html": "<div>\n<style scoped>\n    .dataframe tbody tr th:only-of-type {\n        vertical-align: middle;\n    }\n\n    .dataframe tbody tr th {\n        vertical-align: top;\n    }\n\n    .dataframe thead th {\n        text-align: right;\n    }\n</style>\n<table border=\"1\" class=\"dataframe\">\n  <thead>\n    <tr style=\"text-align: right;\">\n      <th></th>\n      <th>movie_id</th>\n      <th>title</th>\n      <th>tag</th>\n    </tr>\n  </thead>\n  <tbody>\n    <tr>\n      <th>0</th>\n      <td>19995</td>\n      <td>Avatar</td>\n      <td>action adventure fantasy sciencefiction cultur...</td>\n    </tr>\n    <tr>\n      <th>1</th>\n      <td>285</td>\n      <td>Pirates of the Caribbean: At World's End</td>\n      <td>adventure fantasy action ocean drugabuse exoti...</td>\n    </tr>\n    <tr>\n      <th>2</th>\n      <td>206647</td>\n      <td>Spectre</td>\n      <td>action adventure crime spy basedonnovel secret...</td>\n    </tr>\n    <tr>\n      <th>3</th>\n      <td>49026</td>\n      <td>The Dark Knight Rises</td>\n      <td>action crime drama thriller dccomics crimefigh...</td>\n    </tr>\n    <tr>\n      <th>4</th>\n      <td>49529</td>\n      <td>John Carter</td>\n      <td>action adventure sciencefiction basedonnovel m...</td>\n    </tr>\n  </tbody>\n</table>\n</div>"
     },
     "execution_count": 91,
     "metadata": {},
     "output_type": "execute_result"
    }
   ],
   "source": [
    "movie.head()"
   ],
   "metadata": {
    "collapsed": false
   }
  },
  {
   "cell_type": "markdown",
   "source": [
    "## Stemming"
   ],
   "metadata": {
    "collapsed": false
   }
  },
  {
   "cell_type": "code",
   "execution_count": 93,
   "outputs": [],
   "source": [
    "# ['love', 'Loved', 'loving'] = love"
   ],
   "metadata": {
    "collapsed": false
   }
  },
  {
   "cell_type": "code",
   "execution_count": 94,
   "outputs": [],
   "source": [
    "ps = PorterStemmer()"
   ],
   "metadata": {
    "collapsed": false
   }
  },
  {
   "cell_type": "code",
   "execution_count": 95,
   "outputs": [],
   "source": [
    "def staming(text):\n",
    "    stemed_text = [ps.stem(word) for word in text.split()]\n",
    "    return \" \".join(stemed_text)"
   ],
   "metadata": {
    "collapsed": false
   }
  },
  {
   "cell_type": "code",
   "execution_count": 97,
   "outputs": [
    {
     "name": "stderr",
     "output_type": "stream",
     "text": [
      "C:\\Users\\UMEGS\\AppData\\Local\\Temp\\ipykernel_75028\\4233819178.py:1: SettingWithCopyWarning: \n",
      "A value is trying to be set on a copy of a slice from a DataFrame.\n",
      "Try using .loc[row_indexer,col_indexer] = value instead\n",
      "\n",
      "See the caveats in the documentation: https://pandas.pydata.org/pandas-docs/stable/user_guide/indexing.html#returning-a-view-versus-a-copy\n",
      "  movie['tag'] = movie['tag'].apply(staming)\n"
     ]
    }
   ],
   "source": [
    "movie['tag'] = movie['tag'].apply(staming)"
   ],
   "metadata": {
    "collapsed": false
   }
  },
  {
   "cell_type": "code",
   "execution_count": 98,
   "outputs": [
    {
     "data": {
      "text/plain": "   movie_id                                     title  \\\n0     19995                                    Avatar   \n1       285  Pirates of the Caribbean: At World's End   \n2    206647                                   Spectre   \n3     49026                     The Dark Knight Rises   \n4     49529                               John Carter   \n\n                                                 tag  \n0  action adventur fantasi sciencefict culturecla...  \n1  adventur fantasi action ocean drugabus exotici...  \n2  action adventur crime spi basedonnovel secreta...  \n3  action crime drama thriller dccomic crimefight...  \n4  action adventur sciencefict basedonnovel mar m...  ",
      "text/html": "<div>\n<style scoped>\n    .dataframe tbody tr th:only-of-type {\n        vertical-align: middle;\n    }\n\n    .dataframe tbody tr th {\n        vertical-align: top;\n    }\n\n    .dataframe thead th {\n        text-align: right;\n    }\n</style>\n<table border=\"1\" class=\"dataframe\">\n  <thead>\n    <tr style=\"text-align: right;\">\n      <th></th>\n      <th>movie_id</th>\n      <th>title</th>\n      <th>tag</th>\n    </tr>\n  </thead>\n  <tbody>\n    <tr>\n      <th>0</th>\n      <td>19995</td>\n      <td>Avatar</td>\n      <td>action adventur fantasi sciencefict culturecla...</td>\n    </tr>\n    <tr>\n      <th>1</th>\n      <td>285</td>\n      <td>Pirates of the Caribbean: At World's End</td>\n      <td>adventur fantasi action ocean drugabus exotici...</td>\n    </tr>\n    <tr>\n      <th>2</th>\n      <td>206647</td>\n      <td>Spectre</td>\n      <td>action adventur crime spi basedonnovel secreta...</td>\n    </tr>\n    <tr>\n      <th>3</th>\n      <td>49026</td>\n      <td>The Dark Knight Rises</td>\n      <td>action crime drama thriller dccomic crimefight...</td>\n    </tr>\n    <tr>\n      <th>4</th>\n      <td>49529</td>\n      <td>John Carter</td>\n      <td>action adventur sciencefict basedonnovel mar m...</td>\n    </tr>\n  </tbody>\n</table>\n</div>"
     },
     "execution_count": 98,
     "metadata": {},
     "output_type": "execute_result"
    }
   ],
   "source": [
    "movie.head()"
   ],
   "metadata": {
    "collapsed": false
   }
  },
  {
   "cell_type": "code",
   "execution_count": 99,
   "outputs": [],
   "source": [
    "cv = CountVectorizer(max_features=5000, stop_words='english')"
   ],
   "metadata": {
    "collapsed": false
   }
  },
  {
   "cell_type": "code",
   "execution_count": 100,
   "outputs": [],
   "source": [
    "vectorized_tag = cv.fit_transform(movie['tag'])"
   ],
   "metadata": {
    "collapsed": false
   }
  },
  {
   "cell_type": "code",
   "execution_count": 101,
   "outputs": [
    {
     "data": {
      "text/plain": "(4806, 5000)"
     },
     "execution_count": 101,
     "metadata": {},
     "output_type": "execute_result"
    }
   ],
   "source": [
    "vectorized_tag.shape"
   ],
   "metadata": {
    "collapsed": false
   }
  },
  {
   "cell_type": "code",
   "execution_count": 102,
   "outputs": [
    {
     "name": "stderr",
     "output_type": "stream",
     "text": [
      "c:\\users\\umegs\\appdata\\local\\programs\\python\\python38\\lib\\site-packages\\sklearn\\utils\\deprecation.py:87: FutureWarning: Function get_feature_names is deprecated; get_feature_names is deprecated in 1.0 and will be removed in 1.2. Please use get_feature_names_out instead.\n",
      "  warnings.warn(msg, category=FutureWarning)\n"
     ]
    },
    {
     "data": {
      "text/plain": "['000',\n '007',\n '10',\n '100',\n '11',\n '12',\n '13',\n '14',\n '15',\n '16',\n '17',\n '17th',\n '18',\n '18th',\n '18thcenturi',\n '19',\n '1910',\n '1920',\n '1930',\n '1940',\n '1944',\n '1950',\n '1950s',\n '1960',\n '1960s',\n '1970',\n '1970s',\n '1971',\n '1974',\n '1976',\n '1980',\n '1985',\n '1990',\n '1999',\n '19th',\n '19thcenturi',\n '20',\n '200',\n '2003',\n '2009',\n '20th',\n '21st',\n '23',\n '24',\n '25',\n '30',\n '300',\n '3d',\n '40',\n '50',\n '500',\n '60',\n '70',\n '80',\n 'aaron',\n 'aaroneckhart',\n 'abandon',\n 'abduct',\n 'abigailbreslin',\n 'abil',\n 'abl',\n 'aboard',\n 'abov',\n 'abus',\n 'academ',\n 'academi',\n 'accept',\n 'access',\n 'accid',\n 'accident',\n 'acclaim',\n 'accompani',\n 'accomplish',\n 'account',\n 'accus',\n 'ace',\n 'achiev',\n 'acquaint',\n 'act',\n 'action',\n 'actionhero',\n 'activ',\n 'activist',\n 'activities',\n 'actor',\n 'actress',\n 'actual',\n 'ad',\n 'adam',\n 'adamsandl',\n 'adamshankman',\n 'adapt',\n 'add',\n 'addict',\n 'adjust',\n 'admir',\n 'admit',\n 'adolesc',\n 'adopt',\n 'ador',\n 'adrienbrodi',\n 'adult',\n 'adultanim',\n 'adulteri',\n 'adulthood',\n 'advanc',\n 'adventur',\n 'adventure',\n 'adventures',\n 'advertis',\n 'advic',\n 'advis',\n 'affair',\n 'affect',\n 'afghanistan',\n 'africa',\n 'african',\n 'africanamerican',\n 'aftercreditssting',\n 'afterlif',\n 'aftermath',\n 'ag',\n 'age',\n 'agediffer',\n 'agenc',\n 'agency',\n 'agenda',\n 'agent',\n 'agents',\n 'aggress',\n 'ago',\n 'agre',\n 'ahead',\n 'aid',\n 'aidanquinn',\n 'ail',\n 'aim',\n 'air',\n 'airplan',\n 'airplanecrash',\n 'airport',\n 'aka',\n 'al',\n 'alabama',\n 'alan',\n 'alaska',\n 'albert',\n 'alcatraz',\n 'alcohol',\n 'alecbaldwin',\n 'alex',\n 'alexkendrick',\n 'alfredhitchcock',\n 'alfredmolina',\n 'ali',\n 'alic',\n 'alice',\n 'alien',\n 'alieninvas',\n 'alienlife',\n 'alienplanet',\n 'aliens',\n 'alik',\n 'aliv',\n 'alive',\n 'allen',\n 'alli',\n 'allianc',\n 'allow',\n 'alon',\n 'alongsid',\n 'alpacino',\n 'alpha',\n 'alreadi',\n 'alter',\n 'altern',\n 'alway',\n 'alyssa',\n 'alzheimer',\n 'amanda',\n 'amandapeet',\n 'amandaseyfri',\n 'amateur',\n 'amaz',\n 'amazon',\n 'ambassador',\n 'ambit',\n 'ambiti',\n 'ambul',\n 'ambush',\n 'america',\n 'american',\n 'americanabroad',\n 'americancivilwar',\n 'americanfootbal',\n 'americanfootballplay',\n 'amid',\n 'amidst',\n 'amnesia',\n 'amp',\n 'amsterdam',\n 'amus',\n 'amusementpark',\n 'amy',\n 'amyadam',\n 'amysmart',\n 'ana',\n 'anakin',\n 'analyst',\n 'anarchiccomedi',\n 'ancient',\n 'ancientrom',\n 'ancientworld',\n 'anderson',\n 'andi',\n 'andiemacdowel',\n 'andrew',\n 'android',\n 'andy',\n 'andygarcía',\n 'angel',\n 'angela',\n 'angelabassett',\n 'angeles',\n 'angelinajoli',\n 'anger',\n 'angle',\n 'angri',\n 'ani',\n 'anim',\n 'animalattack',\n 'animalhorror',\n 'animals',\n 'anjelicahuston',\n 'ann',\n 'anna',\n 'annafari',\n 'annakendrick',\n 'anne',\n 'annehathaway',\n 'annemoss',\n 'annetteben',\n 'anni',\n 'annie',\n 'anniversari',\n 'announc',\n 'annual',\n 'anonym',\n 'anoth',\n 'answer',\n 'ant',\n 'antholog',\n 'anthoni',\n 'anthonyanderson',\n 'anthonyhopkin',\n 'anthonymacki',\n 'anthropomorph',\n 'anti',\n 'antic',\n 'antihero',\n 'antiqu',\n 'antoinefuqua',\n 'antoniobandera',\n 'antonyelchin',\n 'anyon',\n 'anyth',\n 'apart',\n 'apartheid',\n 'apartment',\n 'ape',\n 'apocalyps',\n 'apocalypse',\n 'apocalypt',\n 'appar',\n 'appear',\n 'appl',\n 'apple',\n 'appoint',\n 'appreci',\n 'apprentic',\n 'approach',\n 'april',\n 'aquarium',\n 'arab',\n 'arch',\n 'archaeologist',\n 'archeolog',\n 'archer',\n 'architect',\n 'arctic',\n 'area',\n 'aren',\n 'arena',\n 'argument',\n 'aris',\n 'aristocrat',\n 'arm',\n 'armi',\n 'armor',\n 'armsdeal',\n 'army',\n 'arnold',\n 'arnoldschwarzenegg',\n 'arrang',\n 'arrangedmarriag',\n 'arrest',\n 'arriv',\n 'arrog',\n 'art',\n 'arthur',\n 'artifact',\n 'artifici',\n 'artificialintellig',\n 'artist',\n 'ash',\n 'ashley',\n 'ashleyjudd',\n 'ashtonkutch',\n 'asia',\n 'asian',\n 'asid',\n 'ask',\n 'aspect',\n 'aspir',\n 'assassin',\n 'assault',\n 'assembl',\n 'assign',\n 'assist',\n 'assistant',\n 'associ',\n 'assum',\n 'asteroid',\n 'astronaut',\n 'asylum',\n 'atheist',\n 'athlet',\n 'atom',\n 'atomicbomb',\n 'attack',\n 'attacks',\n 'attempt',\n 'attempttoescap',\n 'attend',\n 'attent',\n 'attic',\n 'attitud',\n 'attorney',\n 'attract',\n 'auction',\n 'audienc',\n 'audit',\n 'august',\n 'aunt',\n 'austin',\n 'australia',\n 'australian',\n 'author',\n 'autism',\n 'auto',\n 'automobilerac',\n 'aveng',\n 'averag',\n 'avoid',\n 'await',\n 'awak',\n 'awaken',\n 'award',\n 'away',\n 'awkward',\n 'awri',\n 'awry',\n 'ax',\n 'babe',\n 'babi',\n 'baby',\n 'bachelor',\n 'backdrop',\n 'background',\n 'backpack',\n 'bad',\n 'bag',\n 'bahama',\n 'bail',\n 'balanc',\n 'ball',\n 'ballet',\n 'balloon',\n 'ban',\n 'band',\n 'bandit',\n 'bangkok',\n 'banish',\n 'bank',\n 'banker',\n 'bankrobb',\n 'bankrobberi',\n 'bar',\n 'barbrastreisand',\n 'bare',\n 'bargain',\n 'barn',\n 'barney',\n 'baron',\n 'barri',\n 'barrylevinson',\n 'barrysonnenfeld',\n 'bas',\n 'base',\n 'basebal',\n 'basedoncomicbook',\n 'basedongraphicnovel',\n 'basedonnovel',\n 'basedonplay',\n 'basedonstagemus',\n 'basedontrueev',\n 'basedontruestori',\n 'basedontvseri',\n 'basedonvideogam',\n 'basedonyoungadultnovel',\n 'basement',\n 'basketbal',\n 'bat',\n 'batman',\n 'battl',\n 'battle',\n 'battlefield',\n 'bay',\n 'beach',\n 'beam',\n 'bear',\n 'beard',\n 'beast',\n 'beat',\n 'beauti',\n 'beautiful',\n 'beautifulwoman',\n 'beauty',\n 'becam',\n 'becaus',\n 'becki',\n 'becom',\n 'becominganadult',\n 'bed',\n 'bedroom',\n 'beer',\n 'befor',\n 'befriend',\n 'began',\n 'begin',\n 'begins',\n 'behavior',\n 'belief',\n 'believ',\n 'bell',\n 'bella',\n 'belong',\n 'belov',\n 'ben',\n 'benaffleck',\n 'bend',\n 'beneath',\n 'benefit',\n 'benfost',\n 'beniciodeltoro',\n 'benjamin',\n 'benjaminbratt',\n 'benkingsley',\n 'bennett',\n 'benstil',\n 'bent',\n 'berlin',\n 'best',\n 'bestfriend',\n 'bestfriendsinlov',\n 'bet',\n 'beth',\n 'betray',\n 'bettemidl',\n 'better',\n 'betti',\n 'beverli',\n 'bibl',\n 'bid',\n 'big',\n 'bigger',\n 'biggest',\n 'bike',\n 'biker',\n 'bikini',\n 'billhad',\n 'billi',\n 'billionair',\n 'billmurray',\n 'billnighi',\n 'billpaxton',\n 'billpullman',\n 'billybobthornton',\n 'billycrudup',\n 'billycryst',\n 'biographi',\n 'biolog',\n 'bird',\n 'birth',\n 'birthday',\n 'bisexu',\n 'bishop',\n 'bit',\n 'bite',\n 'bitter',\n 'bizarr',\n 'black',\n 'blackmag',\n 'blackmail',\n 'blackpeopl',\n 'blacksmith',\n 'blade',\n 'blame',\n 'blend',\n 'blind',\n 'bliss',\n 'blizzard',\n 'block',\n 'blond',\n 'blood',\n 'bloodi',\n 'bloodsplatt',\n 'bloodthirsti',\n 'blow',\n 'blue',\n 'board',\n 'boardingschool',\n 'boat',\n 'bob',\n 'bobbi',\n 'bobbyfarrelli',\n 'bobhoskin',\n 'bodi',\n 'body',\n 'bodyguard',\n 'bold',\n 'bollywood',\n 'bomb',\n 'bond',\n 'bone',\n 'book',\n 'border',\n 'bore',\n 'boredom',\n 'born',\n 'boss',\n 'boston',\n 'botch',\n 'bound',\n 'boundari',\n 'bounti',\n 'bountyhunt',\n 'box',\n 'boxer',\n 'boy',\n 'boyfriend',\n 'boys',\n 'bradleycoop',\n 'bradpitt',\n 'brain',\n 'brand',\n 'brandon',\n 'brave',\n 'braveri',\n 'brazil',\n 'brazilian',\n 'break',\n 'breakdown',\n 'breakup',\n 'breast',\n 'breath',\n 'breed',\n 'brendanfras',\n 'brendangleeson',\n 'brent',\n 'brettratn',\n 'brian',\n 'briandepalma',\n 'bride',\n 'bridesmaid',\n 'bridg',\n 'brief',\n 'brien',\n 'bright',\n 'brilliant',\n 'bring',\n 'brink',\n 'britain',\n 'british',\n 'britishsecretservic',\n 'brittanymurphi',\n 'broadcast',\n 'broadway',\n 'broke',\n 'broken',\n 'broker',\n 'bronx',\n 'brook',\n 'brooklyn',\n 'broom',\n 'brothel',\n 'brother',\n 'brotherbrotherrelationship',\n 'brothers',\n 'brothersisterrelationship',\n 'brought',\n 'brown',\n 'bruce',\n 'brucegreenwood',\n 'brucewilli',\n 'brutal',\n 'bryansing',\n 'bu',\n 'buck',\n 'bud',\n 'buddi',\n 'buddy',\n 'buddycomedi',\n 'buddycop',\n 'budget',\n 'build',\n 'building',\n 'built',\n 'bullet',\n 'bulli',\n 'bumbl',\n 'bunch',\n 'bunker',\n 'bunni',\n 'burglar',\n 'buri',\n 'burn',\n 'bush',\n 'busi',\n 'business',\n 'businessman',\n 'bust',\n 'butcher',\n 'butler',\n 'butt',\n 'button',\n 'buy',\n 'buzz',\n 'cabin',\n 'caesar',\n 'cage',\n 'cairo',\n 'cal',\n 'california',\n 'calvin',\n 'camcord',\n 'came',\n 'camera',\n 'cameraman',\n 'camerondiaz',\n 'camp',\n 'campaign',\n 'campbell',\n 'campu',\n 'canada',\n 'canadian',\n 'cancer',\n 'candi',\n 'candid',\n 'canin',\n 'cannib',\n 'canuxploit',\n 'capabl',\n 'caper',\n 'capit',\n 'capt',\n 'captain',\n 'captiv',\n 'captur',\n 'capture',\n 'car',\n 'caraccid',\n 'carchas',\n 'carcrash',\n 'card',\n 'care',\n 'career',\n 'carefre',\n 'caretak',\n 'careymulligan',\n 'caribbean',\n 'carjourney',\n 'carl',\n 'carlagugino',\n 'carmen',\n 'carol',\n 'carolina',\n 'carrac',\n 'carri',\n 'carrie',\n 'cartel',\n 'carter',\n 'cartoon',\n 'caryelw',\n 'case',\n 'caseyaffleck',\n 'cash',\n 'casino',\n 'cast',\n 'castl',\n 'cat',\n 'cataclysm',\n 'catastroph',\n 'catch',\n 'cateblanchett',\n 'catherinedeneuv',\n 'catherinekeen',\n 'catherinezeta',\n 'cathol',\n 'catholic',\n 'cattl',\n 'caught',\n 'caus',\n 'cavalri',\n 'cave',\n 'cavemen',\n 'celebr',\n 'celebration',\n 'cell',\n 'cellphon',\n 'cemeteri',\n 'center',\n 'centr',\n 'central',\n 'centuri',\n 'centuries',\n 'century',\n 'ceo',\n 'certain',\n 'chad',\n 'chain',\n 'chainsaw',\n 'challeng',\n 'chamber',\n 'champion',\n 'championship',\n 'chanc',\n 'chance',\n 'chang',\n 'change',\n 'changed',\n 'changes',\n 'channingtatum',\n 'chao',\n 'chaos',\n 'chaotic',\n 'chapter',\n 'charact',\n 'character',\n 'characters',\n 'charg',\n 'charismat',\n 'charl',\n 'charli',\n 'charlie',\n 'charliesheen',\n 'charlizetheron',\n 'charm',\n 'chart',\n 'chase',\n 'chauffeur',\n 'chazzpalminteri',\n 'cheat',\n 'check',\n 'cheerlead',\n 'chef',\n 'chemic',\n 'cher',\n 'chevychas',\n 'chicago',\n 'chicken',\n 'chief',\n 'child',\n 'childabus',\n 'childhero',\n 'childhood',\n 'childprodigi',\n 'children',\n 'chill',\n 'chimp',\n 'china',\n 'chines',\n 'chip',\n 'chipmunk',\n 'chiwetelejiofor',\n 'chloe',\n 'chloëgracemoretz',\n 'chloësevigni',\n 'chocol',\n 'choic',\n 'choice',\n 'choos',\n 'chosen',\n 'chowyun',\n 'chri',\n 'chriscolumbu',\n 'chriscoop',\n 'chrisevan',\n 'chrishemsworth',\n 'chrisklein',\n 'chrispin',\n 'chrisrock',\n 'christ',\n 'christian',\n 'christianbal',\n 'christianslat',\n 'christin',\n 'christinaappleg',\n 'christinaricci',\n 'christma',\n 'christmas',\n 'christmasparti',\n 'christmastre',\n 'christoph',\n 'christopherlambert',\n 'christopherlloyd',\n 'christophernolan',\n 'christopherplumm',\n 'christopherwalken',\n 'christophwaltz',\n 'chrisweitz',\n 'chronicl',\n 'chuck',\n 'church',\n 'cia',\n 'ciaránhind',\n 'cigarettesmok',\n 'cillianmurphi',\n 'cinema',\n 'circl',\n 'circu',\n 'circuit',\n 'circumst',\n 'citi',\n 'citizen',\n 'city',\n 'civil',\n 'civilian',\n 'civilwar',\n 'claim',\n 'clair',\n 'clairedan',\n 'claireforlani',\n 'clan',\n 'clark',\n 'clash',\n 'class',\n 'classdiffer',\n 'classic',\n 'classmat',\n 'classroom',\n 'claudevandamm',\n 'clay',\n 'clean',\n 'clear',\n 'clerk',\n 'clever',\n 'client',\n 'clients',\n 'cliff',\n 'climat',\n 'climb',\n 'clinteastwood',\n 'cliveowen',\n 'clock',\n 'clone',\n 'close',\n 'closer',\n 'cloud',\n 'clown',\n 'club',\n 'clue',\n 'clueless',\n 'clutch',\n 'coach',\n 'coast',\n 'cocain',\n 'code',\n 'coffin',\n 'cohen',\n 'col',\n 'cold',\n 'coldwar',\n 'cole',\n 'colin',\n 'colinfarrel',\n 'colinfirth',\n 'collaps',\n 'colleagu',\n 'collect',\n 'collector',\n 'colleg',\n 'college',\n 'collid',\n 'collis',\n 'colombia',\n 'colonel',\n 'coloni',\n 'color',\n 'colorado',\n 'coma',\n 'combat',\n 'combin',\n 'come',\n 'comeback',\n 'comed',\n 'comedi',\n 'comedian',\n 'comedy',\n 'comet',\n 'comfort',\n 'comic',\n 'coming',\n 'comingofag',\n 'comingout',\n 'command',\n 'commando',\n 'commerci',\n 'commiss',\n 'commit',\n 'common',\n 'commun',\n 'communist',\n 'community',\n 'compani',\n 'companion',\n 'company',\n 'compet',\n 'competit',\n 'competition',\n 'complet',\n 'complex',\n 'complic',\n 'compos',\n 'compuls',\n 'comput',\n 'computerviru',\n 'conan',\n 'concern',\n 'concert',\n 'concoct',\n 'condit',\n 'condition',\n 'conduct',\n 'confeder',\n 'confess',\n 'confid',\n 'confin',\n 'conflict',\n 'confront',\n 'confus',\n 'congress',\n 'conman',\n 'connect',\n 'connecticut',\n 'connel',\n 'connor',\n 'conquer',\n 'consequ',\n 'consequences',\n 'conserv',\n 'consid',\n 'conspir',\n 'conspiraci',\n 'conspiracy',\n 'constant',\n 'constantli',\n 'construct',\n 'consum',\n 'contact',\n 'contain',\n 'contemporari',\n 'contend',\n 'content',\n 'contest',\n 'continu',\n 'contract',\n 'contractor',\n 'control',\n 'controversi',\n 'convent',\n 'converg',\n 'convers',\n 'convict',\n 'convinc',\n 'cook',\n 'cool',\n 'cooper',\n 'cop',\n 'cope',\n ...]"
     },
     "execution_count": 102,
     "metadata": {},
     "output_type": "execute_result"
    }
   ],
   "source": [
    "cv.get_feature_names()"
   ],
   "metadata": {
    "collapsed": false
   }
  },
  {
   "cell_type": "code",
   "execution_count": 103,
   "outputs": [
    {
     "name": "stderr",
     "output_type": "stream",
     "text": [
      "c:\\users\\umegs\\appdata\\local\\programs\\python\\python38\\lib\\site-packages\\sklearn\\utils\\deprecation.py:87: FutureWarning: Function get_feature_names is deprecated; get_feature_names is deprecated in 1.0 and will be removed in 1.2. Please use get_feature_names_out instead.\n",
      "  warnings.warn(msg, category=FutureWarning)\n"
     ]
    },
    {
     "data": {
      "text/plain": "      000  007  10  100  11  12  13  14  15  16  ...  zhangziyi  zion  zoe  \\\n0       0    0   0    0   0   0   0   0   0   0  ...          0     0    0   \n1       0    0   0    0   0   0   0   0   0   0  ...          0     0    0   \n2       0    0   0    0   0   0   0   0   0   0  ...          0     0    0   \n3       0    0   0    0   0   0   0   0   0   0  ...          0     0    0   \n4       0    0   0    0   0   0   0   0   0   0  ...          0     0    0   \n...   ...  ...  ..  ...  ..  ..  ..  ..  ..  ..  ...        ...   ...  ...   \n4801    0    0   0    0   0   0   0   0   0   0  ...          0     0    0   \n4802    0    0   0    0   0   0   0   0   0   0  ...          0     0    0   \n4803    0    0   0    0   0   0   0   0   0   0  ...          0     0    0   \n4804    0    0   0    0   0   0   0   0   0   0  ...          0     0    0   \n4805    0    0   0    0   0   0   0   0   0   0  ...          0     0    0   \n\n      zoesaldana  zombi  zombieapocalyps  zombies  zone  zoo  zooeydeschanel  \n0              1      0                0        0     0    0               0  \n1              0      0                0        0     0    0               0  \n2              0      0                0        0     0    0               0  \n3              0      0                0        0     0    0               0  \n4              0      0                0        0     0    0               0  \n...          ...    ...              ...      ...   ...  ...             ...  \n4801           0      0                0        0     0    0               0  \n4802           0      0                0        0     0    0               0  \n4803           0      0                0        0     0    0               0  \n4804           0      0                0        0     0    0               0  \n4805           0      0                0        0     0    0               0  \n\n[4806 rows x 5000 columns]",
      "text/html": "<div>\n<style scoped>\n    .dataframe tbody tr th:only-of-type {\n        vertical-align: middle;\n    }\n\n    .dataframe tbody tr th {\n        vertical-align: top;\n    }\n\n    .dataframe thead th {\n        text-align: right;\n    }\n</style>\n<table border=\"1\" class=\"dataframe\">\n  <thead>\n    <tr style=\"text-align: right;\">\n      <th></th>\n      <th>000</th>\n      <th>007</th>\n      <th>10</th>\n      <th>100</th>\n      <th>11</th>\n      <th>12</th>\n      <th>13</th>\n      <th>14</th>\n      <th>15</th>\n      <th>16</th>\n      <th>...</th>\n      <th>zhangziyi</th>\n      <th>zion</th>\n      <th>zoe</th>\n      <th>zoesaldana</th>\n      <th>zombi</th>\n      <th>zombieapocalyps</th>\n      <th>zombies</th>\n      <th>zone</th>\n      <th>zoo</th>\n      <th>zooeydeschanel</th>\n    </tr>\n  </thead>\n  <tbody>\n    <tr>\n      <th>0</th>\n      <td>0</td>\n      <td>0</td>\n      <td>0</td>\n      <td>0</td>\n      <td>0</td>\n      <td>0</td>\n      <td>0</td>\n      <td>0</td>\n      <td>0</td>\n      <td>0</td>\n      <td>...</td>\n      <td>0</td>\n      <td>0</td>\n      <td>0</td>\n      <td>1</td>\n      <td>0</td>\n      <td>0</td>\n      <td>0</td>\n      <td>0</td>\n      <td>0</td>\n      <td>0</td>\n    </tr>\n    <tr>\n      <th>1</th>\n      <td>0</td>\n      <td>0</td>\n      <td>0</td>\n      <td>0</td>\n      <td>0</td>\n      <td>0</td>\n      <td>0</td>\n      <td>0</td>\n      <td>0</td>\n      <td>0</td>\n      <td>...</td>\n      <td>0</td>\n      <td>0</td>\n      <td>0</td>\n      <td>0</td>\n      <td>0</td>\n      <td>0</td>\n      <td>0</td>\n      <td>0</td>\n      <td>0</td>\n      <td>0</td>\n    </tr>\n    <tr>\n      <th>2</th>\n      <td>0</td>\n      <td>0</td>\n      <td>0</td>\n      <td>0</td>\n      <td>0</td>\n      <td>0</td>\n      <td>0</td>\n      <td>0</td>\n      <td>0</td>\n      <td>0</td>\n      <td>...</td>\n      <td>0</td>\n      <td>0</td>\n      <td>0</td>\n      <td>0</td>\n      <td>0</td>\n      <td>0</td>\n      <td>0</td>\n      <td>0</td>\n      <td>0</td>\n      <td>0</td>\n    </tr>\n    <tr>\n      <th>3</th>\n      <td>0</td>\n      <td>0</td>\n      <td>0</td>\n      <td>0</td>\n      <td>0</td>\n      <td>0</td>\n      <td>0</td>\n      <td>0</td>\n      <td>0</td>\n      <td>0</td>\n      <td>...</td>\n      <td>0</td>\n      <td>0</td>\n      <td>0</td>\n      <td>0</td>\n      <td>0</td>\n      <td>0</td>\n      <td>0</td>\n      <td>0</td>\n      <td>0</td>\n      <td>0</td>\n    </tr>\n    <tr>\n      <th>4</th>\n      <td>0</td>\n      <td>0</td>\n      <td>0</td>\n      <td>0</td>\n      <td>0</td>\n      <td>0</td>\n      <td>0</td>\n      <td>0</td>\n      <td>0</td>\n      <td>0</td>\n      <td>...</td>\n      <td>0</td>\n      <td>0</td>\n      <td>0</td>\n      <td>0</td>\n      <td>0</td>\n      <td>0</td>\n      <td>0</td>\n      <td>0</td>\n      <td>0</td>\n      <td>0</td>\n    </tr>\n    <tr>\n      <th>...</th>\n      <td>...</td>\n      <td>...</td>\n      <td>...</td>\n      <td>...</td>\n      <td>...</td>\n      <td>...</td>\n      <td>...</td>\n      <td>...</td>\n      <td>...</td>\n      <td>...</td>\n      <td>...</td>\n      <td>...</td>\n      <td>...</td>\n      <td>...</td>\n      <td>...</td>\n      <td>...</td>\n      <td>...</td>\n      <td>...</td>\n      <td>...</td>\n      <td>...</td>\n      <td>...</td>\n    </tr>\n    <tr>\n      <th>4801</th>\n      <td>0</td>\n      <td>0</td>\n      <td>0</td>\n      <td>0</td>\n      <td>0</td>\n      <td>0</td>\n      <td>0</td>\n      <td>0</td>\n      <td>0</td>\n      <td>0</td>\n      <td>...</td>\n      <td>0</td>\n      <td>0</td>\n      <td>0</td>\n      <td>0</td>\n      <td>0</td>\n      <td>0</td>\n      <td>0</td>\n      <td>0</td>\n      <td>0</td>\n      <td>0</td>\n    </tr>\n    <tr>\n      <th>4802</th>\n      <td>0</td>\n      <td>0</td>\n      <td>0</td>\n      <td>0</td>\n      <td>0</td>\n      <td>0</td>\n      <td>0</td>\n      <td>0</td>\n      <td>0</td>\n      <td>0</td>\n      <td>...</td>\n      <td>0</td>\n      <td>0</td>\n      <td>0</td>\n      <td>0</td>\n      <td>0</td>\n      <td>0</td>\n      <td>0</td>\n      <td>0</td>\n      <td>0</td>\n      <td>0</td>\n    </tr>\n    <tr>\n      <th>4803</th>\n      <td>0</td>\n      <td>0</td>\n      <td>0</td>\n      <td>0</td>\n      <td>0</td>\n      <td>0</td>\n      <td>0</td>\n      <td>0</td>\n      <td>0</td>\n      <td>0</td>\n      <td>...</td>\n      <td>0</td>\n      <td>0</td>\n      <td>0</td>\n      <td>0</td>\n      <td>0</td>\n      <td>0</td>\n      <td>0</td>\n      <td>0</td>\n      <td>0</td>\n      <td>0</td>\n    </tr>\n    <tr>\n      <th>4804</th>\n      <td>0</td>\n      <td>0</td>\n      <td>0</td>\n      <td>0</td>\n      <td>0</td>\n      <td>0</td>\n      <td>0</td>\n      <td>0</td>\n      <td>0</td>\n      <td>0</td>\n      <td>...</td>\n      <td>0</td>\n      <td>0</td>\n      <td>0</td>\n      <td>0</td>\n      <td>0</td>\n      <td>0</td>\n      <td>0</td>\n      <td>0</td>\n      <td>0</td>\n      <td>0</td>\n    </tr>\n    <tr>\n      <th>4805</th>\n      <td>0</td>\n      <td>0</td>\n      <td>0</td>\n      <td>0</td>\n      <td>0</td>\n      <td>0</td>\n      <td>0</td>\n      <td>0</td>\n      <td>0</td>\n      <td>0</td>\n      <td>...</td>\n      <td>0</td>\n      <td>0</td>\n      <td>0</td>\n      <td>0</td>\n      <td>0</td>\n      <td>0</td>\n      <td>0</td>\n      <td>0</td>\n      <td>0</td>\n      <td>0</td>\n    </tr>\n  </tbody>\n</table>\n<p>4806 rows × 5000 columns</p>\n</div>"
     },
     "execution_count": 103,
     "metadata": {},
     "output_type": "execute_result"
    }
   ],
   "source": [
    "pd.DataFrame(vectorized_tag.toarray(), columns=cv.get_feature_names())"
   ],
   "metadata": {
    "collapsed": false
   }
  },
  {
   "cell_type": "code",
   "execution_count": 109,
   "outputs": [],
   "source": [
    "movies_cosine_similarity = cosine_similarity(vectorized_tag)"
   ],
   "metadata": {
    "collapsed": false
   }
  },
  {
   "cell_type": "code",
   "execution_count": 110,
   "outputs": [
    {
     "data": {
      "text/plain": "(4806, 4806)"
     },
     "execution_count": 110,
     "metadata": {},
     "output_type": "execute_result"
    }
   ],
   "source": [
    "movies_cosine_similarity.shape"
   ],
   "metadata": {
    "collapsed": false
   }
  },
  {
   "cell_type": "code",
   "execution_count": 120,
   "outputs": [
    {
     "data": {
      "text/plain": "[(1216, 0.28676966733820225),\n (2409, 0.26901379342448517),\n (3730, 0.2605130246476754),\n (507, 0.255608593705383),\n (539, 0.25038669783359574)]"
     },
     "execution_count": 120,
     "metadata": {},
     "output_type": "execute_result"
    }
   ],
   "source": [],
   "metadata": {
    "collapsed": false
   }
  },
  {
   "cell_type": "code",
   "execution_count": 129,
   "outputs": [],
   "source": [
    "\n",
    "def recommend(movie_guess):\n",
    "    movie_index = movie[movie['title'] == movie_guess].index[0]\n",
    "    distances = movies_cosine_similarity[movie_index]\n",
    "    movie_list = sorted(list(enumerate(distances)), reverse=True, key=lambda x: x[1])[1:6]\n",
    "    print(movie_list)\n",
    "    for i in movie_list:\n",
    "        print(movie.iloc[i[0]].title,i[0], sep=\" : \")\n"
   ],
   "metadata": {
    "collapsed": false
   }
  },
  {
   "cell_type": "code",
   "execution_count": 130,
   "outputs": [
    {
     "name": "stdout",
     "output_type": "stream",
     "text": [
      "[(65, 0.42256142372325745), (428, 0.3247027084163318), (1363, 0.32025630761017426), (299, 0.31815820907335624), (119, 0.3177444546511212)]\n",
      "The Dark Knight : 65\n",
      "Batman Returns : 428\n",
      "Batman : 1363\n",
      "Batman Forever : 299\n",
      "Batman Begins : 119\n"
     ]
    }
   ],
   "source": [
    "recommend('The Dark Knight Rises')"
   ],
   "metadata": {
    "collapsed": false
   }
  },
  {
   "cell_type": "code",
   "execution_count": 138,
   "outputs": [
    {
     "ename": "OSError",
     "evalue": "Cannot save file into a non-existent directory: 'model'",
     "output_type": "error",
     "traceback": [
      "\u001B[1;31m---------------------------------------------------------------------------\u001B[0m",
      "\u001B[1;31mOSError\u001B[0m                                   Traceback (most recent call last)",
      "Input \u001B[1;32mIn [138]\u001B[0m, in \u001B[0;36m<cell line: 1>\u001B[1;34m()\u001B[0m\n\u001B[1;32m----> 1\u001B[0m \u001B[43mmovie\u001B[49m\u001B[43m[\u001B[49m\u001B[43m[\u001B[49m\u001B[38;5;124;43m'\u001B[39;49m\u001B[38;5;124;43mtitle\u001B[39;49m\u001B[38;5;124;43m'\u001B[39;49m\u001B[43m,\u001B[49m\u001B[43m \u001B[49m\u001B[38;5;124;43m'\u001B[39;49m\u001B[38;5;124;43mmovie_id\u001B[39;49m\u001B[38;5;124;43m'\u001B[39;49m\u001B[43m]\u001B[49m\u001B[43m]\u001B[49m\u001B[38;5;241;43m.\u001B[39;49m\u001B[43mto_pickle\u001B[49m\u001B[43m(\u001B[49m\u001B[38;5;124;43m'\u001B[39;49m\u001B[38;5;124;43mmodel/movie_list.pkl\u001B[39;49m\u001B[38;5;124;43m'\u001B[39;49m\u001B[43m)\u001B[49m\n",
      "File \u001B[1;32mc:\\users\\umegs\\appdata\\local\\programs\\python\\python38\\lib\\site-packages\\pandas\\core\\generic.py:3026\u001B[0m, in \u001B[0;36mNDFrame.to_pickle\u001B[1;34m(self, path, compression, protocol, storage_options)\u001B[0m\n\u001B[0;32m   2976\u001B[0m \u001B[38;5;124;03m\"\"\"\u001B[39;00m\n\u001B[0;32m   2977\u001B[0m \u001B[38;5;124;03mPickle (serialize) object to file.\u001B[39;00m\n\u001B[0;32m   2978\u001B[0m \n\u001B[1;32m   (...)\u001B[0m\n\u001B[0;32m   3022\u001B[0m \u001B[38;5;124;03m4    4    9\u001B[39;00m\n\u001B[0;32m   3023\u001B[0m \u001B[38;5;124;03m\"\"\"\u001B[39;00m  \u001B[38;5;66;03m# noqa: E501\u001B[39;00m\n\u001B[0;32m   3024\u001B[0m \u001B[38;5;28;01mfrom\u001B[39;00m \u001B[38;5;21;01mpandas\u001B[39;00m\u001B[38;5;21;01m.\u001B[39;00m\u001B[38;5;21;01mio\u001B[39;00m\u001B[38;5;21;01m.\u001B[39;00m\u001B[38;5;21;01mpickle\u001B[39;00m \u001B[38;5;28;01mimport\u001B[39;00m to_pickle\n\u001B[1;32m-> 3026\u001B[0m \u001B[43mto_pickle\u001B[49m\u001B[43m(\u001B[49m\n\u001B[0;32m   3027\u001B[0m \u001B[43m    \u001B[49m\u001B[38;5;28;43mself\u001B[39;49m\u001B[43m,\u001B[49m\n\u001B[0;32m   3028\u001B[0m \u001B[43m    \u001B[49m\u001B[43mpath\u001B[49m\u001B[43m,\u001B[49m\n\u001B[0;32m   3029\u001B[0m \u001B[43m    \u001B[49m\u001B[43mcompression\u001B[49m\u001B[38;5;241;43m=\u001B[39;49m\u001B[43mcompression\u001B[49m\u001B[43m,\u001B[49m\n\u001B[0;32m   3030\u001B[0m \u001B[43m    \u001B[49m\u001B[43mprotocol\u001B[49m\u001B[38;5;241;43m=\u001B[39;49m\u001B[43mprotocol\u001B[49m\u001B[43m,\u001B[49m\n\u001B[0;32m   3031\u001B[0m \u001B[43m    \u001B[49m\u001B[43mstorage_options\u001B[49m\u001B[38;5;241;43m=\u001B[39;49m\u001B[43mstorage_options\u001B[49m\u001B[43m,\u001B[49m\n\u001B[0;32m   3032\u001B[0m \u001B[43m\u001B[49m\u001B[43m)\u001B[49m\n",
      "File \u001B[1;32mc:\\users\\umegs\\appdata\\local\\programs\\python\\python38\\lib\\site-packages\\pandas\\io\\pickle.py:97\u001B[0m, in \u001B[0;36mto_pickle\u001B[1;34m(obj, filepath_or_buffer, compression, protocol, storage_options)\u001B[0m\n\u001B[0;32m     94\u001B[0m \u001B[38;5;28;01mif\u001B[39;00m protocol \u001B[38;5;241m<\u001B[39m \u001B[38;5;241m0\u001B[39m:\n\u001B[0;32m     95\u001B[0m     protocol \u001B[38;5;241m=\u001B[39m pickle\u001B[38;5;241m.\u001B[39mHIGHEST_PROTOCOL\n\u001B[1;32m---> 97\u001B[0m \u001B[38;5;28;01mwith\u001B[39;00m \u001B[43mget_handle\u001B[49m\u001B[43m(\u001B[49m\n\u001B[0;32m     98\u001B[0m \u001B[43m    \u001B[49m\u001B[43mfilepath_or_buffer\u001B[49m\u001B[43m,\u001B[49m\n\u001B[0;32m     99\u001B[0m \u001B[43m    \u001B[49m\u001B[38;5;124;43m\"\u001B[39;49m\u001B[38;5;124;43mwb\u001B[39;49m\u001B[38;5;124;43m\"\u001B[39;49m\u001B[43m,\u001B[49m\n\u001B[0;32m    100\u001B[0m \u001B[43m    \u001B[49m\u001B[43mcompression\u001B[49m\u001B[38;5;241;43m=\u001B[39;49m\u001B[43mcompression\u001B[49m\u001B[43m,\u001B[49m\n\u001B[0;32m    101\u001B[0m \u001B[43m    \u001B[49m\u001B[43mis_text\u001B[49m\u001B[38;5;241;43m=\u001B[39;49m\u001B[38;5;28;43;01mFalse\u001B[39;49;00m\u001B[43m,\u001B[49m\n\u001B[0;32m    102\u001B[0m \u001B[43m    \u001B[49m\u001B[43mstorage_options\u001B[49m\u001B[38;5;241;43m=\u001B[39;49m\u001B[43mstorage_options\u001B[49m\u001B[43m,\u001B[49m\n\u001B[0;32m    103\u001B[0m \u001B[43m\u001B[49m\u001B[43m)\u001B[49m \u001B[38;5;28;01mas\u001B[39;00m handles:\n\u001B[0;32m    104\u001B[0m     \u001B[38;5;28;01mif\u001B[39;00m handles\u001B[38;5;241m.\u001B[39mcompression[\u001B[38;5;124m\"\u001B[39m\u001B[38;5;124mmethod\u001B[39m\u001B[38;5;124m\"\u001B[39m] \u001B[38;5;129;01min\u001B[39;00m (\u001B[38;5;124m\"\u001B[39m\u001B[38;5;124mbz2\u001B[39m\u001B[38;5;124m\"\u001B[39m, \u001B[38;5;124m\"\u001B[39m\u001B[38;5;124mxz\u001B[39m\u001B[38;5;124m\"\u001B[39m) \u001B[38;5;129;01mand\u001B[39;00m protocol \u001B[38;5;241m>\u001B[39m\u001B[38;5;241m=\u001B[39m \u001B[38;5;241m5\u001B[39m:\n\u001B[0;32m    105\u001B[0m         \u001B[38;5;66;03m# some weird TypeError GH#39002 with pickle 5: fallback to letting\u001B[39;00m\n\u001B[0;32m    106\u001B[0m         \u001B[38;5;66;03m# pickle create the entire object and then write it to the buffer.\u001B[39;00m\n\u001B[0;32m    107\u001B[0m         \u001B[38;5;66;03m# \"zip\" would also be here if pandas.io.common._BytesZipFile\u001B[39;00m\n\u001B[0;32m    108\u001B[0m         \u001B[38;5;66;03m# wouldn't buffer write calls\u001B[39;00m\n\u001B[0;32m    109\u001B[0m         handles\u001B[38;5;241m.\u001B[39mhandle\u001B[38;5;241m.\u001B[39mwrite(pickle\u001B[38;5;241m.\u001B[39mdumps(obj, protocol\u001B[38;5;241m=\u001B[39mprotocol))\n",
      "File \u001B[1;32mc:\\users\\umegs\\appdata\\local\\programs\\python\\python38\\lib\\site-packages\\pandas\\io\\common.py:694\u001B[0m, in \u001B[0;36mget_handle\u001B[1;34m(path_or_buf, mode, encoding, compression, memory_map, is_text, errors, storage_options)\u001B[0m\n\u001B[0;32m    692\u001B[0m \u001B[38;5;66;03m# Only for write methods\u001B[39;00m\n\u001B[0;32m    693\u001B[0m \u001B[38;5;28;01mif\u001B[39;00m \u001B[38;5;124m\"\u001B[39m\u001B[38;5;124mr\u001B[39m\u001B[38;5;124m\"\u001B[39m \u001B[38;5;129;01mnot\u001B[39;00m \u001B[38;5;129;01min\u001B[39;00m mode \u001B[38;5;129;01mand\u001B[39;00m is_path:\n\u001B[1;32m--> 694\u001B[0m     \u001B[43mcheck_parent_directory\u001B[49m\u001B[43m(\u001B[49m\u001B[38;5;28;43mstr\u001B[39;49m\u001B[43m(\u001B[49m\u001B[43mhandle\u001B[49m\u001B[43m)\u001B[49m\u001B[43m)\u001B[49m\n\u001B[0;32m    696\u001B[0m \u001B[38;5;28;01mif\u001B[39;00m compression:\n\u001B[0;32m    697\u001B[0m     \u001B[38;5;28;01mif\u001B[39;00m compression \u001B[38;5;241m!=\u001B[39m \u001B[38;5;124m\"\u001B[39m\u001B[38;5;124mzstd\u001B[39m\u001B[38;5;124m\"\u001B[39m:\n\u001B[0;32m    698\u001B[0m         \u001B[38;5;66;03m# compression libraries do not like an explicit text-mode\u001B[39;00m\n",
      "File \u001B[1;32mc:\\users\\umegs\\appdata\\local\\programs\\python\\python38\\lib\\site-packages\\pandas\\io\\common.py:568\u001B[0m, in \u001B[0;36mcheck_parent_directory\u001B[1;34m(path)\u001B[0m\n\u001B[0;32m    566\u001B[0m parent \u001B[38;5;241m=\u001B[39m Path(path)\u001B[38;5;241m.\u001B[39mparent\n\u001B[0;32m    567\u001B[0m \u001B[38;5;28;01mif\u001B[39;00m \u001B[38;5;129;01mnot\u001B[39;00m parent\u001B[38;5;241m.\u001B[39mis_dir():\n\u001B[1;32m--> 568\u001B[0m     \u001B[38;5;28;01mraise\u001B[39;00m \u001B[38;5;167;01mOSError\u001B[39;00m(\u001B[38;5;124mrf\u001B[39m\u001B[38;5;124m\"\u001B[39m\u001B[38;5;124mCannot save file into a non-existent directory: \u001B[39m\u001B[38;5;124m'\u001B[39m\u001B[38;5;132;01m{\u001B[39;00mparent\u001B[38;5;132;01m}\u001B[39;00m\u001B[38;5;124m'\u001B[39m\u001B[38;5;124m\"\u001B[39m)\n",
      "\u001B[1;31mOSError\u001B[0m: Cannot save file into a non-existent directory: 'model'"
     ]
    }
   ],
   "source": [
    "movie[['title', 'movie_id']].to_pickle('../model/movie_list.pkl')"
   ],
   "metadata": {
    "collapsed": false
   }
  },
  {
   "cell_type": "code",
   "execution_count": 133,
   "outputs": [],
   "source": [
    "pickle.dump(movies_cosine_similarity, open('../model/movies_cosine_similarity.pkl', 'wb'))"
   ],
   "metadata": {
    "collapsed": false
   }
  },
  {
   "cell_type": "code",
   "execution_count": 139,
   "outputs": [
    {
     "data": {
      "text/plain": "                                         title  movie_id\n0                                       Avatar     19995\n1     Pirates of the Caribbean: At World's End       285\n2                                      Spectre    206647\n3                        The Dark Knight Rises     49026\n4                                  John Carter     49529\n...                                        ...       ...\n4804                               El Mariachi      9367\n4805                                 Newlyweds     72766\n4806                 Signed, Sealed, Delivered    231617\n4807                          Shanghai Calling    126186\n4808                         My Date with Drew     25975\n\n[4806 rows x 2 columns]",
      "text/html": "<div>\n<style scoped>\n    .dataframe tbody tr th:only-of-type {\n        vertical-align: middle;\n    }\n\n    .dataframe tbody tr th {\n        vertical-align: top;\n    }\n\n    .dataframe thead th {\n        text-align: right;\n    }\n</style>\n<table border=\"1\" class=\"dataframe\">\n  <thead>\n    <tr style=\"text-align: right;\">\n      <th></th>\n      <th>title</th>\n      <th>movie_id</th>\n    </tr>\n  </thead>\n  <tbody>\n    <tr>\n      <th>0</th>\n      <td>Avatar</td>\n      <td>19995</td>\n    </tr>\n    <tr>\n      <th>1</th>\n      <td>Pirates of the Caribbean: At World's End</td>\n      <td>285</td>\n    </tr>\n    <tr>\n      <th>2</th>\n      <td>Spectre</td>\n      <td>206647</td>\n    </tr>\n    <tr>\n      <th>3</th>\n      <td>The Dark Knight Rises</td>\n      <td>49026</td>\n    </tr>\n    <tr>\n      <th>4</th>\n      <td>John Carter</td>\n      <td>49529</td>\n    </tr>\n    <tr>\n      <th>...</th>\n      <td>...</td>\n      <td>...</td>\n    </tr>\n    <tr>\n      <th>4804</th>\n      <td>El Mariachi</td>\n      <td>9367</td>\n    </tr>\n    <tr>\n      <th>4805</th>\n      <td>Newlyweds</td>\n      <td>72766</td>\n    </tr>\n    <tr>\n      <th>4806</th>\n      <td>Signed, Sealed, Delivered</td>\n      <td>231617</td>\n    </tr>\n    <tr>\n      <th>4807</th>\n      <td>Shanghai Calling</td>\n      <td>126186</td>\n    </tr>\n    <tr>\n      <th>4808</th>\n      <td>My Date with Drew</td>\n      <td>25975</td>\n    </tr>\n  </tbody>\n</table>\n<p>4806 rows × 2 columns</p>\n</div>"
     },
     "execution_count": 139,
     "metadata": {},
     "output_type": "execute_result"
    }
   ],
   "source": [
    "movie_ = pickle.load(open('../model/movie_list.pkl', 'rb'))\n",
    "\n",
    "movie_"
   ],
   "metadata": {
    "collapsed": false
   }
  },
  {
   "cell_type": "code",
   "execution_count": 156,
   "outputs": [],
   "source": [],
   "metadata": {
    "collapsed": false
   }
  },
  {
   "cell_type": "code",
   "execution_count": 163,
   "outputs": [],
   "source": [
    "pd.DataFrame(movies_cosine_similarity).to_pickle('../model/movies_cosine_similarity.pkl', compression='zip')"
   ],
   "metadata": {
    "collapsed": false
   }
  },
  {
   "cell_type": "code",
   "execution_count": null,
   "outputs": [],
   "source": [
    "['infer', None, 'bz2', 'gzip', 'xz', 'zip', 'zstd']"
   ],
   "metadata": {
    "collapsed": false
   }
  },
  {
   "cell_type": "code",
   "execution_count": 7,
   "outputs": [
    {
     "data": {
      "text/plain": "          0         1         2         3         4         5         6     \\\n0     1.000000  0.083462  0.086031  0.073472  0.189299  0.108389  0.040242   \n1     0.083462  1.000000  0.060634  0.038837  0.075047  0.114587  0.021272   \n2     0.086031  0.060634  1.000000  0.060048  0.077357  0.070868  0.021926   \n3     0.073472  0.038837  0.060048  1.000000  0.033032  0.060523  0.056177   \n4     0.189299  0.075047  0.077357  0.033032  1.000000  0.097460  0.054277   \n...        ...       ...       ...       ...       ...       ...       ...   \n4801  0.019252  0.040706  0.041959  0.067188  0.155799  0.079295  0.029440   \n4802  0.046829  0.000000  0.000000  0.000000  0.000000  0.000000  0.000000   \n4803  0.044992  0.023783  0.024515  0.031404  0.020228  0.018531  0.000000   \n4804  0.000000  0.000000  0.000000  0.048526  0.083351  0.057270  0.035438   \n4805  0.000000  0.026153  0.000000  0.086335  0.044488  0.040757  0.000000   \n\n          7         8         9     ...      4796      4797      4798  \\\n0     0.146735  0.059235  0.096730  ...  0.000000  0.000000  0.042239   \n1     0.129272  0.062622  0.102262  ...  0.000000  0.000000  0.022327   \n2     0.133250  0.064550  0.105409  ...  0.085749  0.000000  0.000000   \n3     0.068279  0.041345  0.202548  ...  0.027462  0.027462  0.058964   \n4     0.197910  0.079894  0.108721  ...  0.035377  0.000000  0.075960   \n...        ...       ...       ...  ...       ...       ...       ...   \n4801  0.143131  0.130005  0.035383  ...  0.000000  0.057567  0.139055   \n4802  0.000000  0.000000  0.000000  ...  0.000000  0.070014  0.000000   \n4803  0.000000  0.050637  0.020672  ...  0.067267  0.033634  0.018054   \n4804  0.043073  0.104328  0.021296  ...  0.000000  0.034648  0.092992   \n4805  0.045980  0.111369  0.022733  ...  0.000000  0.000000  0.039707   \n\n          4799      4800      4801      4802      4803      4804      4805  \n0     0.052632  0.000000  0.019252  0.046829  0.044992  0.000000  0.000000  \n1     0.027821  0.000000  0.040706  0.000000  0.023783  0.000000  0.026153  \n2     0.000000  0.017590  0.041959  0.000000  0.024515  0.000000  0.000000  \n3     0.055104  0.022533  0.067188  0.000000  0.031404  0.048526  0.086335  \n4     0.023662  0.145141  0.155799  0.000000  0.020228  0.083351  0.044488  \n...        ...       ...       ...       ...       ...       ...       ...  \n4801  0.057756  0.259796  1.000000  0.000000  0.000000  0.152586  0.126688  \n4802  0.000000  0.028724  0.000000  1.000000  0.120096  0.000000  0.000000  \n4803  0.044992  0.013799  0.000000  0.120096  1.000000  0.039621  0.042295  \n4804  0.000000  0.142148  0.152586  0.000000  0.039621  1.000000  0.087142  \n4805  0.024739  0.075871  0.126688  0.000000  0.042295  0.087142  1.000000  \n\n[4806 rows x 4806 columns]",
      "text/html": "<div>\n<style scoped>\n    .dataframe tbody tr th:only-of-type {\n        vertical-align: middle;\n    }\n\n    .dataframe tbody tr th {\n        vertical-align: top;\n    }\n\n    .dataframe thead th {\n        text-align: right;\n    }\n</style>\n<table border=\"1\" class=\"dataframe\">\n  <thead>\n    <tr style=\"text-align: right;\">\n      <th></th>\n      <th>0</th>\n      <th>1</th>\n      <th>2</th>\n      <th>3</th>\n      <th>4</th>\n      <th>5</th>\n      <th>6</th>\n      <th>7</th>\n      <th>8</th>\n      <th>9</th>\n      <th>...</th>\n      <th>4796</th>\n      <th>4797</th>\n      <th>4798</th>\n      <th>4799</th>\n      <th>4800</th>\n      <th>4801</th>\n      <th>4802</th>\n      <th>4803</th>\n      <th>4804</th>\n      <th>4805</th>\n    </tr>\n  </thead>\n  <tbody>\n    <tr>\n      <th>0</th>\n      <td>1.000000</td>\n      <td>0.083462</td>\n      <td>0.086031</td>\n      <td>0.073472</td>\n      <td>0.189299</td>\n      <td>0.108389</td>\n      <td>0.040242</td>\n      <td>0.146735</td>\n      <td>0.059235</td>\n      <td>0.096730</td>\n      <td>...</td>\n      <td>0.000000</td>\n      <td>0.000000</td>\n      <td>0.042239</td>\n      <td>0.052632</td>\n      <td>0.000000</td>\n      <td>0.019252</td>\n      <td>0.046829</td>\n      <td>0.044992</td>\n      <td>0.000000</td>\n      <td>0.000000</td>\n    </tr>\n    <tr>\n      <th>1</th>\n      <td>0.083462</td>\n      <td>1.000000</td>\n      <td>0.060634</td>\n      <td>0.038837</td>\n      <td>0.075047</td>\n      <td>0.114587</td>\n      <td>0.021272</td>\n      <td>0.129272</td>\n      <td>0.062622</td>\n      <td>0.102262</td>\n      <td>...</td>\n      <td>0.000000</td>\n      <td>0.000000</td>\n      <td>0.022327</td>\n      <td>0.027821</td>\n      <td>0.000000</td>\n      <td>0.040706</td>\n      <td>0.000000</td>\n      <td>0.023783</td>\n      <td>0.000000</td>\n      <td>0.026153</td>\n    </tr>\n    <tr>\n      <th>2</th>\n      <td>0.086031</td>\n      <td>0.060634</td>\n      <td>1.000000</td>\n      <td>0.060048</td>\n      <td>0.077357</td>\n      <td>0.070868</td>\n      <td>0.021926</td>\n      <td>0.133250</td>\n      <td>0.064550</td>\n      <td>0.105409</td>\n      <td>...</td>\n      <td>0.085749</td>\n      <td>0.000000</td>\n      <td>0.000000</td>\n      <td>0.000000</td>\n      <td>0.017590</td>\n      <td>0.041959</td>\n      <td>0.000000</td>\n      <td>0.024515</td>\n      <td>0.000000</td>\n      <td>0.000000</td>\n    </tr>\n    <tr>\n      <th>3</th>\n      <td>0.073472</td>\n      <td>0.038837</td>\n      <td>0.060048</td>\n      <td>1.000000</td>\n      <td>0.033032</td>\n      <td>0.060523</td>\n      <td>0.056177</td>\n      <td>0.068279</td>\n      <td>0.041345</td>\n      <td>0.202548</td>\n      <td>...</td>\n      <td>0.027462</td>\n      <td>0.027462</td>\n      <td>0.058964</td>\n      <td>0.055104</td>\n      <td>0.022533</td>\n      <td>0.067188</td>\n      <td>0.000000</td>\n      <td>0.031404</td>\n      <td>0.048526</td>\n      <td>0.086335</td>\n    </tr>\n    <tr>\n      <th>4</th>\n      <td>0.189299</td>\n      <td>0.075047</td>\n      <td>0.077357</td>\n      <td>0.033032</td>\n      <td>1.000000</td>\n      <td>0.097460</td>\n      <td>0.054277</td>\n      <td>0.197910</td>\n      <td>0.079894</td>\n      <td>0.108721</td>\n      <td>...</td>\n      <td>0.035377</td>\n      <td>0.000000</td>\n      <td>0.075960</td>\n      <td>0.023662</td>\n      <td>0.145141</td>\n      <td>0.155799</td>\n      <td>0.000000</td>\n      <td>0.020228</td>\n      <td>0.083351</td>\n      <td>0.044488</td>\n    </tr>\n    <tr>\n      <th>...</th>\n      <td>...</td>\n      <td>...</td>\n      <td>...</td>\n      <td>...</td>\n      <td>...</td>\n      <td>...</td>\n      <td>...</td>\n      <td>...</td>\n      <td>...</td>\n      <td>...</td>\n      <td>...</td>\n      <td>...</td>\n      <td>...</td>\n      <td>...</td>\n      <td>...</td>\n      <td>...</td>\n      <td>...</td>\n      <td>...</td>\n      <td>...</td>\n      <td>...</td>\n      <td>...</td>\n    </tr>\n    <tr>\n      <th>4801</th>\n      <td>0.019252</td>\n      <td>0.040706</td>\n      <td>0.041959</td>\n      <td>0.067188</td>\n      <td>0.155799</td>\n      <td>0.079295</td>\n      <td>0.029440</td>\n      <td>0.143131</td>\n      <td>0.130005</td>\n      <td>0.035383</td>\n      <td>...</td>\n      <td>0.000000</td>\n      <td>0.057567</td>\n      <td>0.139055</td>\n      <td>0.057756</td>\n      <td>0.259796</td>\n      <td>1.000000</td>\n      <td>0.000000</td>\n      <td>0.000000</td>\n      <td>0.152586</td>\n      <td>0.126688</td>\n    </tr>\n    <tr>\n      <th>4802</th>\n      <td>0.046829</td>\n      <td>0.000000</td>\n      <td>0.000000</td>\n      <td>0.000000</td>\n      <td>0.000000</td>\n      <td>0.000000</td>\n      <td>0.000000</td>\n      <td>0.000000</td>\n      <td>0.000000</td>\n      <td>0.000000</td>\n      <td>...</td>\n      <td>0.000000</td>\n      <td>0.070014</td>\n      <td>0.000000</td>\n      <td>0.000000</td>\n      <td>0.028724</td>\n      <td>0.000000</td>\n      <td>1.000000</td>\n      <td>0.120096</td>\n      <td>0.000000</td>\n      <td>0.000000</td>\n    </tr>\n    <tr>\n      <th>4803</th>\n      <td>0.044992</td>\n      <td>0.023783</td>\n      <td>0.024515</td>\n      <td>0.031404</td>\n      <td>0.020228</td>\n      <td>0.018531</td>\n      <td>0.000000</td>\n      <td>0.000000</td>\n      <td>0.050637</td>\n      <td>0.020672</td>\n      <td>...</td>\n      <td>0.067267</td>\n      <td>0.033634</td>\n      <td>0.018054</td>\n      <td>0.044992</td>\n      <td>0.013799</td>\n      <td>0.000000</td>\n      <td>0.120096</td>\n      <td>1.000000</td>\n      <td>0.039621</td>\n      <td>0.042295</td>\n    </tr>\n    <tr>\n      <th>4804</th>\n      <td>0.000000</td>\n      <td>0.000000</td>\n      <td>0.000000</td>\n      <td>0.048526</td>\n      <td>0.083351</td>\n      <td>0.057270</td>\n      <td>0.035438</td>\n      <td>0.043073</td>\n      <td>0.104328</td>\n      <td>0.021296</td>\n      <td>...</td>\n      <td>0.000000</td>\n      <td>0.034648</td>\n      <td>0.092992</td>\n      <td>0.000000</td>\n      <td>0.142148</td>\n      <td>0.152586</td>\n      <td>0.000000</td>\n      <td>0.039621</td>\n      <td>1.000000</td>\n      <td>0.087142</td>\n    </tr>\n    <tr>\n      <th>4805</th>\n      <td>0.000000</td>\n      <td>0.026153</td>\n      <td>0.000000</td>\n      <td>0.086335</td>\n      <td>0.044488</td>\n      <td>0.040757</td>\n      <td>0.000000</td>\n      <td>0.045980</td>\n      <td>0.111369</td>\n      <td>0.022733</td>\n      <td>...</td>\n      <td>0.000000</td>\n      <td>0.000000</td>\n      <td>0.039707</td>\n      <td>0.024739</td>\n      <td>0.075871</td>\n      <td>0.126688</td>\n      <td>0.000000</td>\n      <td>0.042295</td>\n      <td>0.087142</td>\n      <td>1.000000</td>\n    </tr>\n  </tbody>\n</table>\n<p>4806 rows × 4806 columns</p>\n</div>"
     },
     "execution_count": 7,
     "metadata": {},
     "output_type": "execute_result"
    }
   ],
   "source": [
    "pd.read_pickle('../model/movies_cosine_similarity.pkl', compression='zip')"
   ],
   "metadata": {
    "collapsed": false
   }
  },
  {
   "cell_type": "code",
   "execution_count": null,
   "outputs": [],
   "source": [],
   "metadata": {
    "collapsed": false
   }
  }
 ],
 "metadata": {
  "kernelspec": {
   "display_name": "Python 3",
   "language": "python",
   "name": "python3"
  },
  "language_info": {
   "codemirror_mode": {
    "name": "ipython",
    "version": 2
   },
   "file_extension": ".py",
   "mimetype": "text/x-python",
   "name": "python",
   "nbconvert_exporter": "python",
   "pygments_lexer": "ipython2",
   "version": "2.7.6"
  }
 },
 "nbformat": 4,
 "nbformat_minor": 0
}
