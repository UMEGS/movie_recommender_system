{
 "cells": [
  {
   "cell_type": "code",
   "execution_count": 90,
   "outputs": [
    {
     "name": "stderr",
     "output_type": "stream",
     "text": [
      "[nltk_data] Downloading package stopwords to\n",
      "[nltk_data]     C:\\Users\\UMEGS\\AppData\\Roaming\\nltk_data...\n",
      "[nltk_data]   Package stopwords is already up-to-date!\n"
     ]
    },
    {
     "data": {
      "text/plain": "True"
     },
     "execution_count": 90,
     "metadata": {},
     "output_type": "execute_result"
    }
   ],
   "source": [
    "import numpy as np\n",
    "import pandas as pd\n",
    "import matplotlib.pyplot as plt\n",
    "import seaborn as sns\n",
    "import requests\n",
    "import pickle\n",
    "import json\n",
    "from sklearn.feature_extraction.text import CountVectorizer, TfidfVectorizer\n",
    "from nltk.stem.porter import PorterStemmer\n",
    "from sklearn.metrics.pairwise import cosine_similarity, linear_kernel\n",
    "import string\n",
    "import nltk\n",
    "nltk.download('stopwords')\n"
   ],
   "metadata": {
    "collapsed": false
   }
  },
  {
   "cell_type": "code",
   "execution_count": 17,
   "outputs": [],
   "source": [
    "base_url = \"https://yts.mx/api\"\n",
    "details_url = base_url + \"/v2/movie_details.json\"\n",
    "\n",
    "def get_movie_details(movie_id):\n",
    "    params = {\"movie_id\": movie_id, \"with_images\": \"true\", \"with_cast\": \"true\"}\n",
    "    try:\n",
    "        response = requests.get(details_url, params=params)\n",
    "        response_json = response.json()\n",
    "        movie_details = response_json[\"data\"][\"movie\"]\n",
    "        if movie_details.get(\"id\") == movie_id:\n",
    "            movie = {\n",
    "                \"id\": movie_details.get(\"id\"),\n",
    "                \"imdb_code\": movie_details.get(\"imdb_code\"),\n",
    "                \"title\": movie_details.get(\"title\"),\n",
    "                \"title_english\": movie_details.get(\"title_english\"),\n",
    "                \"title_long\": movie_details.get(\"title_long\"),\n",
    "                \"year\": movie_details.get(\"year\"),\n",
    "                \"rating\": movie_details.get(\"rating\"),\n",
    "                \"runtime\": movie_details.get(\"runtime\"),\n",
    "                \"genres\": movie_details.get(\"genres\", []),\n",
    "                \"download_count\": movie_details.get(\"download_count\"),\n",
    "                \"like_count\": movie_details.get(\"like_count\"),\n",
    "                \"description_full\": movie_details.get(\"description_full\"),\n",
    "                \"language\": movie_details.get(\"language\"),\n",
    "                \"cast\": [{\"name\": cast.get(\"name\"), \"character_name\": cast.get(\"character_name\")} for cast in\n",
    "                         movie_details.get(\"cast\", [])],\n",
    "            }\n",
    "            return movie\n",
    "        else:\n",
    "            return {\n",
    "                \"id\": movie_id,\n",
    "                \"imdb_code\": 'None',\n",
    "                \"title\": 'None',\n",
    "                \"title_english\": 'None',\n",
    "                \"title_long\": '',\n",
    "                \"year\": '',\n",
    "                \"rating\": '',\n",
    "                \"runtime\": '',\n",
    "                \"genres\": 'None',\n",
    "                \"download_count\": 'None',\n",
    "                \"like_count\": 'None',\n",
    "                \"description_full\": 'None',\n",
    "                \"language\": 'None',\n",
    "                \"cast\": [],\n",
    "            }\n",
    "    except Exception as e:\n",
    "        return {\n",
    "                \"id\": movie_id,\n",
    "                \"imdb_code\": 'Error',\n",
    "                \"title\": 'Error',\n",
    "                \"title_english\": 'Error',\n",
    "                \"title_long\": '',\n",
    "                \"year\": '',\n",
    "                \"rating\": '',\n",
    "                \"runtime\": '',\n",
    "                \"genres\": 'Error',\n",
    "                \"download_count\": 'Error',\n",
    "                \"like_count\": 'Error',\n",
    "                \"description_full\": 'Error',\n",
    "                \"language\": 'Error',\n",
    "                \"cast\": [],\n",
    "            }\n",
    "\n",
    "\n",
    "movies = pd.read_excel('dataset/movies.xlsx')\n",
    "\n",
    "error_id = movies[movies.imdb_code == 'Error'].id\n",
    "\n",
    "movies.drop(index=movies[movies.imdb_code == 'None'].index,inplace=True)\n",
    "movies.drop(index=movies[movies.imdb_code == 'Error'].index,inplace=True)\n",
    "\n",
    "m = []\n",
    "for i in error_id:\n",
    "    m.append(get_movie_details(i))\n",
    "\n",
    "mo = pd.concat([pd.DataFrame(m),movies],)\n",
    "mo.to_excel('dataset/movies_v2.xlsx')"
   ],
   "metadata": {
    "collapsed": false
   }
  },
  {
   "cell_type": "code",
   "execution_count": 64,
   "outputs": [],
   "source": [
    "movies = pd.read_excel('dataset/movies_v2.xlsx')"
   ],
   "metadata": {
    "collapsed": false
   }
  },
  {
   "cell_type": "code",
   "execution_count": 65,
   "outputs": [
    {
     "data": {
      "text/plain": "   Unnamed: 0     id   imdb_code                  title  \\\n0           0   3830   tt0450345         The Wicker Man   \n1           1   3831   tt0073906  The Wind and the Lion   \n2           2  15867   tt8430676                Shepard   \n3           3  15868   tt3321300                   MI-5   \n4           4  19850  tt10833270      Upside-Down Magic   \n\n           title_english                    title_long    year  rating  \\\n0         The Wicker Man         The Wicker Man (2006)  2006.0     3.7   \n1  The Wind and the Lion  The Wind and the Lion (1975)  1975.0     6.8   \n2                Shepard                Shepard (2020)  2020.0     4.3   \n3                   MI-5                   MI-5 (2015)  2015.0     6.2   \n4      Upside-Down Magic      Upside-Down Magic (2020)  2020.0     5.3   \n\n   runtime                                       genres download_count  \\\n0    102.0  ['Action', 'Horror', 'Mystery', 'Thriller']          26395   \n1    119.0             ['Action', 'Adventure', 'Drama']          43729   \n2     71.0                       ['Action', 'Thriller']          12221   \n3    104.0              ['Action', 'Drama', 'Thriller']          43329   \n4     96.0              ['Action', 'Family', 'Fantasy']         119887   \n\n  like_count                                   description_full language  \\\n0         62  A sheriff investigating the disappearance of a...       en   \n1        102  At the beginning of the 20th century an Americ...       en   \n2          5  A troubled teen crosses paths with a charismat...       en   \n3         16  MI5 personnel are caught up in a traffic jam i...       en   \n4         33  In \"Upside-Down Magic, a Disney Channel Origin...       en   \n\n                                                cast  \n0  [{'name': 'Nicolas Cage', 'character_name': 'E...  \n1  [{'name': 'Sean Connery', 'character_name': 'R...  \n2  [{'name': 'Kareem J. Grimes', 'character_name'...  \n3  [{'name': 'Kit Harington', 'character_name': '...  \n4  [{'name': 'Vicki Lewis', 'character_name': 'He...  ",
      "text/html": "<div>\n<style scoped>\n    .dataframe tbody tr th:only-of-type {\n        vertical-align: middle;\n    }\n\n    .dataframe tbody tr th {\n        vertical-align: top;\n    }\n\n    .dataframe thead th {\n        text-align: right;\n    }\n</style>\n<table border=\"1\" class=\"dataframe\">\n  <thead>\n    <tr style=\"text-align: right;\">\n      <th></th>\n      <th>Unnamed: 0</th>\n      <th>id</th>\n      <th>imdb_code</th>\n      <th>title</th>\n      <th>title_english</th>\n      <th>title_long</th>\n      <th>year</th>\n      <th>rating</th>\n      <th>runtime</th>\n      <th>genres</th>\n      <th>download_count</th>\n      <th>like_count</th>\n      <th>description_full</th>\n      <th>language</th>\n      <th>cast</th>\n    </tr>\n  </thead>\n  <tbody>\n    <tr>\n      <th>0</th>\n      <td>0</td>\n      <td>3830</td>\n      <td>tt0450345</td>\n      <td>The Wicker Man</td>\n      <td>The Wicker Man</td>\n      <td>The Wicker Man (2006)</td>\n      <td>2006.0</td>\n      <td>3.7</td>\n      <td>102.0</td>\n      <td>['Action', 'Horror', 'Mystery', 'Thriller']</td>\n      <td>26395</td>\n      <td>62</td>\n      <td>A sheriff investigating the disappearance of a...</td>\n      <td>en</td>\n      <td>[{'name': 'Nicolas Cage', 'character_name': 'E...</td>\n    </tr>\n    <tr>\n      <th>1</th>\n      <td>1</td>\n      <td>3831</td>\n      <td>tt0073906</td>\n      <td>The Wind and the Lion</td>\n      <td>The Wind and the Lion</td>\n      <td>The Wind and the Lion (1975)</td>\n      <td>1975.0</td>\n      <td>6.8</td>\n      <td>119.0</td>\n      <td>['Action', 'Adventure', 'Drama']</td>\n      <td>43729</td>\n      <td>102</td>\n      <td>At the beginning of the 20th century an Americ...</td>\n      <td>en</td>\n      <td>[{'name': 'Sean Connery', 'character_name': 'R...</td>\n    </tr>\n    <tr>\n      <th>2</th>\n      <td>2</td>\n      <td>15867</td>\n      <td>tt8430676</td>\n      <td>Shepard</td>\n      <td>Shepard</td>\n      <td>Shepard (2020)</td>\n      <td>2020.0</td>\n      <td>4.3</td>\n      <td>71.0</td>\n      <td>['Action', 'Thriller']</td>\n      <td>12221</td>\n      <td>5</td>\n      <td>A troubled teen crosses paths with a charismat...</td>\n      <td>en</td>\n      <td>[{'name': 'Kareem J. Grimes', 'character_name'...</td>\n    </tr>\n    <tr>\n      <th>3</th>\n      <td>3</td>\n      <td>15868</td>\n      <td>tt3321300</td>\n      <td>MI-5</td>\n      <td>MI-5</td>\n      <td>MI-5 (2015)</td>\n      <td>2015.0</td>\n      <td>6.2</td>\n      <td>104.0</td>\n      <td>['Action', 'Drama', 'Thriller']</td>\n      <td>43329</td>\n      <td>16</td>\n      <td>MI5 personnel are caught up in a traffic jam i...</td>\n      <td>en</td>\n      <td>[{'name': 'Kit Harington', 'character_name': '...</td>\n    </tr>\n    <tr>\n      <th>4</th>\n      <td>4</td>\n      <td>19850</td>\n      <td>tt10833270</td>\n      <td>Upside-Down Magic</td>\n      <td>Upside-Down Magic</td>\n      <td>Upside-Down Magic (2020)</td>\n      <td>2020.0</td>\n      <td>5.3</td>\n      <td>96.0</td>\n      <td>['Action', 'Family', 'Fantasy']</td>\n      <td>119887</td>\n      <td>33</td>\n      <td>In \"Upside-Down Magic, a Disney Channel Origin...</td>\n      <td>en</td>\n      <td>[{'name': 'Vicki Lewis', 'character_name': 'He...</td>\n    </tr>\n  </tbody>\n</table>\n</div>"
     },
     "execution_count": 65,
     "metadata": {},
     "output_type": "execute_result"
    }
   ],
   "source": [
    "movies.head()"
   ],
   "metadata": {
    "collapsed": false
   }
  },
  {
   "cell_type": "code",
   "execution_count": 66,
   "outputs": [
    {
     "data": {
      "text/plain": "Index(['Unnamed: 0', 'id', 'imdb_code', 'title', 'title_english', 'title_long',\n       'year', 'rating', 'runtime', 'genres', 'download_count', 'like_count',\n       'description_full', 'language', 'cast'],\n      dtype='object')"
     },
     "execution_count": 66,
     "metadata": {},
     "output_type": "execute_result"
    }
   ],
   "source": [
    "movies.columns"
   ],
   "metadata": {
    "collapsed": false
   }
  },
  {
   "cell_type": "code",
   "execution_count": 68,
   "outputs": [
    {
     "data": {
      "text/plain": "          id   imdb_code title title_english title_long    year  rating  \\\n19334  19651   tt1849087   NaN           NaN     (2012)  2012.0     0.0   \n44003  44635  tt10260672   NaN           NaN     (2019)  2019.0     0.0   \n\n       runtime               genres download_count like_count  \\\n19334      0.0  ['Action', 'Drama']           3232          2   \n44003     90.0      ['Documentary']           4040          0   \n\n                                        description_full language  \\\n19334  Spring Eddy is set in a small Texas town follo...       en   \n44003                                                NaN      NaN   \n\n                                                    cast  \n19334  [{'name': 'Gabriel Luna', 'character_name': 'E...  \n44003                                                 []  ",
      "text/html": "<div>\n<style scoped>\n    .dataframe tbody tr th:only-of-type {\n        vertical-align: middle;\n    }\n\n    .dataframe tbody tr th {\n        vertical-align: top;\n    }\n\n    .dataframe thead th {\n        text-align: right;\n    }\n</style>\n<table border=\"1\" class=\"dataframe\">\n  <thead>\n    <tr style=\"text-align: right;\">\n      <th></th>\n      <th>id</th>\n      <th>imdb_code</th>\n      <th>title</th>\n      <th>title_english</th>\n      <th>title_long</th>\n      <th>year</th>\n      <th>rating</th>\n      <th>runtime</th>\n      <th>genres</th>\n      <th>download_count</th>\n      <th>like_count</th>\n      <th>description_full</th>\n      <th>language</th>\n      <th>cast</th>\n    </tr>\n  </thead>\n  <tbody>\n    <tr>\n      <th>19334</th>\n      <td>19651</td>\n      <td>tt1849087</td>\n      <td>NaN</td>\n      <td>NaN</td>\n      <td>(2012)</td>\n      <td>2012.0</td>\n      <td>0.0</td>\n      <td>0.0</td>\n      <td>['Action', 'Drama']</td>\n      <td>3232</td>\n      <td>2</td>\n      <td>Spring Eddy is set in a small Texas town follo...</td>\n      <td>en</td>\n      <td>[{'name': 'Gabriel Luna', 'character_name': 'E...</td>\n    </tr>\n    <tr>\n      <th>44003</th>\n      <td>44635</td>\n      <td>tt10260672</td>\n      <td>NaN</td>\n      <td>NaN</td>\n      <td>(2019)</td>\n      <td>2019.0</td>\n      <td>0.0</td>\n      <td>90.0</td>\n      <td>['Documentary']</td>\n      <td>4040</td>\n      <td>0</td>\n      <td>NaN</td>\n      <td>NaN</td>\n      <td>[]</td>\n    </tr>\n  </tbody>\n</table>\n</div>"
     },
     "execution_count": 68,
     "metadata": {},
     "output_type": "execute_result"
    }
   ],
   "source": [
    "movies[movies.title_english.isnull()]"
   ],
   "metadata": {
    "collapsed": false
   }
  },
  {
   "cell_type": "code",
   "execution_count": 150,
   "outputs": [],
   "source": [
    "movies.drop(columns=['Unnamed: 0'],inplace=True)\n",
    "required_columns = ['id', 'title_english', 'genres', 'description_full', 'cast']\n",
    "movie_marged_required_col = movies[required_columns]"
   ],
   "metadata": {
    "collapsed": false
   }
  },
  {
   "cell_type": "code",
   "execution_count": 151,
   "outputs": [
    {
     "data": {
      "text/plain": "      id          title_english                                       genres  \\\n0   3830         The Wicker Man  ['Action', 'Horror', 'Mystery', 'Thriller']   \n1   3831  The Wind and the Lion             ['Action', 'Adventure', 'Drama']   \n2  15867                Shepard                       ['Action', 'Thriller']   \n3  15868                   MI-5              ['Action', 'Drama', 'Thriller']   \n4  19850      Upside-Down Magic              ['Action', 'Family', 'Fantasy']   \n\n                                    description_full  \\\n0  A sheriff investigating the disappearance of a...   \n1  At the beginning of the 20th century an Americ...   \n2  A troubled teen crosses paths with a charismat...   \n3  MI5 personnel are caught up in a traffic jam i...   \n4  In \"Upside-Down Magic, a Disney Channel Origin...   \n\n                                                cast  \n0  [{'name': 'Nicolas Cage', 'character_name': 'E...  \n1  [{'name': 'Sean Connery', 'character_name': 'R...  \n2  [{'name': 'Kareem J. Grimes', 'character_name'...  \n3  [{'name': 'Kit Harington', 'character_name': '...  \n4  [{'name': 'Vicki Lewis', 'character_name': 'He...  ",
      "text/html": "<div>\n<style scoped>\n    .dataframe tbody tr th:only-of-type {\n        vertical-align: middle;\n    }\n\n    .dataframe tbody tr th {\n        vertical-align: top;\n    }\n\n    .dataframe thead th {\n        text-align: right;\n    }\n</style>\n<table border=\"1\" class=\"dataframe\">\n  <thead>\n    <tr style=\"text-align: right;\">\n      <th></th>\n      <th>id</th>\n      <th>title_english</th>\n      <th>genres</th>\n      <th>description_full</th>\n      <th>cast</th>\n    </tr>\n  </thead>\n  <tbody>\n    <tr>\n      <th>0</th>\n      <td>3830</td>\n      <td>The Wicker Man</td>\n      <td>['Action', 'Horror', 'Mystery', 'Thriller']</td>\n      <td>A sheriff investigating the disappearance of a...</td>\n      <td>[{'name': 'Nicolas Cage', 'character_name': 'E...</td>\n    </tr>\n    <tr>\n      <th>1</th>\n      <td>3831</td>\n      <td>The Wind and the Lion</td>\n      <td>['Action', 'Adventure', 'Drama']</td>\n      <td>At the beginning of the 20th century an Americ...</td>\n      <td>[{'name': 'Sean Connery', 'character_name': 'R...</td>\n    </tr>\n    <tr>\n      <th>2</th>\n      <td>15867</td>\n      <td>Shepard</td>\n      <td>['Action', 'Thriller']</td>\n      <td>A troubled teen crosses paths with a charismat...</td>\n      <td>[{'name': 'Kareem J. Grimes', 'character_name'...</td>\n    </tr>\n    <tr>\n      <th>3</th>\n      <td>15868</td>\n      <td>MI-5</td>\n      <td>['Action', 'Drama', 'Thriller']</td>\n      <td>MI5 personnel are caught up in a traffic jam i...</td>\n      <td>[{'name': 'Kit Harington', 'character_name': '...</td>\n    </tr>\n    <tr>\n      <th>4</th>\n      <td>19850</td>\n      <td>Upside-Down Magic</td>\n      <td>['Action', 'Family', 'Fantasy']</td>\n      <td>In \"Upside-Down Magic, a Disney Channel Origin...</td>\n      <td>[{'name': 'Vicki Lewis', 'character_name': 'He...</td>\n    </tr>\n  </tbody>\n</table>\n</div>"
     },
     "execution_count": 151,
     "metadata": {},
     "output_type": "execute_result"
    }
   ],
   "source": [
    "movie_marged_required_col.head()"
   ],
   "metadata": {
    "collapsed": false
   }
  },
  {
   "cell_type": "code",
   "execution_count": 134,
   "outputs": [
    {
     "data": {
      "text/plain": "id                    0\ntitle_english         2\ngenres                0\ndescription_full    407\ncast                  0\ndtype: int64"
     },
     "execution_count": 134,
     "metadata": {},
     "output_type": "execute_result"
    }
   ],
   "source": [
    "movie_marged_required_col.isnull().sum()"
   ],
   "metadata": {
    "collapsed": false
   }
  },
  {
   "cell_type": "code",
   "execution_count": 135,
   "outputs": [
    {
     "data": {
      "text/plain": "Int64Index([19334, 44003], dtype='int64')"
     },
     "execution_count": 135,
     "metadata": {},
     "output_type": "execute_result"
    }
   ],
   "source": [
    "movie_marged_required_col[movie_marged_required_col.title_english.isnull()].index"
   ],
   "metadata": {
    "collapsed": false
   }
  },
  {
   "cell_type": "code",
   "execution_count": 136,
   "outputs": [
    {
     "name": "stderr",
     "output_type": "stream",
     "text": [
      "C:\\Users\\UMEGS\\AppData\\Local\\Temp\\ipykernel_19528\\3370877336.py:1: SettingWithCopyWarning: \n",
      "A value is trying to be set on a copy of a slice from a DataFrame\n",
      "\n",
      "See the caveats in the documentation: https://pandas.pydata.org/pandas-docs/stable/user_guide/indexing.html#returning-a-view-versus-a-copy\n",
      "  movie_marged_required_col.drop(index=movie_marged_required_col[movie_marged_required_col.title_english.isnull()].index,inplace=True)\n"
     ]
    }
   ],
   "source": [
    "movie_marged_required_col.drop(index=movie_marged_required_col[movie_marged_required_col.title_english.isnull()].index,inplace=True)"
   ],
   "metadata": {
    "collapsed": false
   }
  },
  {
   "cell_type": "code",
   "execution_count": 137,
   "outputs": [
    {
     "data": {
      "text/plain": "Empty DataFrame\nColumns: [id, title_english, genres, description_full, cast]\nIndex: []",
      "text/html": "<div>\n<style scoped>\n    .dataframe tbody tr th:only-of-type {\n        vertical-align: middle;\n    }\n\n    .dataframe tbody tr th {\n        vertical-align: top;\n    }\n\n    .dataframe thead th {\n        text-align: right;\n    }\n</style>\n<table border=\"1\" class=\"dataframe\">\n  <thead>\n    <tr style=\"text-align: right;\">\n      <th></th>\n      <th>id</th>\n      <th>title_english</th>\n      <th>genres</th>\n      <th>description_full</th>\n      <th>cast</th>\n    </tr>\n  </thead>\n  <tbody>\n  </tbody>\n</table>\n</div>"
     },
     "execution_count": 137,
     "metadata": {},
     "output_type": "execute_result"
    }
   ],
   "source": [
    "movie_marged_required_col[movie_marged_required_col.title_english.isnull()]"
   ],
   "metadata": {
    "collapsed": false
   }
  },
  {
   "cell_type": "code",
   "execution_count": 138,
   "outputs": [
    {
     "data": {
      "text/plain": "0"
     },
     "execution_count": 138,
     "metadata": {},
     "output_type": "execute_result"
    }
   ],
   "source": [
    "movie_marged_required_col.duplicated().sum()"
   ],
   "metadata": {
    "collapsed": false
   }
  },
  {
   "cell_type": "code",
   "execution_count": 139,
   "outputs": [
    {
     "data": {
      "text/plain": "['Action', 'Horror', 'Mystery', 'Thriller']"
     },
     "execution_count": 139,
     "metadata": {},
     "output_type": "execute_result"
    }
   ],
   "source": [
    "eval(movie_marged_required_col.genres[0])"
   ],
   "metadata": {
    "collapsed": false
   }
  },
  {
   "cell_type": "code",
   "execution_count": 140,
   "outputs": [
    {
     "name": "stderr",
     "output_type": "stream",
     "text": [
      "C:\\Users\\UMEGS\\AppData\\Local\\Temp\\ipykernel_19528\\2053851151.py:1: SettingWithCopyWarning: \n",
      "A value is trying to be set on a copy of a slice from a DataFrame.\n",
      "Try using .loc[row_indexer,col_indexer] = value instead\n",
      "\n",
      "See the caveats in the documentation: https://pandas.pydata.org/pandas-docs/stable/user_guide/indexing.html#returning-a-view-versus-a-copy\n",
      "  movie_marged_required_col['genres'] = movie_marged_required_col['genres'].apply(eval)\n"
     ]
    }
   ],
   "source": [
    "movie_marged_required_col['genres'] = movie_marged_required_col['genres'].apply(eval)"
   ],
   "metadata": {
    "collapsed": false
   }
  },
  {
   "cell_type": "code",
   "execution_count": 141,
   "outputs": [
    {
     "data": {
      "text/plain": "      id          title_english                               genres  \\\n0   3830         The Wicker Man  [Action, Horror, Mystery, Thriller]   \n1   3831  The Wind and the Lion           [Action, Adventure, Drama]   \n2  15867                Shepard                   [Action, Thriller]   \n3  15868                   MI-5            [Action, Drama, Thriller]   \n4  19850      Upside-Down Magic            [Action, Family, Fantasy]   \n\n                                    description_full  \\\n0  A sheriff investigating the disappearance of a...   \n1  At the beginning of the 20th century an Americ...   \n2  A troubled teen crosses paths with a charismat...   \n3  MI5 personnel are caught up in a traffic jam i...   \n4  In \"Upside-Down Magic, a Disney Channel Origin...   \n\n                                                cast  \n0  [{'name': 'Nicolas Cage', 'character_name': 'E...  \n1  [{'name': 'Sean Connery', 'character_name': 'R...  \n2  [{'name': 'Kareem J. Grimes', 'character_name'...  \n3  [{'name': 'Kit Harington', 'character_name': '...  \n4  [{'name': 'Vicki Lewis', 'character_name': 'He...  ",
      "text/html": "<div>\n<style scoped>\n    .dataframe tbody tr th:only-of-type {\n        vertical-align: middle;\n    }\n\n    .dataframe tbody tr th {\n        vertical-align: top;\n    }\n\n    .dataframe thead th {\n        text-align: right;\n    }\n</style>\n<table border=\"1\" class=\"dataframe\">\n  <thead>\n    <tr style=\"text-align: right;\">\n      <th></th>\n      <th>id</th>\n      <th>title_english</th>\n      <th>genres</th>\n      <th>description_full</th>\n      <th>cast</th>\n    </tr>\n  </thead>\n  <tbody>\n    <tr>\n      <th>0</th>\n      <td>3830</td>\n      <td>The Wicker Man</td>\n      <td>[Action, Horror, Mystery, Thriller]</td>\n      <td>A sheriff investigating the disappearance of a...</td>\n      <td>[{'name': 'Nicolas Cage', 'character_name': 'E...</td>\n    </tr>\n    <tr>\n      <th>1</th>\n      <td>3831</td>\n      <td>The Wind and the Lion</td>\n      <td>[Action, Adventure, Drama]</td>\n      <td>At the beginning of the 20th century an Americ...</td>\n      <td>[{'name': 'Sean Connery', 'character_name': 'R...</td>\n    </tr>\n    <tr>\n      <th>2</th>\n      <td>15867</td>\n      <td>Shepard</td>\n      <td>[Action, Thriller]</td>\n      <td>A troubled teen crosses paths with a charismat...</td>\n      <td>[{'name': 'Kareem J. Grimes', 'character_name'...</td>\n    </tr>\n    <tr>\n      <th>3</th>\n      <td>15868</td>\n      <td>MI-5</td>\n      <td>[Action, Drama, Thriller]</td>\n      <td>MI5 personnel are caught up in a traffic jam i...</td>\n      <td>[{'name': 'Kit Harington', 'character_name': '...</td>\n    </tr>\n    <tr>\n      <th>4</th>\n      <td>19850</td>\n      <td>Upside-Down Magic</td>\n      <td>[Action, Family, Fantasy]</td>\n      <td>In \"Upside-Down Magic, a Disney Channel Origin...</td>\n      <td>[{'name': 'Vicki Lewis', 'character_name': 'He...</td>\n    </tr>\n  </tbody>\n</table>\n</div>"
     },
     "execution_count": 141,
     "metadata": {},
     "output_type": "execute_result"
    }
   ],
   "source": [
    "movie_marged_required_col.head()"
   ],
   "metadata": {
    "collapsed": false
   }
  },
  {
   "cell_type": "code",
   "execution_count": 142,
   "outputs": [
    {
     "data": {
      "text/plain": "\"[{'name': 'Nicolas Cage', 'character_name': 'Edward Malus'}, {'name': 'James Franco', 'character_name': 'Bar Guy #1'}, {'name': 'Leelee Sobieski', 'character_name': 'Sister Honey'}, {'name': 'Ellen Burstyn', 'character_name': 'Sister SummersIsle'}]\""
     },
     "execution_count": 142,
     "metadata": {},
     "output_type": "execute_result"
    }
   ],
   "source": [
    "movie_marged_required_col.cast[0]"
   ],
   "metadata": {
    "collapsed": false
   }
  },
  {
   "cell_type": "code",
   "execution_count": 143,
   "outputs": [
    {
     "data": {
      "text/plain": "[{'name': 'Nicolas Cage', 'character_name': 'Edward Malus'},\n {'name': 'James Franco', 'character_name': 'Bar Guy #1'},\n {'name': 'Leelee Sobieski', 'character_name': 'Sister Honey'},\n {'name': 'Ellen Burstyn', 'character_name': 'Sister SummersIsle'}]"
     },
     "execution_count": 143,
     "metadata": {},
     "output_type": "execute_result"
    }
   ],
   "source": [
    "eval(movie_marged_required_col.cast[0])"
   ],
   "metadata": {
    "collapsed": false
   }
  },
  {
   "cell_type": "code",
   "execution_count": 148,
   "outputs": [],
   "source": [
    "def get_top_3_cast(x):\n",
    "    return [value for cast in eval(x)[:3] for value in (cast['name'], cast['character_name'])]"
   ],
   "metadata": {
    "collapsed": false
   }
  },
  {
   "cell_type": "code",
   "execution_count": 145,
   "outputs": [
    {
     "name": "stderr",
     "output_type": "stream",
     "text": [
      "C:\\Users\\UMEGS\\AppData\\Local\\Temp\\ipykernel_19528\\3736029986.py:1: SettingWithCopyWarning: \n",
      "A value is trying to be set on a copy of a slice from a DataFrame.\n",
      "Try using .loc[row_indexer,col_indexer] = value instead\n",
      "\n",
      "See the caveats in the documentation: https://pandas.pydata.org/pandas-docs/stable/user_guide/indexing.html#returning-a-view-versus-a-copy\n",
      "  movie_marged_required_col['cast'] = movie_marged_required_col['cast'].apply(get_top_3_cast)\n"
     ]
    }
   ],
   "source": [
    "movie_marged_required_col['cast'] = movie_marged_required_col['cast'].apply(get_top_3_cast)"
   ],
   "metadata": {
    "collapsed": false
   }
  },
  {
   "cell_type": "code",
   "execution_count": 146,
   "outputs": [
    {
     "data": {
      "text/plain": "      id          title_english                               genres  \\\n0   3830         The Wicker Man  [Action, Horror, Mystery, Thriller]   \n1   3831  The Wind and the Lion           [Action, Adventure, Drama]   \n2  15867                Shepard                   [Action, Thriller]   \n3  15868                   MI-5            [Action, Drama, Thriller]   \n4  19850      Upside-Down Magic            [Action, Family, Fantasy]   \n\n                                    description_full  \\\n0  A sheriff investigating the disappearance of a...   \n1  At the beginning of the 20th century an Americ...   \n2  A troubled teen crosses paths with a charismat...   \n3  MI5 personnel are caught up in a traffic jam i...   \n4  In \"Upside-Down Magic, a Disney Channel Origin...   \n\n                                                cast  \n0  [Nicolas Cage, Edward Malus, James Franco, Bar...  \n1  [Sean Connery, Raisuli, Candice Bergen, Eden P...  \n2  [Kareem J. Grimes, Dwyer, Ashley Nicole Willia...  \n3  [Kit Harington, Will Holloway, Tuppence Middle...  \n4  [Vicki Lewis, Headmaster Knightslinger, Yasmee...  ",
      "text/html": "<div>\n<style scoped>\n    .dataframe tbody tr th:only-of-type {\n        vertical-align: middle;\n    }\n\n    .dataframe tbody tr th {\n        vertical-align: top;\n    }\n\n    .dataframe thead th {\n        text-align: right;\n    }\n</style>\n<table border=\"1\" class=\"dataframe\">\n  <thead>\n    <tr style=\"text-align: right;\">\n      <th></th>\n      <th>id</th>\n      <th>title_english</th>\n      <th>genres</th>\n      <th>description_full</th>\n      <th>cast</th>\n    </tr>\n  </thead>\n  <tbody>\n    <tr>\n      <th>0</th>\n      <td>3830</td>\n      <td>The Wicker Man</td>\n      <td>[Action, Horror, Mystery, Thriller]</td>\n      <td>A sheriff investigating the disappearance of a...</td>\n      <td>[Nicolas Cage, Edward Malus, James Franco, Bar...</td>\n    </tr>\n    <tr>\n      <th>1</th>\n      <td>3831</td>\n      <td>The Wind and the Lion</td>\n      <td>[Action, Adventure, Drama]</td>\n      <td>At the beginning of the 20th century an Americ...</td>\n      <td>[Sean Connery, Raisuli, Candice Bergen, Eden P...</td>\n    </tr>\n    <tr>\n      <th>2</th>\n      <td>15867</td>\n      <td>Shepard</td>\n      <td>[Action, Thriller]</td>\n      <td>A troubled teen crosses paths with a charismat...</td>\n      <td>[Kareem J. Grimes, Dwyer, Ashley Nicole Willia...</td>\n    </tr>\n    <tr>\n      <th>3</th>\n      <td>15868</td>\n      <td>MI-5</td>\n      <td>[Action, Drama, Thriller]</td>\n      <td>MI5 personnel are caught up in a traffic jam i...</td>\n      <td>[Kit Harington, Will Holloway, Tuppence Middle...</td>\n    </tr>\n    <tr>\n      <th>4</th>\n      <td>19850</td>\n      <td>Upside-Down Magic</td>\n      <td>[Action, Family, Fantasy]</td>\n      <td>In \"Upside-Down Magic, a Disney Channel Origin...</td>\n      <td>[Vicki Lewis, Headmaster Knightslinger, Yasmee...</td>\n    </tr>\n  </tbody>\n</table>\n</div>"
     },
     "execution_count": 146,
     "metadata": {},
     "output_type": "execute_result"
    }
   ],
   "source": [
    "movie_marged_required_col.head()"
   ],
   "metadata": {
    "collapsed": false
   }
  },
  {
   "cell_type": "code",
   "execution_count": 147,
   "outputs": [
    {
     "name": "stderr",
     "output_type": "stream",
     "text": [
      "C:\\Users\\UMEGS\\AppData\\Local\\Temp\\ipykernel_19528\\1175200935.py:1: SettingWithCopyWarning: \n",
      "A value is trying to be set on a copy of a slice from a DataFrame\n",
      "\n",
      "See the caveats in the documentation: https://pandas.pydata.org/pandas-docs/stable/user_guide/indexing.html#returning-a-view-versus-a-copy\n",
      "  movie_marged_required_col.description_full.fillna('',inplace=True)\n"
     ]
    }
   ],
   "source": [
    "movie_marged_required_col.description_full.fillna('',inplace=True)"
   ],
   "metadata": {
    "collapsed": false
   }
  },
  {
   "cell_type": "code",
   "execution_count": 110,
   "outputs": [
    {
     "data": {
      "text/plain": "0        A sheriff investigating the disappearance of a...\n1        At the beginning of the 20th century an Americ...\n2        A troubled teen crosses paths with a charismat...\n3        MI5 personnel are caught up in a traffic jam i...\n4        In \"Upside-Down Magic, a Disney Channel Origin...\n                               ...                        \n45314    Three criminals disguise themselves as Buddhis...\n45315    The spirit of a deceased mother takes over her...\n45316    Mama's Boy: A Story from Our Americas is the t...\n45317    In the village of Gavaldon, two misfits and be...\n45318    A friendship forms between two strangers. For ...\nName: description_full, Length: 45317, dtype: object"
     },
     "execution_count": 110,
     "metadata": {},
     "output_type": "execute_result"
    }
   ],
   "source": [
    "movie_marged_required_col.description_full"
   ],
   "metadata": {
    "collapsed": false
   }
  },
  {
   "cell_type": "code",
   "execution_count": 111,
   "outputs": [],
   "source": [
    "def description_preprossing(text):\n",
    "    stopwords = nltk.corpus.stopwords.words('english')\n",
    "    text = text.replace('-', ' ')\n",
    "    text = text.translate(str.maketrans('', '', string.punctuation))\n",
    "    ' '.join([word for word in text.split() if word not in stopwords])\n",
    "\n",
    "    return text"
   ],
   "metadata": {
    "collapsed": false
   }
  },
  {
   "cell_type": "code",
   "execution_count": 112,
   "outputs": [
    {
     "name": "stderr",
     "output_type": "stream",
     "text": [
      "C:\\Users\\UMEGS\\AppData\\Local\\Temp\\ipykernel_19528\\1104305181.py:1: SettingWithCopyWarning: \n",
      "A value is trying to be set on a copy of a slice from a DataFrame.\n",
      "Try using .loc[row_indexer,col_indexer] = value instead\n",
      "\n",
      "See the caveats in the documentation: https://pandas.pydata.org/pandas-docs/stable/user_guide/indexing.html#returning-a-view-versus-a-copy\n",
      "  movie_marged_required_col.description_full = movie_marged_required_col.description_full.apply(description_preprossing)\n"
     ]
    }
   ],
   "source": [
    "movie_marged_required_col.description_full = movie_marged_required_col.description_full.apply(description_preprossing)"
   ],
   "metadata": {
    "collapsed": false
   }
  },
  {
   "cell_type": "code",
   "execution_count": 113,
   "outputs": [
    {
     "name": "stderr",
     "output_type": "stream",
     "text": [
      "C:\\Users\\UMEGS\\AppData\\Local\\Temp\\ipykernel_19528\\3630112484.py:1: SettingWithCopyWarning: \n",
      "A value is trying to be set on a copy of a slice from a DataFrame.\n",
      "Try using .loc[row_indexer,col_indexer] = value instead\n",
      "\n",
      "See the caveats in the documentation: https://pandas.pydata.org/pandas-docs/stable/user_guide/indexing.html#returning-a-view-versus-a-copy\n",
      "  movie_marged_required_col['description_full'] = movie_marged_required_col['description_full'].apply(lambda x: x.split())\n"
     ]
    }
   ],
   "source": [
    "movie_marged_required_col['description_full'] = movie_marged_required_col['description_full'].apply(lambda x: x.split())"
   ],
   "metadata": {
    "collapsed": false
   }
  },
  {
   "cell_type": "code",
   "execution_count": 114,
   "outputs": [
    {
     "data": {
      "text/plain": "      id          title_english                               genres  \\\n0   3830         The Wicker Man  [Action, Horror, Mystery, Thriller]   \n1   3831  The Wind and the Lion           [Action, Adventure, Drama]   \n2  15867                Shepard                   [Action, Thriller]   \n3  15868                   MI-5            [Action, Drama, Thriller]   \n4  19850      Upside-Down Magic            [Action, Family, Fantasy]   \n\n                                    description_full  \\\n0  [A, sheriff, investigating, the, disappearance...   \n1  [At, the, beginning, of, the, 20th, century, a...   \n2  [A, troubled, teen, crosses, paths, with, a, c...   \n3  [MI5, personnel, are, caught, up, in, a, traff...   \n4  [In, Upside, Down, Magic, a, Disney, Channel, ...   \n\n                                                cast  \n0  [{'name': 'Nicolas Cage', 'character_name': 'E...  \n1  [{'name': 'Sean Connery', 'character_name': 'R...  \n2  [{'name': 'Kareem J. Grimes', 'character_name'...  \n3  [{'name': 'Kit Harington', 'character_name': '...  \n4  [{'name': 'Vicki Lewis', 'character_name': 'He...  ",
      "text/html": "<div>\n<style scoped>\n    .dataframe tbody tr th:only-of-type {\n        vertical-align: middle;\n    }\n\n    .dataframe tbody tr th {\n        vertical-align: top;\n    }\n\n    .dataframe thead th {\n        text-align: right;\n    }\n</style>\n<table border=\"1\" class=\"dataframe\">\n  <thead>\n    <tr style=\"text-align: right;\">\n      <th></th>\n      <th>id</th>\n      <th>title_english</th>\n      <th>genres</th>\n      <th>description_full</th>\n      <th>cast</th>\n    </tr>\n  </thead>\n  <tbody>\n    <tr>\n      <th>0</th>\n      <td>3830</td>\n      <td>The Wicker Man</td>\n      <td>[Action, Horror, Mystery, Thriller]</td>\n      <td>[A, sheriff, investigating, the, disappearance...</td>\n      <td>[{'name': 'Nicolas Cage', 'character_name': 'E...</td>\n    </tr>\n    <tr>\n      <th>1</th>\n      <td>3831</td>\n      <td>The Wind and the Lion</td>\n      <td>[Action, Adventure, Drama]</td>\n      <td>[At, the, beginning, of, the, 20th, century, a...</td>\n      <td>[{'name': 'Sean Connery', 'character_name': 'R...</td>\n    </tr>\n    <tr>\n      <th>2</th>\n      <td>15867</td>\n      <td>Shepard</td>\n      <td>[Action, Thriller]</td>\n      <td>[A, troubled, teen, crosses, paths, with, a, c...</td>\n      <td>[{'name': 'Kareem J. Grimes', 'character_name'...</td>\n    </tr>\n    <tr>\n      <th>3</th>\n      <td>15868</td>\n      <td>MI-5</td>\n      <td>[Action, Drama, Thriller]</td>\n      <td>[MI5, personnel, are, caught, up, in, a, traff...</td>\n      <td>[{'name': 'Kit Harington', 'character_name': '...</td>\n    </tr>\n    <tr>\n      <th>4</th>\n      <td>19850</td>\n      <td>Upside-Down Magic</td>\n      <td>[Action, Family, Fantasy]</td>\n      <td>[In, Upside, Down, Magic, a, Disney, Channel, ...</td>\n      <td>[{'name': 'Vicki Lewis', 'character_name': 'He...</td>\n    </tr>\n  </tbody>\n</table>\n</div>"
     },
     "execution_count": 114,
     "metadata": {},
     "output_type": "execute_result"
    }
   ],
   "source": [
    "movie_marged_required_col.head()"
   ],
   "metadata": {
    "collapsed": false
   }
  },
  {
   "cell_type": "code",
   "execution_count": 60,
   "outputs": [
    {
     "name": "stderr",
     "output_type": "stream",
     "text": [
      "C:\\Users\\UMEGS\\AppData\\Local\\Temp\\ipykernel_3512\\281407993.py:1: SettingWithCopyWarning: \n",
      "A value is trying to be set on a copy of a slice from a DataFrame\n",
      "\n",
      "See the caveats in the documentation: https://pandas.pydata.org/pandas-docs/stable/user_guide/indexing.html#returning-a-view-versus-a-copy\n",
      "  movie_marged_required_col.dropna(inplace=True)\n"
     ]
    }
   ],
   "source": [
    "movie_marged_required_col.dropna(inplace=True)"
   ],
   "metadata": {
    "collapsed": false
   }
  },
  {
   "cell_type": "code",
   "execution_count": 61,
   "outputs": [
    {
     "name": "stderr",
     "output_type": "stream",
     "text": [
      "C:\\Users\\UMEGS\\AppData\\Local\\Temp\\ipykernel_3512\\1072495924.py:1: SettingWithCopyWarning: \n",
      "A value is trying to be set on a copy of a slice from a DataFrame.\n",
      "Try using .loc[row_indexer,col_indexer] = value instead\n",
      "\n",
      "See the caveats in the documentation: https://pandas.pydata.org/pandas-docs/stable/user_guide/indexing.html#returning-a-view-versus-a-copy\n",
      "  movie_marged_required_col['genres'] = movie_marged_required_col['genres'].apply(lambda x: [i.replace(\" \", \"\") for i in x])\n",
      "C:\\Users\\UMEGS\\AppData\\Local\\Temp\\ipykernel_3512\\1072495924.py:2: SettingWithCopyWarning: \n",
      "A value is trying to be set on a copy of a slice from a DataFrame.\n",
      "Try using .loc[row_indexer,col_indexer] = value instead\n",
      "\n",
      "See the caveats in the documentation: https://pandas.pydata.org/pandas-docs/stable/user_guide/indexing.html#returning-a-view-versus-a-copy\n",
      "  movie_marged_required_col['description_full'] = movie_marged_required_col['description_full'].apply(lambda x: [i.replace(\" \", \"\") for i in x])\n",
      "C:\\Users\\UMEGS\\AppData\\Local\\Temp\\ipykernel_3512\\1072495924.py:3: SettingWithCopyWarning: \n",
      "A value is trying to be set on a copy of a slice from a DataFrame.\n",
      "Try using .loc[row_indexer,col_indexer] = value instead\n",
      "\n",
      "See the caveats in the documentation: https://pandas.pydata.org/pandas-docs/stable/user_guide/indexing.html#returning-a-view-versus-a-copy\n",
      "  movie_marged_required_col['cast'] = movie_marged_required_col['cast'].apply(lambda x: [i.replace(\" \", \"\") for i in x])\n"
     ]
    }
   ],
   "source": [
    "movie_marged_required_col['genres'] = movie_marged_required_col['genres'].apply(lambda x: [i.replace(\" \", \"\") for i in x])\n",
    "movie_marged_required_col['description_full'] = movie_marged_required_col['description_full'].apply(lambda x: [i.replace(\" \", \"\") for i in x])\n",
    "movie_marged_required_col['cast'] = movie_marged_required_col['cast'].apply(lambda x: [i.replace(\" \", \"\") for i in x])"
   ],
   "metadata": {
    "collapsed": false
   }
  },
  {
   "cell_type": "code",
   "execution_count": 149,
   "outputs": [
    {
     "data": {
      "text/plain": "      id          title_english                               genres  \\\n0   3830         The Wicker Man  [Action, Horror, Mystery, Thriller]   \n1   3831  The Wind and the Lion           [Action, Adventure, Drama]   \n2  15867                Shepard                   [Action, Thriller]   \n3  15868                   MI-5            [Action, Drama, Thriller]   \n4  19850      Upside-Down Magic            [Action, Family, Fantasy]   \n\n                                    description_full  \\\n0  A sheriff investigating the disappearance of a...   \n1  At the beginning of the 20th century an Americ...   \n2  A troubled teen crosses paths with a charismat...   \n3  MI5 personnel are caught up in a traffic jam i...   \n4  In \"Upside-Down Magic, a Disney Channel Origin...   \n\n                                                cast  \n0  [Nicolas Cage, Edward Malus, James Franco, Bar...  \n1  [Sean Connery, Raisuli, Candice Bergen, Eden P...  \n2  [Kareem J. Grimes, Dwyer, Ashley Nicole Willia...  \n3  [Kit Harington, Will Holloway, Tuppence Middle...  \n4  [Vicki Lewis, Headmaster Knightslinger, Yasmee...  ",
      "text/html": "<div>\n<style scoped>\n    .dataframe tbody tr th:only-of-type {\n        vertical-align: middle;\n    }\n\n    .dataframe tbody tr th {\n        vertical-align: top;\n    }\n\n    .dataframe thead th {\n        text-align: right;\n    }\n</style>\n<table border=\"1\" class=\"dataframe\">\n  <thead>\n    <tr style=\"text-align: right;\">\n      <th></th>\n      <th>id</th>\n      <th>title_english</th>\n      <th>genres</th>\n      <th>description_full</th>\n      <th>cast</th>\n    </tr>\n  </thead>\n  <tbody>\n    <tr>\n      <th>0</th>\n      <td>3830</td>\n      <td>The Wicker Man</td>\n      <td>[Action, Horror, Mystery, Thriller]</td>\n      <td>A sheriff investigating the disappearance of a...</td>\n      <td>[Nicolas Cage, Edward Malus, James Franco, Bar...</td>\n    </tr>\n    <tr>\n      <th>1</th>\n      <td>3831</td>\n      <td>The Wind and the Lion</td>\n      <td>[Action, Adventure, Drama]</td>\n      <td>At the beginning of the 20th century an Americ...</td>\n      <td>[Sean Connery, Raisuli, Candice Bergen, Eden P...</td>\n    </tr>\n    <tr>\n      <th>2</th>\n      <td>15867</td>\n      <td>Shepard</td>\n      <td>[Action, Thriller]</td>\n      <td>A troubled teen crosses paths with a charismat...</td>\n      <td>[Kareem J. Grimes, Dwyer, Ashley Nicole Willia...</td>\n    </tr>\n    <tr>\n      <th>3</th>\n      <td>15868</td>\n      <td>MI-5</td>\n      <td>[Action, Drama, Thriller]</td>\n      <td>MI5 personnel are caught up in a traffic jam i...</td>\n      <td>[Kit Harington, Will Holloway, Tuppence Middle...</td>\n    </tr>\n    <tr>\n      <th>4</th>\n      <td>19850</td>\n      <td>Upside-Down Magic</td>\n      <td>[Action, Family, Fantasy]</td>\n      <td>In \"Upside-Down Magic, a Disney Channel Origin...</td>\n      <td>[Vicki Lewis, Headmaster Knightslinger, Yasmee...</td>\n    </tr>\n  </tbody>\n</table>\n</div>"
     },
     "execution_count": 149,
     "metadata": {},
     "output_type": "execute_result"
    }
   ],
   "source": [
    "movie_marged_required_col.head()"
   ],
   "metadata": {
    "collapsed": false
   }
  },
  {
   "cell_type": "code",
   "execution_count": 116,
   "outputs": [],
   "source": [
    "movie = movie_marged_required_col.copy(deep=True)"
   ],
   "metadata": {
    "collapsed": false
   }
  },
  {
   "cell_type": "code",
   "execution_count": 117,
   "outputs": [
    {
     "data": {
      "text/plain": "Index(['id', 'title_english', 'genres', 'description_full', 'cast'], dtype='object')"
     },
     "execution_count": 117,
     "metadata": {},
     "output_type": "execute_result"
    }
   ],
   "source": [
    "movie.columns"
   ],
   "metadata": {
    "collapsed": false
   }
  },
  {
   "cell_type": "code",
   "execution_count": 118,
   "outputs": [
    {
     "ename": "TypeError",
     "evalue": "can only concatenate list (not \"str\") to list",
     "output_type": "error",
     "traceback": [
      "\u001B[1;31m---------------------------------------------------------------------------\u001B[0m",
      "\u001B[1;31mTypeError\u001B[0m                                 Traceback (most recent call last)",
      "File \u001B[1;32mc:\\users\\umegs\\appdata\\local\\programs\\python\\python38\\lib\\site-packages\\pandas\\core\\ops\\array_ops.py:163\u001B[0m, in \u001B[0;36m_na_arithmetic_op\u001B[1;34m(left, right, op, is_cmp)\u001B[0m\n\u001B[0;32m    162\u001B[0m \u001B[38;5;28;01mtry\u001B[39;00m:\n\u001B[1;32m--> 163\u001B[0m     result \u001B[38;5;241m=\u001B[39m \u001B[43mfunc\u001B[49m\u001B[43m(\u001B[49m\u001B[43mleft\u001B[49m\u001B[43m,\u001B[49m\u001B[43m \u001B[49m\u001B[43mright\u001B[49m\u001B[43m)\u001B[49m\n\u001B[0;32m    164\u001B[0m \u001B[38;5;28;01mexcept\u001B[39;00m \u001B[38;5;167;01mTypeError\u001B[39;00m:\n",
      "File \u001B[1;32mc:\\users\\umegs\\appdata\\local\\programs\\python\\python38\\lib\\site-packages\\pandas\\core\\computation\\expressions.py:239\u001B[0m, in \u001B[0;36mevaluate\u001B[1;34m(op, a, b, use_numexpr)\u001B[0m\n\u001B[0;32m    237\u001B[0m     \u001B[38;5;28;01mif\u001B[39;00m use_numexpr:\n\u001B[0;32m    238\u001B[0m         \u001B[38;5;66;03m# error: \"None\" not callable\u001B[39;00m\n\u001B[1;32m--> 239\u001B[0m         \u001B[38;5;28;01mreturn\u001B[39;00m \u001B[43m_evaluate\u001B[49m\u001B[43m(\u001B[49m\u001B[43mop\u001B[49m\u001B[43m,\u001B[49m\u001B[43m \u001B[49m\u001B[43mop_str\u001B[49m\u001B[43m,\u001B[49m\u001B[43m \u001B[49m\u001B[43ma\u001B[49m\u001B[43m,\u001B[49m\u001B[43m \u001B[49m\u001B[43mb\u001B[49m\u001B[43m)\u001B[49m  \u001B[38;5;66;03m# type: ignore[misc]\u001B[39;00m\n\u001B[0;32m    240\u001B[0m \u001B[38;5;28;01mreturn\u001B[39;00m _evaluate_standard(op, op_str, a, b)\n",
      "File \u001B[1;32mc:\\users\\umegs\\appdata\\local\\programs\\python\\python38\\lib\\site-packages\\pandas\\core\\computation\\expressions.py:128\u001B[0m, in \u001B[0;36m_evaluate_numexpr\u001B[1;34m(op, op_str, a, b)\u001B[0m\n\u001B[0;32m    127\u001B[0m \u001B[38;5;28;01mif\u001B[39;00m result \u001B[38;5;129;01mis\u001B[39;00m \u001B[38;5;28;01mNone\u001B[39;00m:\n\u001B[1;32m--> 128\u001B[0m     result \u001B[38;5;241m=\u001B[39m \u001B[43m_evaluate_standard\u001B[49m\u001B[43m(\u001B[49m\u001B[43mop\u001B[49m\u001B[43m,\u001B[49m\u001B[43m \u001B[49m\u001B[43mop_str\u001B[49m\u001B[43m,\u001B[49m\u001B[43m \u001B[49m\u001B[43ma\u001B[49m\u001B[43m,\u001B[49m\u001B[43m \u001B[49m\u001B[43mb\u001B[49m\u001B[43m)\u001B[49m\n\u001B[0;32m    130\u001B[0m \u001B[38;5;28;01mreturn\u001B[39;00m result\n",
      "File \u001B[1;32mc:\\users\\umegs\\appdata\\local\\programs\\python\\python38\\lib\\site-packages\\pandas\\core\\computation\\expressions.py:69\u001B[0m, in \u001B[0;36m_evaluate_standard\u001B[1;34m(op, op_str, a, b)\u001B[0m\n\u001B[0;32m     68\u001B[0m     _store_test_result(\u001B[38;5;28;01mFalse\u001B[39;00m)\n\u001B[1;32m---> 69\u001B[0m \u001B[38;5;28;01mreturn\u001B[39;00m \u001B[43mop\u001B[49m\u001B[43m(\u001B[49m\u001B[43ma\u001B[49m\u001B[43m,\u001B[49m\u001B[43m \u001B[49m\u001B[43mb\u001B[49m\u001B[43m)\u001B[49m\n",
      "\u001B[1;31mTypeError\u001B[0m: can only concatenate list (not \"str\") to list",
      "\nDuring handling of the above exception, another exception occurred:\n",
      "\u001B[1;31mTypeError\u001B[0m                                 Traceback (most recent call last)",
      "Input \u001B[1;32mIn [118]\u001B[0m, in \u001B[0;36m<cell line: 1>\u001B[1;34m()\u001B[0m\n\u001B[1;32m----> 1\u001B[0m movie[\u001B[38;5;124m'\u001B[39m\u001B[38;5;124mtag\u001B[39m\u001B[38;5;124m'\u001B[39m] \u001B[38;5;241m=\u001B[39m \u001B[43mmovie\u001B[49m\u001B[43m[\u001B[49m\u001B[38;5;124;43m'\u001B[39;49m\u001B[38;5;124;43mgenres\u001B[39;49m\u001B[38;5;124;43m'\u001B[39;49m\u001B[43m]\u001B[49m\u001B[43m \u001B[49m\u001B[38;5;241;43m+\u001B[39;49m\u001B[43m \u001B[49m\u001B[43mmovie\u001B[49m\u001B[43m[\u001B[49m\u001B[38;5;124;43m'\u001B[39;49m\u001B[38;5;124;43mdescription_full\u001B[39;49m\u001B[38;5;124;43m'\u001B[39;49m\u001B[43m]\u001B[49m\u001B[43m \u001B[49m\u001B[38;5;241;43m+\u001B[39;49m\u001B[43m \u001B[49m\u001B[43mmovie\u001B[49m\u001B[43m[\u001B[49m\u001B[38;5;124;43m'\u001B[39;49m\u001B[38;5;124;43mcast\u001B[39;49m\u001B[38;5;124;43m'\u001B[39;49m\u001B[43m]\u001B[49m\n",
      "File \u001B[1;32mc:\\users\\umegs\\appdata\\local\\programs\\python\\python38\\lib\\site-packages\\pandas\\core\\ops\\common.py:70\u001B[0m, in \u001B[0;36m_unpack_zerodim_and_defer.<locals>.new_method\u001B[1;34m(self, other)\u001B[0m\n\u001B[0;32m     66\u001B[0m             \u001B[38;5;28;01mreturn\u001B[39;00m \u001B[38;5;28mNotImplemented\u001B[39m\n\u001B[0;32m     68\u001B[0m other \u001B[38;5;241m=\u001B[39m item_from_zerodim(other)\n\u001B[1;32m---> 70\u001B[0m \u001B[38;5;28;01mreturn\u001B[39;00m \u001B[43mmethod\u001B[49m\u001B[43m(\u001B[49m\u001B[38;5;28;43mself\u001B[39;49m\u001B[43m,\u001B[49m\u001B[43m \u001B[49m\u001B[43mother\u001B[49m\u001B[43m)\u001B[49m\n",
      "File \u001B[1;32mc:\\users\\umegs\\appdata\\local\\programs\\python\\python38\\lib\\site-packages\\pandas\\core\\arraylike.py:100\u001B[0m, in \u001B[0;36mOpsMixin.__add__\u001B[1;34m(self, other)\u001B[0m\n\u001B[0;32m     98\u001B[0m \u001B[38;5;129m@unpack_zerodim_and_defer\u001B[39m(\u001B[38;5;124m\"\u001B[39m\u001B[38;5;124m__add__\u001B[39m\u001B[38;5;124m\"\u001B[39m)\n\u001B[0;32m     99\u001B[0m \u001B[38;5;28;01mdef\u001B[39;00m \u001B[38;5;21m__add__\u001B[39m(\u001B[38;5;28mself\u001B[39m, other):\n\u001B[1;32m--> 100\u001B[0m     \u001B[38;5;28;01mreturn\u001B[39;00m \u001B[38;5;28;43mself\u001B[39;49m\u001B[38;5;241;43m.\u001B[39;49m\u001B[43m_arith_method\u001B[49m\u001B[43m(\u001B[49m\u001B[43mother\u001B[49m\u001B[43m,\u001B[49m\u001B[43m \u001B[49m\u001B[43moperator\u001B[49m\u001B[38;5;241;43m.\u001B[39;49m\u001B[43madd\u001B[49m\u001B[43m)\u001B[49m\n",
      "File \u001B[1;32mc:\\users\\umegs\\appdata\\local\\programs\\python\\python38\\lib\\site-packages\\pandas\\core\\series.py:5639\u001B[0m, in \u001B[0;36mSeries._arith_method\u001B[1;34m(self, other, op)\u001B[0m\n\u001B[0;32m   5637\u001B[0m \u001B[38;5;28;01mdef\u001B[39;00m \u001B[38;5;21m_arith_method\u001B[39m(\u001B[38;5;28mself\u001B[39m, other, op):\n\u001B[0;32m   5638\u001B[0m     \u001B[38;5;28mself\u001B[39m, other \u001B[38;5;241m=\u001B[39m ops\u001B[38;5;241m.\u001B[39malign_method_SERIES(\u001B[38;5;28mself\u001B[39m, other)\n\u001B[1;32m-> 5639\u001B[0m     \u001B[38;5;28;01mreturn\u001B[39;00m \u001B[43mbase\u001B[49m\u001B[38;5;241;43m.\u001B[39;49m\u001B[43mIndexOpsMixin\u001B[49m\u001B[38;5;241;43m.\u001B[39;49m\u001B[43m_arith_method\u001B[49m\u001B[43m(\u001B[49m\u001B[38;5;28;43mself\u001B[39;49m\u001B[43m,\u001B[49m\u001B[43m \u001B[49m\u001B[43mother\u001B[49m\u001B[43m,\u001B[49m\u001B[43m \u001B[49m\u001B[43mop\u001B[49m\u001B[43m)\u001B[49m\n",
      "File \u001B[1;32mc:\\users\\umegs\\appdata\\local\\programs\\python\\python38\\lib\\site-packages\\pandas\\core\\base.py:1295\u001B[0m, in \u001B[0;36mIndexOpsMixin._arith_method\u001B[1;34m(self, other, op)\u001B[0m\n\u001B[0;32m   1292\u001B[0m rvalues \u001B[38;5;241m=\u001B[39m ensure_wrapped_if_datetimelike(rvalues)\n\u001B[0;32m   1294\u001B[0m \u001B[38;5;28;01mwith\u001B[39;00m np\u001B[38;5;241m.\u001B[39merrstate(\u001B[38;5;28mall\u001B[39m\u001B[38;5;241m=\u001B[39m\u001B[38;5;124m\"\u001B[39m\u001B[38;5;124mignore\u001B[39m\u001B[38;5;124m\"\u001B[39m):\n\u001B[1;32m-> 1295\u001B[0m     result \u001B[38;5;241m=\u001B[39m \u001B[43mops\u001B[49m\u001B[38;5;241;43m.\u001B[39;49m\u001B[43marithmetic_op\u001B[49m\u001B[43m(\u001B[49m\u001B[43mlvalues\u001B[49m\u001B[43m,\u001B[49m\u001B[43m \u001B[49m\u001B[43mrvalues\u001B[49m\u001B[43m,\u001B[49m\u001B[43m \u001B[49m\u001B[43mop\u001B[49m\u001B[43m)\u001B[49m\n\u001B[0;32m   1297\u001B[0m \u001B[38;5;28;01mreturn\u001B[39;00m \u001B[38;5;28mself\u001B[39m\u001B[38;5;241m.\u001B[39m_construct_result(result, name\u001B[38;5;241m=\u001B[39mres_name)\n",
      "File \u001B[1;32mc:\\users\\umegs\\appdata\\local\\programs\\python\\python38\\lib\\site-packages\\pandas\\core\\ops\\array_ops.py:222\u001B[0m, in \u001B[0;36marithmetic_op\u001B[1;34m(left, right, op)\u001B[0m\n\u001B[0;32m    217\u001B[0m \u001B[38;5;28;01melse\u001B[39;00m:\n\u001B[0;32m    218\u001B[0m     \u001B[38;5;66;03m# TODO we should handle EAs consistently and move this check before the if/else\u001B[39;00m\n\u001B[0;32m    219\u001B[0m     \u001B[38;5;66;03m# (https://github.com/pandas-dev/pandas/issues/41165)\u001B[39;00m\n\u001B[0;32m    220\u001B[0m     _bool_arith_check(op, left, right)\n\u001B[1;32m--> 222\u001B[0m     res_values \u001B[38;5;241m=\u001B[39m \u001B[43m_na_arithmetic_op\u001B[49m\u001B[43m(\u001B[49m\u001B[43mleft\u001B[49m\u001B[43m,\u001B[49m\u001B[43m \u001B[49m\u001B[43mright\u001B[49m\u001B[43m,\u001B[49m\u001B[43m \u001B[49m\u001B[43mop\u001B[49m\u001B[43m)\u001B[49m\n\u001B[0;32m    224\u001B[0m \u001B[38;5;28;01mreturn\u001B[39;00m res_values\n",
      "File \u001B[1;32mc:\\users\\umegs\\appdata\\local\\programs\\python\\python38\\lib\\site-packages\\pandas\\core\\ops\\array_ops.py:170\u001B[0m, in \u001B[0;36m_na_arithmetic_op\u001B[1;34m(left, right, op, is_cmp)\u001B[0m\n\u001B[0;32m    164\u001B[0m \u001B[38;5;28;01mexcept\u001B[39;00m \u001B[38;5;167;01mTypeError\u001B[39;00m:\n\u001B[0;32m    165\u001B[0m     \u001B[38;5;28;01mif\u001B[39;00m \u001B[38;5;129;01mnot\u001B[39;00m is_cmp \u001B[38;5;129;01mand\u001B[39;00m (is_object_dtype(left\u001B[38;5;241m.\u001B[39mdtype) \u001B[38;5;129;01mor\u001B[39;00m is_object_dtype(right)):\n\u001B[0;32m    166\u001B[0m         \u001B[38;5;66;03m# For object dtype, fallback to a masked operation (only operating\u001B[39;00m\n\u001B[0;32m    167\u001B[0m         \u001B[38;5;66;03m#  on the non-missing values)\u001B[39;00m\n\u001B[0;32m    168\u001B[0m         \u001B[38;5;66;03m# Don't do this for comparisons, as that will handle complex numbers\u001B[39;00m\n\u001B[0;32m    169\u001B[0m         \u001B[38;5;66;03m#  incorrectly, see GH#32047\u001B[39;00m\n\u001B[1;32m--> 170\u001B[0m         result \u001B[38;5;241m=\u001B[39m \u001B[43m_masked_arith_op\u001B[49m\u001B[43m(\u001B[49m\u001B[43mleft\u001B[49m\u001B[43m,\u001B[49m\u001B[43m \u001B[49m\u001B[43mright\u001B[49m\u001B[43m,\u001B[49m\u001B[43m \u001B[49m\u001B[43mop\u001B[49m\u001B[43m)\u001B[49m\n\u001B[0;32m    171\u001B[0m     \u001B[38;5;28;01melse\u001B[39;00m:\n\u001B[0;32m    172\u001B[0m         \u001B[38;5;28;01mraise\u001B[39;00m\n",
      "File \u001B[1;32mc:\\users\\umegs\\appdata\\local\\programs\\python\\python38\\lib\\site-packages\\pandas\\core\\ops\\array_ops.py:108\u001B[0m, in \u001B[0;36m_masked_arith_op\u001B[1;34m(x, y, op)\u001B[0m\n\u001B[0;32m    106\u001B[0m     \u001B[38;5;66;03m# See GH#5284, GH#5035, GH#19448 for historical reference\u001B[39;00m\n\u001B[0;32m    107\u001B[0m     \u001B[38;5;28;01mif\u001B[39;00m mask\u001B[38;5;241m.\u001B[39many():\n\u001B[1;32m--> 108\u001B[0m         result[mask] \u001B[38;5;241m=\u001B[39m \u001B[43mop\u001B[49m\u001B[43m(\u001B[49m\u001B[43mxrav\u001B[49m\u001B[43m[\u001B[49m\u001B[43mmask\u001B[49m\u001B[43m]\u001B[49m\u001B[43m,\u001B[49m\u001B[43m \u001B[49m\u001B[43myrav\u001B[49m\u001B[43m[\u001B[49m\u001B[43mmask\u001B[49m\u001B[43m]\u001B[49m\u001B[43m)\u001B[49m\n\u001B[0;32m    110\u001B[0m \u001B[38;5;28;01melse\u001B[39;00m:\n\u001B[0;32m    111\u001B[0m     \u001B[38;5;28;01mif\u001B[39;00m \u001B[38;5;129;01mnot\u001B[39;00m is_scalar(y):\n",
      "\u001B[1;31mTypeError\u001B[0m: can only concatenate list (not \"str\") to list"
     ]
    }
   ],
   "source": [
    "movie['tag'] = movie['genres'] + movie['description_full'] + movie['cast']"
   ],
   "metadata": {
    "collapsed": false
   }
  },
  {
   "cell_type": "code",
   "execution_count": null,
   "outputs": [],
   "source": [
    "movie.head()"
   ],
   "metadata": {
    "collapsed": false
   }
  },
  {
   "cell_type": "code",
   "execution_count": null,
   "outputs": [],
   "source": [
    "movie = movie[['id', 'title_english', 'tag']]"
   ],
   "metadata": {
    "collapsed": false
   }
  },
  {
   "cell_type": "code",
   "execution_count": 70,
   "outputs": [
    {
     "data": {
      "text/plain": "      id          title_english  \\\n0   3830         The Wicker Man   \n1   3831  The Wind and the Lion   \n2  15867                Shepard   \n3  15868                   MI-5   \n4  19850      Upside-Down Magic   \n\n                                                 tag  \n0  [Action, Horror, Mystery, Thriller, A, sheriff...  \n1  [Action, Adventure, Drama, At, the, beginning,...  \n2  [Action, Thriller, A, troubled, teen, crosses,...  \n3  [Action, Drama, Thriller, MI5, personnel, are,...  \n4  [Action, Family, Fantasy, In, \"Upside-Down, Ma...  ",
      "text/html": "<div>\n<style scoped>\n    .dataframe tbody tr th:only-of-type {\n        vertical-align: middle;\n    }\n\n    .dataframe tbody tr th {\n        vertical-align: top;\n    }\n\n    .dataframe thead th {\n        text-align: right;\n    }\n</style>\n<table border=\"1\" class=\"dataframe\">\n  <thead>\n    <tr style=\"text-align: right;\">\n      <th></th>\n      <th>id</th>\n      <th>title_english</th>\n      <th>tag</th>\n    </tr>\n  </thead>\n  <tbody>\n    <tr>\n      <th>0</th>\n      <td>3830</td>\n      <td>The Wicker Man</td>\n      <td>[Action, Horror, Mystery, Thriller, A, sheriff...</td>\n    </tr>\n    <tr>\n      <th>1</th>\n      <td>3831</td>\n      <td>The Wind and the Lion</td>\n      <td>[Action, Adventure, Drama, At, the, beginning,...</td>\n    </tr>\n    <tr>\n      <th>2</th>\n      <td>15867</td>\n      <td>Shepard</td>\n      <td>[Action, Thriller, A, troubled, teen, crosses,...</td>\n    </tr>\n    <tr>\n      <th>3</th>\n      <td>15868</td>\n      <td>MI-5</td>\n      <td>[Action, Drama, Thriller, MI5, personnel, are,...</td>\n    </tr>\n    <tr>\n      <th>4</th>\n      <td>19850</td>\n      <td>Upside-Down Magic</td>\n      <td>[Action, Family, Fantasy, In, \"Upside-Down, Ma...</td>\n    </tr>\n  </tbody>\n</table>\n</div>"
     },
     "execution_count": 70,
     "metadata": {},
     "output_type": "execute_result"
    }
   ],
   "source": [
    "movie.head()"
   ],
   "metadata": {
    "collapsed": false
   }
  },
  {
   "cell_type": "code",
   "execution_count": 71,
   "outputs": [
    {
     "name": "stderr",
     "output_type": "stream",
     "text": [
      "C:\\Users\\UMEGS\\AppData\\Local\\Temp\\ipykernel_3512\\3523302069.py:1: SettingWithCopyWarning: \n",
      "A value is trying to be set on a copy of a slice from a DataFrame.\n",
      "Try using .loc[row_indexer,col_indexer] = value instead\n",
      "\n",
      "See the caveats in the documentation: https://pandas.pydata.org/pandas-docs/stable/user_guide/indexing.html#returning-a-view-versus-a-copy\n",
      "  movie['tag'] = movie['tag'].apply(lambda x: \" \".join(x))\n"
     ]
    }
   ],
   "source": [
    "movie['tag'] = movie['tag'].apply(lambda x: \" \".join(x))"
   ],
   "metadata": {
    "collapsed": false
   }
  },
  {
   "cell_type": "code",
   "execution_count": 72,
   "outputs": [
    {
     "data": {
      "text/plain": "      id          title_english  \\\n0   3830         The Wicker Man   \n1   3831  The Wind and the Lion   \n2  15867                Shepard   \n3  15868                   MI-5   \n4  19850      Upside-Down Magic   \n\n                                                 tag  \n0  Action Horror Mystery Thriller A sheriff inves...  \n1  Action Adventure Drama At the beginning of the...  \n2  Action Thriller A troubled teen crosses paths ...  \n3  Action Drama Thriller MI5 personnel are caught...  \n4  Action Family Fantasy In \"Upside-Down Magic, a...  ",
      "text/html": "<div>\n<style scoped>\n    .dataframe tbody tr th:only-of-type {\n        vertical-align: middle;\n    }\n\n    .dataframe tbody tr th {\n        vertical-align: top;\n    }\n\n    .dataframe thead th {\n        text-align: right;\n    }\n</style>\n<table border=\"1\" class=\"dataframe\">\n  <thead>\n    <tr style=\"text-align: right;\">\n      <th></th>\n      <th>id</th>\n      <th>title_english</th>\n      <th>tag</th>\n    </tr>\n  </thead>\n  <tbody>\n    <tr>\n      <th>0</th>\n      <td>3830</td>\n      <td>The Wicker Man</td>\n      <td>Action Horror Mystery Thriller A sheriff inves...</td>\n    </tr>\n    <tr>\n      <th>1</th>\n      <td>3831</td>\n      <td>The Wind and the Lion</td>\n      <td>Action Adventure Drama At the beginning of the...</td>\n    </tr>\n    <tr>\n      <th>2</th>\n      <td>15867</td>\n      <td>Shepard</td>\n      <td>Action Thriller A troubled teen crosses paths ...</td>\n    </tr>\n    <tr>\n      <th>3</th>\n      <td>15868</td>\n      <td>MI-5</td>\n      <td>Action Drama Thriller MI5 personnel are caught...</td>\n    </tr>\n    <tr>\n      <th>4</th>\n      <td>19850</td>\n      <td>Upside-Down Magic</td>\n      <td>Action Family Fantasy In \"Upside-Down Magic, a...</td>\n    </tr>\n  </tbody>\n</table>\n</div>"
     },
     "execution_count": 72,
     "metadata": {},
     "output_type": "execute_result"
    }
   ],
   "source": [
    "movie.head()"
   ],
   "metadata": {
    "collapsed": false
   }
  },
  {
   "cell_type": "code",
   "execution_count": 73,
   "outputs": [
    {
     "name": "stderr",
     "output_type": "stream",
     "text": [
      "C:\\Users\\UMEGS\\AppData\\Local\\Temp\\ipykernel_3512\\3425778460.py:1: SettingWithCopyWarning: \n",
      "A value is trying to be set on a copy of a slice from a DataFrame.\n",
      "Try using .loc[row_indexer,col_indexer] = value instead\n",
      "\n",
      "See the caveats in the documentation: https://pandas.pydata.org/pandas-docs/stable/user_guide/indexing.html#returning-a-view-versus-a-copy\n",
      "  movie['tag'] = movie['tag'].apply(lambda x: x.lower())\n"
     ]
    }
   ],
   "source": [
    "movie['tag'] = movie['tag'].apply(lambda x: x.lower())"
   ],
   "metadata": {
    "collapsed": false
   }
  },
  {
   "cell_type": "code",
   "execution_count": 74,
   "outputs": [
    {
     "data": {
      "text/plain": "      id          title_english  \\\n0   3830         The Wicker Man   \n1   3831  The Wind and the Lion   \n2  15867                Shepard   \n3  15868                   MI-5   \n4  19850      Upside-Down Magic   \n\n                                                 tag  \n0  action horror mystery thriller a sheriff inves...  \n1  action adventure drama at the beginning of the...  \n2  action thriller a troubled teen crosses paths ...  \n3  action drama thriller mi5 personnel are caught...  \n4  action family fantasy in \"upside-down magic, a...  ",
      "text/html": "<div>\n<style scoped>\n    .dataframe tbody tr th:only-of-type {\n        vertical-align: middle;\n    }\n\n    .dataframe tbody tr th {\n        vertical-align: top;\n    }\n\n    .dataframe thead th {\n        text-align: right;\n    }\n</style>\n<table border=\"1\" class=\"dataframe\">\n  <thead>\n    <tr style=\"text-align: right;\">\n      <th></th>\n      <th>id</th>\n      <th>title_english</th>\n      <th>tag</th>\n    </tr>\n  </thead>\n  <tbody>\n    <tr>\n      <th>0</th>\n      <td>3830</td>\n      <td>The Wicker Man</td>\n      <td>action horror mystery thriller a sheriff inves...</td>\n    </tr>\n    <tr>\n      <th>1</th>\n      <td>3831</td>\n      <td>The Wind and the Lion</td>\n      <td>action adventure drama at the beginning of the...</td>\n    </tr>\n    <tr>\n      <th>2</th>\n      <td>15867</td>\n      <td>Shepard</td>\n      <td>action thriller a troubled teen crosses paths ...</td>\n    </tr>\n    <tr>\n      <th>3</th>\n      <td>15868</td>\n      <td>MI-5</td>\n      <td>action drama thriller mi5 personnel are caught...</td>\n    </tr>\n    <tr>\n      <th>4</th>\n      <td>19850</td>\n      <td>Upside-Down Magic</td>\n      <td>action family fantasy in \"upside-down magic, a...</td>\n    </tr>\n  </tbody>\n</table>\n</div>"
     },
     "execution_count": 74,
     "metadata": {},
     "output_type": "execute_result"
    }
   ],
   "source": [
    "movie.head()"
   ],
   "metadata": {
    "collapsed": false
   }
  },
  {
   "cell_type": "code",
   "execution_count": null,
   "outputs": [],
   "source": [],
   "metadata": {
    "collapsed": false
   }
  },
  {
   "cell_type": "code",
   "execution_count": 244,
   "outputs": [],
   "source": [
    "def movie_prerossing(df):\n",
    "    df = df.copy(deep=True)\n",
    "    stopwords = nltk.corpus.stopwords.words('english')\n",
    "    ps = PorterStemmer()\n",
    "\n",
    "    def description_preprossing(text):\n",
    "        text = text.replace('-', ' ').translate(str.maketrans('', '', string.punctuation))\n",
    "        text = ' '.join([word for word in text.split() if word not in stopwords])\n",
    "        return text\n",
    "\n",
    "    def get_top_3_cast(x):\n",
    "        return [value for cast in eval(x)[:3] for value in (cast['name'], cast['character_name'])]\n",
    "\n",
    "    def staming(text):\n",
    "        return \" \".join([ps.stem(word) for word in text.split()])\n",
    "\n",
    "    print('drop null title')\n",
    "    df.drop(index=df[(df.title_english.isnull()) | (df.title_english == 'None')].index, inplace=True)\n",
    "\n",
    "    print('genres eval')\n",
    "    df.genres = df.genres.apply(eval)\n",
    "\n",
    "    print('top 3 cast')\n",
    "    df.cast = df.cast.apply(get_top_3_cast)\n",
    "\n",
    "    print('description fill na')\n",
    "    df.description_full.fillna('', inplace=True)\n",
    "\n",
    "    print('description preprossing')\n",
    "    df.description_full = df.description_full.apply(description_preprossing)\n",
    "\n",
    "    print('description split')\n",
    "    df.description_full = df.description_full.apply(lambda x: x.split())\n",
    "\n",
    "    print('genres replace')\n",
    "    df.genres = df.genres.apply(lambda x: [i.replace(\" \", \"\") for i in x])\n",
    "\n",
    "    print('description replace')\n",
    "    df.description_full = df.description_full.apply(lambda x: [i.replace(\" \", \"\") for i in x])\n",
    "\n",
    "    print('cast split')\n",
    "    df.cast = df.cast.apply(lambda x: [i.replace(\" \", \"\") for i in x])\n",
    "\n",
    "    print('making tag')\n",
    "    df['tag'] = df.genres + df.description_full + df.cast\n",
    "\n",
    "    print('join and to lower')\n",
    "    df.tag = df.tag.apply(lambda x: \" \".join(x).lower())\n",
    "\n",
    "    print('staming')\n",
    "    df.tag = df['tag'].apply(staming)\n",
    "\n",
    "    return df[['id', 'title_english', 'tag']]"
   ],
   "metadata": {
    "collapsed": false
   }
  },
  {
   "cell_type": "code",
   "execution_count": 243,
   "outputs": [],
   "source": [],
   "metadata": {
    "collapsed": false
   }
  },
  {
   "cell_type": "markdown",
   "source": [
    "## Stemming"
   ],
   "metadata": {
    "collapsed": false
   }
  },
  {
   "cell_type": "code",
   "execution_count": 237,
   "outputs": [],
   "source": [
    "# ['love', 'Loved', 'loving'] = love"
   ],
   "metadata": {
    "collapsed": false
   }
  },
  {
   "cell_type": "code",
   "execution_count": 238,
   "outputs": [],
   "source": [
    "ps = PorterStemmer()"
   ],
   "metadata": {
    "collapsed": false
   }
  },
  {
   "cell_type": "code",
   "execution_count": 239,
   "outputs": [],
   "source": [
    "def staming(text):\n",
    "    stemed_text = [ps.stem(word) for word in text.split()]\n",
    "    return \" \".join(stemed_text)"
   ],
   "metadata": {
    "collapsed": false
   }
  },
  {
   "cell_type": "code",
   "execution_count": 240,
   "outputs": [],
   "source": [
    "movie['tag'] = movie['tag'].apply(staming)"
   ],
   "metadata": {
    "collapsed": false
   }
  },
  {
   "cell_type": "code",
   "execution_count": 241,
   "outputs": [
    {
     "data": {
      "text/plain": "      id          title_english  \\\n0   3830         The Wicker Man   \n1   3831  The Wind and the Lion   \n2  15867                Shepard   \n3  15868                   MI-5   \n4  19850      Upside-Down Magic   \n\n                                                 tag  \n0  action horror mysteri thriller a sheriff inves...  \n1  action adventur drama at begin 20th centuri am...  \n2  action thriller a troubl teen cross path chari...  \n3  action drama thriller mi5 personnel caught tra...  \n4  action famili fantasi in upsid down magic disn...  ",
      "text/html": "<div>\n<style scoped>\n    .dataframe tbody tr th:only-of-type {\n        vertical-align: middle;\n    }\n\n    .dataframe tbody tr th {\n        vertical-align: top;\n    }\n\n    .dataframe thead th {\n        text-align: right;\n    }\n</style>\n<table border=\"1\" class=\"dataframe\">\n  <thead>\n    <tr style=\"text-align: right;\">\n      <th></th>\n      <th>id</th>\n      <th>title_english</th>\n      <th>tag</th>\n    </tr>\n  </thead>\n  <tbody>\n    <tr>\n      <th>0</th>\n      <td>3830</td>\n      <td>The Wicker Man</td>\n      <td>action horror mysteri thriller a sheriff inves...</td>\n    </tr>\n    <tr>\n      <th>1</th>\n      <td>3831</td>\n      <td>The Wind and the Lion</td>\n      <td>action adventur drama at begin 20th centuri am...</td>\n    </tr>\n    <tr>\n      <th>2</th>\n      <td>15867</td>\n      <td>Shepard</td>\n      <td>action thriller a troubl teen cross path chari...</td>\n    </tr>\n    <tr>\n      <th>3</th>\n      <td>15868</td>\n      <td>MI-5</td>\n      <td>action drama thriller mi5 personnel caught tra...</td>\n    </tr>\n    <tr>\n      <th>4</th>\n      <td>19850</td>\n      <td>Upside-Down Magic</td>\n      <td>action famili fantasi in upsid down magic disn...</td>\n    </tr>\n  </tbody>\n</table>\n</div>"
     },
     "execution_count": 241,
     "metadata": {},
     "output_type": "execute_result"
    }
   ],
   "source": [
    "movie.head()"
   ],
   "metadata": {
    "collapsed": false
   }
  },
  {
   "cell_type": "code",
   "execution_count": 245,
   "outputs": [
    {
     "name": "stdout",
     "output_type": "stream",
     "text": [
      "drop null title\n",
      "genres eval\n",
      "top 3 cast\n",
      "description fill na\n",
      "description preprossing\n",
      "description split\n",
      "genres replace\n",
      "description replace\n",
      "cast split\n",
      "making tag\n",
      "join and to lower\n",
      "staming\n"
     ]
    }
   ],
   "source": [
    "# movies.drop(columns=['Unnamed: 0'],inplace=True)\n",
    "required_columns = ['id', 'title_english', 'genres', 'description_full', 'cast']\n",
    "movie_marged_required_col = movies[required_columns]\n",
    "\n",
    "movie = movie_prerossing(movie_marged_required_col)"
   ],
   "metadata": {
    "collapsed": false
   }
  },
  {
   "cell_type": "code",
   "execution_count": 246,
   "outputs": [
    {
     "data": {
      "text/plain": "      id          title_english  \\\n0   3830         The Wicker Man   \n1   3831  The Wind and the Lion   \n2  15867                Shepard   \n3  15868                   MI-5   \n4  19850      Upside-Down Magic   \n\n                                                 tag  \n0  action horror mysteri thriller a sheriff inves...  \n1  action adventur drama at begin 20th centuri am...  \n2  action thriller a troubl teen cross path chari...  \n3  action drama thriller mi5 personnel caught tra...  \n4  action famili fantasi in upsid down magic disn...  ",
      "text/html": "<div>\n<style scoped>\n    .dataframe tbody tr th:only-of-type {\n        vertical-align: middle;\n    }\n\n    .dataframe tbody tr th {\n        vertical-align: top;\n    }\n\n    .dataframe thead th {\n        text-align: right;\n    }\n</style>\n<table border=\"1\" class=\"dataframe\">\n  <thead>\n    <tr style=\"text-align: right;\">\n      <th></th>\n      <th>id</th>\n      <th>title_english</th>\n      <th>tag</th>\n    </tr>\n  </thead>\n  <tbody>\n    <tr>\n      <th>0</th>\n      <td>3830</td>\n      <td>The Wicker Man</td>\n      <td>action horror mysteri thriller a sheriff inves...</td>\n    </tr>\n    <tr>\n      <th>1</th>\n      <td>3831</td>\n      <td>The Wind and the Lion</td>\n      <td>action adventur drama at begin 20th centuri am...</td>\n    </tr>\n    <tr>\n      <th>2</th>\n      <td>15867</td>\n      <td>Shepard</td>\n      <td>action thriller a troubl teen cross path chari...</td>\n    </tr>\n    <tr>\n      <th>3</th>\n      <td>15868</td>\n      <td>MI-5</td>\n      <td>action drama thriller mi5 personnel caught tra...</td>\n    </tr>\n    <tr>\n      <th>4</th>\n      <td>19850</td>\n      <td>Upside-Down Magic</td>\n      <td>action famili fantasi in upsid down magic disn...</td>\n    </tr>\n  </tbody>\n</table>\n</div>"
     },
     "execution_count": 246,
     "metadata": {},
     "output_type": "execute_result"
    }
   ],
   "source": [
    "movie.head()"
   ],
   "metadata": {
    "collapsed": false
   }
  },
  {
   "cell_type": "code",
   "execution_count": 247,
   "outputs": [],
   "source": [
    "movie.to_csv('dataset/movies_data_id_title_tag_stemming.csv',index=False)"
   ],
   "metadata": {
    "collapsed": false
   }
  },
  {
   "cell_type": "code",
   "execution_count": 248,
   "outputs": [],
   "source": [
    "movie = pd.read_csv('dataset/movies_data_id_title_tag_stemming.csv')"
   ],
   "metadata": {
    "collapsed": false
   }
  },
  {
   "cell_type": "code",
   "execution_count": 249,
   "outputs": [],
   "source": [
    "movie.dropna(inplace=True)"
   ],
   "metadata": {
    "collapsed": false
   }
  },
  {
   "cell_type": "code",
   "execution_count": 255,
   "outputs": [
    {
     "data": {
      "text/plain": "'action famili fantasi in upsid down magic disney channel origin movi 13 year old nori boxwood horac discov flux anim best friend reina carvaj manipul flame togeth enter sage academi magic studi reina expert abil har power fire land top class flare nori wonki magic procliv turn dritten half kitten half dragon land class upsid down magic otherwis known udm while headmast knightsling believ udm unconvent power leav vulner danger evil shadow magic nori fellow udm classmat set prove upsid down magic beat right side vickilewi headmasterknightsling yasmeenfletch chandra sienaagudong reinacarvaj'"
     },
     "execution_count": 255,
     "metadata": {},
     "output_type": "execute_result"
    }
   ],
   "source": [
    "movie.tag[4]"
   ],
   "metadata": {
    "collapsed": false
   }
  },
  {
   "cell_type": "code",
   "execution_count": 266,
   "outputs": [],
   "source": [
    "# cv = CountVectorizer(max_features=5000, stop_words='english')\n",
    "cv = TfidfVectorizer(ngram_range=(1,2), stop_words='english',analyzer='word', min_df=0,)"
   ],
   "metadata": {
    "collapsed": false
   }
  },
  {
   "cell_type": "code",
   "execution_count": 267,
   "outputs": [],
   "source": [
    "# limited_data = movie['tag'][:20000]\n",
    "# vectorized_tag = cv.fit_transform(limited_data)\n",
    "vectorized_tag = cv.fit_transform(movie['tag'])"
   ],
   "metadata": {
    "collapsed": false
   }
  },
  {
   "cell_type": "code",
   "execution_count": 268,
   "outputs": [
    {
     "data": {
      "text/plain": "(45313, 1541876)"
     },
     "execution_count": 268,
     "metadata": {},
     "output_type": "execute_result"
    }
   ],
   "source": [
    "vectorized_tag.shape"
   ],
   "metadata": {
    "collapsed": false
   }
  },
  {
   "cell_type": "code",
   "execution_count": 269,
   "outputs": [
    {
     "data": {
      "text/plain": "True"
     },
     "execution_count": 269,
     "metadata": {},
     "output_type": "execute_result"
    }
   ],
   "source": [
    "'dragon land' in cv.get_feature_names_out()"
   ],
   "metadata": {
    "collapsed": false
   }
  },
  {
   "cell_type": "code",
   "execution_count": 270,
   "outputs": [
    {
     "ename": "MemoryError",
     "evalue": "Unable to allocate 521. GiB for an array with shape (45313, 1541876) and data type float64",
     "output_type": "error",
     "traceback": [
      "\u001B[1;31m---------------------------------------------------------------------------\u001B[0m",
      "\u001B[1;31mMemoryError\u001B[0m                               Traceback (most recent call last)",
      "Input \u001B[1;32mIn [270]\u001B[0m, in \u001B[0;36m<cell line: 1>\u001B[1;34m()\u001B[0m\n\u001B[1;32m----> 1\u001B[0m df_vect \u001B[38;5;241m=\u001B[39m pd\u001B[38;5;241m.\u001B[39mDataFrame(\u001B[43mvectorized_tag\u001B[49m\u001B[38;5;241;43m.\u001B[39;49m\u001B[43mtoarray\u001B[49m\u001B[43m(\u001B[49m\u001B[43m)\u001B[49m, columns\u001B[38;5;241m=\u001B[39mcv\u001B[38;5;241m.\u001B[39mget_feature_names_out())\n",
      "File \u001B[1;32mc:\\users\\umegs\\appdata\\local\\programs\\python\\python38\\lib\\site-packages\\scipy\\sparse\\_compressed.py:1051\u001B[0m, in \u001B[0;36m_cs_matrix.toarray\u001B[1;34m(self, order, out)\u001B[0m\n\u001B[0;32m   1049\u001B[0m \u001B[38;5;28;01mif\u001B[39;00m out \u001B[38;5;129;01mis\u001B[39;00m \u001B[38;5;28;01mNone\u001B[39;00m \u001B[38;5;129;01mand\u001B[39;00m order \u001B[38;5;129;01mis\u001B[39;00m \u001B[38;5;28;01mNone\u001B[39;00m:\n\u001B[0;32m   1050\u001B[0m     order \u001B[38;5;241m=\u001B[39m \u001B[38;5;28mself\u001B[39m\u001B[38;5;241m.\u001B[39m_swap(\u001B[38;5;124m'\u001B[39m\u001B[38;5;124mcf\u001B[39m\u001B[38;5;124m'\u001B[39m)[\u001B[38;5;241m0\u001B[39m]\n\u001B[1;32m-> 1051\u001B[0m out \u001B[38;5;241m=\u001B[39m \u001B[38;5;28;43mself\u001B[39;49m\u001B[38;5;241;43m.\u001B[39;49m\u001B[43m_process_toarray_args\u001B[49m\u001B[43m(\u001B[49m\u001B[43morder\u001B[49m\u001B[43m,\u001B[49m\u001B[43m \u001B[49m\u001B[43mout\u001B[49m\u001B[43m)\u001B[49m\n\u001B[0;32m   1052\u001B[0m \u001B[38;5;28;01mif\u001B[39;00m \u001B[38;5;129;01mnot\u001B[39;00m (out\u001B[38;5;241m.\u001B[39mflags\u001B[38;5;241m.\u001B[39mc_contiguous \u001B[38;5;129;01mor\u001B[39;00m out\u001B[38;5;241m.\u001B[39mflags\u001B[38;5;241m.\u001B[39mf_contiguous):\n\u001B[0;32m   1053\u001B[0m     \u001B[38;5;28;01mraise\u001B[39;00m \u001B[38;5;167;01mValueError\u001B[39;00m(\u001B[38;5;124m'\u001B[39m\u001B[38;5;124mOutput array must be C or F contiguous\u001B[39m\u001B[38;5;124m'\u001B[39m)\n",
      "File \u001B[1;32mc:\\users\\umegs\\appdata\\local\\programs\\python\\python38\\lib\\site-packages\\scipy\\sparse\\_base.py:1298\u001B[0m, in \u001B[0;36mspmatrix._process_toarray_args\u001B[1;34m(self, order, out)\u001B[0m\n\u001B[0;32m   1296\u001B[0m     \u001B[38;5;28;01mreturn\u001B[39;00m out\n\u001B[0;32m   1297\u001B[0m \u001B[38;5;28;01melse\u001B[39;00m:\n\u001B[1;32m-> 1298\u001B[0m     \u001B[38;5;28;01mreturn\u001B[39;00m \u001B[43mnp\u001B[49m\u001B[38;5;241;43m.\u001B[39;49m\u001B[43mzeros\u001B[49m\u001B[43m(\u001B[49m\u001B[38;5;28;43mself\u001B[39;49m\u001B[38;5;241;43m.\u001B[39;49m\u001B[43mshape\u001B[49m\u001B[43m,\u001B[49m\u001B[43m \u001B[49m\u001B[43mdtype\u001B[49m\u001B[38;5;241;43m=\u001B[39;49m\u001B[38;5;28;43mself\u001B[39;49m\u001B[38;5;241;43m.\u001B[39;49m\u001B[43mdtype\u001B[49m\u001B[43m,\u001B[49m\u001B[43m \u001B[49m\u001B[43morder\u001B[49m\u001B[38;5;241;43m=\u001B[39;49m\u001B[43morder\u001B[49m\u001B[43m)\u001B[49m\n",
      "\u001B[1;31mMemoryError\u001B[0m: Unable to allocate 521. GiB for an array with shape (45313, 1541876) and data type float64"
     ]
    }
   ],
   "source": [
    "df_vect = pd.DataFrame(vectorized_tag.toarray(), columns=cv.get_feature_names_out())"
   ],
   "metadata": {
    "collapsed": false
   }
  },
  {
   "cell_type": "code",
   "execution_count": 265,
   "outputs": [
    {
     "data": {
      "text/plain": "        10  10 year  100   11  11 year   12  12 year        13   13 year   14  \\\n0      0.0      0.0  0.0  0.0      0.0  0.0      0.0  0.000000  0.000000  0.0   \n1      0.0      0.0  0.0  0.0      0.0  0.0      0.0  0.000000  0.000000  0.0   \n2      0.0      0.0  0.0  0.0      0.0  0.0      0.0  0.000000  0.000000  0.0   \n3      0.0      0.0  0.0  0.0      0.0  0.0      0.0  0.000000  0.000000  0.0   \n4      0.0      0.0  0.0  0.0      0.0  0.0      0.0  0.120807  0.133697  0.0   \n...    ...      ...  ...  ...      ...  ...      ...       ...       ...  ...   \n45308  0.0      0.0  0.0  0.0      0.0  0.0      0.0  0.000000  0.000000  0.0   \n45309  0.0      0.0  0.0  0.0      0.0  0.0      0.0  0.000000  0.000000  0.0   \n45310  0.0      0.0  0.0  0.0      0.0  0.0      0.0  0.000000  0.000000  0.0   \n45311  0.0      0.0  0.0  0.0      0.0  0.0      0.0  0.000000  0.000000  0.0   \n45312  0.0      0.0  0.0  0.0      0.0  0.0      0.0  0.000000  0.000000  0.0   \n\n       ...  youtub   yu  yun  zach  zealand  zero       zoe  zombi  zone  zoo  \n0      ...     0.0  0.0  0.0   0.0      0.0   0.0  0.000000    0.0   0.0  0.0  \n1      ...     0.0  0.0  0.0   0.0      0.0   0.0  0.000000    0.0   0.0  0.0  \n2      ...     0.0  0.0  0.0   0.0      0.0   0.0  0.340048    0.0   0.0  0.0  \n3      ...     0.0  0.0  0.0   0.0      0.0   0.0  0.000000    0.0   0.0  0.0  \n4      ...     0.0  0.0  0.0   0.0      0.0   0.0  0.000000    0.0   0.0  0.0  \n...    ...     ...  ...  ...   ...      ...   ...       ...    ...   ...  ...  \n45308  ...     0.0  0.0  0.0   0.0      0.0   0.0  0.000000    0.0   0.0  0.0  \n45309  ...     0.0  0.0  0.0   0.0      0.0   0.0  0.000000    0.0   0.0  0.0  \n45310  ...     0.0  0.0  0.0   0.0      0.0   0.0  0.000000    0.0   0.0  0.0  \n45311  ...     0.0  0.0  0.0   0.0      0.0   0.0  0.000000    0.0   0.0  0.0  \n45312  ...     0.0  0.0  0.0   0.0      0.0   0.0  0.000000    0.0   0.0  0.0  \n\n[45313 rows x 5000 columns]",
      "text/html": "<div>\n<style scoped>\n    .dataframe tbody tr th:only-of-type {\n        vertical-align: middle;\n    }\n\n    .dataframe tbody tr th {\n        vertical-align: top;\n    }\n\n    .dataframe thead th {\n        text-align: right;\n    }\n</style>\n<table border=\"1\" class=\"dataframe\">\n  <thead>\n    <tr style=\"text-align: right;\">\n      <th></th>\n      <th>10</th>\n      <th>10 year</th>\n      <th>100</th>\n      <th>11</th>\n      <th>11 year</th>\n      <th>12</th>\n      <th>12 year</th>\n      <th>13</th>\n      <th>13 year</th>\n      <th>14</th>\n      <th>...</th>\n      <th>youtub</th>\n      <th>yu</th>\n      <th>yun</th>\n      <th>zach</th>\n      <th>zealand</th>\n      <th>zero</th>\n      <th>zoe</th>\n      <th>zombi</th>\n      <th>zone</th>\n      <th>zoo</th>\n    </tr>\n  </thead>\n  <tbody>\n    <tr>\n      <th>0</th>\n      <td>0.0</td>\n      <td>0.0</td>\n      <td>0.0</td>\n      <td>0.0</td>\n      <td>0.0</td>\n      <td>0.0</td>\n      <td>0.0</td>\n      <td>0.000000</td>\n      <td>0.000000</td>\n      <td>0.0</td>\n      <td>...</td>\n      <td>0.0</td>\n      <td>0.0</td>\n      <td>0.0</td>\n      <td>0.0</td>\n      <td>0.0</td>\n      <td>0.0</td>\n      <td>0.000000</td>\n      <td>0.0</td>\n      <td>0.0</td>\n      <td>0.0</td>\n    </tr>\n    <tr>\n      <th>1</th>\n      <td>0.0</td>\n      <td>0.0</td>\n      <td>0.0</td>\n      <td>0.0</td>\n      <td>0.0</td>\n      <td>0.0</td>\n      <td>0.0</td>\n      <td>0.000000</td>\n      <td>0.000000</td>\n      <td>0.0</td>\n      <td>...</td>\n      <td>0.0</td>\n      <td>0.0</td>\n      <td>0.0</td>\n      <td>0.0</td>\n      <td>0.0</td>\n      <td>0.0</td>\n      <td>0.000000</td>\n      <td>0.0</td>\n      <td>0.0</td>\n      <td>0.0</td>\n    </tr>\n    <tr>\n      <th>2</th>\n      <td>0.0</td>\n      <td>0.0</td>\n      <td>0.0</td>\n      <td>0.0</td>\n      <td>0.0</td>\n      <td>0.0</td>\n      <td>0.0</td>\n      <td>0.000000</td>\n      <td>0.000000</td>\n      <td>0.0</td>\n      <td>...</td>\n      <td>0.0</td>\n      <td>0.0</td>\n      <td>0.0</td>\n      <td>0.0</td>\n      <td>0.0</td>\n      <td>0.0</td>\n      <td>0.340048</td>\n      <td>0.0</td>\n      <td>0.0</td>\n      <td>0.0</td>\n    </tr>\n    <tr>\n      <th>3</th>\n      <td>0.0</td>\n      <td>0.0</td>\n      <td>0.0</td>\n      <td>0.0</td>\n      <td>0.0</td>\n      <td>0.0</td>\n      <td>0.0</td>\n      <td>0.000000</td>\n      <td>0.000000</td>\n      <td>0.0</td>\n      <td>...</td>\n      <td>0.0</td>\n      <td>0.0</td>\n      <td>0.0</td>\n      <td>0.0</td>\n      <td>0.0</td>\n      <td>0.0</td>\n      <td>0.000000</td>\n      <td>0.0</td>\n      <td>0.0</td>\n      <td>0.0</td>\n    </tr>\n    <tr>\n      <th>4</th>\n      <td>0.0</td>\n      <td>0.0</td>\n      <td>0.0</td>\n      <td>0.0</td>\n      <td>0.0</td>\n      <td>0.0</td>\n      <td>0.0</td>\n      <td>0.120807</td>\n      <td>0.133697</td>\n      <td>0.0</td>\n      <td>...</td>\n      <td>0.0</td>\n      <td>0.0</td>\n      <td>0.0</td>\n      <td>0.0</td>\n      <td>0.0</td>\n      <td>0.0</td>\n      <td>0.000000</td>\n      <td>0.0</td>\n      <td>0.0</td>\n      <td>0.0</td>\n    </tr>\n    <tr>\n      <th>...</th>\n      <td>...</td>\n      <td>...</td>\n      <td>...</td>\n      <td>...</td>\n      <td>...</td>\n      <td>...</td>\n      <td>...</td>\n      <td>...</td>\n      <td>...</td>\n      <td>...</td>\n      <td>...</td>\n      <td>...</td>\n      <td>...</td>\n      <td>...</td>\n      <td>...</td>\n      <td>...</td>\n      <td>...</td>\n      <td>...</td>\n      <td>...</td>\n      <td>...</td>\n      <td>...</td>\n    </tr>\n    <tr>\n      <th>45308</th>\n      <td>0.0</td>\n      <td>0.0</td>\n      <td>0.0</td>\n      <td>0.0</td>\n      <td>0.0</td>\n      <td>0.0</td>\n      <td>0.0</td>\n      <td>0.000000</td>\n      <td>0.000000</td>\n      <td>0.0</td>\n      <td>...</td>\n      <td>0.0</td>\n      <td>0.0</td>\n      <td>0.0</td>\n      <td>0.0</td>\n      <td>0.0</td>\n      <td>0.0</td>\n      <td>0.000000</td>\n      <td>0.0</td>\n      <td>0.0</td>\n      <td>0.0</td>\n    </tr>\n    <tr>\n      <th>45309</th>\n      <td>0.0</td>\n      <td>0.0</td>\n      <td>0.0</td>\n      <td>0.0</td>\n      <td>0.0</td>\n      <td>0.0</td>\n      <td>0.0</td>\n      <td>0.000000</td>\n      <td>0.000000</td>\n      <td>0.0</td>\n      <td>...</td>\n      <td>0.0</td>\n      <td>0.0</td>\n      <td>0.0</td>\n      <td>0.0</td>\n      <td>0.0</td>\n      <td>0.0</td>\n      <td>0.000000</td>\n      <td>0.0</td>\n      <td>0.0</td>\n      <td>0.0</td>\n    </tr>\n    <tr>\n      <th>45310</th>\n      <td>0.0</td>\n      <td>0.0</td>\n      <td>0.0</td>\n      <td>0.0</td>\n      <td>0.0</td>\n      <td>0.0</td>\n      <td>0.0</td>\n      <td>0.000000</td>\n      <td>0.000000</td>\n      <td>0.0</td>\n      <td>...</td>\n      <td>0.0</td>\n      <td>0.0</td>\n      <td>0.0</td>\n      <td>0.0</td>\n      <td>0.0</td>\n      <td>0.0</td>\n      <td>0.000000</td>\n      <td>0.0</td>\n      <td>0.0</td>\n      <td>0.0</td>\n    </tr>\n    <tr>\n      <th>45311</th>\n      <td>0.0</td>\n      <td>0.0</td>\n      <td>0.0</td>\n      <td>0.0</td>\n      <td>0.0</td>\n      <td>0.0</td>\n      <td>0.0</td>\n      <td>0.000000</td>\n      <td>0.000000</td>\n      <td>0.0</td>\n      <td>...</td>\n      <td>0.0</td>\n      <td>0.0</td>\n      <td>0.0</td>\n      <td>0.0</td>\n      <td>0.0</td>\n      <td>0.0</td>\n      <td>0.000000</td>\n      <td>0.0</td>\n      <td>0.0</td>\n      <td>0.0</td>\n    </tr>\n    <tr>\n      <th>45312</th>\n      <td>0.0</td>\n      <td>0.0</td>\n      <td>0.0</td>\n      <td>0.0</td>\n      <td>0.0</td>\n      <td>0.0</td>\n      <td>0.0</td>\n      <td>0.000000</td>\n      <td>0.000000</td>\n      <td>0.0</td>\n      <td>...</td>\n      <td>0.0</td>\n      <td>0.0</td>\n      <td>0.0</td>\n      <td>0.0</td>\n      <td>0.0</td>\n      <td>0.0</td>\n      <td>0.000000</td>\n      <td>0.0</td>\n      <td>0.0</td>\n      <td>0.0</td>\n    </tr>\n  </tbody>\n</table>\n<p>45313 rows × 5000 columns</p>\n</div>"
     },
     "execution_count": 265,
     "metadata": {},
     "output_type": "execute_result"
    }
   ],
   "source": [
    "df_vect"
   ],
   "metadata": {
    "collapsed": false
   }
  },
  {
   "cell_type": "code",
   "execution_count": 47,
   "outputs": [],
   "source": [
    "import string\n",
    "\n",
    "text = \"\".join([ch for ch in t if ch not in string.punctuation])\n",
    "text = staming(text)"
   ],
   "metadata": {
    "collapsed": false
   }
  },
  {
   "cell_type": "code",
   "execution_count": null,
   "outputs": [],
   "source": [],
   "metadata": {
    "collapsed": false
   }
  },
  {
   "cell_type": "code",
   "execution_count": null,
   "outputs": [],
   "source": [],
   "metadata": {
    "collapsed": false
   }
  },
  {
   "cell_type": "code",
   "execution_count": null,
   "outputs": [],
   "source": [],
   "metadata": {
    "collapsed": false
   }
  },
  {
   "cell_type": "code",
   "execution_count": null,
   "outputs": [],
   "source": [],
   "metadata": {
    "collapsed": false
   }
  },
  {
   "cell_type": "code",
   "execution_count": 22,
   "outputs": [
    {
     "ename": "MemoryError",
     "evalue": "Unable to allocate 2.98 GiB for an array with shape (20000, 20000) and data type float64",
     "output_type": "error",
     "traceback": [
      "\u001B[1;31m---------------------------------------------------------------------------\u001B[0m",
      "\u001B[1;31mMemoryError\u001B[0m                               Traceback (most recent call last)",
      "Input \u001B[1;32mIn [22]\u001B[0m, in \u001B[0;36m<cell line: 1>\u001B[1;34m()\u001B[0m\n\u001B[1;32m----> 1\u001B[0m movies_cosine_similarity \u001B[38;5;241m=\u001B[39m \u001B[43mcosine_similarity\u001B[49m\u001B[43m(\u001B[49m\u001B[43mvectorized_tag\u001B[49m\u001B[43m)\u001B[49m\n",
      "File \u001B[1;32mc:\\users\\umegs\\appdata\\local\\programs\\python\\python38\\lib\\site-packages\\sklearn\\metrics\\pairwise.py:1359\u001B[0m, in \u001B[0;36mcosine_similarity\u001B[1;34m(X, Y, dense_output)\u001B[0m\n\u001B[0;32m   1356\u001B[0m \u001B[38;5;28;01melse\u001B[39;00m:\n\u001B[0;32m   1357\u001B[0m     Y_normalized \u001B[38;5;241m=\u001B[39m normalize(Y, copy\u001B[38;5;241m=\u001B[39m\u001B[38;5;28;01mTrue\u001B[39;00m)\n\u001B[1;32m-> 1359\u001B[0m K \u001B[38;5;241m=\u001B[39m \u001B[43msafe_sparse_dot\u001B[49m\u001B[43m(\u001B[49m\u001B[43mX_normalized\u001B[49m\u001B[43m,\u001B[49m\u001B[43m \u001B[49m\u001B[43mY_normalized\u001B[49m\u001B[38;5;241;43m.\u001B[39;49m\u001B[43mT\u001B[49m\u001B[43m,\u001B[49m\u001B[43m \u001B[49m\u001B[43mdense_output\u001B[49m\u001B[38;5;241;43m=\u001B[39;49m\u001B[43mdense_output\u001B[49m\u001B[43m)\u001B[49m\n\u001B[0;32m   1361\u001B[0m \u001B[38;5;28;01mreturn\u001B[39;00m K\n",
      "File \u001B[1;32mc:\\users\\umegs\\appdata\\local\\programs\\python\\python38\\lib\\site-packages\\sklearn\\utils\\extmath.py:160\u001B[0m, in \u001B[0;36msafe_sparse_dot\u001B[1;34m(a, b, dense_output)\u001B[0m\n\u001B[0;32m    152\u001B[0m     ret \u001B[38;5;241m=\u001B[39m a \u001B[38;5;241m@\u001B[39m b\n\u001B[0;32m    154\u001B[0m \u001B[38;5;28;01mif\u001B[39;00m (\n\u001B[0;32m    155\u001B[0m     sparse\u001B[38;5;241m.\u001B[39missparse(a)\n\u001B[0;32m    156\u001B[0m     \u001B[38;5;129;01mand\u001B[39;00m sparse\u001B[38;5;241m.\u001B[39missparse(b)\n\u001B[0;32m    157\u001B[0m     \u001B[38;5;129;01mand\u001B[39;00m dense_output\n\u001B[0;32m    158\u001B[0m     \u001B[38;5;129;01mand\u001B[39;00m \u001B[38;5;28mhasattr\u001B[39m(ret, \u001B[38;5;124m\"\u001B[39m\u001B[38;5;124mtoarray\u001B[39m\u001B[38;5;124m\"\u001B[39m)\n\u001B[0;32m    159\u001B[0m ):\n\u001B[1;32m--> 160\u001B[0m     \u001B[38;5;28;01mreturn\u001B[39;00m \u001B[43mret\u001B[49m\u001B[38;5;241;43m.\u001B[39;49m\u001B[43mtoarray\u001B[49m\u001B[43m(\u001B[49m\u001B[43m)\u001B[49m\n\u001B[0;32m    161\u001B[0m \u001B[38;5;28;01mreturn\u001B[39;00m ret\n",
      "File \u001B[1;32mc:\\users\\umegs\\appdata\\local\\programs\\python\\python38\\lib\\site-packages\\scipy\\sparse\\_compressed.py:1051\u001B[0m, in \u001B[0;36m_cs_matrix.toarray\u001B[1;34m(self, order, out)\u001B[0m\n\u001B[0;32m   1049\u001B[0m \u001B[38;5;28;01mif\u001B[39;00m out \u001B[38;5;129;01mis\u001B[39;00m \u001B[38;5;28;01mNone\u001B[39;00m \u001B[38;5;129;01mand\u001B[39;00m order \u001B[38;5;129;01mis\u001B[39;00m \u001B[38;5;28;01mNone\u001B[39;00m:\n\u001B[0;32m   1050\u001B[0m     order \u001B[38;5;241m=\u001B[39m \u001B[38;5;28mself\u001B[39m\u001B[38;5;241m.\u001B[39m_swap(\u001B[38;5;124m'\u001B[39m\u001B[38;5;124mcf\u001B[39m\u001B[38;5;124m'\u001B[39m)[\u001B[38;5;241m0\u001B[39m]\n\u001B[1;32m-> 1051\u001B[0m out \u001B[38;5;241m=\u001B[39m \u001B[38;5;28;43mself\u001B[39;49m\u001B[38;5;241;43m.\u001B[39;49m\u001B[43m_process_toarray_args\u001B[49m\u001B[43m(\u001B[49m\u001B[43morder\u001B[49m\u001B[43m,\u001B[49m\u001B[43m \u001B[49m\u001B[43mout\u001B[49m\u001B[43m)\u001B[49m\n\u001B[0;32m   1052\u001B[0m \u001B[38;5;28;01mif\u001B[39;00m \u001B[38;5;129;01mnot\u001B[39;00m (out\u001B[38;5;241m.\u001B[39mflags\u001B[38;5;241m.\u001B[39mc_contiguous \u001B[38;5;129;01mor\u001B[39;00m out\u001B[38;5;241m.\u001B[39mflags\u001B[38;5;241m.\u001B[39mf_contiguous):\n\u001B[0;32m   1053\u001B[0m     \u001B[38;5;28;01mraise\u001B[39;00m \u001B[38;5;167;01mValueError\u001B[39;00m(\u001B[38;5;124m'\u001B[39m\u001B[38;5;124mOutput array must be C or F contiguous\u001B[39m\u001B[38;5;124m'\u001B[39m)\n",
      "File \u001B[1;32mc:\\users\\umegs\\appdata\\local\\programs\\python\\python38\\lib\\site-packages\\scipy\\sparse\\_base.py:1298\u001B[0m, in \u001B[0;36mspmatrix._process_toarray_args\u001B[1;34m(self, order, out)\u001B[0m\n\u001B[0;32m   1296\u001B[0m     \u001B[38;5;28;01mreturn\u001B[39;00m out\n\u001B[0;32m   1297\u001B[0m \u001B[38;5;28;01melse\u001B[39;00m:\n\u001B[1;32m-> 1298\u001B[0m     \u001B[38;5;28;01mreturn\u001B[39;00m \u001B[43mnp\u001B[49m\u001B[38;5;241;43m.\u001B[39;49m\u001B[43mzeros\u001B[49m\u001B[43m(\u001B[49m\u001B[38;5;28;43mself\u001B[39;49m\u001B[38;5;241;43m.\u001B[39;49m\u001B[43mshape\u001B[49m\u001B[43m,\u001B[49m\u001B[43m \u001B[49m\u001B[43mdtype\u001B[49m\u001B[38;5;241;43m=\u001B[39;49m\u001B[38;5;28;43mself\u001B[39;49m\u001B[38;5;241;43m.\u001B[39;49m\u001B[43mdtype\u001B[49m\u001B[43m,\u001B[49m\u001B[43m \u001B[49m\u001B[43morder\u001B[49m\u001B[38;5;241;43m=\u001B[39;49m\u001B[43morder\u001B[49m\u001B[43m)\u001B[49m\n",
      "\u001B[1;31mMemoryError\u001B[0m: Unable to allocate 2.98 GiB for an array with shape (20000, 20000) and data type float64"
     ]
    }
   ],
   "source": [
    "movies_cosine_similarity = cosine_similarity(vectorized_tag)"
   ],
   "metadata": {
    "collapsed": false
   }
  },
  {
   "cell_type": "code",
   "execution_count": null,
   "outputs": [],
   "source": [
    "movies_cosine_similarity.shape"
   ],
   "metadata": {
    "collapsed": false
   }
  },
  {
   "cell_type": "code",
   "execution_count": null,
   "outputs": [],
   "source": [
    "\n",
    "def recommend(movie_guess):\n",
    "    movie_index = movie[movie['title_english'] == movie_guess].index[0]\n",
    "    distances = movies_cosine_similarity[movie_index]\n",
    "    movie_list = sorted(list(enumerate(distances)), reverse=True, key=lambda x: x[1])[1:6]\n",
    "    print(movie_list)\n",
    "    for i in movie_list:\n",
    "        print(movie.iloc[i[0]].title_english,i[0], sep=\" : \")\n"
   ],
   "metadata": {
    "collapsed": false
   }
  },
  {
   "cell_type": "code",
   "execution_count": 122,
   "outputs": [
    {
     "name": "stdout",
     "output_type": "stream",
     "text": [
      "[(1462, 0.35355339059327384), (3069, 0.3466876226407682), (3443, 0.3310610959858654), (3854, 0.3240906080438344), (2704, 0.3217979514674191)]\n",
      "Hellraiser: Inferno : 1462\n",
      "The Believers : 3069\n",
      "The Last Boy Scout : 3443\n",
      "The Young Savages : 3854\n",
      "Shanghai : 2704\n"
     ]
    }
   ],
   "source": [
    "recommend('The Dark Knight Rises')"
   ],
   "metadata": {
    "collapsed": false
   }
  },
  {
   "cell_type": "code",
   "execution_count": 12,
   "outputs": [],
   "source": [
    "movie[['title_english', 'id']].to_pickle('movie_list.pkl')"
   ],
   "metadata": {
    "collapsed": false
   }
  },
  {
   "cell_type": "code",
   "execution_count": null,
   "outputs": [],
   "source": [
    "pickle.dump(movies_cosine_similarity, open('movies_cosine_similarity.pkl', 'wb'))"
   ],
   "metadata": {
    "collapsed": false
   }
  },
  {
   "cell_type": "code",
   "execution_count": 139,
   "outputs": [
    {
     "data": {
      "text/plain": "                                         title  movie_id\n0                                       Avatar     19995\n1     Pirates of the Caribbean: At World's End       285\n2                                      Spectre    206647\n3                        The Dark Knight Rises     49026\n4                                  John Carter     49529\n...                                        ...       ...\n4804                               El Mariachi      9367\n4805                                 Newlyweds     72766\n4806                 Signed, Sealed, Delivered    231617\n4807                          Shanghai Calling    126186\n4808                         My Date with Drew     25975\n\n[4806 rows x 2 columns]",
      "text/html": "<div>\n<style scoped>\n    .dataframe tbody tr th:only-of-type {\n        vertical-align: middle;\n    }\n\n    .dataframe tbody tr th {\n        vertical-align: top;\n    }\n\n    .dataframe thead th {\n        text-align: right;\n    }\n</style>\n<table border=\"1\" class=\"dataframe\">\n  <thead>\n    <tr style=\"text-align: right;\">\n      <th></th>\n      <th>title</th>\n      <th>movie_id</th>\n    </tr>\n  </thead>\n  <tbody>\n    <tr>\n      <th>0</th>\n      <td>Avatar</td>\n      <td>19995</td>\n    </tr>\n    <tr>\n      <th>1</th>\n      <td>Pirates of the Caribbean: At World's End</td>\n      <td>285</td>\n    </tr>\n    <tr>\n      <th>2</th>\n      <td>Spectre</td>\n      <td>206647</td>\n    </tr>\n    <tr>\n      <th>3</th>\n      <td>The Dark Knight Rises</td>\n      <td>49026</td>\n    </tr>\n    <tr>\n      <th>4</th>\n      <td>John Carter</td>\n      <td>49529</td>\n    </tr>\n    <tr>\n      <th>...</th>\n      <td>...</td>\n      <td>...</td>\n    </tr>\n    <tr>\n      <th>4804</th>\n      <td>El Mariachi</td>\n      <td>9367</td>\n    </tr>\n    <tr>\n      <th>4805</th>\n      <td>Newlyweds</td>\n      <td>72766</td>\n    </tr>\n    <tr>\n      <th>4806</th>\n      <td>Signed, Sealed, Delivered</td>\n      <td>231617</td>\n    </tr>\n    <tr>\n      <th>4807</th>\n      <td>Shanghai Calling</td>\n      <td>126186</td>\n    </tr>\n    <tr>\n      <th>4808</th>\n      <td>My Date with Drew</td>\n      <td>25975</td>\n    </tr>\n  </tbody>\n</table>\n<p>4806 rows × 2 columns</p>\n</div>"
     },
     "execution_count": 139,
     "metadata": {},
     "output_type": "execute_result"
    }
   ],
   "source": [
    "movie_ = pickle.load(open('movie_list.pkl', 'rb'))\n",
    "\n",
    "movie_"
   ],
   "metadata": {
    "collapsed": false
   }
  },
  {
   "cell_type": "code",
   "execution_count": 156,
   "outputs": [],
   "source": [],
   "metadata": {
    "collapsed": false
   }
  },
  {
   "cell_type": "code",
   "execution_count": 163,
   "outputs": [],
   "source": [
    "pd.DataFrame(movies_cosine_similarity).to_pickle('../model/movies_cosine_similarity.pkl', compression='zip')"
   ],
   "metadata": {
    "collapsed": false
   }
  },
  {
   "cell_type": "code",
   "execution_count": null,
   "outputs": [],
   "source": [
    "['infer', None, 'bz2', 'gzip', 'xz', 'zip', 'zstd']"
   ],
   "metadata": {
    "collapsed": false
   }
  },
  {
   "cell_type": "code",
   "execution_count": 7,
   "outputs": [
    {
     "data": {
      "text/plain": "          0         1         2         3         4         5         6     \\\n0     1.000000  0.083462  0.086031  0.073472  0.189299  0.108389  0.040242   \n1     0.083462  1.000000  0.060634  0.038837  0.075047  0.114587  0.021272   \n2     0.086031  0.060634  1.000000  0.060048  0.077357  0.070868  0.021926   \n3     0.073472  0.038837  0.060048  1.000000  0.033032  0.060523  0.056177   \n4     0.189299  0.075047  0.077357  0.033032  1.000000  0.097460  0.054277   \n...        ...       ...       ...       ...       ...       ...       ...   \n4801  0.019252  0.040706  0.041959  0.067188  0.155799  0.079295  0.029440   \n4802  0.046829  0.000000  0.000000  0.000000  0.000000  0.000000  0.000000   \n4803  0.044992  0.023783  0.024515  0.031404  0.020228  0.018531  0.000000   \n4804  0.000000  0.000000  0.000000  0.048526  0.083351  0.057270  0.035438   \n4805  0.000000  0.026153  0.000000  0.086335  0.044488  0.040757  0.000000   \n\n          7         8         9     ...      4796      4797      4798  \\\n0     0.146735  0.059235  0.096730  ...  0.000000  0.000000  0.042239   \n1     0.129272  0.062622  0.102262  ...  0.000000  0.000000  0.022327   \n2     0.133250  0.064550  0.105409  ...  0.085749  0.000000  0.000000   \n3     0.068279  0.041345  0.202548  ...  0.027462  0.027462  0.058964   \n4     0.197910  0.079894  0.108721  ...  0.035377  0.000000  0.075960   \n...        ...       ...       ...  ...       ...       ...       ...   \n4801  0.143131  0.130005  0.035383  ...  0.000000  0.057567  0.139055   \n4802  0.000000  0.000000  0.000000  ...  0.000000  0.070014  0.000000   \n4803  0.000000  0.050637  0.020672  ...  0.067267  0.033634  0.018054   \n4804  0.043073  0.104328  0.021296  ...  0.000000  0.034648  0.092992   \n4805  0.045980  0.111369  0.022733  ...  0.000000  0.000000  0.039707   \n\n          4799      4800      4801      4802      4803      4804      4805  \n0     0.052632  0.000000  0.019252  0.046829  0.044992  0.000000  0.000000  \n1     0.027821  0.000000  0.040706  0.000000  0.023783  0.000000  0.026153  \n2     0.000000  0.017590  0.041959  0.000000  0.024515  0.000000  0.000000  \n3     0.055104  0.022533  0.067188  0.000000  0.031404  0.048526  0.086335  \n4     0.023662  0.145141  0.155799  0.000000  0.020228  0.083351  0.044488  \n...        ...       ...       ...       ...       ...       ...       ...  \n4801  0.057756  0.259796  1.000000  0.000000  0.000000  0.152586  0.126688  \n4802  0.000000  0.028724  0.000000  1.000000  0.120096  0.000000  0.000000  \n4803  0.044992  0.013799  0.000000  0.120096  1.000000  0.039621  0.042295  \n4804  0.000000  0.142148  0.152586  0.000000  0.039621  1.000000  0.087142  \n4805  0.024739  0.075871  0.126688  0.000000  0.042295  0.087142  1.000000  \n\n[4806 rows x 4806 columns]",
      "text/html": "<div>\n<style scoped>\n    .dataframe tbody tr th:only-of-type {\n        vertical-align: middle;\n    }\n\n    .dataframe tbody tr th {\n        vertical-align: top;\n    }\n\n    .dataframe thead th {\n        text-align: right;\n    }\n</style>\n<table border=\"1\" class=\"dataframe\">\n  <thead>\n    <tr style=\"text-align: right;\">\n      <th></th>\n      <th>0</th>\n      <th>1</th>\n      <th>2</th>\n      <th>3</th>\n      <th>4</th>\n      <th>5</th>\n      <th>6</th>\n      <th>7</th>\n      <th>8</th>\n      <th>9</th>\n      <th>...</th>\n      <th>4796</th>\n      <th>4797</th>\n      <th>4798</th>\n      <th>4799</th>\n      <th>4800</th>\n      <th>4801</th>\n      <th>4802</th>\n      <th>4803</th>\n      <th>4804</th>\n      <th>4805</th>\n    </tr>\n  </thead>\n  <tbody>\n    <tr>\n      <th>0</th>\n      <td>1.000000</td>\n      <td>0.083462</td>\n      <td>0.086031</td>\n      <td>0.073472</td>\n      <td>0.189299</td>\n      <td>0.108389</td>\n      <td>0.040242</td>\n      <td>0.146735</td>\n      <td>0.059235</td>\n      <td>0.096730</td>\n      <td>...</td>\n      <td>0.000000</td>\n      <td>0.000000</td>\n      <td>0.042239</td>\n      <td>0.052632</td>\n      <td>0.000000</td>\n      <td>0.019252</td>\n      <td>0.046829</td>\n      <td>0.044992</td>\n      <td>0.000000</td>\n      <td>0.000000</td>\n    </tr>\n    <tr>\n      <th>1</th>\n      <td>0.083462</td>\n      <td>1.000000</td>\n      <td>0.060634</td>\n      <td>0.038837</td>\n      <td>0.075047</td>\n      <td>0.114587</td>\n      <td>0.021272</td>\n      <td>0.129272</td>\n      <td>0.062622</td>\n      <td>0.102262</td>\n      <td>...</td>\n      <td>0.000000</td>\n      <td>0.000000</td>\n      <td>0.022327</td>\n      <td>0.027821</td>\n      <td>0.000000</td>\n      <td>0.040706</td>\n      <td>0.000000</td>\n      <td>0.023783</td>\n      <td>0.000000</td>\n      <td>0.026153</td>\n    </tr>\n    <tr>\n      <th>2</th>\n      <td>0.086031</td>\n      <td>0.060634</td>\n      <td>1.000000</td>\n      <td>0.060048</td>\n      <td>0.077357</td>\n      <td>0.070868</td>\n      <td>0.021926</td>\n      <td>0.133250</td>\n      <td>0.064550</td>\n      <td>0.105409</td>\n      <td>...</td>\n      <td>0.085749</td>\n      <td>0.000000</td>\n      <td>0.000000</td>\n      <td>0.000000</td>\n      <td>0.017590</td>\n      <td>0.041959</td>\n      <td>0.000000</td>\n      <td>0.024515</td>\n      <td>0.000000</td>\n      <td>0.000000</td>\n    </tr>\n    <tr>\n      <th>3</th>\n      <td>0.073472</td>\n      <td>0.038837</td>\n      <td>0.060048</td>\n      <td>1.000000</td>\n      <td>0.033032</td>\n      <td>0.060523</td>\n      <td>0.056177</td>\n      <td>0.068279</td>\n      <td>0.041345</td>\n      <td>0.202548</td>\n      <td>...</td>\n      <td>0.027462</td>\n      <td>0.027462</td>\n      <td>0.058964</td>\n      <td>0.055104</td>\n      <td>0.022533</td>\n      <td>0.067188</td>\n      <td>0.000000</td>\n      <td>0.031404</td>\n      <td>0.048526</td>\n      <td>0.086335</td>\n    </tr>\n    <tr>\n      <th>4</th>\n      <td>0.189299</td>\n      <td>0.075047</td>\n      <td>0.077357</td>\n      <td>0.033032</td>\n      <td>1.000000</td>\n      <td>0.097460</td>\n      <td>0.054277</td>\n      <td>0.197910</td>\n      <td>0.079894</td>\n      <td>0.108721</td>\n      <td>...</td>\n      <td>0.035377</td>\n      <td>0.000000</td>\n      <td>0.075960</td>\n      <td>0.023662</td>\n      <td>0.145141</td>\n      <td>0.155799</td>\n      <td>0.000000</td>\n      <td>0.020228</td>\n      <td>0.083351</td>\n      <td>0.044488</td>\n    </tr>\n    <tr>\n      <th>...</th>\n      <td>...</td>\n      <td>...</td>\n      <td>...</td>\n      <td>...</td>\n      <td>...</td>\n      <td>...</td>\n      <td>...</td>\n      <td>...</td>\n      <td>...</td>\n      <td>...</td>\n      <td>...</td>\n      <td>...</td>\n      <td>...</td>\n      <td>...</td>\n      <td>...</td>\n      <td>...</td>\n      <td>...</td>\n      <td>...</td>\n      <td>...</td>\n      <td>...</td>\n      <td>...</td>\n    </tr>\n    <tr>\n      <th>4801</th>\n      <td>0.019252</td>\n      <td>0.040706</td>\n      <td>0.041959</td>\n      <td>0.067188</td>\n      <td>0.155799</td>\n      <td>0.079295</td>\n      <td>0.029440</td>\n      <td>0.143131</td>\n      <td>0.130005</td>\n      <td>0.035383</td>\n      <td>...</td>\n      <td>0.000000</td>\n      <td>0.057567</td>\n      <td>0.139055</td>\n      <td>0.057756</td>\n      <td>0.259796</td>\n      <td>1.000000</td>\n      <td>0.000000</td>\n      <td>0.000000</td>\n      <td>0.152586</td>\n      <td>0.126688</td>\n    </tr>\n    <tr>\n      <th>4802</th>\n      <td>0.046829</td>\n      <td>0.000000</td>\n      <td>0.000000</td>\n      <td>0.000000</td>\n      <td>0.000000</td>\n      <td>0.000000</td>\n      <td>0.000000</td>\n      <td>0.000000</td>\n      <td>0.000000</td>\n      <td>0.000000</td>\n      <td>...</td>\n      <td>0.000000</td>\n      <td>0.070014</td>\n      <td>0.000000</td>\n      <td>0.000000</td>\n      <td>0.028724</td>\n      <td>0.000000</td>\n      <td>1.000000</td>\n      <td>0.120096</td>\n      <td>0.000000</td>\n      <td>0.000000</td>\n    </tr>\n    <tr>\n      <th>4803</th>\n      <td>0.044992</td>\n      <td>0.023783</td>\n      <td>0.024515</td>\n      <td>0.031404</td>\n      <td>0.020228</td>\n      <td>0.018531</td>\n      <td>0.000000</td>\n      <td>0.000000</td>\n      <td>0.050637</td>\n      <td>0.020672</td>\n      <td>...</td>\n      <td>0.067267</td>\n      <td>0.033634</td>\n      <td>0.018054</td>\n      <td>0.044992</td>\n      <td>0.013799</td>\n      <td>0.000000</td>\n      <td>0.120096</td>\n      <td>1.000000</td>\n      <td>0.039621</td>\n      <td>0.042295</td>\n    </tr>\n    <tr>\n      <th>4804</th>\n      <td>0.000000</td>\n      <td>0.000000</td>\n      <td>0.000000</td>\n      <td>0.048526</td>\n      <td>0.083351</td>\n      <td>0.057270</td>\n      <td>0.035438</td>\n      <td>0.043073</td>\n      <td>0.104328</td>\n      <td>0.021296</td>\n      <td>...</td>\n      <td>0.000000</td>\n      <td>0.034648</td>\n      <td>0.092992</td>\n      <td>0.000000</td>\n      <td>0.142148</td>\n      <td>0.152586</td>\n      <td>0.000000</td>\n      <td>0.039621</td>\n      <td>1.000000</td>\n      <td>0.087142</td>\n    </tr>\n    <tr>\n      <th>4805</th>\n      <td>0.000000</td>\n      <td>0.026153</td>\n      <td>0.000000</td>\n      <td>0.086335</td>\n      <td>0.044488</td>\n      <td>0.040757</td>\n      <td>0.000000</td>\n      <td>0.045980</td>\n      <td>0.111369</td>\n      <td>0.022733</td>\n      <td>...</td>\n      <td>0.000000</td>\n      <td>0.000000</td>\n      <td>0.039707</td>\n      <td>0.024739</td>\n      <td>0.075871</td>\n      <td>0.126688</td>\n      <td>0.000000</td>\n      <td>0.042295</td>\n      <td>0.087142</td>\n      <td>1.000000</td>\n    </tr>\n  </tbody>\n</table>\n<p>4806 rows × 4806 columns</p>\n</div>"
     },
     "execution_count": 7,
     "metadata": {},
     "output_type": "execute_result"
    }
   ],
   "source": [
    "pd.read_pickle('../model/movies_cosine_similarity.pkl', compression='zip')"
   ],
   "metadata": {
    "collapsed": false
   }
  },
  {
   "cell_type": "code",
   "execution_count": null,
   "outputs": [],
   "source": [],
   "metadata": {
    "collapsed": false
   }
  }
 ],
 "metadata": {
  "kernelspec": {
   "display_name": "Python 3",
   "language": "python",
   "name": "python3"
  },
  "language_info": {
   "codemirror_mode": {
    "name": "ipython",
    "version": 2
   },
   "file_extension": ".py",
   "mimetype": "text/x-python",
   "name": "python",
   "nbconvert_exporter": "python",
   "pygments_lexer": "ipython2",
   "version": "2.7.6"
  }
 },
 "nbformat": 4,
 "nbformat_minor": 0
}
